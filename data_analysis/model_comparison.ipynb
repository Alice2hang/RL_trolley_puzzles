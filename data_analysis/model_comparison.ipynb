{
 "cells": [
  {
   "cell_type": "code",
   "execution_count": 2,
   "metadata": {},
   "outputs": [],
   "source": [
    "import pandas as pd\n",
    "import json\n",
    "import ast\n",
    "import math\n",
    "from scipy.optimize import minimize_scalar\n",
    "import numpy as np\n",
    "from skopt import gp_minimize, dump, load\n",
    "from skopt.plots import plot_convergence\n",
    "import matplotlib.pyplot as plt\n",
    "\n",
    "# importing custom model and gridworld code\n",
    "import sys\n",
    "sys.path.append('../dual_model/src')\n",
    "from grid import Grid\n",
    "from agent import Agent"
   ]
  },
  {
   "cell_type": "code",
   "execution_count": 4,
   "metadata": {},
   "outputs": [],
   "source": [
    "TEST_GRIDS = {}\n",
    "with open('../web_experiments/insight_experiment/test_data.json') as json_file:\n",
    "    grids = json.load(json_file)\n",
    "    for gridnum, grid in grids.items():\n",
    "        python_grid = {key: tuple(value) for key, value in grid.items() if key!=\"best_reward\"}\n",
    "        python_grid['best_reward'] = grid['best_reward']\n",
    "        python_grid['num1'] = 1\n",
    "        python_grid['num2'] = 2\n",
    "        if 300 > int(gridnum) > 100:\n",
    "            TEST_GRIDS[int(gridnum)] = python_grid"
   ]
  },
  {
   "cell_type": "code",
   "execution_count": 5,
   "metadata": {},
   "outputs": [],
   "source": [
    "def transform_pos(pos):\n",
    "    return tuple([4-pos[1],pos[0]])\n",
    "\n",
    "def preprocess(data):\n",
    "    preprocessed = pd.read_csv(data)\n",
    "    preprocessed = preprocessed[(preprocessed['type']=='test') & (preprocessed['step']<6) & (preprocessed['gridnum']<300) & (preprocessed['gridnum']>100)]\n",
    "    preprocessed = preprocessed[~preprocessed.groupby(['userid', 'trialnum'])['action'].transform(lambda x: x.isnull().any())]\n",
    "    preprocessed['state'] = preprocessed['state'].apply(ast.literal_eval)\n",
    "    preprocessed['transformed_state'] = preprocessed.apply(lambda row: (\n",
    "        transform_pos(row['state']['agent']),\n",
    "        transform_pos(row['state']['train']),\n",
    "        transform_pos(row['state']['cargo1']),\n",
    "        transform_pos(row['state']['cargo2']),\n",
    "        row['step']\n",
    "    ), axis=1)\n",
    "    preprocessed['action'] = preprocessed['action'].map({'x':0, '^':1, '>':2, 'v':3, '<':4} )\n",
    "    return preprocessed\n",
    "\n",
    "insight_data = preprocess('data/insight_data_after_exclusions.csv')\n",
    "time_pressure_data = preprocess('data/time_pressure_data_after_exclusions.csv') "
   ]
  },
  {
   "cell_type": "code",
   "execution_count": 6,
   "metadata": {},
   "outputs": [],
   "source": [
    "def softmax(x, temperature):\n",
    "        x = np.array(x) / temperature\n",
    "        e_x = np.exp(x - np.max(x))\n",
    "        return e_x / e_x.sum(axis=0)\n",
    "\n",
    "def neg_log_likelihood(beta, data, model):\n",
    "    nll = -np.sum(data.apply(lambda x: math.log(softmax(x[model+'_Q'],beta)[x.action]), axis=1))\n",
    "    return nll\n",
    "\n",
    "def minimize_NLL_deterministic(model, data):\n",
    "    np.random.seed()\n",
    "    agent=Agent()\n",
    "    Q_dict = {}\n",
    "    for gridnum, grid in TEST_GRIDS.items():\n",
    "        grid = Grid(init_pos=grid)\n",
    "        Q_dict[gridnum] = agent.mc_first_visit_control(grid, iters=0, nn_init=True, compute_full_Q_dict=True)\n",
    "    data[model + \"_Q\"] = data.apply(lambda x: Q_dict[x.gridnum][x.transformed_state], axis=1)\n",
    "    beta = minimize_scalar(lambda beta: neg_log_likelihood(beta, data, model),bounds=(0.01, 10), method='bounded').x\n",
    "    return beta, neg_log_likelihood(beta, data, model)\n",
    "\n",
    "def calculate_NLL_stochastic(x, model, data):\n",
    "    beta = x[0] \n",
    "    iters = x[1]\n",
    "    agent=Agent()\n",
    "    Q_dict = {}\n",
    "    for gridnum, grid in TEST_GRIDS.items():\n",
    "        grid = Grid(init_pos=grid)\n",
    "        if model == 'MC':\n",
    "            Q_dict[gridnum] = agent.mc_first_visit_control(grid, iters=iters, nn_init=False)\n",
    "        if model == 'dual':\n",
    "            Q_dict[gridnum] = agent.mc_first_visit_control(grid, iters=iters, nn_init=True, compute_full_Q_dict=True)\n",
    "    data[model + \"_Q\"] = data.apply(lambda x: Q_dict[x.gridnum][x.transformed_state], axis=1)\n",
    "    nll = neg_log_likelihood(beta, data, model)\n",
    "    return nll\n",
    "\n",
    "def calculate_BIC(nll, data, free_params):\n",
    "    return free_params * math.log(len(data)) + 2 * nll"
   ]
  },
  {
   "cell_type": "code",
   "execution_count": null,
   "metadata": {},
   "outputs": [],
   "source": [
    "# Code used to fit models using Bayesian optimization with Gaussian processes\n",
    "\n",
    "\"\"\"\n",
    "res = gp_minimize(lambda x: calculate_NLL_stochastic(x, model=\"MC\",data=insight_data),                  # the function to minimize\n",
    "                  [(0.1, 1), (0,50000)],      # the bounds on each dimension of x\n",
    "                  acq_func=\"EI\",      # the acquisition function\n",
    "                  n_calls=500,         # the number of evaluations of f\n",
    "                  n_initial_points=50,  # the number of random initialization points\n",
    "                  random_state=1234,   # the random seed\n",
    "                  verbose=True)   \n",
    "res.specs['args']['func'] = None\n",
    "dump(res, 'model_fitting/mc_optimize.pkl')\n",
    "\n",
    "res = gp_minimize(lambda x: calculate_NLL_stochastic(x, model=\"dual\",data=insight_data),                  # the function to minimize\n",
    "                  [(0.1, 1), (0,50000)],      # the bounds on each dimension of x\n",
    "                  acq_func=\"EI\",      # the acquisition function\n",
    "                  n_calls=500,         # the number of evaluations of f\n",
    "                  n_initial_points=50,  # the number of random initialization points\n",
    "                  random_state=1234,   # the random seed\n",
    "                  verbose=True)   \n",
    "res.specs['args']['func'] = None\n",
    "dump(res, 'model_fitting/dual_optimize.pkl')\n",
    "\"\"\""
   ]
  },
  {
   "cell_type": "code",
   "execution_count": 9,
   "metadata": {},
   "outputs": [],
   "source": [
    "nn_beta, nn_nll = minimize_NLL_deterministic(\"NN\", insight_data)"
   ]
  },
  {
   "cell_type": "code",
   "execution_count": 11,
   "metadata": {},
   "outputs": [],
   "source": [
    "dual_res = load('model_fitting/dual_optimize_500_50000.pkl')\n",
    "mc_res = load('model_fitting/mc_optimize_500_50000.pkl')"
   ]
  },
  {
   "cell_type": "code",
   "execution_count": 12,
   "metadata": {},
   "outputs": [
    {
     "name": "stdout",
     "output_type": "stream",
     "text": [
      "Dual Model\n",
      "Iters:  6405 | Beta:  0.2 | NLL:  23542.17 | BIC:  47104.19\n",
      "MC Model\n",
      "Iters:  35016 | Beta:  0.2 | NLL:  23629.52 | BIC:  47278.88\n",
      "NN Model\n",
      "Beta:  0.4 | NLL:  26156.86 | BIC:  52323.64\n"
     ]
    },
    {
     "data": {
      "image/png": "[encoded data removed]",
      "text/plain": [
       "<Figure size 1200x600 with 2 Axes>"
      ]
     },
     "metadata": {},
     "output_type": "display_data"
    }
   ],
   "source": [
    "dual_bic = calculate_BIC(dual_res.fun, insight_data, free_params=2)\n",
    "mc_bic = calculate_BIC(mc_res.fun, insight_data, free_params=2)\n",
    "nn_bic = calculate_BIC(nn_nll, insight_data, free_params=1)\n",
    "\n",
    "print(\"Dual Model\")\n",
    "print(\"Iters: \", dual_res.x[1], \"| Beta: \", np.round(dual_res.x[0],2), \"| NLL: \", np.round(dual_res.fun,2), \"| BIC: \", np.round(dual_bic,2))\n",
    "print(\"MC Model\")\n",
    "print(\"Iters: \", mc_res.x[1], \"| Beta: \", np.round(mc_res.x[0],2), \"| NLL: \", np.round(mc_res.fun,2), \"| BIC: \", np.round(mc_bic,2))\n",
    "print(\"NN Model\")\n",
    "print(\"Beta: \", np.round(nn_beta,2), \"| NLL: \", np.round(nn_nll,2), \"| BIC: \", np.round(nn_bic,2))\n",
    "\n",
    "fig, ax = plt.subplots(1, 2, figsize=(12, 6))\n",
    "\n",
    "plot_convergence(dual_res, ax=ax[0])\n",
    "ax[0].set_title('Dual Model Convergence')\n",
    "\n",
    "plot_convergence(mc_res, ax=ax[1])\n",
    "ax[1].set_title('MC Model Convergence')\n",
    "\n",
    "plt.tight_layout()\n",
    "plt.show()"
   ]
  },
  {
   "cell_type": "code",
   "execution_count": 7,
   "metadata": {},
   "outputs": [
    {
     "name": "stdout",
     "output_type": "stream",
     "text": [
      "Iteration No: 1 started. Evaluating function at random point.\n"
     ]
    },
    {
     "name": "stderr",
     "output_type": "stream",
     "text": [
      "/var/folders/6y/gzz1g_p559n80dc3_f2fl6m80000gn/T/ipykernel_54320/3668836295.py:32: SettingWithCopyWarning: \n",
      "A value is trying to be set on a copy of a slice from a DataFrame.\n",
      "Try using .loc[row_indexer,col_indexer] = value instead\n",
      "\n",
      "See the caveats in the documentation: https://pandas.pydata.org/pandas-docs/stable/user_guide/indexing.html#returning-a-view-versus-a-copy\n",
      "  data[model + \"_Q\"] = data.apply(lambda x: Q_dict[x.gridnum][x.transformed_state], axis=1)\n",
      "/var/folders/6y/gzz1g_p559n80dc3_f2fl6m80000gn/T/ipykernel_54320/3668836295.py:32: SettingWithCopyWarning: \n",
      "A value is trying to be set on a copy of a slice from a DataFrame.\n",
      "Try using .loc[row_indexer,col_indexer] = value instead\n",
      "\n",
      "See the caveats in the documentation: https://pandas.pydata.org/pandas-docs/stable/user_guide/indexing.html#returning-a-view-versus-a-copy\n",
      "  data[model + \"_Q\"] = data.apply(lambda x: Q_dict[x.gridnum][x.transformed_state], axis=1)\n"
     ]
    },
    {
     "name": "stdout",
     "output_type": "stream",
     "text": [
      "Iteration No: 1 ended. Evaluation done at random point.\n",
      "Time taken: 98.1140\n",
      "Function value obtained: 13048.7179\n",
      "Current minimum: 13048.7179\n",
      "Iteration No: 2 started. Evaluating function at random point.\n",
      "Iteration No: 2 ended. Evaluation done at random point.\n",
      "Time taken: 94.2401\n",
      "Function value obtained: 13189.5466\n",
      "Current minimum: 13048.7179\n",
      "Iteration No: 3 started. Evaluating function at random point.\n",
      "Iteration No: 3 ended. Evaluation done at random point.\n",
      "Time taken: 69.3776\n",
      "Function value obtained: 13083.6490\n",
      "Current minimum: 13048.7179\n",
      "Iteration No: 4 started. Evaluating function at random point.\n",
      "Iteration No: 4 ended. Evaluation done at random point.\n",
      "Time taken: 71.5473\n",
      "Function value obtained: 13114.4408\n",
      "Current minimum: 13048.7179\n",
      "Iteration No: 5 started. Evaluating function at random point.\n",
      "Iteration No: 5 ended. Evaluation done at random point.\n",
      "Time taken: 27.0311\n",
      "Function value obtained: 13061.2039\n",
      "Current minimum: 13048.7179\n",
      "Iteration No: 6 started. Evaluating function at random point.\n",
      "Iteration No: 6 ended. Evaluation done at random point.\n",
      "Time taken: 56.8738\n",
      "Function value obtained: 13505.5285\n",
      "Current minimum: 13048.7179\n",
      "Iteration No: 7 started. Evaluating function at random point.\n",
      "Iteration No: 7 ended. Evaluation done at random point.\n",
      "Time taken: 128.4705\n",
      "Function value obtained: 13084.3767\n",
      "Current minimum: 13048.7179\n",
      "Iteration No: 8 started. Evaluating function at random point.\n",
      "Iteration No: 8 ended. Evaluation done at random point.\n",
      "Time taken: 21.2531\n",
      "Function value obtained: 13183.0552\n",
      "Current minimum: 13048.7179\n",
      "Iteration No: 9 started. Evaluating function at random point.\n",
      "Iteration No: 9 ended. Evaluation done at random point.\n",
      "Time taken: 40.5312\n",
      "Function value obtained: 13057.5274\n",
      "Current minimum: 13048.7179\n",
      "Iteration No: 10 started. Evaluating function at random point.\n",
      "Iteration No: 10 ended. Evaluation done at random point.\n",
      "Time taken: 58.7012\n",
      "Function value obtained: 13080.5357\n",
      "Current minimum: 13048.7179\n",
      "Iteration No: 11 started. Evaluating function at random point.\n",
      "Iteration No: 11 ended. Evaluation done at random point.\n",
      "Time taken: 127.8637\n",
      "Function value obtained: 13114.7592\n",
      "Current minimum: 13048.7179\n",
      "Iteration No: 12 started. Evaluating function at random point.\n",
      "Iteration No: 12 ended. Evaluation done at random point.\n",
      "Time taken: 110.8266\n",
      "Function value obtained: 13085.9066\n",
      "Current minimum: 13048.7179\n",
      "Iteration No: 13 started. Evaluating function at random point.\n",
      "Iteration No: 13 ended. Evaluation done at random point.\n",
      "Time taken: 82.8030\n",
      "Function value obtained: 13080.2446\n",
      "Current minimum: 13048.7179\n",
      "Iteration No: 14 started. Evaluating function at random point.\n",
      "Iteration No: 14 ended. Evaluation done at random point.\n",
      "Time taken: 130.6050\n",
      "Function value obtained: 13111.0033\n",
      "Current minimum: 13048.7179\n",
      "Iteration No: 15 started. Evaluating function at random point.\n",
      "Iteration No: 15 ended. Evaluation done at random point.\n",
      "Time taken: 66.4949\n",
      "Function value obtained: 13126.9055\n",
      "Current minimum: 13048.7179\n",
      "Iteration No: 16 started. Evaluating function at random point.\n",
      "Iteration No: 16 ended. Evaluation done at random point.\n",
      "Time taken: 127.0625\n",
      "Function value obtained: 13099.9283\n",
      "Current minimum: 13048.7179\n",
      "Iteration No: 17 started. Evaluating function at random point.\n",
      "Iteration No: 17 ended. Evaluation done at random point.\n",
      "Time taken: 58.0076\n",
      "Function value obtained: 13247.8383\n",
      "Current minimum: 13048.7179\n",
      "Iteration No: 18 started. Evaluating function at random point.\n",
      "Iteration No: 18 ended. Evaluation done at random point.\n",
      "Time taken: 56.5728\n",
      "Function value obtained: 13062.9079\n",
      "Current minimum: 13048.7179\n",
      "Iteration No: 19 started. Evaluating function at random point.\n",
      "Iteration No: 19 ended. Evaluation done at random point.\n",
      "Time taken: 78.1792\n",
      "Function value obtained: 13125.9842\n",
      "Current minimum: 13048.7179\n",
      "Iteration No: 20 started. Evaluating function at random point.\n",
      "Iteration No: 20 ended. Evaluation done at random point.\n",
      "Time taken: 45.6620\n",
      "Function value obtained: 13128.5452\n",
      "Current minimum: 13048.7179\n",
      "Iteration No: 21 started. Evaluating function at random point.\n",
      "Iteration No: 21 ended. Evaluation done at random point.\n",
      "Time taken: 98.4334\n",
      "Function value obtained: 13124.3044\n",
      "Current minimum: 13048.7179\n",
      "Iteration No: 22 started. Evaluating function at random point.\n",
      "Iteration No: 22 ended. Evaluation done at random point.\n",
      "Time taken: 124.3211\n",
      "Function value obtained: 13092.9757\n",
      "Current minimum: 13048.7179\n",
      "Iteration No: 23 started. Evaluating function at random point.\n",
      "Iteration No: 23 ended. Evaluation done at random point.\n",
      "Time taken: 90.1336\n",
      "Function value obtained: 13107.8639\n",
      "Current minimum: 13048.7179\n",
      "Iteration No: 24 started. Evaluating function at random point.\n",
      "Iteration No: 24 ended. Evaluation done at random point.\n",
      "Time taken: 45.6512\n",
      "Function value obtained: 13037.7888\n",
      "Current minimum: 13037.7888\n",
      "Iteration No: 25 started. Evaluating function at random point.\n",
      "Iteration No: 25 ended. Evaluation done at random point.\n",
      "Time taken: 80.1146\n",
      "Function value obtained: 13123.8823\n",
      "Current minimum: 13037.7888\n",
      "Iteration No: 26 started. Evaluating function at random point.\n",
      "Iteration No: 26 ended. Evaluation done at random point.\n",
      "Time taken: 49.6611\n",
      "Function value obtained: 13147.1691\n",
      "Current minimum: 13037.7888\n",
      "Iteration No: 27 started. Evaluating function at random point.\n",
      "Iteration No: 27 ended. Evaluation done at random point.\n",
      "Time taken: 19.5050\n",
      "Function value obtained: 13099.8478\n",
      "Current minimum: 13037.7888\n",
      "Iteration No: 28 started. Evaluating function at random point.\n",
      "Iteration No: 28 ended. Evaluation done at random point.\n",
      "Time taken: 50.5983\n",
      "Function value obtained: 13049.7887\n",
      "Current minimum: 13037.7888\n",
      "Iteration No: 29 started. Evaluating function at random point.\n",
      "Iteration No: 29 ended. Evaluation done at random point.\n",
      "Time taken: 36.5437\n",
      "Function value obtained: 13220.9390\n",
      "Current minimum: 13037.7888\n",
      "Iteration No: 30 started. Evaluating function at random point.\n",
      "Iteration No: 30 ended. Evaluation done at random point.\n",
      "Time taken: 67.6341\n",
      "Function value obtained: 13236.0831\n",
      "Current minimum: 13037.7888\n",
      "Iteration No: 31 started. Evaluating function at random point.\n",
      "Iteration No: 31 ended. Evaluation done at random point.\n",
      "Time taken: 129.6118\n",
      "Function value obtained: 13080.9419\n",
      "Current minimum: 13037.7888\n",
      "Iteration No: 32 started. Evaluating function at random point.\n",
      "Iteration No: 32 ended. Evaluation done at random point.\n",
      "Time taken: 95.9771\n",
      "Function value obtained: 13295.2227\n",
      "Current minimum: 13037.7888\n",
      "Iteration No: 33 started. Evaluating function at random point.\n",
      "Iteration No: 33 ended. Evaluation done at random point.\n",
      "Time taken: 83.1415\n",
      "Function value obtained: 13118.1539\n",
      "Current minimum: 13037.7888\n",
      "Iteration No: 34 started. Evaluating function at random point.\n",
      "Iteration No: 34 ended. Evaluation done at random point.\n",
      "Time taken: 50.1104\n",
      "Function value obtained: 13071.7258\n",
      "Current minimum: 13037.7888\n",
      "Iteration No: 35 started. Evaluating function at random point.\n",
      "Iteration No: 35 ended. Evaluation done at random point.\n",
      "Time taken: 95.9823\n",
      "Function value obtained: 13122.1641\n",
      "Current minimum: 13037.7888\n",
      "Iteration No: 36 started. Evaluating function at random point.\n",
      "Iteration No: 36 ended. Evaluation done at random point.\n",
      "Time taken: 60.5055\n",
      "Function value obtained: 13151.6156\n",
      "Current minimum: 13037.7888\n",
      "Iteration No: 37 started. Evaluating function at random point.\n",
      "Iteration No: 37 ended. Evaluation done at random point.\n",
      "Time taken: 20.0443\n",
      "Function value obtained: 13126.0874\n",
      "Current minimum: 13037.7888\n",
      "Iteration No: 38 started. Evaluating function at random point.\n",
      "Iteration No: 38 ended. Evaluation done at random point.\n",
      "Time taken: 51.0443\n",
      "Function value obtained: 13085.8462\n",
      "Current minimum: 13037.7888\n",
      "Iteration No: 39 started. Evaluating function at random point.\n",
      "Iteration No: 39 ended. Evaluation done at random point.\n",
      "Time taken: 112.9103\n",
      "Function value obtained: 13094.5260\n",
      "Current minimum: 13037.7888\n",
      "Iteration No: 40 started. Evaluating function at random point.\n",
      "Iteration No: 40 ended. Evaluation done at random point.\n",
      "Time taken: 111.0285\n",
      "Function value obtained: 13121.8247\n",
      "Current minimum: 13037.7888\n",
      "Iteration No: 41 started. Evaluating function at random point.\n",
      "Iteration No: 41 ended. Evaluation done at random point.\n",
      "Time taken: 96.3629\n",
      "Function value obtained: 13109.1930\n",
      "Current minimum: 13037.7888\n",
      "Iteration No: 42 started. Evaluating function at random point.\n",
      "Iteration No: 42 ended. Evaluation done at random point.\n",
      "Time taken: 43.7909\n",
      "Function value obtained: 13104.9854\n",
      "Current minimum: 13037.7888\n",
      "Iteration No: 43 started. Evaluating function at random point.\n",
      "Iteration No: 43 ended. Evaluation done at random point.\n",
      "Time taken: 54.4944\n",
      "Function value obtained: 13119.9767\n",
      "Current minimum: 13037.7888\n",
      "Iteration No: 44 started. Evaluating function at random point.\n",
      "Iteration No: 44 ended. Evaluation done at random point.\n",
      "Time taken: 59.1395\n",
      "Function value obtained: 13116.1643\n",
      "Current minimum: 13037.7888\n",
      "Iteration No: 45 started. Evaluating function at random point.\n",
      "Iteration No: 45 ended. Evaluation done at random point.\n",
      "Time taken: 62.1396\n",
      "Function value obtained: 13067.8700\n",
      "Current minimum: 13037.7888\n",
      "Iteration No: 46 started. Evaluating function at random point.\n",
      "Iteration No: 46 ended. Evaluation done at random point.\n",
      "Time taken: 22.0585\n",
      "Function value obtained: 13134.3612\n",
      "Current minimum: 13037.7888\n",
      "Iteration No: 47 started. Evaluating function at random point.\n",
      "Iteration No: 47 ended. Evaluation done at random point.\n",
      "Time taken: 28.0510\n",
      "Function value obtained: 13168.2865\n",
      "Current minimum: 13037.7888\n",
      "Iteration No: 48 started. Evaluating function at random point.\n",
      "Iteration No: 48 ended. Evaluation done at random point.\n",
      "Time taken: 65.5591\n",
      "Function value obtained: 13089.0590\n",
      "Current minimum: 13037.7888\n",
      "Iteration No: 49 started. Evaluating function at random point.\n",
      "Iteration No: 49 ended. Evaluation done at random point.\n",
      "Time taken: 29.4532\n",
      "Function value obtained: 13084.0240\n",
      "Current minimum: 13037.7888\n",
      "Iteration No: 50 started. Evaluating function at random point.\n",
      "Iteration No: 50 ended. Evaluation done at random point.\n",
      "Time taken: 34.8187\n",
      "Function value obtained: 13014.7061\n",
      "Current minimum: 13014.7061\n",
      "Iteration No: 51 started. Evaluating function at random point.\n",
      "Iteration No: 51 ended. Evaluation done at random point.\n",
      "Time taken: 52.3231\n",
      "Function value obtained: 13159.9066\n",
      "Current minimum: 13014.7061\n",
      "Iteration No: 52 started. Evaluating function at random point.\n",
      "Iteration No: 52 ended. Evaluation done at random point.\n",
      "Time taken: 55.4484\n",
      "Function value obtained: 13051.2349\n",
      "Current minimum: 13014.7061\n",
      "Iteration No: 53 started. Evaluating function at random point.\n",
      "Iteration No: 53 ended. Evaluation done at random point.\n",
      "Time taken: 81.7265\n",
      "Function value obtained: 13111.8135\n",
      "Current minimum: 13014.7061\n",
      "Iteration No: 54 started. Evaluating function at random point.\n",
      "Iteration No: 54 ended. Evaluation done at random point.\n",
      "Time taken: 22.1953\n",
      "Function value obtained: 13268.7671\n",
      "Current minimum: 13014.7061\n",
      "Iteration No: 55 started. Evaluating function at random point.\n",
      "Iteration No: 55 ended. Evaluation done at random point.\n",
      "Time taken: 84.4543\n",
      "Function value obtained: 13105.2758\n",
      "Current minimum: 13014.7061\n",
      "Iteration No: 56 started. Evaluating function at random point.\n",
      "Iteration No: 56 ended. Evaluation done at random point.\n",
      "Time taken: 45.6555\n",
      "Function value obtained: 13171.2535\n",
      "Current minimum: 13014.7061\n",
      "Iteration No: 57 started. Evaluating function at random point.\n",
      "Iteration No: 57 ended. Evaluation done at random point.\n",
      "Time taken: 66.8055\n",
      "Function value obtained: 13055.8093\n",
      "Current minimum: 13014.7061\n",
      "Iteration No: 58 started. Evaluating function at random point.\n",
      "Iteration No: 58 ended. Evaluation done at random point.\n",
      "Time taken: 67.2239\n",
      "Function value obtained: 13075.1354\n",
      "Current minimum: 13014.7061\n",
      "Iteration No: 59 started. Evaluating function at random point.\n",
      "Iteration No: 59 ended. Evaluation done at random point.\n",
      "Time taken: 61.6294\n",
      "Function value obtained: 13078.1367\n",
      "Current minimum: 13014.7061\n",
      "Iteration No: 60 started. Evaluating function at random point.\n",
      "Iteration No: 60 ended. Evaluation done at random point.\n",
      "Time taken: 50.7226\n",
      "Function value obtained: 13114.3402\n",
      "Current minimum: 13014.7061\n",
      "Iteration No: 61 started. Evaluating function at random point.\n",
      "Iteration No: 61 ended. Evaluation done at random point.\n",
      "Time taken: 60.3649\n",
      "Function value obtained: 13098.4026\n",
      "Current minimum: 13014.7061\n",
      "Iteration No: 62 started. Evaluating function at random point.\n",
      "Iteration No: 62 ended. Evaluation done at random point.\n",
      "Time taken: 27.6487\n",
      "Function value obtained: 13214.7177\n",
      "Current minimum: 13014.7061\n",
      "Iteration No: 63 started. Evaluating function at random point.\n",
      "Iteration No: 63 ended. Evaluation done at random point.\n",
      "Time taken: 68.1820\n",
      "Function value obtained: 13066.3956\n",
      "Current minimum: 13014.7061\n",
      "Iteration No: 64 started. Evaluating function at random point.\n",
      "Iteration No: 64 ended. Evaluation done at random point.\n",
      "Time taken: 44.1252\n",
      "Function value obtained: 13124.5149\n",
      "Current minimum: 13014.7061\n",
      "Iteration No: 65 started. Evaluating function at random point.\n",
      "Iteration No: 65 ended. Evaluation done at random point.\n",
      "Time taken: 50.6966\n",
      "Function value obtained: 13107.4599\n",
      "Current minimum: 13014.7061\n",
      "Iteration No: 66 started. Evaluating function at random point.\n",
      "Iteration No: 66 ended. Evaluation done at random point.\n",
      "Time taken: 39.1417\n",
      "Function value obtained: 13135.6120\n",
      "Current minimum: 13014.7061\n",
      "Iteration No: 67 started. Evaluating function at random point.\n",
      "Iteration No: 67 ended. Evaluation done at random point.\n",
      "Time taken: 48.9666\n",
      "Function value obtained: 13127.5389\n",
      "Current minimum: 13014.7061\n",
      "Iteration No: 68 started. Evaluating function at random point.\n",
      "Iteration No: 68 ended. Evaluation done at random point.\n",
      "Time taken: 75.2993\n",
      "Function value obtained: 13088.6720\n",
      "Current minimum: 13014.7061\n",
      "Iteration No: 69 started. Evaluating function at random point.\n",
      "Iteration No: 69 ended. Evaluation done at random point.\n",
      "Time taken: 16.2202\n",
      "Function value obtained: 13070.5281\n",
      "Current minimum: 13014.7061\n",
      "Iteration No: 70 started. Evaluating function at random point.\n",
      "Iteration No: 70 ended. Evaluation done at random point.\n",
      "Time taken: 18.0062\n",
      "Function value obtained: 13130.7456\n",
      "Current minimum: 13014.7061\n",
      "Iteration No: 71 started. Evaluating function at random point.\n",
      "Iteration No: 71 ended. Evaluation done at random point.\n",
      "Time taken: 47.6308\n",
      "Function value obtained: 13069.2989\n",
      "Current minimum: 13014.7061\n",
      "Iteration No: 72 started. Evaluating function at random point.\n",
      "Iteration No: 72 ended. Evaluation done at random point.\n",
      "Time taken: 48.2356\n",
      "Function value obtained: 13128.5187\n",
      "Current minimum: 13014.7061\n",
      "Iteration No: 73 started. Evaluating function at random point.\n",
      "Iteration No: 73 ended. Evaluation done at random point.\n",
      "Time taken: 44.3358\n",
      "Function value obtained: 13049.4402\n",
      "Current minimum: 13014.7061\n",
      "Iteration No: 74 started. Evaluating function at random point.\n",
      "Iteration No: 74 ended. Evaluation done at random point.\n",
      "Time taken: 48.5430\n",
      "Function value obtained: 13113.4499\n",
      "Current minimum: 13014.7061\n",
      "Iteration No: 75 started. Evaluating function at random point.\n",
      "Iteration No: 75 ended. Evaluation done at random point.\n",
      "Time taken: 72.9419\n",
      "Function value obtained: 13100.7568\n",
      "Current minimum: 13014.7061\n",
      "Iteration No: 76 started. Evaluating function at random point.\n",
      "Iteration No: 76 ended. Evaluation done at random point.\n",
      "Time taken: 33.1641\n",
      "Function value obtained: 13102.1812\n",
      "Current minimum: 13014.7061\n",
      "Iteration No: 77 started. Evaluating function at random point.\n",
      "Iteration No: 77 ended. Evaluation done at random point.\n",
      "Time taken: 40.8343\n",
      "Function value obtained: 13074.0826\n",
      "Current minimum: 13014.7061\n",
      "Iteration No: 78 started. Evaluating function at random point.\n",
      "Iteration No: 78 ended. Evaluation done at random point.\n",
      "Time taken: 28.2505\n",
      "Function value obtained: 13135.3608\n",
      "Current minimum: 13014.7061\n",
      "Iteration No: 79 started. Evaluating function at random point.\n",
      "Iteration No: 79 ended. Evaluation done at random point.\n",
      "Time taken: 19.6223\n",
      "Function value obtained: 13329.4210\n",
      "Current minimum: 13014.7061\n",
      "Iteration No: 80 started. Evaluating function at random point.\n",
      "Iteration No: 80 ended. Evaluation done at random point.\n",
      "Time taken: 38.6466\n",
      "Function value obtained: 13094.4591\n",
      "Current minimum: 13014.7061\n",
      "Iteration No: 81 started. Evaluating function at random point.\n",
      "Iteration No: 81 ended. Evaluation done at random point.\n",
      "Time taken: 66.8763\n",
      "Function value obtained: 13076.7393\n",
      "Current minimum: 13014.7061\n",
      "Iteration No: 82 started. Evaluating function at random point.\n",
      "Iteration No: 82 ended. Evaluation done at random point.\n",
      "Time taken: 40.6375\n",
      "Function value obtained: 13065.1726\n",
      "Current minimum: 13014.7061\n",
      "Iteration No: 83 started. Evaluating function at random point.\n",
      "Iteration No: 83 ended. Evaluation done at random point.\n",
      "Time taken: 10.8736\n",
      "Function value obtained: 13384.2727\n",
      "Current minimum: 13014.7061\n",
      "Iteration No: 84 started. Evaluating function at random point.\n",
      "Iteration No: 84 ended. Evaluation done at random point.\n",
      "Time taken: 29.9899\n",
      "Function value obtained: 13220.3306\n",
      "Current minimum: 13014.7061\n",
      "Iteration No: 85 started. Evaluating function at random point.\n",
      "Iteration No: 85 ended. Evaluation done at random point.\n",
      "Time taken: 22.1254\n",
      "Function value obtained: 13176.3096\n",
      "Current minimum: 13014.7061\n",
      "Iteration No: 86 started. Evaluating function at random point.\n",
      "Iteration No: 86 ended. Evaluation done at random point.\n",
      "Time taken: 37.3887\n",
      "Function value obtained: 13056.0191\n",
      "Current minimum: 13014.7061\n",
      "Iteration No: 87 started. Evaluating function at random point.\n",
      "Iteration No: 87 ended. Evaluation done at random point.\n",
      "Time taken: 44.7137\n",
      "Function value obtained: 13054.3414\n",
      "Current minimum: 13014.7061\n",
      "Iteration No: 88 started. Evaluating function at random point.\n",
      "Iteration No: 88 ended. Evaluation done at random point.\n",
      "Time taken: 22.3971\n",
      "Function value obtained: 13522.9431\n",
      "Current minimum: 13014.7061\n",
      "Iteration No: 89 started. Evaluating function at random point.\n",
      "Iteration No: 89 ended. Evaluation done at random point.\n",
      "Time taken: 34.5981\n",
      "Function value obtained: 13123.7117\n",
      "Current minimum: 13014.7061\n",
      "Iteration No: 90 started. Evaluating function at random point.\n",
      "Iteration No: 90 ended. Evaluation done at random point.\n",
      "Time taken: 54.1691\n",
      "Function value obtained: 13115.6933\n",
      "Current minimum: 13014.7061\n",
      "Iteration No: 91 started. Evaluating function at random point.\n",
      "Iteration No: 91 ended. Evaluation done at random point.\n",
      "Time taken: 28.0442\n",
      "Function value obtained: 13160.9734\n",
      "Current minimum: 13014.7061\n",
      "Iteration No: 92 started. Evaluating function at random point.\n",
      "Iteration No: 92 ended. Evaluation done at random point.\n",
      "Time taken: 47.5227\n",
      "Function value obtained: 13101.8813\n",
      "Current minimum: 13014.7061\n",
      "Iteration No: 93 started. Evaluating function at random point.\n",
      "Iteration No: 93 ended. Evaluation done at random point.\n",
      "Time taken: 60.4495\n",
      "Function value obtained: 13080.5249\n",
      "Current minimum: 13014.7061\n",
      "Iteration No: 94 started. Evaluating function at random point.\n",
      "Iteration No: 94 ended. Evaluation done at random point.\n",
      "Time taken: 42.9341\n",
      "Function value obtained: 13119.6420\n",
      "Current minimum: 13014.7061\n",
      "Iteration No: 95 started. Evaluating function at random point.\n",
      "Iteration No: 95 ended. Evaluation done at random point.\n",
      "Time taken: 49.3234\n",
      "Function value obtained: 13066.0458\n",
      "Current minimum: 13014.7061\n",
      "Iteration No: 96 started. Evaluating function at random point.\n",
      "Iteration No: 96 ended. Evaluation done at random point.\n",
      "Time taken: 59.3959\n",
      "Function value obtained: 13106.8181\n",
      "Current minimum: 13014.7061\n",
      "Iteration No: 97 started. Evaluating function at random point.\n",
      "Iteration No: 97 ended. Evaluation done at random point.\n",
      "Time taken: 53.6001\n",
      "Function value obtained: 13111.0646\n",
      "Current minimum: 13014.7061\n",
      "Iteration No: 98 started. Evaluating function at random point.\n",
      "Iteration No: 98 ended. Evaluation done at random point.\n",
      "Time taken: 42.5174\n",
      "Function value obtained: 13113.2242\n",
      "Current minimum: 13014.7061\n",
      "Iteration No: 99 started. Evaluating function at random point.\n",
      "Iteration No: 99 ended. Evaluation done at random point.\n",
      "Time taken: 29.3671\n",
      "Function value obtained: 13222.2429\n",
      "Current minimum: 13014.7061\n",
      "Iteration No: 100 started. Evaluating function at random point.\n",
      "Iteration No: 100 ended. Evaluation done at random point.\n",
      "Time taken: 35.3499\n",
      "Function value obtained: 13134.9186\n",
      "Current minimum: 13014.7061\n",
      "Iteration No: 101 started. Evaluating function at random point.\n",
      "Iteration No: 101 ended. Evaluation done at random point.\n",
      "Time taken: 42.4933\n",
      "Function value obtained: 13223.1542\n",
      "Current minimum: 13014.7061\n",
      "Iteration No: 102 started. Evaluating function at random point.\n",
      "Iteration No: 102 ended. Evaluation done at random point.\n",
      "Time taken: 38.2877\n",
      "Function value obtained: 13231.4528\n",
      "Current minimum: 13014.7061\n",
      "Iteration No: 103 started. Evaluating function at random point.\n",
      "Iteration No: 103 ended. Evaluation done at random point.\n",
      "Time taken: 56.8383\n",
      "Function value obtained: 13099.8983\n",
      "Current minimum: 13014.7061\n",
      "Iteration No: 104 started. Evaluating function at random point.\n",
      "Iteration No: 104 ended. Evaluation done at random point.\n",
      "Time taken: 53.8845\n",
      "Function value obtained: 13091.3639\n",
      "Current minimum: 13014.7061\n",
      "Iteration No: 105 started. Evaluating function at random point.\n",
      "Iteration No: 105 ended. Evaluation done at random point.\n",
      "Time taken: 52.6864\n",
      "Function value obtained: 13095.6118\n",
      "Current minimum: 13014.7061\n",
      "Iteration No: 106 started. Evaluating function at random point.\n",
      "Iteration No: 106 ended. Evaluation done at random point.\n",
      "Time taken: 43.1425\n",
      "Function value obtained: 13095.2882\n",
      "Current minimum: 13014.7061\n",
      "Iteration No: 107 started. Evaluating function at random point.\n",
      "Iteration No: 107 ended. Evaluation done at random point.\n",
      "Time taken: 54.0431\n",
      "Function value obtained: 13130.0830\n",
      "Current minimum: 13014.7061\n",
      "Iteration No: 108 started. Evaluating function at random point.\n",
      "Iteration No: 108 ended. Evaluation done at random point.\n",
      "Time taken: 22.6726\n",
      "Function value obtained: 13040.4348\n",
      "Current minimum: 13014.7061\n",
      "Iteration No: 109 started. Evaluating function at random point.\n",
      "Iteration No: 109 ended. Evaluation done at random point.\n",
      "Time taken: 20.4301\n",
      "Function value obtained: 13062.7091\n",
      "Current minimum: 13014.7061\n",
      "Iteration No: 110 started. Evaluating function at random point.\n",
      "Iteration No: 110 ended. Evaluation done at random point.\n",
      "Time taken: 43.8832\n",
      "Function value obtained: 13131.3255\n",
      "Current minimum: 13014.7061\n",
      "Iteration No: 111 started. Evaluating function at random point.\n",
      "Iteration No: 111 ended. Evaluation done at random point.\n",
      "Time taken: 61.0967\n",
      "Function value obtained: 13114.4571\n",
      "Current minimum: 13014.7061\n",
      "Iteration No: 112 started. Evaluating function at random point.\n",
      "Iteration No: 112 ended. Evaluation done at random point.\n",
      "Time taken: 25.8117\n",
      "Function value obtained: 13088.7906\n",
      "Current minimum: 13014.7061\n",
      "Iteration No: 113 started. Evaluating function at random point.\n",
      "Iteration No: 113 ended. Evaluation done at random point.\n",
      "Time taken: 40.7920\n",
      "Function value obtained: 13112.2033\n",
      "Current minimum: 13014.7061\n",
      "Iteration No: 114 started. Evaluating function at random point.\n",
      "Iteration No: 114 ended. Evaluation done at random point.\n",
      "Time taken: 44.1618\n",
      "Function value obtained: 13085.5196\n",
      "Current minimum: 13014.7061\n",
      "Iteration No: 115 started. Evaluating function at random point.\n",
      "Iteration No: 115 ended. Evaluation done at random point.\n",
      "Time taken: 65.8371\n",
      "Function value obtained: 13115.9265\n",
      "Current minimum: 13014.7061\n",
      "Iteration No: 116 started. Evaluating function at random point.\n",
      "Iteration No: 116 ended. Evaluation done at random point.\n",
      "Time taken: 25.7455\n",
      "Function value obtained: 13116.8729\n",
      "Current minimum: 13014.7061\n",
      "Iteration No: 117 started. Evaluating function at random point.\n",
      "Iteration No: 117 ended. Evaluation done at random point.\n",
      "Time taken: 75.1819\n",
      "Function value obtained: 13094.4022\n",
      "Current minimum: 13014.7061\n",
      "Iteration No: 118 started. Evaluating function at random point.\n",
      "Iteration No: 118 ended. Evaluation done at random point.\n",
      "Time taken: 24.5454\n",
      "Function value obtained: 13051.9399\n",
      "Current minimum: 13014.7061\n",
      "Iteration No: 119 started. Evaluating function at random point.\n",
      "Iteration No: 119 ended. Evaluation done at random point.\n",
      "Time taken: 42.5246\n",
      "Function value obtained: 13066.2810\n",
      "Current minimum: 13014.7061\n",
      "Iteration No: 120 started. Evaluating function at random point.\n",
      "Iteration No: 120 ended. Evaluation done at random point.\n",
      "Time taken: 14.9688\n",
      "Function value obtained: 13212.5369\n",
      "Current minimum: 13014.7061\n",
      "Iteration No: 121 started. Searching for the next optimal point.\n"
     ]
    },
    {
     "name": "stderr",
     "output_type": "stream",
     "text": [
      "/var/folders/6y/gzz1g_p559n80dc3_f2fl6m80000gn/T/ipykernel_54320/3668836295.py:32: SettingWithCopyWarning: \n",
      "A value is trying to be set on a copy of a slice from a DataFrame.\n",
      "Try using .loc[row_indexer,col_indexer] = value instead\n",
      "\n",
      "See the caveats in the documentation: https://pandas.pydata.org/pandas-docs/stable/user_guide/indexing.html#returning-a-view-versus-a-copy\n",
      "  data[model + \"_Q\"] = data.apply(lambda x: Q_dict[x.gridnum][x.transformed_state], axis=1)\n"
     ]
    },
    {
     "name": "stdout",
     "output_type": "stream",
     "text": [
      "Iteration No: 121 ended. Search finished for the next optimal point.\n",
      "Time taken: 49.4409\n",
      "Function value obtained: 13137.4763\n",
      "Current minimum: 13014.7061\n",
      "Iteration No: 122 started. Searching for the next optimal point.\n"
     ]
    },
    {
     "name": "stderr",
     "output_type": "stream",
     "text": [
      "/var/folders/6y/gzz1g_p559n80dc3_f2fl6m80000gn/T/ipykernel_54320/3668836295.py:32: SettingWithCopyWarning: \n",
      "A value is trying to be set on a copy of a slice from a DataFrame.\n",
      "Try using .loc[row_indexer,col_indexer] = value instead\n",
      "\n",
      "See the caveats in the documentation: https://pandas.pydata.org/pandas-docs/stable/user_guide/indexing.html#returning-a-view-versus-a-copy\n",
      "  data[model + \"_Q\"] = data.apply(lambda x: Q_dict[x.gridnum][x.transformed_state], axis=1)\n"
     ]
    },
    {
     "name": "stdout",
     "output_type": "stream",
     "text": [
      "Iteration No: 122 ended. Search finished for the next optimal point.\n",
      "Time taken: 40.0977\n",
      "Function value obtained: 13059.9010\n",
      "Current minimum: 13014.7061\n",
      "Iteration No: 123 started. Searching for the next optimal point.\n"
     ]
    },
    {
     "name": "stderr",
     "output_type": "stream",
     "text": [
      "/var/folders/6y/gzz1g_p559n80dc3_f2fl6m80000gn/T/ipykernel_54320/3668836295.py:32: SettingWithCopyWarning: \n",
      "A value is trying to be set on a copy of a slice from a DataFrame.\n",
      "Try using .loc[row_indexer,col_indexer] = value instead\n",
      "\n",
      "See the caveats in the documentation: https://pandas.pydata.org/pandas-docs/stable/user_guide/indexing.html#returning-a-view-versus-a-copy\n",
      "  data[model + \"_Q\"] = data.apply(lambda x: Q_dict[x.gridnum][x.transformed_state], axis=1)\n"
     ]
    },
    {
     "name": "stdout",
     "output_type": "stream",
     "text": [
      "Iteration No: 123 ended. Search finished for the next optimal point.\n",
      "Time taken: 74.8174\n",
      "Function value obtained: 13115.9387\n",
      "Current minimum: 13014.7061\n",
      "Iteration No: 124 started. Searching for the next optimal point.\n"
     ]
    },
    {
     "name": "stderr",
     "output_type": "stream",
     "text": [
      "/var/folders/6y/gzz1g_p559n80dc3_f2fl6m80000gn/T/ipykernel_54320/3668836295.py:32: SettingWithCopyWarning: \n",
      "A value is trying to be set on a copy of a slice from a DataFrame.\n",
      "Try using .loc[row_indexer,col_indexer] = value instead\n",
      "\n",
      "See the caveats in the documentation: https://pandas.pydata.org/pandas-docs/stable/user_guide/indexing.html#returning-a-view-versus-a-copy\n",
      "  data[model + \"_Q\"] = data.apply(lambda x: Q_dict[x.gridnum][x.transformed_state], axis=1)\n"
     ]
    },
    {
     "name": "stdout",
     "output_type": "stream",
     "text": [
      "Iteration No: 124 ended. Search finished for the next optimal point.\n",
      "Time taken: 54.5658\n",
      "Function value obtained: 13075.7976\n",
      "Current minimum: 13014.7061\n",
      "Iteration No: 125 started. Searching for the next optimal point.\n"
     ]
    },
    {
     "name": "stderr",
     "output_type": "stream",
     "text": [
      "/var/folders/6y/gzz1g_p559n80dc3_f2fl6m80000gn/T/ipykernel_54320/3668836295.py:32: SettingWithCopyWarning: \n",
      "A value is trying to be set on a copy of a slice from a DataFrame.\n",
      "Try using .loc[row_indexer,col_indexer] = value instead\n",
      "\n",
      "See the caveats in the documentation: https://pandas.pydata.org/pandas-docs/stable/user_guide/indexing.html#returning-a-view-versus-a-copy\n",
      "  data[model + \"_Q\"] = data.apply(lambda x: Q_dict[x.gridnum][x.transformed_state], axis=1)\n"
     ]
    },
    {
     "name": "stdout",
     "output_type": "stream",
     "text": [
      "Iteration No: 125 ended. Search finished for the next optimal point.\n",
      "Time taken: 53.8383\n",
      "Function value obtained: 13072.0150\n",
      "Current minimum: 13014.7061\n",
      "Iteration No: 126 started. Searching for the next optimal point.\n"
     ]
    },
    {
     "name": "stderr",
     "output_type": "stream",
     "text": [
      "/var/folders/6y/gzz1g_p559n80dc3_f2fl6m80000gn/T/ipykernel_54320/3668836295.py:32: SettingWithCopyWarning: \n",
      "A value is trying to be set on a copy of a slice from a DataFrame.\n",
      "Try using .loc[row_indexer,col_indexer] = value instead\n",
      "\n",
      "See the caveats in the documentation: https://pandas.pydata.org/pandas-docs/stable/user_guide/indexing.html#returning-a-view-versus-a-copy\n",
      "  data[model + \"_Q\"] = data.apply(lambda x: Q_dict[x.gridnum][x.transformed_state], axis=1)\n"
     ]
    },
    {
     "name": "stdout",
     "output_type": "stream",
     "text": [
      "Iteration No: 126 ended. Search finished for the next optimal point.\n",
      "Time taken: 18.2966\n",
      "Function value obtained: 13130.8739\n",
      "Current minimum: 13014.7061\n",
      "Iteration No: 127 started. Searching for the next optimal point.\n"
     ]
    },
    {
     "name": "stderr",
     "output_type": "stream",
     "text": [
      "/var/folders/6y/gzz1g_p559n80dc3_f2fl6m80000gn/T/ipykernel_54320/3668836295.py:32: SettingWithCopyWarning: \n",
      "A value is trying to be set on a copy of a slice from a DataFrame.\n",
      "Try using .loc[row_indexer,col_indexer] = value instead\n",
      "\n",
      "See the caveats in the documentation: https://pandas.pydata.org/pandas-docs/stable/user_guide/indexing.html#returning-a-view-versus-a-copy\n",
      "  data[model + \"_Q\"] = data.apply(lambda x: Q_dict[x.gridnum][x.transformed_state], axis=1)\n"
     ]
    },
    {
     "name": "stdout",
     "output_type": "stream",
     "text": [
      "Iteration No: 127 ended. Search finished for the next optimal point.\n",
      "Time taken: 39.6040\n",
      "Function value obtained: 13387.2095\n",
      "Current minimum: 13014.7061\n",
      "Iteration No: 128 started. Searching for the next optimal point.\n"
     ]
    },
    {
     "name": "stderr",
     "output_type": "stream",
     "text": [
      "/var/folders/6y/gzz1g_p559n80dc3_f2fl6m80000gn/T/ipykernel_54320/3668836295.py:32: SettingWithCopyWarning: \n",
      "A value is trying to be set on a copy of a slice from a DataFrame.\n",
      "Try using .loc[row_indexer,col_indexer] = value instead\n",
      "\n",
      "See the caveats in the documentation: https://pandas.pydata.org/pandas-docs/stable/user_guide/indexing.html#returning-a-view-versus-a-copy\n",
      "  data[model + \"_Q\"] = data.apply(lambda x: Q_dict[x.gridnum][x.transformed_state], axis=1)\n"
     ]
    },
    {
     "name": "stdout",
     "output_type": "stream",
     "text": [
      "Iteration No: 128 ended. Search finished for the next optimal point.\n",
      "Time taken: 81.5590\n",
      "Function value obtained: 13111.6131\n",
      "Current minimum: 13014.7061\n",
      "Iteration No: 129 started. Searching for the next optimal point.\n"
     ]
    },
    {
     "name": "stderr",
     "output_type": "stream",
     "text": [
      "/var/folders/6y/gzz1g_p559n80dc3_f2fl6m80000gn/T/ipykernel_54320/3668836295.py:32: SettingWithCopyWarning: \n",
      "A value is trying to be set on a copy of a slice from a DataFrame.\n",
      "Try using .loc[row_indexer,col_indexer] = value instead\n",
      "\n",
      "See the caveats in the documentation: https://pandas.pydata.org/pandas-docs/stable/user_guide/indexing.html#returning-a-view-versus-a-copy\n",
      "  data[model + \"_Q\"] = data.apply(lambda x: Q_dict[x.gridnum][x.transformed_state], axis=1)\n"
     ]
    },
    {
     "name": "stdout",
     "output_type": "stream",
     "text": [
      "Iteration No: 129 ended. Search finished for the next optimal point.\n",
      "Time taken: 55.6121\n",
      "Function value obtained: 13139.1488\n",
      "Current minimum: 13014.7061\n",
      "Iteration No: 130 started. Searching for the next optimal point.\n"
     ]
    },
    {
     "name": "stderr",
     "output_type": "stream",
     "text": [
      "/var/folders/6y/gzz1g_p559n80dc3_f2fl6m80000gn/T/ipykernel_54320/3668836295.py:32: SettingWithCopyWarning: \n",
      "A value is trying to be set on a copy of a slice from a DataFrame.\n",
      "Try using .loc[row_indexer,col_indexer] = value instead\n",
      "\n",
      "See the caveats in the documentation: https://pandas.pydata.org/pandas-docs/stable/user_guide/indexing.html#returning-a-view-versus-a-copy\n",
      "  data[model + \"_Q\"] = data.apply(lambda x: Q_dict[x.gridnum][x.transformed_state], axis=1)\n"
     ]
    },
    {
     "name": "stdout",
     "output_type": "stream",
     "text": [
      "Iteration No: 130 ended. Search finished for the next optimal point.\n",
      "Time taken: 78.5793\n",
      "Function value obtained: 13062.1001\n",
      "Current minimum: 13014.7061\n",
      "Iteration No: 131 started. Searching for the next optimal point.\n"
     ]
    },
    {
     "name": "stderr",
     "output_type": "stream",
     "text": [
      "/var/folders/6y/gzz1g_p559n80dc3_f2fl6m80000gn/T/ipykernel_54320/3668836295.py:32: SettingWithCopyWarning: \n",
      "A value is trying to be set on a copy of a slice from a DataFrame.\n",
      "Try using .loc[row_indexer,col_indexer] = value instead\n",
      "\n",
      "See the caveats in the documentation: https://pandas.pydata.org/pandas-docs/stable/user_guide/indexing.html#returning-a-view-versus-a-copy\n",
      "  data[model + \"_Q\"] = data.apply(lambda x: Q_dict[x.gridnum][x.transformed_state], axis=1)\n"
     ]
    },
    {
     "name": "stdout",
     "output_type": "stream",
     "text": [
      "Iteration No: 131 ended. Search finished for the next optimal point.\n",
      "Time taken: 79.7972\n",
      "Function value obtained: 13098.3300\n",
      "Current minimum: 13014.7061\n",
      "Iteration No: 132 started. Searching for the next optimal point.\n"
     ]
    },
    {
     "name": "stderr",
     "output_type": "stream",
     "text": [
      "/var/folders/6y/gzz1g_p559n80dc3_f2fl6m80000gn/T/ipykernel_54320/3668836295.py:32: SettingWithCopyWarning: \n",
      "A value is trying to be set on a copy of a slice from a DataFrame.\n",
      "Try using .loc[row_indexer,col_indexer] = value instead\n",
      "\n",
      "See the caveats in the documentation: https://pandas.pydata.org/pandas-docs/stable/user_guide/indexing.html#returning-a-view-versus-a-copy\n",
      "  data[model + \"_Q\"] = data.apply(lambda x: Q_dict[x.gridnum][x.transformed_state], axis=1)\n"
     ]
    },
    {
     "name": "stdout",
     "output_type": "stream",
     "text": [
      "Iteration No: 132 ended. Search finished for the next optimal point.\n",
      "Time taken: 79.9500\n",
      "Function value obtained: 13100.2669\n",
      "Current minimum: 13014.7061\n",
      "Iteration No: 133 started. Searching for the next optimal point.\n"
     ]
    },
    {
     "name": "stderr",
     "output_type": "stream",
     "text": [
      "/var/folders/6y/gzz1g_p559n80dc3_f2fl6m80000gn/T/ipykernel_54320/3668836295.py:32: SettingWithCopyWarning: \n",
      "A value is trying to be set on a copy of a slice from a DataFrame.\n",
      "Try using .loc[row_indexer,col_indexer] = value instead\n",
      "\n",
      "See the caveats in the documentation: https://pandas.pydata.org/pandas-docs/stable/user_guide/indexing.html#returning-a-view-versus-a-copy\n",
      "  data[model + \"_Q\"] = data.apply(lambda x: Q_dict[x.gridnum][x.transformed_state], axis=1)\n"
     ]
    },
    {
     "name": "stdout",
     "output_type": "stream",
     "text": [
      "Iteration No: 133 ended. Search finished for the next optimal point.\n",
      "Time taken: 48.1928\n",
      "Function value obtained: 13136.1811\n",
      "Current minimum: 13014.7061\n",
      "Iteration No: 134 started. Searching for the next optimal point.\n"
     ]
    },
    {
     "name": "stderr",
     "output_type": "stream",
     "text": [
      "/var/folders/6y/gzz1g_p559n80dc3_f2fl6m80000gn/T/ipykernel_54320/3668836295.py:32: SettingWithCopyWarning: \n",
      "A value is trying to be set on a copy of a slice from a DataFrame.\n",
      "Try using .loc[row_indexer,col_indexer] = value instead\n",
      "\n",
      "See the caveats in the documentation: https://pandas.pydata.org/pandas-docs/stable/user_guide/indexing.html#returning-a-view-versus-a-copy\n",
      "  data[model + \"_Q\"] = data.apply(lambda x: Q_dict[x.gridnum][x.transformed_state], axis=1)\n"
     ]
    },
    {
     "name": "stdout",
     "output_type": "stream",
     "text": [
      "Iteration No: 134 ended. Search finished for the next optimal point.\n",
      "Time taken: 54.8798\n",
      "Function value obtained: 13093.9291\n",
      "Current minimum: 13014.7061\n",
      "Iteration No: 135 started. Searching for the next optimal point.\n"
     ]
    },
    {
     "name": "stderr",
     "output_type": "stream",
     "text": [
      "/var/folders/6y/gzz1g_p559n80dc3_f2fl6m80000gn/T/ipykernel_54320/3668836295.py:32: SettingWithCopyWarning: \n",
      "A value is trying to be set on a copy of a slice from a DataFrame.\n",
      "Try using .loc[row_indexer,col_indexer] = value instead\n",
      "\n",
      "See the caveats in the documentation: https://pandas.pydata.org/pandas-docs/stable/user_guide/indexing.html#returning-a-view-versus-a-copy\n",
      "  data[model + \"_Q\"] = data.apply(lambda x: Q_dict[x.gridnum][x.transformed_state], axis=1)\n"
     ]
    },
    {
     "name": "stdout",
     "output_type": "stream",
     "text": [
      "Iteration No: 135 ended. Search finished for the next optimal point.\n",
      "Time taken: 61.9433\n",
      "Function value obtained: 13137.5888\n",
      "Current minimum: 13014.7061\n",
      "Iteration No: 136 started. Searching for the next optimal point.\n"
     ]
    },
    {
     "name": "stderr",
     "output_type": "stream",
     "text": [
      "/var/folders/6y/gzz1g_p559n80dc3_f2fl6m80000gn/T/ipykernel_54320/3668836295.py:32: SettingWithCopyWarning: \n",
      "A value is trying to be set on a copy of a slice from a DataFrame.\n",
      "Try using .loc[row_indexer,col_indexer] = value instead\n",
      "\n",
      "See the caveats in the documentation: https://pandas.pydata.org/pandas-docs/stable/user_guide/indexing.html#returning-a-view-versus-a-copy\n",
      "  data[model + \"_Q\"] = data.apply(lambda x: Q_dict[x.gridnum][x.transformed_state], axis=1)\n"
     ]
    },
    {
     "name": "stdout",
     "output_type": "stream",
     "text": [
      "Iteration No: 136 ended. Search finished for the next optimal point.\n",
      "Time taken: 19.2345\n",
      "Function value obtained: 13124.7115\n",
      "Current minimum: 13014.7061\n",
      "Iteration No: 137 started. Searching for the next optimal point.\n"
     ]
    },
    {
     "name": "stderr",
     "output_type": "stream",
     "text": [
      "/var/folders/6y/gzz1g_p559n80dc3_f2fl6m80000gn/T/ipykernel_54320/3668836295.py:32: SettingWithCopyWarning: \n",
      "A value is trying to be set on a copy of a slice from a DataFrame.\n",
      "Try using .loc[row_indexer,col_indexer] = value instead\n",
      "\n",
      "See the caveats in the documentation: https://pandas.pydata.org/pandas-docs/stable/user_guide/indexing.html#returning-a-view-versus-a-copy\n",
      "  data[model + \"_Q\"] = data.apply(lambda x: Q_dict[x.gridnum][x.transformed_state], axis=1)\n"
     ]
    },
    {
     "name": "stdout",
     "output_type": "stream",
     "text": [
      "Iteration No: 137 ended. Search finished for the next optimal point.\n",
      "Time taken: 52.9264\n",
      "Function value obtained: 13089.3529\n",
      "Current minimum: 13014.7061\n",
      "Iteration No: 138 started. Searching for the next optimal point.\n"
     ]
    },
    {
     "name": "stderr",
     "output_type": "stream",
     "text": [
      "/var/folders/6y/gzz1g_p559n80dc3_f2fl6m80000gn/T/ipykernel_54320/3668836295.py:32: SettingWithCopyWarning: \n",
      "A value is trying to be set on a copy of a slice from a DataFrame.\n",
      "Try using .loc[row_indexer,col_indexer] = value instead\n",
      "\n",
      "See the caveats in the documentation: https://pandas.pydata.org/pandas-docs/stable/user_guide/indexing.html#returning-a-view-versus-a-copy\n",
      "  data[model + \"_Q\"] = data.apply(lambda x: Q_dict[x.gridnum][x.transformed_state], axis=1)\n"
     ]
    },
    {
     "name": "stdout",
     "output_type": "stream",
     "text": [
      "Iteration No: 138 ended. Search finished for the next optimal point.\n",
      "Time taken: 77.6802\n",
      "Function value obtained: 13092.4784\n",
      "Current minimum: 13014.7061\n",
      "Iteration No: 139 started. Searching for the next optimal point.\n"
     ]
    },
    {
     "name": "stderr",
     "output_type": "stream",
     "text": [
      "/var/folders/6y/gzz1g_p559n80dc3_f2fl6m80000gn/T/ipykernel_54320/3668836295.py:32: SettingWithCopyWarning: \n",
      "A value is trying to be set on a copy of a slice from a DataFrame.\n",
      "Try using .loc[row_indexer,col_indexer] = value instead\n",
      "\n",
      "See the caveats in the documentation: https://pandas.pydata.org/pandas-docs/stable/user_guide/indexing.html#returning-a-view-versus-a-copy\n",
      "  data[model + \"_Q\"] = data.apply(lambda x: Q_dict[x.gridnum][x.transformed_state], axis=1)\n"
     ]
    },
    {
     "name": "stdout",
     "output_type": "stream",
     "text": [
      "Iteration No: 139 ended. Search finished for the next optimal point.\n",
      "Time taken: 43.6607\n",
      "Function value obtained: 13211.5091\n",
      "Current minimum: 13014.7061\n",
      "Iteration No: 140 started. Searching for the next optimal point.\n"
     ]
    },
    {
     "name": "stderr",
     "output_type": "stream",
     "text": [
      "/var/folders/6y/gzz1g_p559n80dc3_f2fl6m80000gn/T/ipykernel_54320/3668836295.py:32: SettingWithCopyWarning: \n",
      "A value is trying to be set on a copy of a slice from a DataFrame.\n",
      "Try using .loc[row_indexer,col_indexer] = value instead\n",
      "\n",
      "See the caveats in the documentation: https://pandas.pydata.org/pandas-docs/stable/user_guide/indexing.html#returning-a-view-versus-a-copy\n",
      "  data[model + \"_Q\"] = data.apply(lambda x: Q_dict[x.gridnum][x.transformed_state], axis=1)\n"
     ]
    },
    {
     "name": "stdout",
     "output_type": "stream",
     "text": [
      "Iteration No: 140 ended. Search finished for the next optimal point.\n",
      "Time taken: 60.9658\n",
      "Function value obtained: 13052.8070\n",
      "Current minimum: 13014.7061\n",
      "Iteration No: 141 started. Searching for the next optimal point.\n"
     ]
    },
    {
     "name": "stderr",
     "output_type": "stream",
     "text": [
      "/var/folders/6y/gzz1g_p559n80dc3_f2fl6m80000gn/T/ipykernel_54320/3668836295.py:32: SettingWithCopyWarning: \n",
      "A value is trying to be set on a copy of a slice from a DataFrame.\n",
      "Try using .loc[row_indexer,col_indexer] = value instead\n",
      "\n",
      "See the caveats in the documentation: https://pandas.pydata.org/pandas-docs/stable/user_guide/indexing.html#returning-a-view-versus-a-copy\n",
      "  data[model + \"_Q\"] = data.apply(lambda x: Q_dict[x.gridnum][x.transformed_state], axis=1)\n"
     ]
    },
    {
     "name": "stdout",
     "output_type": "stream",
     "text": [
      "Iteration No: 141 ended. Search finished for the next optimal point.\n",
      "Time taken: 61.6137\n",
      "Function value obtained: 13117.7295\n",
      "Current minimum: 13014.7061\n",
      "Iteration No: 142 started. Searching for the next optimal point.\n"
     ]
    },
    {
     "name": "stderr",
     "output_type": "stream",
     "text": [
      "/var/folders/6y/gzz1g_p559n80dc3_f2fl6m80000gn/T/ipykernel_54320/3668836295.py:32: SettingWithCopyWarning: \n",
      "A value is trying to be set on a copy of a slice from a DataFrame.\n",
      "Try using .loc[row_indexer,col_indexer] = value instead\n",
      "\n",
      "See the caveats in the documentation: https://pandas.pydata.org/pandas-docs/stable/user_guide/indexing.html#returning-a-view-versus-a-copy\n",
      "  data[model + \"_Q\"] = data.apply(lambda x: Q_dict[x.gridnum][x.transformed_state], axis=1)\n"
     ]
    },
    {
     "name": "stdout",
     "output_type": "stream",
     "text": [
      "Iteration No: 142 ended. Search finished for the next optimal point.\n",
      "Time taken: 53.1390\n",
      "Function value obtained: 13110.6512\n",
      "Current minimum: 13014.7061\n",
      "Iteration No: 143 started. Searching for the next optimal point.\n"
     ]
    },
    {
     "name": "stderr",
     "output_type": "stream",
     "text": [
      "/var/folders/6y/gzz1g_p559n80dc3_f2fl6m80000gn/T/ipykernel_54320/3668836295.py:32: SettingWithCopyWarning: \n",
      "A value is trying to be set on a copy of a slice from a DataFrame.\n",
      "Try using .loc[row_indexer,col_indexer] = value instead\n",
      "\n",
      "See the caveats in the documentation: https://pandas.pydata.org/pandas-docs/stable/user_guide/indexing.html#returning-a-view-versus-a-copy\n",
      "  data[model + \"_Q\"] = data.apply(lambda x: Q_dict[x.gridnum][x.transformed_state], axis=1)\n"
     ]
    },
    {
     "name": "stdout",
     "output_type": "stream",
     "text": [
      "Iteration No: 143 ended. Search finished for the next optimal point.\n",
      "Time taken: 76.2172\n",
      "Function value obtained: 13100.0513\n",
      "Current minimum: 13014.7061\n",
      "Iteration No: 144 started. Searching for the next optimal point.\n"
     ]
    },
    {
     "name": "stderr",
     "output_type": "stream",
     "text": [
      "/var/folders/6y/gzz1g_p559n80dc3_f2fl6m80000gn/T/ipykernel_54320/3668836295.py:32: SettingWithCopyWarning: \n",
      "A value is trying to be set on a copy of a slice from a DataFrame.\n",
      "Try using .loc[row_indexer,col_indexer] = value instead\n",
      "\n",
      "See the caveats in the documentation: https://pandas.pydata.org/pandas-docs/stable/user_guide/indexing.html#returning-a-view-versus-a-copy\n",
      "  data[model + \"_Q\"] = data.apply(lambda x: Q_dict[x.gridnum][x.transformed_state], axis=1)\n"
     ]
    },
    {
     "name": "stdout",
     "output_type": "stream",
     "text": [
      "Iteration No: 144 ended. Search finished for the next optimal point.\n",
      "Time taken: 56.5269\n",
      "Function value obtained: 13094.8249\n",
      "Current minimum: 13014.7061\n",
      "Iteration No: 145 started. Searching for the next optimal point.\n"
     ]
    },
    {
     "name": "stderr",
     "output_type": "stream",
     "text": [
      "/var/folders/6y/gzz1g_p559n80dc3_f2fl6m80000gn/T/ipykernel_54320/3668836295.py:32: SettingWithCopyWarning: \n",
      "A value is trying to be set on a copy of a slice from a DataFrame.\n",
      "Try using .loc[row_indexer,col_indexer] = value instead\n",
      "\n",
      "See the caveats in the documentation: https://pandas.pydata.org/pandas-docs/stable/user_guide/indexing.html#returning-a-view-versus-a-copy\n",
      "  data[model + \"_Q\"] = data.apply(lambda x: Q_dict[x.gridnum][x.transformed_state], axis=1)\n"
     ]
    },
    {
     "name": "stdout",
     "output_type": "stream",
     "text": [
      "Iteration No: 145 ended. Search finished for the next optimal point.\n",
      "Time taken: 17.1263\n",
      "Function value obtained: 13249.2421\n",
      "Current minimum: 13014.7061\n",
      "Iteration No: 146 started. Searching for the next optimal point.\n"
     ]
    },
    {
     "name": "stderr",
     "output_type": "stream",
     "text": [
      "/var/folders/6y/gzz1g_p559n80dc3_f2fl6m80000gn/T/ipykernel_54320/3668836295.py:32: SettingWithCopyWarning: \n",
      "A value is trying to be set on a copy of a slice from a DataFrame.\n",
      "Try using .loc[row_indexer,col_indexer] = value instead\n",
      "\n",
      "See the caveats in the documentation: https://pandas.pydata.org/pandas-docs/stable/user_guide/indexing.html#returning-a-view-versus-a-copy\n",
      "  data[model + \"_Q\"] = data.apply(lambda x: Q_dict[x.gridnum][x.transformed_state], axis=1)\n"
     ]
    },
    {
     "name": "stdout",
     "output_type": "stream",
     "text": [
      "Iteration No: 146 ended. Search finished for the next optimal point.\n",
      "Time taken: 61.4010\n",
      "Function value obtained: 13096.3507\n",
      "Current minimum: 13014.7061\n",
      "Iteration No: 147 started. Searching for the next optimal point.\n"
     ]
    },
    {
     "name": "stderr",
     "output_type": "stream",
     "text": [
      "/var/folders/6y/gzz1g_p559n80dc3_f2fl6m80000gn/T/ipykernel_54320/3668836295.py:32: SettingWithCopyWarning: \n",
      "A value is trying to be set on a copy of a slice from a DataFrame.\n",
      "Try using .loc[row_indexer,col_indexer] = value instead\n",
      "\n",
      "See the caveats in the documentation: https://pandas.pydata.org/pandas-docs/stable/user_guide/indexing.html#returning-a-view-versus-a-copy\n",
      "  data[model + \"_Q\"] = data.apply(lambda x: Q_dict[x.gridnum][x.transformed_state], axis=1)\n"
     ]
    },
    {
     "name": "stdout",
     "output_type": "stream",
     "text": [
      "Iteration No: 147 ended. Search finished for the next optimal point.\n",
      "Time taken: 75.7338\n",
      "Function value obtained: 13060.4537\n",
      "Current minimum: 13014.7061\n",
      "Iteration No: 148 started. Searching for the next optimal point.\n"
     ]
    },
    {
     "name": "stderr",
     "output_type": "stream",
     "text": [
      "/var/folders/6y/gzz1g_p559n80dc3_f2fl6m80000gn/T/ipykernel_54320/3668836295.py:32: SettingWithCopyWarning: \n",
      "A value is trying to be set on a copy of a slice from a DataFrame.\n",
      "Try using .loc[row_indexer,col_indexer] = value instead\n",
      "\n",
      "See the caveats in the documentation: https://pandas.pydata.org/pandas-docs/stable/user_guide/indexing.html#returning-a-view-versus-a-copy\n",
      "  data[model + \"_Q\"] = data.apply(lambda x: Q_dict[x.gridnum][x.transformed_state], axis=1)\n"
     ]
    },
    {
     "name": "stdout",
     "output_type": "stream",
     "text": [
      "Iteration No: 148 ended. Search finished for the next optimal point.\n",
      "Time taken: 76.7865\n",
      "Function value obtained: 13115.4799\n",
      "Current minimum: 13014.7061\n",
      "Iteration No: 149 started. Searching for the next optimal point.\n"
     ]
    },
    {
     "name": "stderr",
     "output_type": "stream",
     "text": [
      "/var/folders/6y/gzz1g_p559n80dc3_f2fl6m80000gn/T/ipykernel_54320/3668836295.py:32: SettingWithCopyWarning: \n",
      "A value is trying to be set on a copy of a slice from a DataFrame.\n",
      "Try using .loc[row_indexer,col_indexer] = value instead\n",
      "\n",
      "See the caveats in the documentation: https://pandas.pydata.org/pandas-docs/stable/user_guide/indexing.html#returning-a-view-versus-a-copy\n",
      "  data[model + \"_Q\"] = data.apply(lambda x: Q_dict[x.gridnum][x.transformed_state], axis=1)\n"
     ]
    },
    {
     "name": "stdout",
     "output_type": "stream",
     "text": [
      "Iteration No: 149 ended. Search finished for the next optimal point.\n",
      "Time taken: 59.6979\n",
      "Function value obtained: 13087.8128\n",
      "Current minimum: 13014.7061\n",
      "Iteration No: 150 started. Searching for the next optimal point.\n"
     ]
    },
    {
     "name": "stderr",
     "output_type": "stream",
     "text": [
      "/var/folders/6y/gzz1g_p559n80dc3_f2fl6m80000gn/T/ipykernel_54320/3668836295.py:32: SettingWithCopyWarning: \n",
      "A value is trying to be set on a copy of a slice from a DataFrame.\n",
      "Try using .loc[row_indexer,col_indexer] = value instead\n",
      "\n",
      "See the caveats in the documentation: https://pandas.pydata.org/pandas-docs/stable/user_guide/indexing.html#returning-a-view-versus-a-copy\n",
      "  data[model + \"_Q\"] = data.apply(lambda x: Q_dict[x.gridnum][x.transformed_state], axis=1)\n"
     ]
    },
    {
     "name": "stdout",
     "output_type": "stream",
     "text": [
      "Iteration No: 150 ended. Search finished for the next optimal point.\n",
      "Time taken: 62.1179\n",
      "Function value obtained: 13131.7658\n",
      "Current minimum: 13014.7061\n",
      "Iteration No: 151 started. Searching for the next optimal point.\n"
     ]
    },
    {
     "name": "stderr",
     "output_type": "stream",
     "text": [
      "/var/folders/6y/gzz1g_p559n80dc3_f2fl6m80000gn/T/ipykernel_54320/3668836295.py:32: SettingWithCopyWarning: \n",
      "A value is trying to be set on a copy of a slice from a DataFrame.\n",
      "Try using .loc[row_indexer,col_indexer] = value instead\n",
      "\n",
      "See the caveats in the documentation: https://pandas.pydata.org/pandas-docs/stable/user_guide/indexing.html#returning-a-view-versus-a-copy\n",
      "  data[model + \"_Q\"] = data.apply(lambda x: Q_dict[x.gridnum][x.transformed_state], axis=1)\n"
     ]
    },
    {
     "name": "stdout",
     "output_type": "stream",
     "text": [
      "Iteration No: 151 ended. Search finished for the next optimal point.\n",
      "Time taken: 69.9899\n",
      "Function value obtained: 13097.3769\n",
      "Current minimum: 13014.7061\n",
      "Iteration No: 152 started. Searching for the next optimal point.\n"
     ]
    },
    {
     "name": "stderr",
     "output_type": "stream",
     "text": [
      "/var/folders/6y/gzz1g_p559n80dc3_f2fl6m80000gn/T/ipykernel_54320/3668836295.py:32: SettingWithCopyWarning: \n",
      "A value is trying to be set on a copy of a slice from a DataFrame.\n",
      "Try using .loc[row_indexer,col_indexer] = value instead\n",
      "\n",
      "See the caveats in the documentation: https://pandas.pydata.org/pandas-docs/stable/user_guide/indexing.html#returning-a-view-versus-a-copy\n",
      "  data[model + \"_Q\"] = data.apply(lambda x: Q_dict[x.gridnum][x.transformed_state], axis=1)\n"
     ]
    },
    {
     "name": "stdout",
     "output_type": "stream",
     "text": [
      "Iteration No: 152 ended. Search finished for the next optimal point.\n",
      "Time taken: 52.0758\n",
      "Function value obtained: 13091.9716\n",
      "Current minimum: 13014.7061\n",
      "Iteration No: 153 started. Searching for the next optimal point.\n"
     ]
    },
    {
     "name": "stderr",
     "output_type": "stream",
     "text": [
      "/var/folders/6y/gzz1g_p559n80dc3_f2fl6m80000gn/T/ipykernel_54320/3668836295.py:32: SettingWithCopyWarning: \n",
      "A value is trying to be set on a copy of a slice from a DataFrame.\n",
      "Try using .loc[row_indexer,col_indexer] = value instead\n",
      "\n",
      "See the caveats in the documentation: https://pandas.pydata.org/pandas-docs/stable/user_guide/indexing.html#returning-a-view-versus-a-copy\n",
      "  data[model + \"_Q\"] = data.apply(lambda x: Q_dict[x.gridnum][x.transformed_state], axis=1)\n"
     ]
    },
    {
     "name": "stdout",
     "output_type": "stream",
     "text": [
      "Iteration No: 153 ended. Search finished for the next optimal point.\n",
      "Time taken: 57.8342\n",
      "Function value obtained: 13079.5195\n",
      "Current minimum: 13014.7061\n",
      "Iteration No: 154 started. Searching for the next optimal point.\n"
     ]
    },
    {
     "name": "stderr",
     "output_type": "stream",
     "text": [
      "/var/folders/6y/gzz1g_p559n80dc3_f2fl6m80000gn/T/ipykernel_54320/3668836295.py:32: SettingWithCopyWarning: \n",
      "A value is trying to be set on a copy of a slice from a DataFrame.\n",
      "Try using .loc[row_indexer,col_indexer] = value instead\n",
      "\n",
      "See the caveats in the documentation: https://pandas.pydata.org/pandas-docs/stable/user_guide/indexing.html#returning-a-view-versus-a-copy\n",
      "  data[model + \"_Q\"] = data.apply(lambda x: Q_dict[x.gridnum][x.transformed_state], axis=1)\n"
     ]
    },
    {
     "name": "stdout",
     "output_type": "stream",
     "text": [
      "Iteration No: 154 ended. Search finished for the next optimal point.\n",
      "Time taken: 75.4773\n",
      "Function value obtained: 13098.2517\n",
      "Current minimum: 13014.7061\n",
      "Iteration No: 155 started. Searching for the next optimal point.\n"
     ]
    },
    {
     "name": "stderr",
     "output_type": "stream",
     "text": [
      "/var/folders/6y/gzz1g_p559n80dc3_f2fl6m80000gn/T/ipykernel_54320/3668836295.py:32: SettingWithCopyWarning: \n",
      "A value is trying to be set on a copy of a slice from a DataFrame.\n",
      "Try using .loc[row_indexer,col_indexer] = value instead\n",
      "\n",
      "See the caveats in the documentation: https://pandas.pydata.org/pandas-docs/stable/user_guide/indexing.html#returning-a-view-versus-a-copy\n",
      "  data[model + \"_Q\"] = data.apply(lambda x: Q_dict[x.gridnum][x.transformed_state], axis=1)\n"
     ]
    },
    {
     "name": "stdout",
     "output_type": "stream",
     "text": [
      "Iteration No: 155 ended. Search finished for the next optimal point.\n",
      "Time taken: 58.2309\n",
      "Function value obtained: 13078.8752\n",
      "Current minimum: 13014.7061\n",
      "Iteration No: 156 started. Searching for the next optimal point.\n"
     ]
    },
    {
     "name": "stderr",
     "output_type": "stream",
     "text": [
      "/var/folders/6y/gzz1g_p559n80dc3_f2fl6m80000gn/T/ipykernel_54320/3668836295.py:32: SettingWithCopyWarning: \n",
      "A value is trying to be set on a copy of a slice from a DataFrame.\n",
      "Try using .loc[row_indexer,col_indexer] = value instead\n",
      "\n",
      "See the caveats in the documentation: https://pandas.pydata.org/pandas-docs/stable/user_guide/indexing.html#returning-a-view-versus-a-copy\n",
      "  data[model + \"_Q\"] = data.apply(lambda x: Q_dict[x.gridnum][x.transformed_state], axis=1)\n"
     ]
    },
    {
     "name": "stdout",
     "output_type": "stream",
     "text": [
      "Iteration No: 156 ended. Search finished for the next optimal point.\n",
      "Time taken: 68.9613\n",
      "Function value obtained: 13089.6702\n",
      "Current minimum: 13014.7061\n",
      "Iteration No: 157 started. Searching for the next optimal point.\n"
     ]
    },
    {
     "name": "stderr",
     "output_type": "stream",
     "text": [
      "/var/folders/6y/gzz1g_p559n80dc3_f2fl6m80000gn/T/ipykernel_54320/3668836295.py:32: SettingWithCopyWarning: \n",
      "A value is trying to be set on a copy of a slice from a DataFrame.\n",
      "Try using .loc[row_indexer,col_indexer] = value instead\n",
      "\n",
      "See the caveats in the documentation: https://pandas.pydata.org/pandas-docs/stable/user_guide/indexing.html#returning-a-view-versus-a-copy\n",
      "  data[model + \"_Q\"] = data.apply(lambda x: Q_dict[x.gridnum][x.transformed_state], axis=1)\n"
     ]
    },
    {
     "name": "stdout",
     "output_type": "stream",
     "text": [
      "Iteration No: 157 ended. Search finished for the next optimal point.\n",
      "Time taken: 54.3956\n",
      "Function value obtained: 13084.0737\n",
      "Current minimum: 13014.7061\n",
      "Iteration No: 158 started. Searching for the next optimal point.\n"
     ]
    },
    {
     "name": "stderr",
     "output_type": "stream",
     "text": [
      "/var/folders/6y/gzz1g_p559n80dc3_f2fl6m80000gn/T/ipykernel_54320/3668836295.py:32: SettingWithCopyWarning: \n",
      "A value is trying to be set on a copy of a slice from a DataFrame.\n",
      "Try using .loc[row_indexer,col_indexer] = value instead\n",
      "\n",
      "See the caveats in the documentation: https://pandas.pydata.org/pandas-docs/stable/user_guide/indexing.html#returning-a-view-versus-a-copy\n",
      "  data[model + \"_Q\"] = data.apply(lambda x: Q_dict[x.gridnum][x.transformed_state], axis=1)\n"
     ]
    },
    {
     "name": "stdout",
     "output_type": "stream",
     "text": [
      "Iteration No: 158 ended. Search finished for the next optimal point.\n",
      "Time taken: 76.6617\n",
      "Function value obtained: 13078.2396\n",
      "Current minimum: 13014.7061\n",
      "Iteration No: 159 started. Searching for the next optimal point.\n"
     ]
    },
    {
     "name": "stderr",
     "output_type": "stream",
     "text": [
      "/var/folders/6y/gzz1g_p559n80dc3_f2fl6m80000gn/T/ipykernel_54320/3668836295.py:32: SettingWithCopyWarning: \n",
      "A value is trying to be set on a copy of a slice from a DataFrame.\n",
      "Try using .loc[row_indexer,col_indexer] = value instead\n",
      "\n",
      "See the caveats in the documentation: https://pandas.pydata.org/pandas-docs/stable/user_guide/indexing.html#returning-a-view-versus-a-copy\n",
      "  data[model + \"_Q\"] = data.apply(lambda x: Q_dict[x.gridnum][x.transformed_state], axis=1)\n"
     ]
    },
    {
     "name": "stdout",
     "output_type": "stream",
     "text": [
      "Iteration No: 159 ended. Search finished for the next optimal point.\n",
      "Time taken: 80.1272\n",
      "Function value obtained: 13109.1416\n",
      "Current minimum: 13014.7061\n",
      "Iteration No: 160 started. Searching for the next optimal point.\n"
     ]
    },
    {
     "name": "stderr",
     "output_type": "stream",
     "text": [
      "/var/folders/6y/gzz1g_p559n80dc3_f2fl6m80000gn/T/ipykernel_54320/3668836295.py:32: SettingWithCopyWarning: \n",
      "A value is trying to be set on a copy of a slice from a DataFrame.\n",
      "Try using .loc[row_indexer,col_indexer] = value instead\n",
      "\n",
      "See the caveats in the documentation: https://pandas.pydata.org/pandas-docs/stable/user_guide/indexing.html#returning-a-view-versus-a-copy\n",
      "  data[model + \"_Q\"] = data.apply(lambda x: Q_dict[x.gridnum][x.transformed_state], axis=1)\n"
     ]
    },
    {
     "name": "stdout",
     "output_type": "stream",
     "text": [
      "Iteration No: 160 ended. Search finished for the next optimal point.\n",
      "Time taken: 60.6439\n",
      "Function value obtained: 13108.5578\n",
      "Current minimum: 13014.7061\n",
      "Iteration No: 161 started. Searching for the next optimal point.\n"
     ]
    },
    {
     "name": "stderr",
     "output_type": "stream",
     "text": [
      "/var/folders/6y/gzz1g_p559n80dc3_f2fl6m80000gn/T/ipykernel_54320/3668836295.py:32: SettingWithCopyWarning: \n",
      "A value is trying to be set on a copy of a slice from a DataFrame.\n",
      "Try using .loc[row_indexer,col_indexer] = value instead\n",
      "\n",
      "See the caveats in the documentation: https://pandas.pydata.org/pandas-docs/stable/user_guide/indexing.html#returning-a-view-versus-a-copy\n",
      "  data[model + \"_Q\"] = data.apply(lambda x: Q_dict[x.gridnum][x.transformed_state], axis=1)\n"
     ]
    },
    {
     "name": "stdout",
     "output_type": "stream",
     "text": [
      "Iteration No: 161 ended. Search finished for the next optimal point.\n",
      "Time taken: 73.6652\n",
      "Function value obtained: 13113.2285\n",
      "Current minimum: 13014.7061\n",
      "Iteration No: 162 started. Searching for the next optimal point.\n"
     ]
    },
    {
     "name": "stderr",
     "output_type": "stream",
     "text": [
      "/var/folders/6y/gzz1g_p559n80dc3_f2fl6m80000gn/T/ipykernel_54320/3668836295.py:32: SettingWithCopyWarning: \n",
      "A value is trying to be set on a copy of a slice from a DataFrame.\n",
      "Try using .loc[row_indexer,col_indexer] = value instead\n",
      "\n",
      "See the caveats in the documentation: https://pandas.pydata.org/pandas-docs/stable/user_guide/indexing.html#returning-a-view-versus-a-copy\n",
      "  data[model + \"_Q\"] = data.apply(lambda x: Q_dict[x.gridnum][x.transformed_state], axis=1)\n"
     ]
    },
    {
     "name": "stdout",
     "output_type": "stream",
     "text": [
      "Iteration No: 162 ended. Search finished for the next optimal point.\n",
      "Time taken: 57.0447\n",
      "Function value obtained: 13077.9173\n",
      "Current minimum: 13014.7061\n",
      "Iteration No: 163 started. Searching for the next optimal point.\n"
     ]
    },
    {
     "name": "stderr",
     "output_type": "stream",
     "text": [
      "/var/folders/6y/gzz1g_p559n80dc3_f2fl6m80000gn/T/ipykernel_54320/3668836295.py:32: SettingWithCopyWarning: \n",
      "A value is trying to be set on a copy of a slice from a DataFrame.\n",
      "Try using .loc[row_indexer,col_indexer] = value instead\n",
      "\n",
      "See the caveats in the documentation: https://pandas.pydata.org/pandas-docs/stable/user_guide/indexing.html#returning-a-view-versus-a-copy\n",
      "  data[model + \"_Q\"] = data.apply(lambda x: Q_dict[x.gridnum][x.transformed_state], axis=1)\n"
     ]
    },
    {
     "name": "stdout",
     "output_type": "stream",
     "text": [
      "Iteration No: 163 ended. Search finished for the next optimal point.\n",
      "Time taken: 52.5285\n",
      "Function value obtained: 13147.0563\n",
      "Current minimum: 13014.7061\n",
      "Iteration No: 164 started. Searching for the next optimal point.\n"
     ]
    },
    {
     "name": "stderr",
     "output_type": "stream",
     "text": [
      "/var/folders/6y/gzz1g_p559n80dc3_f2fl6m80000gn/T/ipykernel_54320/3668836295.py:32: SettingWithCopyWarning: \n",
      "A value is trying to be set on a copy of a slice from a DataFrame.\n",
      "Try using .loc[row_indexer,col_indexer] = value instead\n",
      "\n",
      "See the caveats in the documentation: https://pandas.pydata.org/pandas-docs/stable/user_guide/indexing.html#returning-a-view-versus-a-copy\n",
      "  data[model + \"_Q\"] = data.apply(lambda x: Q_dict[x.gridnum][x.transformed_state], axis=1)\n"
     ]
    },
    {
     "name": "stdout",
     "output_type": "stream",
     "text": [
      "Iteration No: 164 ended. Search finished for the next optimal point.\n",
      "Time taken: 77.7563\n",
      "Function value obtained: 13087.5530\n",
      "Current minimum: 13014.7061\n",
      "Iteration No: 165 started. Searching for the next optimal point.\n"
     ]
    },
    {
     "name": "stderr",
     "output_type": "stream",
     "text": [
      "/var/folders/6y/gzz1g_p559n80dc3_f2fl6m80000gn/T/ipykernel_54320/3668836295.py:32: SettingWithCopyWarning: \n",
      "A value is trying to be set on a copy of a slice from a DataFrame.\n",
      "Try using .loc[row_indexer,col_indexer] = value instead\n",
      "\n",
      "See the caveats in the documentation: https://pandas.pydata.org/pandas-docs/stable/user_guide/indexing.html#returning-a-view-versus-a-copy\n",
      "  data[model + \"_Q\"] = data.apply(lambda x: Q_dict[x.gridnum][x.transformed_state], axis=1)\n"
     ]
    },
    {
     "name": "stdout",
     "output_type": "stream",
     "text": [
      "Iteration No: 165 ended. Search finished for the next optimal point.\n",
      "Time taken: 69.5530\n",
      "Function value obtained: 13107.4346\n",
      "Current minimum: 13014.7061\n",
      "Iteration No: 166 started. Searching for the next optimal point.\n"
     ]
    },
    {
     "name": "stderr",
     "output_type": "stream",
     "text": [
      "/var/folders/6y/gzz1g_p559n80dc3_f2fl6m80000gn/T/ipykernel_54320/3668836295.py:32: SettingWithCopyWarning: \n",
      "A value is trying to be set on a copy of a slice from a DataFrame.\n",
      "Try using .loc[row_indexer,col_indexer] = value instead\n",
      "\n",
      "See the caveats in the documentation: https://pandas.pydata.org/pandas-docs/stable/user_guide/indexing.html#returning-a-view-versus-a-copy\n",
      "  data[model + \"_Q\"] = data.apply(lambda x: Q_dict[x.gridnum][x.transformed_state], axis=1)\n"
     ]
    },
    {
     "name": "stdout",
     "output_type": "stream",
     "text": [
      "Iteration No: 166 ended. Search finished for the next optimal point.\n",
      "Time taken: 80.6246\n",
      "Function value obtained: 13087.7452\n",
      "Current minimum: 13014.7061\n",
      "Iteration No: 167 started. Searching for the next optimal point.\n"
     ]
    },
    {
     "name": "stderr",
     "output_type": "stream",
     "text": [
      "/var/folders/6y/gzz1g_p559n80dc3_f2fl6m80000gn/T/ipykernel_54320/3668836295.py:32: SettingWithCopyWarning: \n",
      "A value is trying to be set on a copy of a slice from a DataFrame.\n",
      "Try using .loc[row_indexer,col_indexer] = value instead\n",
      "\n",
      "See the caveats in the documentation: https://pandas.pydata.org/pandas-docs/stable/user_guide/indexing.html#returning-a-view-versus-a-copy\n",
      "  data[model + \"_Q\"] = data.apply(lambda x: Q_dict[x.gridnum][x.transformed_state], axis=1)\n"
     ]
    },
    {
     "name": "stdout",
     "output_type": "stream",
     "text": [
      "Iteration No: 167 ended. Search finished for the next optimal point.\n",
      "Time taken: 63.7090\n",
      "Function value obtained: 13083.7943\n",
      "Current minimum: 13014.7061\n",
      "Iteration No: 168 started. Searching for the next optimal point.\n"
     ]
    },
    {
     "name": "stderr",
     "output_type": "stream",
     "text": [
      "/var/folders/6y/gzz1g_p559n80dc3_f2fl6m80000gn/T/ipykernel_54320/3668836295.py:32: SettingWithCopyWarning: \n",
      "A value is trying to be set on a copy of a slice from a DataFrame.\n",
      "Try using .loc[row_indexer,col_indexer] = value instead\n",
      "\n",
      "See the caveats in the documentation: https://pandas.pydata.org/pandas-docs/stable/user_guide/indexing.html#returning-a-view-versus-a-copy\n",
      "  data[model + \"_Q\"] = data.apply(lambda x: Q_dict[x.gridnum][x.transformed_state], axis=1)\n"
     ]
    },
    {
     "name": "stdout",
     "output_type": "stream",
     "text": [
      "Iteration No: 168 ended. Search finished for the next optimal point.\n",
      "Time taken: 57.8734\n",
      "Function value obtained: 13120.4148\n",
      "Current minimum: 13014.7061\n",
      "Iteration No: 169 started. Searching for the next optimal point.\n"
     ]
    },
    {
     "name": "stderr",
     "output_type": "stream",
     "text": [
      "/var/folders/6y/gzz1g_p559n80dc3_f2fl6m80000gn/T/ipykernel_54320/3668836295.py:32: SettingWithCopyWarning: \n",
      "A value is trying to be set on a copy of a slice from a DataFrame.\n",
      "Try using .loc[row_indexer,col_indexer] = value instead\n",
      "\n",
      "See the caveats in the documentation: https://pandas.pydata.org/pandas-docs/stable/user_guide/indexing.html#returning-a-view-versus-a-copy\n",
      "  data[model + \"_Q\"] = data.apply(lambda x: Q_dict[x.gridnum][x.transformed_state], axis=1)\n"
     ]
    },
    {
     "name": "stdout",
     "output_type": "stream",
     "text": [
      "Iteration No: 169 ended. Search finished for the next optimal point.\n",
      "Time taken: 77.9107\n",
      "Function value obtained: 13146.1199\n",
      "Current minimum: 13014.7061\n",
      "Iteration No: 170 started. Searching for the next optimal point.\n"
     ]
    },
    {
     "name": "stderr",
     "output_type": "stream",
     "text": [
      "/var/folders/6y/gzz1g_p559n80dc3_f2fl6m80000gn/T/ipykernel_54320/3668836295.py:32: SettingWithCopyWarning: \n",
      "A value is trying to be set on a copy of a slice from a DataFrame.\n",
      "Try using .loc[row_indexer,col_indexer] = value instead\n",
      "\n",
      "See the caveats in the documentation: https://pandas.pydata.org/pandas-docs/stable/user_guide/indexing.html#returning-a-view-versus-a-copy\n",
      "  data[model + \"_Q\"] = data.apply(lambda x: Q_dict[x.gridnum][x.transformed_state], axis=1)\n"
     ]
    },
    {
     "name": "stdout",
     "output_type": "stream",
     "text": [
      "Iteration No: 170 ended. Search finished for the next optimal point.\n",
      "Time taken: 63.2319\n",
      "Function value obtained: 13133.0027\n",
      "Current minimum: 13014.7061\n",
      "Iteration No: 171 started. Searching for the next optimal point.\n"
     ]
    },
    {
     "name": "stderr",
     "output_type": "stream",
     "text": [
      "/var/folders/6y/gzz1g_p559n80dc3_f2fl6m80000gn/T/ipykernel_54320/3668836295.py:32: SettingWithCopyWarning: \n",
      "A value is trying to be set on a copy of a slice from a DataFrame.\n",
      "Try using .loc[row_indexer,col_indexer] = value instead\n",
      "\n",
      "See the caveats in the documentation: https://pandas.pydata.org/pandas-docs/stable/user_guide/indexing.html#returning-a-view-versus-a-copy\n",
      "  data[model + \"_Q\"] = data.apply(lambda x: Q_dict[x.gridnum][x.transformed_state], axis=1)\n"
     ]
    },
    {
     "name": "stdout",
     "output_type": "stream",
     "text": [
      "Iteration No: 171 ended. Search finished for the next optimal point.\n",
      "Time taken: 70.2762\n",
      "Function value obtained: 13097.4907\n",
      "Current minimum: 13014.7061\n",
      "Iteration No: 172 started. Searching for the next optimal point.\n"
     ]
    },
    {
     "name": "stderr",
     "output_type": "stream",
     "text": [
      "/var/folders/6y/gzz1g_p559n80dc3_f2fl6m80000gn/T/ipykernel_54320/3668836295.py:32: SettingWithCopyWarning: \n",
      "A value is trying to be set on a copy of a slice from a DataFrame.\n",
      "Try using .loc[row_indexer,col_indexer] = value instead\n",
      "\n",
      "See the caveats in the documentation: https://pandas.pydata.org/pandas-docs/stable/user_guide/indexing.html#returning-a-view-versus-a-copy\n",
      "  data[model + \"_Q\"] = data.apply(lambda x: Q_dict[x.gridnum][x.transformed_state], axis=1)\n"
     ]
    },
    {
     "name": "stdout",
     "output_type": "stream",
     "text": [
      "Iteration No: 172 ended. Search finished for the next optimal point.\n",
      "Time taken: 20.0258\n",
      "Function value obtained: 13225.4634\n",
      "Current minimum: 13014.7061\n",
      "Iteration No: 173 started. Searching for the next optimal point.\n"
     ]
    },
    {
     "name": "stderr",
     "output_type": "stream",
     "text": [
      "/var/folders/6y/gzz1g_p559n80dc3_f2fl6m80000gn/T/ipykernel_54320/3668836295.py:32: SettingWithCopyWarning: \n",
      "A value is trying to be set on a copy of a slice from a DataFrame.\n",
      "Try using .loc[row_indexer,col_indexer] = value instead\n",
      "\n",
      "See the caveats in the documentation: https://pandas.pydata.org/pandas-docs/stable/user_guide/indexing.html#returning-a-view-versus-a-copy\n",
      "  data[model + \"_Q\"] = data.apply(lambda x: Q_dict[x.gridnum][x.transformed_state], axis=1)\n"
     ]
    },
    {
     "name": "stdout",
     "output_type": "stream",
     "text": [
      "Iteration No: 173 ended. Search finished for the next optimal point.\n",
      "Time taken: 51.3735\n",
      "Function value obtained: 13088.3029\n",
      "Current minimum: 13014.7061\n",
      "Iteration No: 174 started. Searching for the next optimal point.\n"
     ]
    },
    {
     "name": "stderr",
     "output_type": "stream",
     "text": [
      "/var/folders/6y/gzz1g_p559n80dc3_f2fl6m80000gn/T/ipykernel_54320/3668836295.py:32: SettingWithCopyWarning: \n",
      "A value is trying to be set on a copy of a slice from a DataFrame.\n",
      "Try using .loc[row_indexer,col_indexer] = value instead\n",
      "\n",
      "See the caveats in the documentation: https://pandas.pydata.org/pandas-docs/stable/user_guide/indexing.html#returning-a-view-versus-a-copy\n",
      "  data[model + \"_Q\"] = data.apply(lambda x: Q_dict[x.gridnum][x.transformed_state], axis=1)\n"
     ]
    },
    {
     "name": "stdout",
     "output_type": "stream",
     "text": [
      "Iteration No: 174 ended. Search finished for the next optimal point.\n",
      "Time taken: 74.0319\n",
      "Function value obtained: 13069.7428\n",
      "Current minimum: 13014.7061\n",
      "Iteration No: 175 started. Searching for the next optimal point.\n"
     ]
    },
    {
     "name": "stderr",
     "output_type": "stream",
     "text": [
      "/var/folders/6y/gzz1g_p559n80dc3_f2fl6m80000gn/T/ipykernel_54320/3668836295.py:32: SettingWithCopyWarning: \n",
      "A value is trying to be set on a copy of a slice from a DataFrame.\n",
      "Try using .loc[row_indexer,col_indexer] = value instead\n",
      "\n",
      "See the caveats in the documentation: https://pandas.pydata.org/pandas-docs/stable/user_guide/indexing.html#returning-a-view-versus-a-copy\n",
      "  data[model + \"_Q\"] = data.apply(lambda x: Q_dict[x.gridnum][x.transformed_state], axis=1)\n"
     ]
    },
    {
     "name": "stdout",
     "output_type": "stream",
     "text": [
      "Iteration No: 175 ended. Search finished for the next optimal point.\n",
      "Time taken: 74.7486\n",
      "Function value obtained: 13100.9755\n",
      "Current minimum: 13014.7061\n",
      "Iteration No: 176 started. Searching for the next optimal point.\n"
     ]
    },
    {
     "name": "stderr",
     "output_type": "stream",
     "text": [
      "/var/folders/6y/gzz1g_p559n80dc3_f2fl6m80000gn/T/ipykernel_54320/3668836295.py:32: SettingWithCopyWarning: \n",
      "A value is trying to be set on a copy of a slice from a DataFrame.\n",
      "Try using .loc[row_indexer,col_indexer] = value instead\n",
      "\n",
      "See the caveats in the documentation: https://pandas.pydata.org/pandas-docs/stable/user_guide/indexing.html#returning-a-view-versus-a-copy\n",
      "  data[model + \"_Q\"] = data.apply(lambda x: Q_dict[x.gridnum][x.transformed_state], axis=1)\n"
     ]
    },
    {
     "name": "stdout",
     "output_type": "stream",
     "text": [
      "Iteration No: 176 ended. Search finished for the next optimal point.\n",
      "Time taken: 80.4319\n",
      "Function value obtained: 13100.5608\n",
      "Current minimum: 13014.7061\n",
      "Iteration No: 177 started. Searching for the next optimal point.\n"
     ]
    },
    {
     "name": "stderr",
     "output_type": "stream",
     "text": [
      "/var/folders/6y/gzz1g_p559n80dc3_f2fl6m80000gn/T/ipykernel_54320/3668836295.py:32: SettingWithCopyWarning: \n",
      "A value is trying to be set on a copy of a slice from a DataFrame.\n",
      "Try using .loc[row_indexer,col_indexer] = value instead\n",
      "\n",
      "See the caveats in the documentation: https://pandas.pydata.org/pandas-docs/stable/user_guide/indexing.html#returning-a-view-versus-a-copy\n",
      "  data[model + \"_Q\"] = data.apply(lambda x: Q_dict[x.gridnum][x.transformed_state], axis=1)\n"
     ]
    },
    {
     "name": "stdout",
     "output_type": "stream",
     "text": [
      "Iteration No: 177 ended. Search finished for the next optimal point.\n",
      "Time taken: 59.9413\n",
      "Function value obtained: 13093.1021\n",
      "Current minimum: 13014.7061\n",
      "Iteration No: 178 started. Searching for the next optimal point.\n"
     ]
    },
    {
     "name": "stderr",
     "output_type": "stream",
     "text": [
      "/var/folders/6y/gzz1g_p559n80dc3_f2fl6m80000gn/T/ipykernel_54320/3668836295.py:32: SettingWithCopyWarning: \n",
      "A value is trying to be set on a copy of a slice from a DataFrame.\n",
      "Try using .loc[row_indexer,col_indexer] = value instead\n",
      "\n",
      "See the caveats in the documentation: https://pandas.pydata.org/pandas-docs/stable/user_guide/indexing.html#returning-a-view-versus-a-copy\n",
      "  data[model + \"_Q\"] = data.apply(lambda x: Q_dict[x.gridnum][x.transformed_state], axis=1)\n"
     ]
    },
    {
     "name": "stdout",
     "output_type": "stream",
     "text": [
      "Iteration No: 178 ended. Search finished for the next optimal point.\n",
      "Time taken: 70.4323\n",
      "Function value obtained: 13109.6146\n",
      "Current minimum: 13014.7061\n",
      "Iteration No: 179 started. Searching for the next optimal point.\n"
     ]
    },
    {
     "name": "stderr",
     "output_type": "stream",
     "text": [
      "/var/folders/6y/gzz1g_p559n80dc3_f2fl6m80000gn/T/ipykernel_54320/3668836295.py:32: SettingWithCopyWarning: \n",
      "A value is trying to be set on a copy of a slice from a DataFrame.\n",
      "Try using .loc[row_indexer,col_indexer] = value instead\n",
      "\n",
      "See the caveats in the documentation: https://pandas.pydata.org/pandas-docs/stable/user_guide/indexing.html#returning-a-view-versus-a-copy\n",
      "  data[model + \"_Q\"] = data.apply(lambda x: Q_dict[x.gridnum][x.transformed_state], axis=1)\n"
     ]
    },
    {
     "name": "stdout",
     "output_type": "stream",
     "text": [
      "Iteration No: 179 ended. Search finished for the next optimal point.\n",
      "Time taken: 65.5376\n",
      "Function value obtained: 13114.8674\n",
      "Current minimum: 13014.7061\n",
      "Iteration No: 180 started. Searching for the next optimal point.\n"
     ]
    },
    {
     "name": "stderr",
     "output_type": "stream",
     "text": [
      "/var/folders/6y/gzz1g_p559n80dc3_f2fl6m80000gn/T/ipykernel_54320/3668836295.py:32: SettingWithCopyWarning: \n",
      "A value is trying to be set on a copy of a slice from a DataFrame.\n",
      "Try using .loc[row_indexer,col_indexer] = value instead\n",
      "\n",
      "See the caveats in the documentation: https://pandas.pydata.org/pandas-docs/stable/user_guide/indexing.html#returning-a-view-versus-a-copy\n",
      "  data[model + \"_Q\"] = data.apply(lambda x: Q_dict[x.gridnum][x.transformed_state], axis=1)\n"
     ]
    },
    {
     "name": "stdout",
     "output_type": "stream",
     "text": [
      "Iteration No: 180 ended. Search finished for the next optimal point.\n",
      "Time taken: 51.8623\n",
      "Function value obtained: 13096.5824\n",
      "Current minimum: 13014.7061\n",
      "Iteration No: 181 started. Searching for the next optimal point.\n"
     ]
    },
    {
     "name": "stderr",
     "output_type": "stream",
     "text": [
      "/var/folders/6y/gzz1g_p559n80dc3_f2fl6m80000gn/T/ipykernel_54320/3668836295.py:32: SettingWithCopyWarning: \n",
      "A value is trying to be set on a copy of a slice from a DataFrame.\n",
      "Try using .loc[row_indexer,col_indexer] = value instead\n",
      "\n",
      "See the caveats in the documentation: https://pandas.pydata.org/pandas-docs/stable/user_guide/indexing.html#returning-a-view-versus-a-copy\n",
      "  data[model + \"_Q\"] = data.apply(lambda x: Q_dict[x.gridnum][x.transformed_state], axis=1)\n"
     ]
    },
    {
     "name": "stdout",
     "output_type": "stream",
     "text": [
      "Iteration No: 181 ended. Search finished for the next optimal point.\n",
      "Time taken: 80.3723\n",
      "Function value obtained: 13077.4254\n",
      "Current minimum: 13014.7061\n",
      "Iteration No: 182 started. Searching for the next optimal point.\n"
     ]
    },
    {
     "name": "stderr",
     "output_type": "stream",
     "text": [
      "/var/folders/6y/gzz1g_p559n80dc3_f2fl6m80000gn/T/ipykernel_54320/3668836295.py:32: SettingWithCopyWarning: \n",
      "A value is trying to be set on a copy of a slice from a DataFrame.\n",
      "Try using .loc[row_indexer,col_indexer] = value instead\n",
      "\n",
      "See the caveats in the documentation: https://pandas.pydata.org/pandas-docs/stable/user_guide/indexing.html#returning-a-view-versus-a-copy\n",
      "  data[model + \"_Q\"] = data.apply(lambda x: Q_dict[x.gridnum][x.transformed_state], axis=1)\n"
     ]
    },
    {
     "name": "stdout",
     "output_type": "stream",
     "text": [
      "Iteration No: 182 ended. Search finished for the next optimal point.\n",
      "Time taken: 77.7140\n",
      "Function value obtained: 13073.5513\n",
      "Current minimum: 13014.7061\n",
      "Iteration No: 183 started. Searching for the next optimal point.\n"
     ]
    },
    {
     "name": "stderr",
     "output_type": "stream",
     "text": [
      "/var/folders/6y/gzz1g_p559n80dc3_f2fl6m80000gn/T/ipykernel_54320/3668836295.py:32: SettingWithCopyWarning: \n",
      "A value is trying to be set on a copy of a slice from a DataFrame.\n",
      "Try using .loc[row_indexer,col_indexer] = value instead\n",
      "\n",
      "See the caveats in the documentation: https://pandas.pydata.org/pandas-docs/stable/user_guide/indexing.html#returning-a-view-versus-a-copy\n",
      "  data[model + \"_Q\"] = data.apply(lambda x: Q_dict[x.gridnum][x.transformed_state], axis=1)\n"
     ]
    },
    {
     "name": "stdout",
     "output_type": "stream",
     "text": [
      "Iteration No: 183 ended. Search finished for the next optimal point.\n",
      "Time taken: 79.9607\n",
      "Function value obtained: 13080.7743\n",
      "Current minimum: 13014.7061\n",
      "Iteration No: 184 started. Searching for the next optimal point.\n"
     ]
    },
    {
     "name": "stderr",
     "output_type": "stream",
     "text": [
      "/var/folders/6y/gzz1g_p559n80dc3_f2fl6m80000gn/T/ipykernel_54320/3668836295.py:32: SettingWithCopyWarning: \n",
      "A value is trying to be set on a copy of a slice from a DataFrame.\n",
      "Try using .loc[row_indexer,col_indexer] = value instead\n",
      "\n",
      "See the caveats in the documentation: https://pandas.pydata.org/pandas-docs/stable/user_guide/indexing.html#returning-a-view-versus-a-copy\n",
      "  data[model + \"_Q\"] = data.apply(lambda x: Q_dict[x.gridnum][x.transformed_state], axis=1)\n"
     ]
    },
    {
     "name": "stdout",
     "output_type": "stream",
     "text": [
      "Iteration No: 184 ended. Search finished for the next optimal point.\n",
      "Time taken: 76.0077\n",
      "Function value obtained: 13071.9783\n",
      "Current minimum: 13014.7061\n",
      "Iteration No: 185 started. Searching for the next optimal point.\n"
     ]
    },
    {
     "name": "stderr",
     "output_type": "stream",
     "text": [
      "/var/folders/6y/gzz1g_p559n80dc3_f2fl6m80000gn/T/ipykernel_54320/3668836295.py:32: SettingWithCopyWarning: \n",
      "A value is trying to be set on a copy of a slice from a DataFrame.\n",
      "Try using .loc[row_indexer,col_indexer] = value instead\n",
      "\n",
      "See the caveats in the documentation: https://pandas.pydata.org/pandas-docs/stable/user_guide/indexing.html#returning-a-view-versus-a-copy\n",
      "  data[model + \"_Q\"] = data.apply(lambda x: Q_dict[x.gridnum][x.transformed_state], axis=1)\n"
     ]
    },
    {
     "name": "stdout",
     "output_type": "stream",
     "text": [
      "Iteration No: 185 ended. Search finished for the next optimal point.\n",
      "Time taken: 61.8614\n",
      "Function value obtained: 13144.2838\n",
      "Current minimum: 13014.7061\n",
      "Iteration No: 186 started. Searching for the next optimal point.\n"
     ]
    },
    {
     "name": "stderr",
     "output_type": "stream",
     "text": [
      "/var/folders/6y/gzz1g_p559n80dc3_f2fl6m80000gn/T/ipykernel_54320/3668836295.py:32: SettingWithCopyWarning: \n",
      "A value is trying to be set on a copy of a slice from a DataFrame.\n",
      "Try using .loc[row_indexer,col_indexer] = value instead\n",
      "\n",
      "See the caveats in the documentation: https://pandas.pydata.org/pandas-docs/stable/user_guide/indexing.html#returning-a-view-versus-a-copy\n",
      "  data[model + \"_Q\"] = data.apply(lambda x: Q_dict[x.gridnum][x.transformed_state], axis=1)\n"
     ]
    },
    {
     "name": "stdout",
     "output_type": "stream",
     "text": [
      "Iteration No: 186 ended. Search finished for the next optimal point.\n",
      "Time taken: 85.1392\n",
      "Function value obtained: 13098.3182\n",
      "Current minimum: 13014.7061\n",
      "Iteration No: 187 started. Searching for the next optimal point.\n"
     ]
    },
    {
     "name": "stderr",
     "output_type": "stream",
     "text": [
      "/var/folders/6y/gzz1g_p559n80dc3_f2fl6m80000gn/T/ipykernel_54320/3668836295.py:32: SettingWithCopyWarning: \n",
      "A value is trying to be set on a copy of a slice from a DataFrame.\n",
      "Try using .loc[row_indexer,col_indexer] = value instead\n",
      "\n",
      "See the caveats in the documentation: https://pandas.pydata.org/pandas-docs/stable/user_guide/indexing.html#returning-a-view-versus-a-copy\n",
      "  data[model + \"_Q\"] = data.apply(lambda x: Q_dict[x.gridnum][x.transformed_state], axis=1)\n"
     ]
    },
    {
     "name": "stdout",
     "output_type": "stream",
     "text": [
      "Iteration No: 187 ended. Search finished for the next optimal point.\n",
      "Time taken: 78.1607\n",
      "Function value obtained: 13105.7699\n",
      "Current minimum: 13014.7061\n",
      "Iteration No: 188 started. Searching for the next optimal point.\n"
     ]
    },
    {
     "name": "stderr",
     "output_type": "stream",
     "text": [
      "/var/folders/6y/gzz1g_p559n80dc3_f2fl6m80000gn/T/ipykernel_54320/3668836295.py:32: SettingWithCopyWarning: \n",
      "A value is trying to be set on a copy of a slice from a DataFrame.\n",
      "Try using .loc[row_indexer,col_indexer] = value instead\n",
      "\n",
      "See the caveats in the documentation: https://pandas.pydata.org/pandas-docs/stable/user_guide/indexing.html#returning-a-view-versus-a-copy\n",
      "  data[model + \"_Q\"] = data.apply(lambda x: Q_dict[x.gridnum][x.transformed_state], axis=1)\n"
     ]
    },
    {
     "name": "stdout",
     "output_type": "stream",
     "text": [
      "Iteration No: 188 ended. Search finished for the next optimal point.\n",
      "Time taken: 51.8312\n",
      "Function value obtained: 13106.6700\n",
      "Current minimum: 13014.7061\n",
      "Iteration No: 189 started. Searching for the next optimal point.\n"
     ]
    },
    {
     "name": "stderr",
     "output_type": "stream",
     "text": [
      "/var/folders/6y/gzz1g_p559n80dc3_f2fl6m80000gn/T/ipykernel_54320/3668836295.py:32: SettingWithCopyWarning: \n",
      "A value is trying to be set on a copy of a slice from a DataFrame.\n",
      "Try using .loc[row_indexer,col_indexer] = value instead\n",
      "\n",
      "See the caveats in the documentation: https://pandas.pydata.org/pandas-docs/stable/user_guide/indexing.html#returning-a-view-versus-a-copy\n",
      "  data[model + \"_Q\"] = data.apply(lambda x: Q_dict[x.gridnum][x.transformed_state], axis=1)\n"
     ]
    },
    {
     "name": "stdout",
     "output_type": "stream",
     "text": [
      "Iteration No: 189 ended. Search finished for the next optimal point.\n",
      "Time taken: 73.4148\n",
      "Function value obtained: 13105.3293\n",
      "Current minimum: 13014.7061\n",
      "Iteration No: 190 started. Searching for the next optimal point.\n"
     ]
    },
    {
     "name": "stderr",
     "output_type": "stream",
     "text": [
      "/var/folders/6y/gzz1g_p559n80dc3_f2fl6m80000gn/T/ipykernel_54320/3668836295.py:32: SettingWithCopyWarning: \n",
      "A value is trying to be set on a copy of a slice from a DataFrame.\n",
      "Try using .loc[row_indexer,col_indexer] = value instead\n",
      "\n",
      "See the caveats in the documentation: https://pandas.pydata.org/pandas-docs/stable/user_guide/indexing.html#returning-a-view-versus-a-copy\n",
      "  data[model + \"_Q\"] = data.apply(lambda x: Q_dict[x.gridnum][x.transformed_state], axis=1)\n"
     ]
    },
    {
     "name": "stdout",
     "output_type": "stream",
     "text": [
      "Iteration No: 190 ended. Search finished for the next optimal point.\n",
      "Time taken: 69.9465\n",
      "Function value obtained: 13077.2442\n",
      "Current minimum: 13014.7061\n",
      "Iteration No: 191 started. Searching for the next optimal point.\n"
     ]
    },
    {
     "name": "stderr",
     "output_type": "stream",
     "text": [
      "/var/folders/6y/gzz1g_p559n80dc3_f2fl6m80000gn/T/ipykernel_54320/3668836295.py:32: SettingWithCopyWarning: \n",
      "A value is trying to be set on a copy of a slice from a DataFrame.\n",
      "Try using .loc[row_indexer,col_indexer] = value instead\n",
      "\n",
      "See the caveats in the documentation: https://pandas.pydata.org/pandas-docs/stable/user_guide/indexing.html#returning-a-view-versus-a-copy\n",
      "  data[model + \"_Q\"] = data.apply(lambda x: Q_dict[x.gridnum][x.transformed_state], axis=1)\n"
     ]
    },
    {
     "name": "stdout",
     "output_type": "stream",
     "text": [
      "Iteration No: 191 ended. Search finished for the next optimal point.\n",
      "Time taken: 65.9416\n",
      "Function value obtained: 13093.2273\n",
      "Current minimum: 13014.7061\n",
      "Iteration No: 192 started. Searching for the next optimal point.\n"
     ]
    },
    {
     "name": "stderr",
     "output_type": "stream",
     "text": [
      "/var/folders/6y/gzz1g_p559n80dc3_f2fl6m80000gn/T/ipykernel_54320/3668836295.py:32: SettingWithCopyWarning: \n",
      "A value is trying to be set on a copy of a slice from a DataFrame.\n",
      "Try using .loc[row_indexer,col_indexer] = value instead\n",
      "\n",
      "See the caveats in the documentation: https://pandas.pydata.org/pandas-docs/stable/user_guide/indexing.html#returning-a-view-versus-a-copy\n",
      "  data[model + \"_Q\"] = data.apply(lambda x: Q_dict[x.gridnum][x.transformed_state], axis=1)\n"
     ]
    },
    {
     "name": "stdout",
     "output_type": "stream",
     "text": [
      "Iteration No: 192 ended. Search finished for the next optimal point.\n",
      "Time taken: 31.9899\n",
      "Function value obtained: 13089.4758\n",
      "Current minimum: 13014.7061\n",
      "Iteration No: 193 started. Searching for the next optimal point.\n"
     ]
    },
    {
     "name": "stderr",
     "output_type": "stream",
     "text": [
      "/var/folders/6y/gzz1g_p559n80dc3_f2fl6m80000gn/T/ipykernel_54320/3668836295.py:32: SettingWithCopyWarning: \n",
      "A value is trying to be set on a copy of a slice from a DataFrame.\n",
      "Try using .loc[row_indexer,col_indexer] = value instead\n",
      "\n",
      "See the caveats in the documentation: https://pandas.pydata.org/pandas-docs/stable/user_guide/indexing.html#returning-a-view-versus-a-copy\n",
      "  data[model + \"_Q\"] = data.apply(lambda x: Q_dict[x.gridnum][x.transformed_state], axis=1)\n"
     ]
    },
    {
     "name": "stdout",
     "output_type": "stream",
     "text": [
      "Iteration No: 193 ended. Search finished for the next optimal point.\n",
      "Time taken: 81.5969\n",
      "Function value obtained: 13081.6959\n",
      "Current minimum: 13014.7061\n",
      "Iteration No: 194 started. Searching for the next optimal point.\n"
     ]
    },
    {
     "name": "stderr",
     "output_type": "stream",
     "text": [
      "/var/folders/6y/gzz1g_p559n80dc3_f2fl6m80000gn/T/ipykernel_54320/3668836295.py:32: SettingWithCopyWarning: \n",
      "A value is trying to be set on a copy of a slice from a DataFrame.\n",
      "Try using .loc[row_indexer,col_indexer] = value instead\n",
      "\n",
      "See the caveats in the documentation: https://pandas.pydata.org/pandas-docs/stable/user_guide/indexing.html#returning-a-view-versus-a-copy\n",
      "  data[model + \"_Q\"] = data.apply(lambda x: Q_dict[x.gridnum][x.transformed_state], axis=1)\n"
     ]
    },
    {
     "name": "stdout",
     "output_type": "stream",
     "text": [
      "Iteration No: 194 ended. Search finished for the next optimal point.\n",
      "Time taken: 27.5140\n",
      "Function value obtained: 13354.0473\n",
      "Current minimum: 13014.7061\n",
      "Iteration No: 195 started. Searching for the next optimal point.\n"
     ]
    },
    {
     "name": "stderr",
     "output_type": "stream",
     "text": [
      "/var/folders/6y/gzz1g_p559n80dc3_f2fl6m80000gn/T/ipykernel_54320/3668836295.py:32: SettingWithCopyWarning: \n",
      "A value is trying to be set on a copy of a slice from a DataFrame.\n",
      "Try using .loc[row_indexer,col_indexer] = value instead\n",
      "\n",
      "See the caveats in the documentation: https://pandas.pydata.org/pandas-docs/stable/user_guide/indexing.html#returning-a-view-versus-a-copy\n",
      "  data[model + \"_Q\"] = data.apply(lambda x: Q_dict[x.gridnum][x.transformed_state], axis=1)\n"
     ]
    },
    {
     "name": "stdout",
     "output_type": "stream",
     "text": [
      "Iteration No: 195 ended. Search finished for the next optimal point.\n",
      "Time taken: 47.1241\n",
      "Function value obtained: 13102.3253\n",
      "Current minimum: 13014.7061\n",
      "Iteration No: 196 started. Searching for the next optimal point.\n"
     ]
    },
    {
     "name": "stderr",
     "output_type": "stream",
     "text": [
      "/var/folders/6y/gzz1g_p559n80dc3_f2fl6m80000gn/T/ipykernel_54320/3668836295.py:32: SettingWithCopyWarning: \n",
      "A value is trying to be set on a copy of a slice from a DataFrame.\n",
      "Try using .loc[row_indexer,col_indexer] = value instead\n",
      "\n",
      "See the caveats in the documentation: https://pandas.pydata.org/pandas-docs/stable/user_guide/indexing.html#returning-a-view-versus-a-copy\n",
      "  data[model + \"_Q\"] = data.apply(lambda x: Q_dict[x.gridnum][x.transformed_state], axis=1)\n"
     ]
    },
    {
     "name": "stdout",
     "output_type": "stream",
     "text": [
      "Iteration No: 196 ended. Search finished for the next optimal point.\n",
      "Time taken: 37.2614\n",
      "Function value obtained: 13075.2671\n",
      "Current minimum: 13014.7061\n",
      "Iteration No: 197 started. Searching for the next optimal point.\n"
     ]
    },
    {
     "name": "stderr",
     "output_type": "stream",
     "text": [
      "/var/folders/6y/gzz1g_p559n80dc3_f2fl6m80000gn/T/ipykernel_54320/3668836295.py:32: SettingWithCopyWarning: \n",
      "A value is trying to be set on a copy of a slice from a DataFrame.\n",
      "Try using .loc[row_indexer,col_indexer] = value instead\n",
      "\n",
      "See the caveats in the documentation: https://pandas.pydata.org/pandas-docs/stable/user_guide/indexing.html#returning-a-view-versus-a-copy\n",
      "  data[model + \"_Q\"] = data.apply(lambda x: Q_dict[x.gridnum][x.transformed_state], axis=1)\n"
     ]
    },
    {
     "name": "stdout",
     "output_type": "stream",
     "text": [
      "Iteration No: 197 ended. Search finished for the next optimal point.\n",
      "Time taken: 33.4048\n",
      "Function value obtained: 13069.7774\n",
      "Current minimum: 13014.7061\n",
      "Iteration No: 198 started. Searching for the next optimal point.\n"
     ]
    },
    {
     "name": "stderr",
     "output_type": "stream",
     "text": [
      "/var/folders/6y/gzz1g_p559n80dc3_f2fl6m80000gn/T/ipykernel_54320/3668836295.py:32: SettingWithCopyWarning: \n",
      "A value is trying to be set on a copy of a slice from a DataFrame.\n",
      "Try using .loc[row_indexer,col_indexer] = value instead\n",
      "\n",
      "See the caveats in the documentation: https://pandas.pydata.org/pandas-docs/stable/user_guide/indexing.html#returning-a-view-versus-a-copy\n",
      "  data[model + \"_Q\"] = data.apply(lambda x: Q_dict[x.gridnum][x.transformed_state], axis=1)\n"
     ]
    },
    {
     "name": "stdout",
     "output_type": "stream",
     "text": [
      "Iteration No: 198 ended. Search finished for the next optimal point.\n",
      "Time taken: 28.3045\n",
      "Function value obtained: 13070.3648\n",
      "Current minimum: 13014.7061\n",
      "Iteration No: 199 started. Searching for the next optimal point.\n"
     ]
    },
    {
     "name": "stderr",
     "output_type": "stream",
     "text": [
      "/var/folders/6y/gzz1g_p559n80dc3_f2fl6m80000gn/T/ipykernel_54320/3668836295.py:32: SettingWithCopyWarning: \n",
      "A value is trying to be set on a copy of a slice from a DataFrame.\n",
      "Try using .loc[row_indexer,col_indexer] = value instead\n",
      "\n",
      "See the caveats in the documentation: https://pandas.pydata.org/pandas-docs/stable/user_guide/indexing.html#returning-a-view-versus-a-copy\n",
      "  data[model + \"_Q\"] = data.apply(lambda x: Q_dict[x.gridnum][x.transformed_state], axis=1)\n"
     ]
    },
    {
     "name": "stdout",
     "output_type": "stream",
     "text": [
      "Iteration No: 199 ended. Search finished for the next optimal point.\n",
      "Time taken: 51.0312\n",
      "Function value obtained: 13086.4922\n",
      "Current minimum: 13014.7061\n",
      "Iteration No: 200 started. Searching for the next optimal point.\n"
     ]
    },
    {
     "name": "stderr",
     "output_type": "stream",
     "text": [
      "/var/folders/6y/gzz1g_p559n80dc3_f2fl6m80000gn/T/ipykernel_54320/3668836295.py:32: SettingWithCopyWarning: \n",
      "A value is trying to be set on a copy of a slice from a DataFrame.\n",
      "Try using .loc[row_indexer,col_indexer] = value instead\n",
      "\n",
      "See the caveats in the documentation: https://pandas.pydata.org/pandas-docs/stable/user_guide/indexing.html#returning-a-view-versus-a-copy\n",
      "  data[model + \"_Q\"] = data.apply(lambda x: Q_dict[x.gridnum][x.transformed_state], axis=1)\n"
     ]
    },
    {
     "name": "stdout",
     "output_type": "stream",
     "text": [
      "Iteration No: 200 ended. Search finished for the next optimal point.\n",
      "Time taken: 57.6560\n",
      "Function value obtained: 13093.1836\n",
      "Current minimum: 13014.7061\n",
      "Iteration No: 201 started. Searching for the next optimal point.\n"
     ]
    },
    {
     "name": "stderr",
     "output_type": "stream",
     "text": [
      "/var/folders/6y/gzz1g_p559n80dc3_f2fl6m80000gn/T/ipykernel_54320/3668836295.py:32: SettingWithCopyWarning: \n",
      "A value is trying to be set on a copy of a slice from a DataFrame.\n",
      "Try using .loc[row_indexer,col_indexer] = value instead\n",
      "\n",
      "See the caveats in the documentation: https://pandas.pydata.org/pandas-docs/stable/user_guide/indexing.html#returning-a-view-versus-a-copy\n",
      "  data[model + \"_Q\"] = data.apply(lambda x: Q_dict[x.gridnum][x.transformed_state], axis=1)\n"
     ]
    },
    {
     "name": "stdout",
     "output_type": "stream",
     "text": [
      "Iteration No: 201 ended. Search finished for the next optimal point.\n",
      "Time taken: 67.0250\n",
      "Function value obtained: 13084.1317\n",
      "Current minimum: 13014.7061\n",
      "Iteration No: 202 started. Searching for the next optimal point.\n"
     ]
    },
    {
     "name": "stderr",
     "output_type": "stream",
     "text": [
      "/var/folders/6y/gzz1g_p559n80dc3_f2fl6m80000gn/T/ipykernel_54320/3668836295.py:32: SettingWithCopyWarning: \n",
      "A value is trying to be set on a copy of a slice from a DataFrame.\n",
      "Try using .loc[row_indexer,col_indexer] = value instead\n",
      "\n",
      "See the caveats in the documentation: https://pandas.pydata.org/pandas-docs/stable/user_guide/indexing.html#returning-a-view-versus-a-copy\n",
      "  data[model + \"_Q\"] = data.apply(lambda x: Q_dict[x.gridnum][x.transformed_state], axis=1)\n"
     ]
    },
    {
     "name": "stdout",
     "output_type": "stream",
     "text": [
      "Iteration No: 202 ended. Search finished for the next optimal point.\n",
      "Time taken: 41.7631\n",
      "Function value obtained: 13104.6551\n",
      "Current minimum: 13014.7061\n",
      "Iteration No: 203 started. Searching for the next optimal point.\n"
     ]
    },
    {
     "name": "stderr",
     "output_type": "stream",
     "text": [
      "/var/folders/6y/gzz1g_p559n80dc3_f2fl6m80000gn/T/ipykernel_54320/3668836295.py:32: SettingWithCopyWarning: \n",
      "A value is trying to be set on a copy of a slice from a DataFrame.\n",
      "Try using .loc[row_indexer,col_indexer] = value instead\n",
      "\n",
      "See the caveats in the documentation: https://pandas.pydata.org/pandas-docs/stable/user_guide/indexing.html#returning-a-view-versus-a-copy\n",
      "  data[model + \"_Q\"] = data.apply(lambda x: Q_dict[x.gridnum][x.transformed_state], axis=1)\n"
     ]
    },
    {
     "name": "stdout",
     "output_type": "stream",
     "text": [
      "Iteration No: 203 ended. Search finished for the next optimal point.\n",
      "Time taken: 62.9877\n",
      "Function value obtained: 13099.1811\n",
      "Current minimum: 13014.7061\n",
      "Iteration No: 204 started. Searching for the next optimal point.\n"
     ]
    },
    {
     "name": "stderr",
     "output_type": "stream",
     "text": [
      "/var/folders/6y/gzz1g_p559n80dc3_f2fl6m80000gn/T/ipykernel_54320/3668836295.py:32: SettingWithCopyWarning: \n",
      "A value is trying to be set on a copy of a slice from a DataFrame.\n",
      "Try using .loc[row_indexer,col_indexer] = value instead\n",
      "\n",
      "See the caveats in the documentation: https://pandas.pydata.org/pandas-docs/stable/user_guide/indexing.html#returning-a-view-versus-a-copy\n",
      "  data[model + \"_Q\"] = data.apply(lambda x: Q_dict[x.gridnum][x.transformed_state], axis=1)\n"
     ]
    },
    {
     "name": "stdout",
     "output_type": "stream",
     "text": [
      "Iteration No: 204 ended. Search finished for the next optimal point.\n",
      "Time taken: 32.9034\n",
      "Function value obtained: 13099.6686\n",
      "Current minimum: 13014.7061\n",
      "Iteration No: 205 started. Searching for the next optimal point.\n"
     ]
    },
    {
     "name": "stderr",
     "output_type": "stream",
     "text": [
      "/var/folders/6y/gzz1g_p559n80dc3_f2fl6m80000gn/T/ipykernel_54320/3668836295.py:32: SettingWithCopyWarning: \n",
      "A value is trying to be set on a copy of a slice from a DataFrame.\n",
      "Try using .loc[row_indexer,col_indexer] = value instead\n",
      "\n",
      "See the caveats in the documentation: https://pandas.pydata.org/pandas-docs/stable/user_guide/indexing.html#returning-a-view-versus-a-copy\n",
      "  data[model + \"_Q\"] = data.apply(lambda x: Q_dict[x.gridnum][x.transformed_state], axis=1)\n"
     ]
    },
    {
     "name": "stdout",
     "output_type": "stream",
     "text": [
      "Iteration No: 205 ended. Search finished for the next optimal point.\n",
      "Time taken: 33.7323\n",
      "Function value obtained: 13087.0919\n",
      "Current minimum: 13014.7061\n",
      "Iteration No: 206 started. Searching for the next optimal point.\n"
     ]
    },
    {
     "name": "stderr",
     "output_type": "stream",
     "text": [
      "/var/folders/6y/gzz1g_p559n80dc3_f2fl6m80000gn/T/ipykernel_54320/3668836295.py:32: SettingWithCopyWarning: \n",
      "A value is trying to be set on a copy of a slice from a DataFrame.\n",
      "Try using .loc[row_indexer,col_indexer] = value instead\n",
      "\n",
      "See the caveats in the documentation: https://pandas.pydata.org/pandas-docs/stable/user_guide/indexing.html#returning-a-view-versus-a-copy\n",
      "  data[model + \"_Q\"] = data.apply(lambda x: Q_dict[x.gridnum][x.transformed_state], axis=1)\n"
     ]
    },
    {
     "name": "stdout",
     "output_type": "stream",
     "text": [
      "Iteration No: 206 ended. Search finished for the next optimal point.\n",
      "Time taken: 30.6031\n",
      "Function value obtained: 13070.4646\n",
      "Current minimum: 13014.7061\n",
      "Iteration No: 207 started. Searching for the next optimal point.\n"
     ]
    },
    {
     "name": "stderr",
     "output_type": "stream",
     "text": [
      "/var/folders/6y/gzz1g_p559n80dc3_f2fl6m80000gn/T/ipykernel_54320/3668836295.py:32: SettingWithCopyWarning: \n",
      "A value is trying to be set on a copy of a slice from a DataFrame.\n",
      "Try using .loc[row_indexer,col_indexer] = value instead\n",
      "\n",
      "See the caveats in the documentation: https://pandas.pydata.org/pandas-docs/stable/user_guide/indexing.html#returning-a-view-versus-a-copy\n",
      "  data[model + \"_Q\"] = data.apply(lambda x: Q_dict[x.gridnum][x.transformed_state], axis=1)\n"
     ]
    },
    {
     "name": "stdout",
     "output_type": "stream",
     "text": [
      "Iteration No: 207 ended. Search finished for the next optimal point.\n",
      "Time taken: 33.1558\n",
      "Function value obtained: 13090.6745\n",
      "Current minimum: 13014.7061\n",
      "Iteration No: 208 started. Searching for the next optimal point.\n"
     ]
    },
    {
     "name": "stderr",
     "output_type": "stream",
     "text": [
      "/var/folders/6y/gzz1g_p559n80dc3_f2fl6m80000gn/T/ipykernel_54320/3668836295.py:32: SettingWithCopyWarning: \n",
      "A value is trying to be set on a copy of a slice from a DataFrame.\n",
      "Try using .loc[row_indexer,col_indexer] = value instead\n",
      "\n",
      "See the caveats in the documentation: https://pandas.pydata.org/pandas-docs/stable/user_guide/indexing.html#returning-a-view-versus-a-copy\n",
      "  data[model + \"_Q\"] = data.apply(lambda x: Q_dict[x.gridnum][x.transformed_state], axis=1)\n"
     ]
    },
    {
     "name": "stdout",
     "output_type": "stream",
     "text": [
      "Iteration No: 208 ended. Search finished for the next optimal point.\n",
      "Time taken: 39.1339\n",
      "Function value obtained: 13080.3088\n",
      "Current minimum: 13014.7061\n",
      "Iteration No: 209 started. Searching for the next optimal point.\n"
     ]
    },
    {
     "name": "stderr",
     "output_type": "stream",
     "text": [
      "/var/folders/6y/gzz1g_p559n80dc3_f2fl6m80000gn/T/ipykernel_54320/3668836295.py:32: SettingWithCopyWarning: \n",
      "A value is trying to be set on a copy of a slice from a DataFrame.\n",
      "Try using .loc[row_indexer,col_indexer] = value instead\n",
      "\n",
      "See the caveats in the documentation: https://pandas.pydata.org/pandas-docs/stable/user_guide/indexing.html#returning-a-view-versus-a-copy\n",
      "  data[model + \"_Q\"] = data.apply(lambda x: Q_dict[x.gridnum][x.transformed_state], axis=1)\n"
     ]
    },
    {
     "name": "stdout",
     "output_type": "stream",
     "text": [
      "Iteration No: 209 ended. Search finished for the next optimal point.\n",
      "Time taken: 50.5093\n",
      "Function value obtained: 13113.3829\n",
      "Current minimum: 13014.7061\n",
      "Iteration No: 210 started. Searching for the next optimal point.\n"
     ]
    },
    {
     "name": "stderr",
     "output_type": "stream",
     "text": [
      "/var/folders/6y/gzz1g_p559n80dc3_f2fl6m80000gn/T/ipykernel_54320/3668836295.py:32: SettingWithCopyWarning: \n",
      "A value is trying to be set on a copy of a slice from a DataFrame.\n",
      "Try using .loc[row_indexer,col_indexer] = value instead\n",
      "\n",
      "See the caveats in the documentation: https://pandas.pydata.org/pandas-docs/stable/user_guide/indexing.html#returning-a-view-versus-a-copy\n",
      "  data[model + \"_Q\"] = data.apply(lambda x: Q_dict[x.gridnum][x.transformed_state], axis=1)\n"
     ]
    },
    {
     "name": "stdout",
     "output_type": "stream",
     "text": [
      "Iteration No: 210 ended. Search finished for the next optimal point.\n",
      "Time taken: 64.7935\n",
      "Function value obtained: 13065.6907\n",
      "Current minimum: 13014.7061\n",
      "Iteration No: 211 started. Searching for the next optimal point.\n"
     ]
    },
    {
     "name": "stderr",
     "output_type": "stream",
     "text": [
      "/var/folders/6y/gzz1g_p559n80dc3_f2fl6m80000gn/T/ipykernel_54320/3668836295.py:32: SettingWithCopyWarning: \n",
      "A value is trying to be set on a copy of a slice from a DataFrame.\n",
      "Try using .loc[row_indexer,col_indexer] = value instead\n",
      "\n",
      "See the caveats in the documentation: https://pandas.pydata.org/pandas-docs/stable/user_guide/indexing.html#returning-a-view-versus-a-copy\n",
      "  data[model + \"_Q\"] = data.apply(lambda x: Q_dict[x.gridnum][x.transformed_state], axis=1)\n"
     ]
    },
    {
     "name": "stdout",
     "output_type": "stream",
     "text": [
      "Iteration No: 211 ended. Search finished for the next optimal point.\n",
      "Time taken: 29.2832\n",
      "Function value obtained: 13165.3139\n",
      "Current minimum: 13014.7061\n",
      "Iteration No: 212 started. Searching for the next optimal point.\n"
     ]
    },
    {
     "name": "stderr",
     "output_type": "stream",
     "text": [
      "/var/folders/6y/gzz1g_p559n80dc3_f2fl6m80000gn/T/ipykernel_54320/3668836295.py:32: SettingWithCopyWarning: \n",
      "A value is trying to be set on a copy of a slice from a DataFrame.\n",
      "Try using .loc[row_indexer,col_indexer] = value instead\n",
      "\n",
      "See the caveats in the documentation: https://pandas.pydata.org/pandas-docs/stable/user_guide/indexing.html#returning-a-view-versus-a-copy\n",
      "  data[model + \"_Q\"] = data.apply(lambda x: Q_dict[x.gridnum][x.transformed_state], axis=1)\n"
     ]
    },
    {
     "name": "stdout",
     "output_type": "stream",
     "text": [
      "Iteration No: 212 ended. Search finished for the next optimal point.\n",
      "Time taken: 50.2183\n",
      "Function value obtained: 13136.0337\n",
      "Current minimum: 13014.7061\n",
      "Iteration No: 213 started. Searching for the next optimal point.\n"
     ]
    },
    {
     "name": "stderr",
     "output_type": "stream",
     "text": [
      "/var/folders/6y/gzz1g_p559n80dc3_f2fl6m80000gn/T/ipykernel_54320/3668836295.py:32: SettingWithCopyWarning: \n",
      "A value is trying to be set on a copy of a slice from a DataFrame.\n",
      "Try using .loc[row_indexer,col_indexer] = value instead\n",
      "\n",
      "See the caveats in the documentation: https://pandas.pydata.org/pandas-docs/stable/user_guide/indexing.html#returning-a-view-versus-a-copy\n",
      "  data[model + \"_Q\"] = data.apply(lambda x: Q_dict[x.gridnum][x.transformed_state], axis=1)\n"
     ]
    },
    {
     "name": "stdout",
     "output_type": "stream",
     "text": [
      "Iteration No: 213 ended. Search finished for the next optimal point.\n",
      "Time taken: 55.6160\n",
      "Function value obtained: 13055.4190\n",
      "Current minimum: 13014.7061\n",
      "Iteration No: 214 started. Searching for the next optimal point.\n"
     ]
    },
    {
     "name": "stderr",
     "output_type": "stream",
     "text": [
      "/var/folders/6y/gzz1g_p559n80dc3_f2fl6m80000gn/T/ipykernel_54320/3668836295.py:32: SettingWithCopyWarning: \n",
      "A value is trying to be set on a copy of a slice from a DataFrame.\n",
      "Try using .loc[row_indexer,col_indexer] = value instead\n",
      "\n",
      "See the caveats in the documentation: https://pandas.pydata.org/pandas-docs/stable/user_guide/indexing.html#returning-a-view-versus-a-copy\n",
      "  data[model + \"_Q\"] = data.apply(lambda x: Q_dict[x.gridnum][x.transformed_state], axis=1)\n"
     ]
    },
    {
     "name": "stdout",
     "output_type": "stream",
     "text": [
      "Iteration No: 214 ended. Search finished for the next optimal point.\n",
      "Time taken: 69.4687\n",
      "Function value obtained: 13104.3036\n",
      "Current minimum: 13014.7061\n",
      "Iteration No: 215 started. Searching for the next optimal point.\n"
     ]
    },
    {
     "name": "stderr",
     "output_type": "stream",
     "text": [
      "/var/folders/6y/gzz1g_p559n80dc3_f2fl6m80000gn/T/ipykernel_54320/3668836295.py:32: SettingWithCopyWarning: \n",
      "A value is trying to be set on a copy of a slice from a DataFrame.\n",
      "Try using .loc[row_indexer,col_indexer] = value instead\n",
      "\n",
      "See the caveats in the documentation: https://pandas.pydata.org/pandas-docs/stable/user_guide/indexing.html#returning-a-view-versus-a-copy\n",
      "  data[model + \"_Q\"] = data.apply(lambda x: Q_dict[x.gridnum][x.transformed_state], axis=1)\n"
     ]
    },
    {
     "name": "stdout",
     "output_type": "stream",
     "text": [
      "Iteration No: 215 ended. Search finished for the next optimal point.\n",
      "Time taken: 38.3732\n",
      "Function value obtained: 13094.4155\n",
      "Current minimum: 13014.7061\n",
      "Iteration No: 216 started. Searching for the next optimal point.\n"
     ]
    },
    {
     "name": "stderr",
     "output_type": "stream",
     "text": [
      "/var/folders/6y/gzz1g_p559n80dc3_f2fl6m80000gn/T/ipykernel_54320/3668836295.py:32: SettingWithCopyWarning: \n",
      "A value is trying to be set on a copy of a slice from a DataFrame.\n",
      "Try using .loc[row_indexer,col_indexer] = value instead\n",
      "\n",
      "See the caveats in the documentation: https://pandas.pydata.org/pandas-docs/stable/user_guide/indexing.html#returning-a-view-versus-a-copy\n",
      "  data[model + \"_Q\"] = data.apply(lambda x: Q_dict[x.gridnum][x.transformed_state], axis=1)\n"
     ]
    },
    {
     "name": "stdout",
     "output_type": "stream",
     "text": [
      "Iteration No: 216 ended. Search finished for the next optimal point.\n",
      "Time taken: 25.3216\n",
      "Function value obtained: 13113.2700\n",
      "Current minimum: 13014.7061\n",
      "Iteration No: 217 started. Searching for the next optimal point.\n"
     ]
    },
    {
     "name": "stderr",
     "output_type": "stream",
     "text": [
      "/var/folders/6y/gzz1g_p559n80dc3_f2fl6m80000gn/T/ipykernel_54320/3668836295.py:32: SettingWithCopyWarning: \n",
      "A value is trying to be set on a copy of a slice from a DataFrame.\n",
      "Try using .loc[row_indexer,col_indexer] = value instead\n",
      "\n",
      "See the caveats in the documentation: https://pandas.pydata.org/pandas-docs/stable/user_guide/indexing.html#returning-a-view-versus-a-copy\n",
      "  data[model + \"_Q\"] = data.apply(lambda x: Q_dict[x.gridnum][x.transformed_state], axis=1)\n"
     ]
    },
    {
     "name": "stdout",
     "output_type": "stream",
     "text": [
      "Iteration No: 217 ended. Search finished for the next optimal point.\n",
      "Time taken: 56.0583\n",
      "Function value obtained: 13087.9945\n",
      "Current minimum: 13014.7061\n",
      "Iteration No: 218 started. Searching for the next optimal point.\n"
     ]
    },
    {
     "name": "stderr",
     "output_type": "stream",
     "text": [
      "/var/folders/6y/gzz1g_p559n80dc3_f2fl6m80000gn/T/ipykernel_54320/3668836295.py:32: SettingWithCopyWarning: \n",
      "A value is trying to be set on a copy of a slice from a DataFrame.\n",
      "Try using .loc[row_indexer,col_indexer] = value instead\n",
      "\n",
      "See the caveats in the documentation: https://pandas.pydata.org/pandas-docs/stable/user_guide/indexing.html#returning-a-view-versus-a-copy\n",
      "  data[model + \"_Q\"] = data.apply(lambda x: Q_dict[x.gridnum][x.transformed_state], axis=1)\n"
     ]
    },
    {
     "name": "stdout",
     "output_type": "stream",
     "text": [
      "Iteration No: 218 ended. Search finished for the next optimal point.\n",
      "Time taken: 53.8776\n",
      "Function value obtained: 13094.9942\n",
      "Current minimum: 13014.7061\n",
      "Iteration No: 219 started. Searching for the next optimal point.\n"
     ]
    },
    {
     "name": "stderr",
     "output_type": "stream",
     "text": [
      "/var/folders/6y/gzz1g_p559n80dc3_f2fl6m80000gn/T/ipykernel_54320/3668836295.py:32: SettingWithCopyWarning: \n",
      "A value is trying to be set on a copy of a slice from a DataFrame.\n",
      "Try using .loc[row_indexer,col_indexer] = value instead\n",
      "\n",
      "See the caveats in the documentation: https://pandas.pydata.org/pandas-docs/stable/user_guide/indexing.html#returning-a-view-versus-a-copy\n",
      "  data[model + \"_Q\"] = data.apply(lambda x: Q_dict[x.gridnum][x.transformed_state], axis=1)\n"
     ]
    },
    {
     "name": "stdout",
     "output_type": "stream",
     "text": [
      "Iteration No: 219 ended. Search finished for the next optimal point.\n",
      "Time taken: 50.6805\n",
      "Function value obtained: 13124.3069\n",
      "Current minimum: 13014.7061\n",
      "Iteration No: 220 started. Searching for the next optimal point.\n"
     ]
    },
    {
     "name": "stderr",
     "output_type": "stream",
     "text": [
      "/var/folders/6y/gzz1g_p559n80dc3_f2fl6m80000gn/T/ipykernel_54320/3668836295.py:32: SettingWithCopyWarning: \n",
      "A value is trying to be set on a copy of a slice from a DataFrame.\n",
      "Try using .loc[row_indexer,col_indexer] = value instead\n",
      "\n",
      "See the caveats in the documentation: https://pandas.pydata.org/pandas-docs/stable/user_guide/indexing.html#returning-a-view-versus-a-copy\n",
      "  data[model + \"_Q\"] = data.apply(lambda x: Q_dict[x.gridnum][x.transformed_state], axis=1)\n"
     ]
    },
    {
     "name": "stdout",
     "output_type": "stream",
     "text": [
      "Iteration No: 220 ended. Search finished for the next optimal point.\n",
      "Time taken: 62.7733\n",
      "Function value obtained: 13084.2648\n",
      "Current minimum: 13014.7061\n",
      "Iteration No: 221 started. Searching for the next optimal point.\n"
     ]
    },
    {
     "name": "stderr",
     "output_type": "stream",
     "text": [
      "/var/folders/6y/gzz1g_p559n80dc3_f2fl6m80000gn/T/ipykernel_54320/3668836295.py:32: SettingWithCopyWarning: \n",
      "A value is trying to be set on a copy of a slice from a DataFrame.\n",
      "Try using .loc[row_indexer,col_indexer] = value instead\n",
      "\n",
      "See the caveats in the documentation: https://pandas.pydata.org/pandas-docs/stable/user_guide/indexing.html#returning-a-view-versus-a-copy\n",
      "  data[model + \"_Q\"] = data.apply(lambda x: Q_dict[x.gridnum][x.transformed_state], axis=1)\n"
     ]
    },
    {
     "name": "stdout",
     "output_type": "stream",
     "text": [
      "Iteration No: 221 ended. Search finished for the next optimal point.\n",
      "Time taken: 55.4955\n",
      "Function value obtained: 13156.9957\n",
      "Current minimum: 13014.7061\n",
      "Iteration No: 222 started. Searching for the next optimal point.\n"
     ]
    },
    {
     "name": "stderr",
     "output_type": "stream",
     "text": [
      "/var/folders/6y/gzz1g_p559n80dc3_f2fl6m80000gn/T/ipykernel_54320/3668836295.py:32: SettingWithCopyWarning: \n",
      "A value is trying to be set on a copy of a slice from a DataFrame.\n",
      "Try using .loc[row_indexer,col_indexer] = value instead\n",
      "\n",
      "See the caveats in the documentation: https://pandas.pydata.org/pandas-docs/stable/user_guide/indexing.html#returning-a-view-versus-a-copy\n",
      "  data[model + \"_Q\"] = data.apply(lambda x: Q_dict[x.gridnum][x.transformed_state], axis=1)\n"
     ]
    },
    {
     "name": "stdout",
     "output_type": "stream",
     "text": [
      "Iteration No: 222 ended. Search finished for the next optimal point.\n",
      "Time taken: 53.2809\n",
      "Function value obtained: 13081.7527\n",
      "Current minimum: 13014.7061\n",
      "Iteration No: 223 started. Searching for the next optimal point.\n"
     ]
    },
    {
     "name": "stderr",
     "output_type": "stream",
     "text": [
      "/var/folders/6y/gzz1g_p559n80dc3_f2fl6m80000gn/T/ipykernel_54320/3668836295.py:32: SettingWithCopyWarning: \n",
      "A value is trying to be set on a copy of a slice from a DataFrame.\n",
      "Try using .loc[row_indexer,col_indexer] = value instead\n",
      "\n",
      "See the caveats in the documentation: https://pandas.pydata.org/pandas-docs/stable/user_guide/indexing.html#returning-a-view-versus-a-copy\n",
      "  data[model + \"_Q\"] = data.apply(lambda x: Q_dict[x.gridnum][x.transformed_state], axis=1)\n"
     ]
    },
    {
     "name": "stdout",
     "output_type": "stream",
     "text": [
      "Iteration No: 223 ended. Search finished for the next optimal point.\n",
      "Time taken: 64.5258\n",
      "Function value obtained: 13069.2888\n",
      "Current minimum: 13014.7061\n",
      "Iteration No: 224 started. Searching for the next optimal point.\n"
     ]
    },
    {
     "name": "stderr",
     "output_type": "stream",
     "text": [
      "/var/folders/6y/gzz1g_p559n80dc3_f2fl6m80000gn/T/ipykernel_54320/3668836295.py:32: SettingWithCopyWarning: \n",
      "A value is trying to be set on a copy of a slice from a DataFrame.\n",
      "Try using .loc[row_indexer,col_indexer] = value instead\n",
      "\n",
      "See the caveats in the documentation: https://pandas.pydata.org/pandas-docs/stable/user_guide/indexing.html#returning-a-view-versus-a-copy\n",
      "  data[model + \"_Q\"] = data.apply(lambda x: Q_dict[x.gridnum][x.transformed_state], axis=1)\n"
     ]
    },
    {
     "name": "stdout",
     "output_type": "stream",
     "text": [
      "Iteration No: 224 ended. Search finished for the next optimal point.\n",
      "Time taken: 23.8092\n",
      "Function value obtained: 13071.5413\n",
      "Current minimum: 13014.7061\n",
      "Iteration No: 225 started. Searching for the next optimal point.\n"
     ]
    },
    {
     "name": "stderr",
     "output_type": "stream",
     "text": [
      "/var/folders/6y/gzz1g_p559n80dc3_f2fl6m80000gn/T/ipykernel_54320/3668836295.py:32: SettingWithCopyWarning: \n",
      "A value is trying to be set on a copy of a slice from a DataFrame.\n",
      "Try using .loc[row_indexer,col_indexer] = value instead\n",
      "\n",
      "See the caveats in the documentation: https://pandas.pydata.org/pandas-docs/stable/user_guide/indexing.html#returning-a-view-versus-a-copy\n",
      "  data[model + \"_Q\"] = data.apply(lambda x: Q_dict[x.gridnum][x.transformed_state], axis=1)\n"
     ]
    },
    {
     "name": "stdout",
     "output_type": "stream",
     "text": [
      "Iteration No: 225 ended. Search finished for the next optimal point.\n",
      "Time taken: 59.6811\n",
      "Function value obtained: 13095.9674\n",
      "Current minimum: 13014.7061\n",
      "Iteration No: 226 started. Searching for the next optimal point.\n"
     ]
    },
    {
     "name": "stderr",
     "output_type": "stream",
     "text": [
      "/var/folders/6y/gzz1g_p559n80dc3_f2fl6m80000gn/T/ipykernel_54320/3668836295.py:32: SettingWithCopyWarning: \n",
      "A value is trying to be set on a copy of a slice from a DataFrame.\n",
      "Try using .loc[row_indexer,col_indexer] = value instead\n",
      "\n",
      "See the caveats in the documentation: https://pandas.pydata.org/pandas-docs/stable/user_guide/indexing.html#returning-a-view-versus-a-copy\n",
      "  data[model + \"_Q\"] = data.apply(lambda x: Q_dict[x.gridnum][x.transformed_state], axis=1)\n"
     ]
    },
    {
     "name": "stdout",
     "output_type": "stream",
     "text": [
      "Iteration No: 226 ended. Search finished for the next optimal point.\n",
      "Time taken: 32.5406\n",
      "Function value obtained: 13111.6569\n",
      "Current minimum: 13014.7061\n",
      "Iteration No: 227 started. Searching for the next optimal point.\n"
     ]
    },
    {
     "name": "stderr",
     "output_type": "stream",
     "text": [
      "/var/folders/6y/gzz1g_p559n80dc3_f2fl6m80000gn/T/ipykernel_54320/3668836295.py:32: SettingWithCopyWarning: \n",
      "A value is trying to be set on a copy of a slice from a DataFrame.\n",
      "Try using .loc[row_indexer,col_indexer] = value instead\n",
      "\n",
      "See the caveats in the documentation: https://pandas.pydata.org/pandas-docs/stable/user_guide/indexing.html#returning-a-view-versus-a-copy\n",
      "  data[model + \"_Q\"] = data.apply(lambda x: Q_dict[x.gridnum][x.transformed_state], axis=1)\n"
     ]
    },
    {
     "name": "stdout",
     "output_type": "stream",
     "text": [
      "Iteration No: 227 ended. Search finished for the next optimal point.\n",
      "Time taken: 39.1305\n",
      "Function value obtained: 13102.2887\n",
      "Current minimum: 13014.7061\n",
      "Iteration No: 228 started. Searching for the next optimal point.\n"
     ]
    },
    {
     "name": "stderr",
     "output_type": "stream",
     "text": [
      "/var/folders/6y/gzz1g_p559n80dc3_f2fl6m80000gn/T/ipykernel_54320/3668836295.py:32: SettingWithCopyWarning: \n",
      "A value is trying to be set on a copy of a slice from a DataFrame.\n",
      "Try using .loc[row_indexer,col_indexer] = value instead\n",
      "\n",
      "See the caveats in the documentation: https://pandas.pydata.org/pandas-docs/stable/user_guide/indexing.html#returning-a-view-versus-a-copy\n",
      "  data[model + \"_Q\"] = data.apply(lambda x: Q_dict[x.gridnum][x.transformed_state], axis=1)\n"
     ]
    },
    {
     "name": "stdout",
     "output_type": "stream",
     "text": [
      "Iteration No: 228 ended. Search finished for the next optimal point.\n",
      "Time taken: 54.2972\n",
      "Function value obtained: 13101.9615\n",
      "Current minimum: 13014.7061\n",
      "Iteration No: 229 started. Searching for the next optimal point.\n"
     ]
    },
    {
     "name": "stderr",
     "output_type": "stream",
     "text": [
      "/var/folders/6y/gzz1g_p559n80dc3_f2fl6m80000gn/T/ipykernel_54320/3668836295.py:32: SettingWithCopyWarning: \n",
      "A value is trying to be set on a copy of a slice from a DataFrame.\n",
      "Try using .loc[row_indexer,col_indexer] = value instead\n",
      "\n",
      "See the caveats in the documentation: https://pandas.pydata.org/pandas-docs/stable/user_guide/indexing.html#returning-a-view-versus-a-copy\n",
      "  data[model + \"_Q\"] = data.apply(lambda x: Q_dict[x.gridnum][x.transformed_state], axis=1)\n"
     ]
    },
    {
     "name": "stdout",
     "output_type": "stream",
     "text": [
      "Iteration No: 229 ended. Search finished for the next optimal point.\n",
      "Time taken: 65.9309\n",
      "Function value obtained: 13091.2850\n",
      "Current minimum: 13014.7061\n",
      "Iteration No: 230 started. Searching for the next optimal point.\n"
     ]
    },
    {
     "name": "stderr",
     "output_type": "stream",
     "text": [
      "/var/folders/6y/gzz1g_p559n80dc3_f2fl6m80000gn/T/ipykernel_54320/3668836295.py:32: SettingWithCopyWarning: \n",
      "A value is trying to be set on a copy of a slice from a DataFrame.\n",
      "Try using .loc[row_indexer,col_indexer] = value instead\n",
      "\n",
      "See the caveats in the documentation: https://pandas.pydata.org/pandas-docs/stable/user_guide/indexing.html#returning-a-view-versus-a-copy\n",
      "  data[model + \"_Q\"] = data.apply(lambda x: Q_dict[x.gridnum][x.transformed_state], axis=1)\n"
     ]
    },
    {
     "name": "stdout",
     "output_type": "stream",
     "text": [
      "Iteration No: 230 ended. Search finished for the next optimal point.\n",
      "Time taken: 58.2239\n",
      "Function value obtained: 13133.5800\n",
      "Current minimum: 13014.7061\n",
      "Iteration No: 231 started. Searching for the next optimal point.\n"
     ]
    },
    {
     "name": "stderr",
     "output_type": "stream",
     "text": [
      "/var/folders/6y/gzz1g_p559n80dc3_f2fl6m80000gn/T/ipykernel_54320/3668836295.py:32: SettingWithCopyWarning: \n",
      "A value is trying to be set on a copy of a slice from a DataFrame.\n",
      "Try using .loc[row_indexer,col_indexer] = value instead\n",
      "\n",
      "See the caveats in the documentation: https://pandas.pydata.org/pandas-docs/stable/user_guide/indexing.html#returning-a-view-versus-a-copy\n",
      "  data[model + \"_Q\"] = data.apply(lambda x: Q_dict[x.gridnum][x.transformed_state], axis=1)\n"
     ]
    },
    {
     "name": "stdout",
     "output_type": "stream",
     "text": [
      "Iteration No: 231 ended. Search finished for the next optimal point.\n",
      "Time taken: 48.4341\n",
      "Function value obtained: 13078.3058\n",
      "Current minimum: 13014.7061\n",
      "Iteration No: 232 started. Searching for the next optimal point.\n"
     ]
    },
    {
     "name": "stderr",
     "output_type": "stream",
     "text": [
      "/var/folders/6y/gzz1g_p559n80dc3_f2fl6m80000gn/T/ipykernel_54320/3668836295.py:32: SettingWithCopyWarning: \n",
      "A value is trying to be set on a copy of a slice from a DataFrame.\n",
      "Try using .loc[row_indexer,col_indexer] = value instead\n",
      "\n",
      "See the caveats in the documentation: https://pandas.pydata.org/pandas-docs/stable/user_guide/indexing.html#returning-a-view-versus-a-copy\n",
      "  data[model + \"_Q\"] = data.apply(lambda x: Q_dict[x.gridnum][x.transformed_state], axis=1)\n"
     ]
    },
    {
     "name": "stdout",
     "output_type": "stream",
     "text": [
      "Iteration No: 232 ended. Search finished for the next optimal point.\n",
      "Time taken: 26.2362\n",
      "Function value obtained: 13056.2606\n",
      "Current minimum: 13014.7061\n",
      "Iteration No: 233 started. Searching for the next optimal point.\n"
     ]
    },
    {
     "name": "stderr",
     "output_type": "stream",
     "text": [
      "/var/folders/6y/gzz1g_p559n80dc3_f2fl6m80000gn/T/ipykernel_54320/3668836295.py:32: SettingWithCopyWarning: \n",
      "A value is trying to be set on a copy of a slice from a DataFrame.\n",
      "Try using .loc[row_indexer,col_indexer] = value instead\n",
      "\n",
      "See the caveats in the documentation: https://pandas.pydata.org/pandas-docs/stable/user_guide/indexing.html#returning-a-view-versus-a-copy\n",
      "  data[model + \"_Q\"] = data.apply(lambda x: Q_dict[x.gridnum][x.transformed_state], axis=1)\n"
     ]
    },
    {
     "name": "stdout",
     "output_type": "stream",
     "text": [
      "Iteration No: 233 ended. Search finished for the next optimal point.\n",
      "Time taken: 24.2952\n",
      "Function value obtained: 13129.7397\n",
      "Current minimum: 13014.7061\n",
      "Iteration No: 234 started. Searching for the next optimal point.\n"
     ]
    },
    {
     "name": "stderr",
     "output_type": "stream",
     "text": [
      "/var/folders/6y/gzz1g_p559n80dc3_f2fl6m80000gn/T/ipykernel_54320/3668836295.py:32: SettingWithCopyWarning: \n",
      "A value is trying to be set on a copy of a slice from a DataFrame.\n",
      "Try using .loc[row_indexer,col_indexer] = value instead\n",
      "\n",
      "See the caveats in the documentation: https://pandas.pydata.org/pandas-docs/stable/user_guide/indexing.html#returning-a-view-versus-a-copy\n",
      "  data[model + \"_Q\"] = data.apply(lambda x: Q_dict[x.gridnum][x.transformed_state], axis=1)\n"
     ]
    },
    {
     "name": "stdout",
     "output_type": "stream",
     "text": [
      "Iteration No: 234 ended. Search finished for the next optimal point.\n",
      "Time taken: 31.8294\n",
      "Function value obtained: 13110.7109\n",
      "Current minimum: 13014.7061\n",
      "Iteration No: 235 started. Searching for the next optimal point.\n"
     ]
    },
    {
     "name": "stderr",
     "output_type": "stream",
     "text": [
      "/var/folders/6y/gzz1g_p559n80dc3_f2fl6m80000gn/T/ipykernel_54320/3668836295.py:32: SettingWithCopyWarning: \n",
      "A value is trying to be set on a copy of a slice from a DataFrame.\n",
      "Try using .loc[row_indexer,col_indexer] = value instead\n",
      "\n",
      "See the caveats in the documentation: https://pandas.pydata.org/pandas-docs/stable/user_guide/indexing.html#returning-a-view-versus-a-copy\n",
      "  data[model + \"_Q\"] = data.apply(lambda x: Q_dict[x.gridnum][x.transformed_state], axis=1)\n"
     ]
    },
    {
     "name": "stdout",
     "output_type": "stream",
     "text": [
      "Iteration No: 235 ended. Search finished for the next optimal point.\n",
      "Time taken: 64.8903\n",
      "Function value obtained: 13115.1385\n",
      "Current minimum: 13014.7061\n",
      "Iteration No: 236 started. Searching for the next optimal point.\n"
     ]
    },
    {
     "name": "stderr",
     "output_type": "stream",
     "text": [
      "/var/folders/6y/gzz1g_p559n80dc3_f2fl6m80000gn/T/ipykernel_54320/3668836295.py:32: SettingWithCopyWarning: \n",
      "A value is trying to be set on a copy of a slice from a DataFrame.\n",
      "Try using .loc[row_indexer,col_indexer] = value instead\n",
      "\n",
      "See the caveats in the documentation: https://pandas.pydata.org/pandas-docs/stable/user_guide/indexing.html#returning-a-view-versus-a-copy\n",
      "  data[model + \"_Q\"] = data.apply(lambda x: Q_dict[x.gridnum][x.transformed_state], axis=1)\n"
     ]
    },
    {
     "name": "stdout",
     "output_type": "stream",
     "text": [
      "Iteration No: 236 ended. Search finished for the next optimal point.\n",
      "Time taken: 44.4503\n",
      "Function value obtained: 13094.2363\n",
      "Current minimum: 13014.7061\n",
      "Iteration No: 237 started. Searching for the next optimal point.\n"
     ]
    },
    {
     "name": "stderr",
     "output_type": "stream",
     "text": [
      "/var/folders/6y/gzz1g_p559n80dc3_f2fl6m80000gn/T/ipykernel_54320/3668836295.py:32: SettingWithCopyWarning: \n",
      "A value is trying to be set on a copy of a slice from a DataFrame.\n",
      "Try using .loc[row_indexer,col_indexer] = value instead\n",
      "\n",
      "See the caveats in the documentation: https://pandas.pydata.org/pandas-docs/stable/user_guide/indexing.html#returning-a-view-versus-a-copy\n",
      "  data[model + \"_Q\"] = data.apply(lambda x: Q_dict[x.gridnum][x.transformed_state], axis=1)\n"
     ]
    },
    {
     "name": "stdout",
     "output_type": "stream",
     "text": [
      "Iteration No: 237 ended. Search finished for the next optimal point.\n",
      "Time taken: 58.4534\n",
      "Function value obtained: 13087.8063\n",
      "Current minimum: 13014.7061\n",
      "Iteration No: 238 started. Searching for the next optimal point.\n"
     ]
    },
    {
     "name": "stderr",
     "output_type": "stream",
     "text": [
      "/var/folders/6y/gzz1g_p559n80dc3_f2fl6m80000gn/T/ipykernel_54320/3668836295.py:32: SettingWithCopyWarning: \n",
      "A value is trying to be set on a copy of a slice from a DataFrame.\n",
      "Try using .loc[row_indexer,col_indexer] = value instead\n",
      "\n",
      "See the caveats in the documentation: https://pandas.pydata.org/pandas-docs/stable/user_guide/indexing.html#returning-a-view-versus-a-copy\n",
      "  data[model + \"_Q\"] = data.apply(lambda x: Q_dict[x.gridnum][x.transformed_state], axis=1)\n"
     ]
    },
    {
     "name": "stdout",
     "output_type": "stream",
     "text": [
      "Iteration No: 238 ended. Search finished for the next optimal point.\n",
      "Time taken: 46.0616\n",
      "Function value obtained: 13075.2575\n",
      "Current minimum: 13014.7061\n",
      "Iteration No: 239 started. Searching for the next optimal point.\n"
     ]
    },
    {
     "name": "stderr",
     "output_type": "stream",
     "text": [
      "/var/folders/6y/gzz1g_p559n80dc3_f2fl6m80000gn/T/ipykernel_54320/3668836295.py:32: SettingWithCopyWarning: \n",
      "A value is trying to be set on a copy of a slice from a DataFrame.\n",
      "Try using .loc[row_indexer,col_indexer] = value instead\n",
      "\n",
      "See the caveats in the documentation: https://pandas.pydata.org/pandas-docs/stable/user_guide/indexing.html#returning-a-view-versus-a-copy\n",
      "  data[model + \"_Q\"] = data.apply(lambda x: Q_dict[x.gridnum][x.transformed_state], axis=1)\n"
     ]
    },
    {
     "name": "stdout",
     "output_type": "stream",
     "text": [
      "Iteration No: 239 ended. Search finished for the next optimal point.\n",
      "Time taken: 46.8323\n",
      "Function value obtained: 13126.0957\n",
      "Current minimum: 13014.7061\n",
      "Iteration No: 240 started. Searching for the next optimal point.\n"
     ]
    },
    {
     "name": "stderr",
     "output_type": "stream",
     "text": [
      "/var/folders/6y/gzz1g_p559n80dc3_f2fl6m80000gn/T/ipykernel_54320/3668836295.py:32: SettingWithCopyWarning: \n",
      "A value is trying to be set on a copy of a slice from a DataFrame.\n",
      "Try using .loc[row_indexer,col_indexer] = value instead\n",
      "\n",
      "See the caveats in the documentation: https://pandas.pydata.org/pandas-docs/stable/user_guide/indexing.html#returning-a-view-versus-a-copy\n",
      "  data[model + \"_Q\"] = data.apply(lambda x: Q_dict[x.gridnum][x.transformed_state], axis=1)\n"
     ]
    },
    {
     "name": "stdout",
     "output_type": "stream",
     "text": [
      "Iteration No: 240 ended. Search finished for the next optimal point.\n",
      "Time taken: 50.8468\n",
      "Function value obtained: 13079.6893\n",
      "Current minimum: 13014.7061\n",
      "Iteration No: 241 started. Searching for the next optimal point.\n"
     ]
    },
    {
     "name": "stderr",
     "output_type": "stream",
     "text": [
      "/var/folders/6y/gzz1g_p559n80dc3_f2fl6m80000gn/T/ipykernel_54320/3668836295.py:32: SettingWithCopyWarning: \n",
      "A value is trying to be set on a copy of a slice from a DataFrame.\n",
      "Try using .loc[row_indexer,col_indexer] = value instead\n",
      "\n",
      "See the caveats in the documentation: https://pandas.pydata.org/pandas-docs/stable/user_guide/indexing.html#returning-a-view-versus-a-copy\n",
      "  data[model + \"_Q\"] = data.apply(lambda x: Q_dict[x.gridnum][x.transformed_state], axis=1)\n"
     ]
    },
    {
     "name": "stdout",
     "output_type": "stream",
     "text": [
      "Iteration No: 241 ended. Search finished for the next optimal point.\n",
      "Time taken: 64.6987\n",
      "Function value obtained: 13134.9288\n",
      "Current minimum: 13014.7061\n",
      "Iteration No: 242 started. Searching for the next optimal point.\n"
     ]
    },
    {
     "name": "stderr",
     "output_type": "stream",
     "text": [
      "/var/folders/6y/gzz1g_p559n80dc3_f2fl6m80000gn/T/ipykernel_54320/3668836295.py:32: SettingWithCopyWarning: \n",
      "A value is trying to be set on a copy of a slice from a DataFrame.\n",
      "Try using .loc[row_indexer,col_indexer] = value instead\n",
      "\n",
      "See the caveats in the documentation: https://pandas.pydata.org/pandas-docs/stable/user_guide/indexing.html#returning-a-view-versus-a-copy\n",
      "  data[model + \"_Q\"] = data.apply(lambda x: Q_dict[x.gridnum][x.transformed_state], axis=1)\n"
     ]
    },
    {
     "name": "stdout",
     "output_type": "stream",
     "text": [
      "Iteration No: 242 ended. Search finished for the next optimal point.\n",
      "Time taken: 41.1705\n",
      "Function value obtained: 13132.3613\n",
      "Current minimum: 13014.7061\n",
      "Iteration No: 243 started. Searching for the next optimal point.\n"
     ]
    },
    {
     "name": "stderr",
     "output_type": "stream",
     "text": [
      "/var/folders/6y/gzz1g_p559n80dc3_f2fl6m80000gn/T/ipykernel_54320/3668836295.py:32: SettingWithCopyWarning: \n",
      "A value is trying to be set on a copy of a slice from a DataFrame.\n",
      "Try using .loc[row_indexer,col_indexer] = value instead\n",
      "\n",
      "See the caveats in the documentation: https://pandas.pydata.org/pandas-docs/stable/user_guide/indexing.html#returning-a-view-versus-a-copy\n",
      "  data[model + \"_Q\"] = data.apply(lambda x: Q_dict[x.gridnum][x.transformed_state], axis=1)\n"
     ]
    },
    {
     "name": "stdout",
     "output_type": "stream",
     "text": [
      "Iteration No: 243 ended. Search finished for the next optimal point.\n",
      "Time taken: 77.3536\n",
      "Function value obtained: 13113.5430\n",
      "Current minimum: 13014.7061\n",
      "Iteration No: 244 started. Searching for the next optimal point.\n"
     ]
    },
    {
     "name": "stderr",
     "output_type": "stream",
     "text": [
      "/var/folders/6y/gzz1g_p559n80dc3_f2fl6m80000gn/T/ipykernel_54320/3668836295.py:32: SettingWithCopyWarning: \n",
      "A value is trying to be set on a copy of a slice from a DataFrame.\n",
      "Try using .loc[row_indexer,col_indexer] = value instead\n",
      "\n",
      "See the caveats in the documentation: https://pandas.pydata.org/pandas-docs/stable/user_guide/indexing.html#returning-a-view-versus-a-copy\n",
      "  data[model + \"_Q\"] = data.apply(lambda x: Q_dict[x.gridnum][x.transformed_state], axis=1)\n"
     ]
    },
    {
     "name": "stdout",
     "output_type": "stream",
     "text": [
      "Iteration No: 244 ended. Search finished for the next optimal point.\n",
      "Time taken: 32.7053\n",
      "Function value obtained: 13143.1891\n",
      "Current minimum: 13014.7061\n",
      "Iteration No: 245 started. Searching for the next optimal point.\n"
     ]
    },
    {
     "name": "stderr",
     "output_type": "stream",
     "text": [
      "/var/folders/6y/gzz1g_p559n80dc3_f2fl6m80000gn/T/ipykernel_54320/3668836295.py:32: SettingWithCopyWarning: \n",
      "A value is trying to be set on a copy of a slice from a DataFrame.\n",
      "Try using .loc[row_indexer,col_indexer] = value instead\n",
      "\n",
      "See the caveats in the documentation: https://pandas.pydata.org/pandas-docs/stable/user_guide/indexing.html#returning-a-view-versus-a-copy\n",
      "  data[model + \"_Q\"] = data.apply(lambda x: Q_dict[x.gridnum][x.transformed_state], axis=1)\n"
     ]
    },
    {
     "name": "stdout",
     "output_type": "stream",
     "text": [
      "Iteration No: 245 ended. Search finished for the next optimal point.\n",
      "Time taken: 41.6738\n",
      "Function value obtained: 13048.7943\n",
      "Current minimum: 13014.7061\n",
      "Iteration No: 246 started. Searching for the next optimal point.\n"
     ]
    },
    {
     "name": "stderr",
     "output_type": "stream",
     "text": [
      "/var/folders/6y/gzz1g_p559n80dc3_f2fl6m80000gn/T/ipykernel_54320/3668836295.py:32: SettingWithCopyWarning: \n",
      "A value is trying to be set on a copy of a slice from a DataFrame.\n",
      "Try using .loc[row_indexer,col_indexer] = value instead\n",
      "\n",
      "See the caveats in the documentation: https://pandas.pydata.org/pandas-docs/stable/user_guide/indexing.html#returning-a-view-versus-a-copy\n",
      "  data[model + \"_Q\"] = data.apply(lambda x: Q_dict[x.gridnum][x.transformed_state], axis=1)\n"
     ]
    },
    {
     "name": "stdout",
     "output_type": "stream",
     "text": [
      "Iteration No: 246 ended. Search finished for the next optimal point.\n",
      "Time taken: 41.1583\n",
      "Function value obtained: 13104.4541\n",
      "Current minimum: 13014.7061\n",
      "Iteration No: 247 started. Searching for the next optimal point.\n"
     ]
    },
    {
     "name": "stderr",
     "output_type": "stream",
     "text": [
      "/var/folders/6y/gzz1g_p559n80dc3_f2fl6m80000gn/T/ipykernel_54320/3668836295.py:32: SettingWithCopyWarning: \n",
      "A value is trying to be set on a copy of a slice from a DataFrame.\n",
      "Try using .loc[row_indexer,col_indexer] = value instead\n",
      "\n",
      "See the caveats in the documentation: https://pandas.pydata.org/pandas-docs/stable/user_guide/indexing.html#returning-a-view-versus-a-copy\n",
      "  data[model + \"_Q\"] = data.apply(lambda x: Q_dict[x.gridnum][x.transformed_state], axis=1)\n"
     ]
    },
    {
     "name": "stdout",
     "output_type": "stream",
     "text": [
      "Iteration No: 247 ended. Search finished for the next optimal point.\n",
      "Time taken: 48.7040\n",
      "Function value obtained: 13115.5377\n",
      "Current minimum: 13014.7061\n",
      "Iteration No: 248 started. Searching for the next optimal point.\n"
     ]
    },
    {
     "name": "stderr",
     "output_type": "stream",
     "text": [
      "/var/folders/6y/gzz1g_p559n80dc3_f2fl6m80000gn/T/ipykernel_54320/3668836295.py:32: SettingWithCopyWarning: \n",
      "A value is trying to be set on a copy of a slice from a DataFrame.\n",
      "Try using .loc[row_indexer,col_indexer] = value instead\n",
      "\n",
      "See the caveats in the documentation: https://pandas.pydata.org/pandas-docs/stable/user_guide/indexing.html#returning-a-view-versus-a-copy\n",
      "  data[model + \"_Q\"] = data.apply(lambda x: Q_dict[x.gridnum][x.transformed_state], axis=1)\n"
     ]
    },
    {
     "name": "stdout",
     "output_type": "stream",
     "text": [
      "Iteration No: 248 ended. Search finished for the next optimal point.\n",
      "Time taken: 35.9665\n",
      "Function value obtained: 13087.7643\n",
      "Current minimum: 13014.7061\n",
      "Iteration No: 249 started. Searching for the next optimal point.\n"
     ]
    },
    {
     "name": "stderr",
     "output_type": "stream",
     "text": [
      "/var/folders/6y/gzz1g_p559n80dc3_f2fl6m80000gn/T/ipykernel_54320/3668836295.py:32: SettingWithCopyWarning: \n",
      "A value is trying to be set on a copy of a slice from a DataFrame.\n",
      "Try using .loc[row_indexer,col_indexer] = value instead\n",
      "\n",
      "See the caveats in the documentation: https://pandas.pydata.org/pandas-docs/stable/user_guide/indexing.html#returning-a-view-versus-a-copy\n",
      "  data[model + \"_Q\"] = data.apply(lambda x: Q_dict[x.gridnum][x.transformed_state], axis=1)\n"
     ]
    },
    {
     "name": "stdout",
     "output_type": "stream",
     "text": [
      "Iteration No: 249 ended. Search finished for the next optimal point.\n",
      "Time taken: 52.3359\n",
      "Function value obtained: 13088.1401\n",
      "Current minimum: 13014.7061\n",
      "Iteration No: 250 started. Searching for the next optimal point.\n"
     ]
    },
    {
     "name": "stderr",
     "output_type": "stream",
     "text": [
      "/var/folders/6y/gzz1g_p559n80dc3_f2fl6m80000gn/T/ipykernel_54320/3668836295.py:32: SettingWithCopyWarning: \n",
      "A value is trying to be set on a copy of a slice from a DataFrame.\n",
      "Try using .loc[row_indexer,col_indexer] = value instead\n",
      "\n",
      "See the caveats in the documentation: https://pandas.pydata.org/pandas-docs/stable/user_guide/indexing.html#returning-a-view-versus-a-copy\n",
      "  data[model + \"_Q\"] = data.apply(lambda x: Q_dict[x.gridnum][x.transformed_state], axis=1)\n"
     ]
    },
    {
     "name": "stdout",
     "output_type": "stream",
     "text": [
      "Iteration No: 250 ended. Search finished for the next optimal point.\n",
      "Time taken: 55.0532\n",
      "Function value obtained: 13050.8927\n",
      "Current minimum: 13014.7061\n",
      "Iteration No: 251 started. Searching for the next optimal point.\n"
     ]
    },
    {
     "name": "stderr",
     "output_type": "stream",
     "text": [
      "/var/folders/6y/gzz1g_p559n80dc3_f2fl6m80000gn/T/ipykernel_54320/3668836295.py:32: SettingWithCopyWarning: \n",
      "A value is trying to be set on a copy of a slice from a DataFrame.\n",
      "Try using .loc[row_indexer,col_indexer] = value instead\n",
      "\n",
      "See the caveats in the documentation: https://pandas.pydata.org/pandas-docs/stable/user_guide/indexing.html#returning-a-view-versus-a-copy\n",
      "  data[model + \"_Q\"] = data.apply(lambda x: Q_dict[x.gridnum][x.transformed_state], axis=1)\n"
     ]
    },
    {
     "name": "stdout",
     "output_type": "stream",
     "text": [
      "Iteration No: 251 ended. Search finished for the next optimal point.\n",
      "Time taken: 48.1046\n",
      "Function value obtained: 13099.8802\n",
      "Current minimum: 13014.7061\n",
      "Iteration No: 252 started. Searching for the next optimal point.\n"
     ]
    },
    {
     "name": "stderr",
     "output_type": "stream",
     "text": [
      "/var/folders/6y/gzz1g_p559n80dc3_f2fl6m80000gn/T/ipykernel_54320/3668836295.py:32: SettingWithCopyWarning: \n",
      "A value is trying to be set on a copy of a slice from a DataFrame.\n",
      "Try using .loc[row_indexer,col_indexer] = value instead\n",
      "\n",
      "See the caveats in the documentation: https://pandas.pydata.org/pandas-docs/stable/user_guide/indexing.html#returning-a-view-versus-a-copy\n",
      "  data[model + \"_Q\"] = data.apply(lambda x: Q_dict[x.gridnum][x.transformed_state], axis=1)\n"
     ]
    },
    {
     "name": "stdout",
     "output_type": "stream",
     "text": [
      "Iteration No: 252 ended. Search finished for the next optimal point.\n",
      "Time taken: 71.3926\n",
      "Function value obtained: 13117.7114\n",
      "Current minimum: 13014.7061\n",
      "Iteration No: 253 started. Searching for the next optimal point.\n"
     ]
    },
    {
     "name": "stderr",
     "output_type": "stream",
     "text": [
      "/var/folders/6y/gzz1g_p559n80dc3_f2fl6m80000gn/T/ipykernel_54320/3668836295.py:32: SettingWithCopyWarning: \n",
      "A value is trying to be set on a copy of a slice from a DataFrame.\n",
      "Try using .loc[row_indexer,col_indexer] = value instead\n",
      "\n",
      "See the caveats in the documentation: https://pandas.pydata.org/pandas-docs/stable/user_guide/indexing.html#returning-a-view-versus-a-copy\n",
      "  data[model + \"_Q\"] = data.apply(lambda x: Q_dict[x.gridnum][x.transformed_state], axis=1)\n"
     ]
    },
    {
     "name": "stdout",
     "output_type": "stream",
     "text": [
      "Iteration No: 253 ended. Search finished for the next optimal point.\n",
      "Time taken: 55.4451\n",
      "Function value obtained: 13165.6776\n",
      "Current minimum: 13014.7061\n",
      "Iteration No: 254 started. Searching for the next optimal point.\n"
     ]
    },
    {
     "name": "stderr",
     "output_type": "stream",
     "text": [
      "/var/folders/6y/gzz1g_p559n80dc3_f2fl6m80000gn/T/ipykernel_54320/3668836295.py:32: SettingWithCopyWarning: \n",
      "A value is trying to be set on a copy of a slice from a DataFrame.\n",
      "Try using .loc[row_indexer,col_indexer] = value instead\n",
      "\n",
      "See the caveats in the documentation: https://pandas.pydata.org/pandas-docs/stable/user_guide/indexing.html#returning-a-view-versus-a-copy\n",
      "  data[model + \"_Q\"] = data.apply(lambda x: Q_dict[x.gridnum][x.transformed_state], axis=1)\n"
     ]
    },
    {
     "name": "stdout",
     "output_type": "stream",
     "text": [
      "Iteration No: 254 ended. Search finished for the next optimal point.\n",
      "Time taken: 49.5229\n",
      "Function value obtained: 13076.0258\n",
      "Current minimum: 13014.7061\n",
      "Iteration No: 255 started. Searching for the next optimal point.\n"
     ]
    },
    {
     "name": "stderr",
     "output_type": "stream",
     "text": [
      "/var/folders/6y/gzz1g_p559n80dc3_f2fl6m80000gn/T/ipykernel_54320/3668836295.py:32: SettingWithCopyWarning: \n",
      "A value is trying to be set on a copy of a slice from a DataFrame.\n",
      "Try using .loc[row_indexer,col_indexer] = value instead\n",
      "\n",
      "See the caveats in the documentation: https://pandas.pydata.org/pandas-docs/stable/user_guide/indexing.html#returning-a-view-versus-a-copy\n",
      "  data[model + \"_Q\"] = data.apply(lambda x: Q_dict[x.gridnum][x.transformed_state], axis=1)\n"
     ]
    },
    {
     "name": "stdout",
     "output_type": "stream",
     "text": [
      "Iteration No: 255 ended. Search finished for the next optimal point.\n",
      "Time taken: 61.7422\n",
      "Function value obtained: 13095.7229\n",
      "Current minimum: 13014.7061\n",
      "Iteration No: 256 started. Searching for the next optimal point.\n"
     ]
    },
    {
     "name": "stderr",
     "output_type": "stream",
     "text": [
      "/var/folders/6y/gzz1g_p559n80dc3_f2fl6m80000gn/T/ipykernel_54320/3668836295.py:32: SettingWithCopyWarning: \n",
      "A value is trying to be set on a copy of a slice from a DataFrame.\n",
      "Try using .loc[row_indexer,col_indexer] = value instead\n",
      "\n",
      "See the caveats in the documentation: https://pandas.pydata.org/pandas-docs/stable/user_guide/indexing.html#returning-a-view-versus-a-copy\n",
      "  data[model + \"_Q\"] = data.apply(lambda x: Q_dict[x.gridnum][x.transformed_state], axis=1)\n"
     ]
    },
    {
     "name": "stdout",
     "output_type": "stream",
     "text": [
      "Iteration No: 256 ended. Search finished for the next optimal point.\n",
      "Time taken: 28.1076\n",
      "Function value obtained: 13081.3997\n",
      "Current minimum: 13014.7061\n",
      "Iteration No: 257 started. Searching for the next optimal point.\n"
     ]
    },
    {
     "name": "stderr",
     "output_type": "stream",
     "text": [
      "/var/folders/6y/gzz1g_p559n80dc3_f2fl6m80000gn/T/ipykernel_54320/3668836295.py:32: SettingWithCopyWarning: \n",
      "A value is trying to be set on a copy of a slice from a DataFrame.\n",
      "Try using .loc[row_indexer,col_indexer] = value instead\n",
      "\n",
      "See the caveats in the documentation: https://pandas.pydata.org/pandas-docs/stable/user_guide/indexing.html#returning-a-view-versus-a-copy\n",
      "  data[model + \"_Q\"] = data.apply(lambda x: Q_dict[x.gridnum][x.transformed_state], axis=1)\n"
     ]
    },
    {
     "name": "stdout",
     "output_type": "stream",
     "text": [
      "Iteration No: 257 ended. Search finished for the next optimal point.\n",
      "Time taken: 54.6403\n",
      "Function value obtained: 13102.3601\n",
      "Current minimum: 13014.7061\n",
      "Iteration No: 258 started. Searching for the next optimal point.\n"
     ]
    },
    {
     "name": "stderr",
     "output_type": "stream",
     "text": [
      "/var/folders/6y/gzz1g_p559n80dc3_f2fl6m80000gn/T/ipykernel_54320/3668836295.py:32: SettingWithCopyWarning: \n",
      "A value is trying to be set on a copy of a slice from a DataFrame.\n",
      "Try using .loc[row_indexer,col_indexer] = value instead\n",
      "\n",
      "See the caveats in the documentation: https://pandas.pydata.org/pandas-docs/stable/user_guide/indexing.html#returning-a-view-versus-a-copy\n",
      "  data[model + \"_Q\"] = data.apply(lambda x: Q_dict[x.gridnum][x.transformed_state], axis=1)\n"
     ]
    },
    {
     "name": "stdout",
     "output_type": "stream",
     "text": [
      "Iteration No: 258 ended. Search finished for the next optimal point.\n",
      "Time taken: 53.3629\n",
      "Function value obtained: 13083.7484\n",
      "Current minimum: 13014.7061\n",
      "Iteration No: 259 started. Searching for the next optimal point.\n"
     ]
    },
    {
     "name": "stderr",
     "output_type": "stream",
     "text": [
      "/var/folders/6y/gzz1g_p559n80dc3_f2fl6m80000gn/T/ipykernel_54320/3668836295.py:32: SettingWithCopyWarning: \n",
      "A value is trying to be set on a copy of a slice from a DataFrame.\n",
      "Try using .loc[row_indexer,col_indexer] = value instead\n",
      "\n",
      "See the caveats in the documentation: https://pandas.pydata.org/pandas-docs/stable/user_guide/indexing.html#returning-a-view-versus-a-copy\n",
      "  data[model + \"_Q\"] = data.apply(lambda x: Q_dict[x.gridnum][x.transformed_state], axis=1)\n"
     ]
    },
    {
     "name": "stdout",
     "output_type": "stream",
     "text": [
      "Iteration No: 259 ended. Search finished for the next optimal point.\n",
      "Time taken: 55.6869\n",
      "Function value obtained: 13097.0868\n",
      "Current minimum: 13014.7061\n",
      "Iteration No: 260 started. Searching for the next optimal point.\n"
     ]
    },
    {
     "name": "stderr",
     "output_type": "stream",
     "text": [
      "/var/folders/6y/gzz1g_p559n80dc3_f2fl6m80000gn/T/ipykernel_54320/3668836295.py:32: SettingWithCopyWarning: \n",
      "A value is trying to be set on a copy of a slice from a DataFrame.\n",
      "Try using .loc[row_indexer,col_indexer] = value instead\n",
      "\n",
      "See the caveats in the documentation: https://pandas.pydata.org/pandas-docs/stable/user_guide/indexing.html#returning-a-view-versus-a-copy\n",
      "  data[model + \"_Q\"] = data.apply(lambda x: Q_dict[x.gridnum][x.transformed_state], axis=1)\n"
     ]
    },
    {
     "name": "stdout",
     "output_type": "stream",
     "text": [
      "Iteration No: 260 ended. Search finished for the next optimal point.\n",
      "Time taken: 41.1596\n",
      "Function value obtained: 13052.7681\n",
      "Current minimum: 13014.7061\n",
      "Iteration No: 261 started. Searching for the next optimal point.\n"
     ]
    },
    {
     "name": "stderr",
     "output_type": "stream",
     "text": [
      "/var/folders/6y/gzz1g_p559n80dc3_f2fl6m80000gn/T/ipykernel_54320/3668836295.py:32: SettingWithCopyWarning: \n",
      "A value is trying to be set on a copy of a slice from a DataFrame.\n",
      "Try using .loc[row_indexer,col_indexer] = value instead\n",
      "\n",
      "See the caveats in the documentation: https://pandas.pydata.org/pandas-docs/stable/user_guide/indexing.html#returning-a-view-versus-a-copy\n",
      "  data[model + \"_Q\"] = data.apply(lambda x: Q_dict[x.gridnum][x.transformed_state], axis=1)\n"
     ]
    },
    {
     "name": "stdout",
     "output_type": "stream",
     "text": [
      "Iteration No: 261 ended. Search finished for the next optimal point.\n",
      "Time taken: 40.5265\n",
      "Function value obtained: 13055.2071\n",
      "Current minimum: 13014.7061\n",
      "Iteration No: 262 started. Searching for the next optimal point.\n"
     ]
    },
    {
     "name": "stderr",
     "output_type": "stream",
     "text": [
      "/var/folders/6y/gzz1g_p559n80dc3_f2fl6m80000gn/T/ipykernel_54320/3668836295.py:32: SettingWithCopyWarning: \n",
      "A value is trying to be set on a copy of a slice from a DataFrame.\n",
      "Try using .loc[row_indexer,col_indexer] = value instead\n",
      "\n",
      "See the caveats in the documentation: https://pandas.pydata.org/pandas-docs/stable/user_guide/indexing.html#returning-a-view-versus-a-copy\n",
      "  data[model + \"_Q\"] = data.apply(lambda x: Q_dict[x.gridnum][x.transformed_state], axis=1)\n"
     ]
    },
    {
     "name": "stdout",
     "output_type": "stream",
     "text": [
      "Iteration No: 262 ended. Search finished for the next optimal point.\n",
      "Time taken: 44.0111\n",
      "Function value obtained: 13097.3984\n",
      "Current minimum: 13014.7061\n",
      "Iteration No: 263 started. Searching for the next optimal point.\n"
     ]
    },
    {
     "name": "stderr",
     "output_type": "stream",
     "text": [
      "/var/folders/6y/gzz1g_p559n80dc3_f2fl6m80000gn/T/ipykernel_54320/3668836295.py:32: SettingWithCopyWarning: \n",
      "A value is trying to be set on a copy of a slice from a DataFrame.\n",
      "Try using .loc[row_indexer,col_indexer] = value instead\n",
      "\n",
      "See the caveats in the documentation: https://pandas.pydata.org/pandas-docs/stable/user_guide/indexing.html#returning-a-view-versus-a-copy\n",
      "  data[model + \"_Q\"] = data.apply(lambda x: Q_dict[x.gridnum][x.transformed_state], axis=1)\n"
     ]
    },
    {
     "name": "stdout",
     "output_type": "stream",
     "text": [
      "Iteration No: 263 ended. Search finished for the next optimal point.\n",
      "Time taken: 40.6368\n",
      "Function value obtained: 13117.2253\n",
      "Current minimum: 13014.7061\n",
      "Iteration No: 264 started. Searching for the next optimal point.\n"
     ]
    },
    {
     "name": "stderr",
     "output_type": "stream",
     "text": [
      "/var/folders/6y/gzz1g_p559n80dc3_f2fl6m80000gn/T/ipykernel_54320/3668836295.py:32: SettingWithCopyWarning: \n",
      "A value is trying to be set on a copy of a slice from a DataFrame.\n",
      "Try using .loc[row_indexer,col_indexer] = value instead\n",
      "\n",
      "See the caveats in the documentation: https://pandas.pydata.org/pandas-docs/stable/user_guide/indexing.html#returning-a-view-versus-a-copy\n",
      "  data[model + \"_Q\"] = data.apply(lambda x: Q_dict[x.gridnum][x.transformed_state], axis=1)\n"
     ]
    },
    {
     "name": "stdout",
     "output_type": "stream",
     "text": [
      "Iteration No: 264 ended. Search finished for the next optimal point.\n",
      "Time taken: 65.5476\n",
      "Function value obtained: 13118.1046\n",
      "Current minimum: 13014.7061\n",
      "Iteration No: 265 started. Searching for the next optimal point.\n"
     ]
    },
    {
     "name": "stderr",
     "output_type": "stream",
     "text": [
      "/var/folders/6y/gzz1g_p559n80dc3_f2fl6m80000gn/T/ipykernel_54320/3668836295.py:32: SettingWithCopyWarning: \n",
      "A value is trying to be set on a copy of a slice from a DataFrame.\n",
      "Try using .loc[row_indexer,col_indexer] = value instead\n",
      "\n",
      "See the caveats in the documentation: https://pandas.pydata.org/pandas-docs/stable/user_guide/indexing.html#returning-a-view-versus-a-copy\n",
      "  data[model + \"_Q\"] = data.apply(lambda x: Q_dict[x.gridnum][x.transformed_state], axis=1)\n"
     ]
    },
    {
     "name": "stdout",
     "output_type": "stream",
     "text": [
      "Iteration No: 265 ended. Search finished for the next optimal point.\n",
      "Time taken: 38.6528\n",
      "Function value obtained: 13128.5535\n",
      "Current minimum: 13014.7061\n",
      "Iteration No: 266 started. Searching for the next optimal point.\n"
     ]
    },
    {
     "name": "stderr",
     "output_type": "stream",
     "text": [
      "/var/folders/6y/gzz1g_p559n80dc3_f2fl6m80000gn/T/ipykernel_54320/3668836295.py:32: SettingWithCopyWarning: \n",
      "A value is trying to be set on a copy of a slice from a DataFrame.\n",
      "Try using .loc[row_indexer,col_indexer] = value instead\n",
      "\n",
      "See the caveats in the documentation: https://pandas.pydata.org/pandas-docs/stable/user_guide/indexing.html#returning-a-view-versus-a-copy\n",
      "  data[model + \"_Q\"] = data.apply(lambda x: Q_dict[x.gridnum][x.transformed_state], axis=1)\n"
     ]
    },
    {
     "name": "stdout",
     "output_type": "stream",
     "text": [
      "Iteration No: 266 ended. Search finished for the next optimal point.\n",
      "Time taken: 24.9922\n",
      "Function value obtained: 13043.2895\n",
      "Current minimum: 13014.7061\n",
      "Iteration No: 267 started. Searching for the next optimal point.\n"
     ]
    },
    {
     "name": "stderr",
     "output_type": "stream",
     "text": [
      "/var/folders/6y/gzz1g_p559n80dc3_f2fl6m80000gn/T/ipykernel_54320/3668836295.py:32: SettingWithCopyWarning: \n",
      "A value is trying to be set on a copy of a slice from a DataFrame.\n",
      "Try using .loc[row_indexer,col_indexer] = value instead\n",
      "\n",
      "See the caveats in the documentation: https://pandas.pydata.org/pandas-docs/stable/user_guide/indexing.html#returning-a-view-versus-a-copy\n",
      "  data[model + \"_Q\"] = data.apply(lambda x: Q_dict[x.gridnum][x.transformed_state], axis=1)\n"
     ]
    },
    {
     "name": "stdout",
     "output_type": "stream",
     "text": [
      "Iteration No: 267 ended. Search finished for the next optimal point.\n",
      "Time taken: 25.3881\n",
      "Function value obtained: 13048.6581\n",
      "Current minimum: 13014.7061\n",
      "Iteration No: 268 started. Searching for the next optimal point.\n"
     ]
    },
    {
     "name": "stderr",
     "output_type": "stream",
     "text": [
      "/var/folders/6y/gzz1g_p559n80dc3_f2fl6m80000gn/T/ipykernel_54320/3668836295.py:32: SettingWithCopyWarning: \n",
      "A value is trying to be set on a copy of a slice from a DataFrame.\n",
      "Try using .loc[row_indexer,col_indexer] = value instead\n",
      "\n",
      "See the caveats in the documentation: https://pandas.pydata.org/pandas-docs/stable/user_guide/indexing.html#returning-a-view-versus-a-copy\n",
      "  data[model + \"_Q\"] = data.apply(lambda x: Q_dict[x.gridnum][x.transformed_state], axis=1)\n"
     ]
    },
    {
     "name": "stdout",
     "output_type": "stream",
     "text": [
      "Iteration No: 268 ended. Search finished for the next optimal point.\n",
      "Time taken: 25.2304\n",
      "Function value obtained: 13140.7943\n",
      "Current minimum: 13014.7061\n",
      "Iteration No: 269 started. Searching for the next optimal point.\n"
     ]
    },
    {
     "name": "stderr",
     "output_type": "stream",
     "text": [
      "/var/folders/6y/gzz1g_p559n80dc3_f2fl6m80000gn/T/ipykernel_54320/3668836295.py:32: SettingWithCopyWarning: \n",
      "A value is trying to be set on a copy of a slice from a DataFrame.\n",
      "Try using .loc[row_indexer,col_indexer] = value instead\n",
      "\n",
      "See the caveats in the documentation: https://pandas.pydata.org/pandas-docs/stable/user_guide/indexing.html#returning-a-view-versus-a-copy\n",
      "  data[model + \"_Q\"] = data.apply(lambda x: Q_dict[x.gridnum][x.transformed_state], axis=1)\n"
     ]
    },
    {
     "name": "stdout",
     "output_type": "stream",
     "text": [
      "Iteration No: 269 ended. Search finished for the next optimal point.\n",
      "Time taken: 56.2256\n",
      "Function value obtained: 13099.8563\n",
      "Current minimum: 13014.7061\n",
      "Iteration No: 270 started. Searching for the next optimal point.\n"
     ]
    },
    {
     "name": "stderr",
     "output_type": "stream",
     "text": [
      "/var/folders/6y/gzz1g_p559n80dc3_f2fl6m80000gn/T/ipykernel_54320/3668836295.py:32: SettingWithCopyWarning: \n",
      "A value is trying to be set on a copy of a slice from a DataFrame.\n",
      "Try using .loc[row_indexer,col_indexer] = value instead\n",
      "\n",
      "See the caveats in the documentation: https://pandas.pydata.org/pandas-docs/stable/user_guide/indexing.html#returning-a-view-versus-a-copy\n",
      "  data[model + \"_Q\"] = data.apply(lambda x: Q_dict[x.gridnum][x.transformed_state], axis=1)\n"
     ]
    },
    {
     "name": "stdout",
     "output_type": "stream",
     "text": [
      "Iteration No: 270 ended. Search finished for the next optimal point.\n",
      "Time taken: 33.9620\n",
      "Function value obtained: 13110.7038\n",
      "Current minimum: 13014.7061\n",
      "Iteration No: 271 started. Searching for the next optimal point.\n"
     ]
    },
    {
     "name": "stderr",
     "output_type": "stream",
     "text": [
      "/var/folders/6y/gzz1g_p559n80dc3_f2fl6m80000gn/T/ipykernel_54320/3668836295.py:32: SettingWithCopyWarning: \n",
      "A value is trying to be set on a copy of a slice from a DataFrame.\n",
      "Try using .loc[row_indexer,col_indexer] = value instead\n",
      "\n",
      "See the caveats in the documentation: https://pandas.pydata.org/pandas-docs/stable/user_guide/indexing.html#returning-a-view-versus-a-copy\n",
      "  data[model + \"_Q\"] = data.apply(lambda x: Q_dict[x.gridnum][x.transformed_state], axis=1)\n"
     ]
    },
    {
     "name": "stdout",
     "output_type": "stream",
     "text": [
      "Iteration No: 271 ended. Search finished for the next optimal point.\n",
      "Time taken: 52.6253\n",
      "Function value obtained: 13061.1053\n",
      "Current minimum: 13014.7061\n",
      "Iteration No: 272 started. Searching for the next optimal point.\n"
     ]
    },
    {
     "name": "stderr",
     "output_type": "stream",
     "text": [
      "/var/folders/6y/gzz1g_p559n80dc3_f2fl6m80000gn/T/ipykernel_54320/3668836295.py:32: SettingWithCopyWarning: \n",
      "A value is trying to be set on a copy of a slice from a DataFrame.\n",
      "Try using .loc[row_indexer,col_indexer] = value instead\n",
      "\n",
      "See the caveats in the documentation: https://pandas.pydata.org/pandas-docs/stable/user_guide/indexing.html#returning-a-view-versus-a-copy\n",
      "  data[model + \"_Q\"] = data.apply(lambda x: Q_dict[x.gridnum][x.transformed_state], axis=1)\n"
     ]
    },
    {
     "name": "stdout",
     "output_type": "stream",
     "text": [
      "Iteration No: 272 ended. Search finished for the next optimal point.\n",
      "Time taken: 48.4380\n",
      "Function value obtained: 13090.4435\n",
      "Current minimum: 13014.7061\n",
      "Iteration No: 273 started. Searching for the next optimal point.\n"
     ]
    },
    {
     "name": "stderr",
     "output_type": "stream",
     "text": [
      "/var/folders/6y/gzz1g_p559n80dc3_f2fl6m80000gn/T/ipykernel_54320/3668836295.py:32: SettingWithCopyWarning: \n",
      "A value is trying to be set on a copy of a slice from a DataFrame.\n",
      "Try using .loc[row_indexer,col_indexer] = value instead\n",
      "\n",
      "See the caveats in the documentation: https://pandas.pydata.org/pandas-docs/stable/user_guide/indexing.html#returning-a-view-versus-a-copy\n",
      "  data[model + \"_Q\"] = data.apply(lambda x: Q_dict[x.gridnum][x.transformed_state], axis=1)\n"
     ]
    },
    {
     "name": "stdout",
     "output_type": "stream",
     "text": [
      "Iteration No: 273 ended. Search finished for the next optimal point.\n",
      "Time taken: 47.4629\n",
      "Function value obtained: 13082.1012\n",
      "Current minimum: 13014.7061\n",
      "Iteration No: 274 started. Searching for the next optimal point.\n"
     ]
    },
    {
     "name": "stderr",
     "output_type": "stream",
     "text": [
      "/var/folders/6y/gzz1g_p559n80dc3_f2fl6m80000gn/T/ipykernel_54320/3668836295.py:32: SettingWithCopyWarning: \n",
      "A value is trying to be set on a copy of a slice from a DataFrame.\n",
      "Try using .loc[row_indexer,col_indexer] = value instead\n",
      "\n",
      "See the caveats in the documentation: https://pandas.pydata.org/pandas-docs/stable/user_guide/indexing.html#returning-a-view-versus-a-copy\n",
      "  data[model + \"_Q\"] = data.apply(lambda x: Q_dict[x.gridnum][x.transformed_state], axis=1)\n"
     ]
    },
    {
     "name": "stdout",
     "output_type": "stream",
     "text": [
      "Iteration No: 274 ended. Search finished for the next optimal point.\n",
      "Time taken: 36.4938\n",
      "Function value obtained: 13210.5988\n",
      "Current minimum: 13014.7061\n",
      "Iteration No: 275 started. Searching for the next optimal point.\n"
     ]
    },
    {
     "name": "stderr",
     "output_type": "stream",
     "text": [
      "/var/folders/6y/gzz1g_p559n80dc3_f2fl6m80000gn/T/ipykernel_54320/3668836295.py:32: SettingWithCopyWarning: \n",
      "A value is trying to be set on a copy of a slice from a DataFrame.\n",
      "Try using .loc[row_indexer,col_indexer] = value instead\n",
      "\n",
      "See the caveats in the documentation: https://pandas.pydata.org/pandas-docs/stable/user_guide/indexing.html#returning-a-view-versus-a-copy\n",
      "  data[model + \"_Q\"] = data.apply(lambda x: Q_dict[x.gridnum][x.transformed_state], axis=1)\n"
     ]
    },
    {
     "name": "stdout",
     "output_type": "stream",
     "text": [
      "Iteration No: 275 ended. Search finished for the next optimal point.\n",
      "Time taken: 25.9731\n",
      "Function value obtained: 13062.7913\n",
      "Current minimum: 13014.7061\n",
      "Iteration No: 276 started. Searching for the next optimal point.\n"
     ]
    },
    {
     "name": "stderr",
     "output_type": "stream",
     "text": [
      "/var/folders/6y/gzz1g_p559n80dc3_f2fl6m80000gn/T/ipykernel_54320/3668836295.py:32: SettingWithCopyWarning: \n",
      "A value is trying to be set on a copy of a slice from a DataFrame.\n",
      "Try using .loc[row_indexer,col_indexer] = value instead\n",
      "\n",
      "See the caveats in the documentation: https://pandas.pydata.org/pandas-docs/stable/user_guide/indexing.html#returning-a-view-versus-a-copy\n",
      "  data[model + \"_Q\"] = data.apply(lambda x: Q_dict[x.gridnum][x.transformed_state], axis=1)\n"
     ]
    },
    {
     "name": "stdout",
     "output_type": "stream",
     "text": [
      "Iteration No: 276 ended. Search finished for the next optimal point.\n",
      "Time taken: 68.2823\n",
      "Function value obtained: 13098.9581\n",
      "Current minimum: 13014.7061\n",
      "Iteration No: 277 started. Searching for the next optimal point.\n"
     ]
    },
    {
     "name": "stderr",
     "output_type": "stream",
     "text": [
      "/var/folders/6y/gzz1g_p559n80dc3_f2fl6m80000gn/T/ipykernel_54320/3668836295.py:32: SettingWithCopyWarning: \n",
      "A value is trying to be set on a copy of a slice from a DataFrame.\n",
      "Try using .loc[row_indexer,col_indexer] = value instead\n",
      "\n",
      "See the caveats in the documentation: https://pandas.pydata.org/pandas-docs/stable/user_guide/indexing.html#returning-a-view-versus-a-copy\n",
      "  data[model + \"_Q\"] = data.apply(lambda x: Q_dict[x.gridnum][x.transformed_state], axis=1)\n"
     ]
    },
    {
     "name": "stdout",
     "output_type": "stream",
     "text": [
      "Iteration No: 277 ended. Search finished for the next optimal point.\n",
      "Time taken: 27.0906\n",
      "Function value obtained: 13100.5695\n",
      "Current minimum: 13014.7061\n",
      "Iteration No: 278 started. Searching for the next optimal point.\n"
     ]
    },
    {
     "name": "stderr",
     "output_type": "stream",
     "text": [
      "/opt/miniconda3/envs/reval/lib/python3.12/site-packages/skopt/optimizer/optimizer.py:517: UserWarning: The objective has been evaluated at point [5000, 1222] before, using random point [108, 4020]\n",
      "  warnings.warn(\n",
      "/var/folders/6y/gzz1g_p559n80dc3_f2fl6m80000gn/T/ipykernel_54320/3668836295.py:32: SettingWithCopyWarning: \n",
      "A value is trying to be set on a copy of a slice from a DataFrame.\n",
      "Try using .loc[row_indexer,col_indexer] = value instead\n",
      "\n",
      "See the caveats in the documentation: https://pandas.pydata.org/pandas-docs/stable/user_guide/indexing.html#returning-a-view-versus-a-copy\n",
      "  data[model + \"_Q\"] = data.apply(lambda x: Q_dict[x.gridnum][x.transformed_state], axis=1)\n"
     ]
    },
    {
     "name": "stdout",
     "output_type": "stream",
     "text": [
      "Iteration No: 278 ended. Search finished for the next optimal point.\n",
      "Time taken: 39.5845\n",
      "Function value obtained: 13458.5510\n",
      "Current minimum: 13014.7061\n",
      "Iteration No: 279 started. Searching for the next optimal point.\n"
     ]
    },
    {
     "name": "stderr",
     "output_type": "stream",
     "text": [
      "/var/folders/6y/gzz1g_p559n80dc3_f2fl6m80000gn/T/ipykernel_54320/3668836295.py:32: SettingWithCopyWarning: \n",
      "A value is trying to be set on a copy of a slice from a DataFrame.\n",
      "Try using .loc[row_indexer,col_indexer] = value instead\n",
      "\n",
      "See the caveats in the documentation: https://pandas.pydata.org/pandas-docs/stable/user_guide/indexing.html#returning-a-view-versus-a-copy\n",
      "  data[model + \"_Q\"] = data.apply(lambda x: Q_dict[x.gridnum][x.transformed_state], axis=1)\n"
     ]
    },
    {
     "name": "stdout",
     "output_type": "stream",
     "text": [
      "Iteration No: 279 ended. Search finished for the next optimal point.\n",
      "Time taken: 58.4423\n",
      "Function value obtained: 13114.4161\n",
      "Current minimum: 13014.7061\n",
      "Iteration No: 280 started. Searching for the next optimal point.\n"
     ]
    },
    {
     "name": "stderr",
     "output_type": "stream",
     "text": [
      "/var/folders/6y/gzz1g_p559n80dc3_f2fl6m80000gn/T/ipykernel_54320/3668836295.py:32: SettingWithCopyWarning: \n",
      "A value is trying to be set on a copy of a slice from a DataFrame.\n",
      "Try using .loc[row_indexer,col_indexer] = value instead\n",
      "\n",
      "See the caveats in the documentation: https://pandas.pydata.org/pandas-docs/stable/user_guide/indexing.html#returning-a-view-versus-a-copy\n",
      "  data[model + \"_Q\"] = data.apply(lambda x: Q_dict[x.gridnum][x.transformed_state], axis=1)\n"
     ]
    },
    {
     "name": "stdout",
     "output_type": "stream",
     "text": [
      "Iteration No: 280 ended. Search finished for the next optimal point.\n",
      "Time taken: 49.1913\n",
      "Function value obtained: 13144.0699\n",
      "Current minimum: 13014.7061\n",
      "Iteration No: 281 started. Searching for the next optimal point.\n"
     ]
    },
    {
     "name": "stderr",
     "output_type": "stream",
     "text": [
      "/var/folders/6y/gzz1g_p559n80dc3_f2fl6m80000gn/T/ipykernel_54320/3668836295.py:32: SettingWithCopyWarning: \n",
      "A value is trying to be set on a copy of a slice from a DataFrame.\n",
      "Try using .loc[row_indexer,col_indexer] = value instead\n",
      "\n",
      "See the caveats in the documentation: https://pandas.pydata.org/pandas-docs/stable/user_guide/indexing.html#returning-a-view-versus-a-copy\n",
      "  data[model + \"_Q\"] = data.apply(lambda x: Q_dict[x.gridnum][x.transformed_state], axis=1)\n"
     ]
    },
    {
     "name": "stdout",
     "output_type": "stream",
     "text": [
      "Iteration No: 281 ended. Search finished for the next optimal point.\n",
      "Time taken: 69.1044\n",
      "Function value obtained: 13140.2531\n",
      "Current minimum: 13014.7061\n",
      "Iteration No: 282 started. Searching for the next optimal point.\n"
     ]
    },
    {
     "name": "stderr",
     "output_type": "stream",
     "text": [
      "/var/folders/6y/gzz1g_p559n80dc3_f2fl6m80000gn/T/ipykernel_54320/3668836295.py:32: SettingWithCopyWarning: \n",
      "A value is trying to be set on a copy of a slice from a DataFrame.\n",
      "Try using .loc[row_indexer,col_indexer] = value instead\n",
      "\n",
      "See the caveats in the documentation: https://pandas.pydata.org/pandas-docs/stable/user_guide/indexing.html#returning-a-view-versus-a-copy\n",
      "  data[model + \"_Q\"] = data.apply(lambda x: Q_dict[x.gridnum][x.transformed_state], axis=1)\n"
     ]
    },
    {
     "name": "stdout",
     "output_type": "stream",
     "text": [
      "Iteration No: 282 ended. Search finished for the next optimal point.\n",
      "Time taken: 76.2587\n",
      "Function value obtained: 13071.4178\n",
      "Current minimum: 13014.7061\n",
      "Iteration No: 283 started. Searching for the next optimal point.\n"
     ]
    },
    {
     "name": "stderr",
     "output_type": "stream",
     "text": [
      "/var/folders/6y/gzz1g_p559n80dc3_f2fl6m80000gn/T/ipykernel_54320/3668836295.py:32: SettingWithCopyWarning: \n",
      "A value is trying to be set on a copy of a slice from a DataFrame.\n",
      "Try using .loc[row_indexer,col_indexer] = value instead\n",
      "\n",
      "See the caveats in the documentation: https://pandas.pydata.org/pandas-docs/stable/user_guide/indexing.html#returning-a-view-versus-a-copy\n",
      "  data[model + \"_Q\"] = data.apply(lambda x: Q_dict[x.gridnum][x.transformed_state], axis=1)\n"
     ]
    },
    {
     "name": "stdout",
     "output_type": "stream",
     "text": [
      "Iteration No: 283 ended. Search finished for the next optimal point.\n",
      "Time taken: 47.6191\n",
      "Function value obtained: 13074.3323\n",
      "Current minimum: 13014.7061\n",
      "Iteration No: 284 started. Searching for the next optimal point.\n"
     ]
    },
    {
     "name": "stderr",
     "output_type": "stream",
     "text": [
      "/var/folders/6y/gzz1g_p559n80dc3_f2fl6m80000gn/T/ipykernel_54320/3668836295.py:32: SettingWithCopyWarning: \n",
      "A value is trying to be set on a copy of a slice from a DataFrame.\n",
      "Try using .loc[row_indexer,col_indexer] = value instead\n",
      "\n",
      "See the caveats in the documentation: https://pandas.pydata.org/pandas-docs/stable/user_guide/indexing.html#returning-a-view-versus-a-copy\n",
      "  data[model + \"_Q\"] = data.apply(lambda x: Q_dict[x.gridnum][x.transformed_state], axis=1)\n"
     ]
    },
    {
     "name": "stdout",
     "output_type": "stream",
     "text": [
      "Iteration No: 284 ended. Search finished for the next optimal point.\n",
      "Time taken: 34.0265\n",
      "Function value obtained: 13149.6324\n",
      "Current minimum: 13014.7061\n",
      "Iteration No: 285 started. Searching for the next optimal point.\n"
     ]
    },
    {
     "name": "stderr",
     "output_type": "stream",
     "text": [
      "/var/folders/6y/gzz1g_p559n80dc3_f2fl6m80000gn/T/ipykernel_54320/3668836295.py:32: SettingWithCopyWarning: \n",
      "A value is trying to be set on a copy of a slice from a DataFrame.\n",
      "Try using .loc[row_indexer,col_indexer] = value instead\n",
      "\n",
      "See the caveats in the documentation: https://pandas.pydata.org/pandas-docs/stable/user_guide/indexing.html#returning-a-view-versus-a-copy\n",
      "  data[model + \"_Q\"] = data.apply(lambda x: Q_dict[x.gridnum][x.transformed_state], axis=1)\n"
     ]
    },
    {
     "name": "stdout",
     "output_type": "stream",
     "text": [
      "Iteration No: 285 ended. Search finished for the next optimal point.\n",
      "Time taken: 48.0925\n",
      "Function value obtained: 13097.9481\n",
      "Current minimum: 13014.7061\n",
      "Iteration No: 286 started. Searching for the next optimal point.\n"
     ]
    },
    {
     "name": "stderr",
     "output_type": "stream",
     "text": [
      "/var/folders/6y/gzz1g_p559n80dc3_f2fl6m80000gn/T/ipykernel_54320/3668836295.py:32: SettingWithCopyWarning: \n",
      "A value is trying to be set on a copy of a slice from a DataFrame.\n",
      "Try using .loc[row_indexer,col_indexer] = value instead\n",
      "\n",
      "See the caveats in the documentation: https://pandas.pydata.org/pandas-docs/stable/user_guide/indexing.html#returning-a-view-versus-a-copy\n",
      "  data[model + \"_Q\"] = data.apply(lambda x: Q_dict[x.gridnum][x.transformed_state], axis=1)\n"
     ]
    },
    {
     "name": "stdout",
     "output_type": "stream",
     "text": [
      "Iteration No: 286 ended. Search finished for the next optimal point.\n",
      "Time taken: 55.9951\n",
      "Function value obtained: 13093.7462\n",
      "Current minimum: 13014.7061\n",
      "Iteration No: 287 started. Searching for the next optimal point.\n"
     ]
    },
    {
     "name": "stderr",
     "output_type": "stream",
     "text": [
      "/var/folders/6y/gzz1g_p559n80dc3_f2fl6m80000gn/T/ipykernel_54320/3668836295.py:32: SettingWithCopyWarning: \n",
      "A value is trying to be set on a copy of a slice from a DataFrame.\n",
      "Try using .loc[row_indexer,col_indexer] = value instead\n",
      "\n",
      "See the caveats in the documentation: https://pandas.pydata.org/pandas-docs/stable/user_guide/indexing.html#returning-a-view-versus-a-copy\n",
      "  data[model + \"_Q\"] = data.apply(lambda x: Q_dict[x.gridnum][x.transformed_state], axis=1)\n"
     ]
    },
    {
     "name": "stdout",
     "output_type": "stream",
     "text": [
      "Iteration No: 287 ended. Search finished for the next optimal point.\n",
      "Time taken: 74.3749\n",
      "Function value obtained: 13116.6877\n",
      "Current minimum: 13014.7061\n",
      "Iteration No: 288 started. Searching for the next optimal point.\n"
     ]
    },
    {
     "name": "stderr",
     "output_type": "stream",
     "text": [
      "/var/folders/6y/gzz1g_p559n80dc3_f2fl6m80000gn/T/ipykernel_54320/3668836295.py:32: SettingWithCopyWarning: \n",
      "A value is trying to be set on a copy of a slice from a DataFrame.\n",
      "Try using .loc[row_indexer,col_indexer] = value instead\n",
      "\n",
      "See the caveats in the documentation: https://pandas.pydata.org/pandas-docs/stable/user_guide/indexing.html#returning-a-view-versus-a-copy\n",
      "  data[model + \"_Q\"] = data.apply(lambda x: Q_dict[x.gridnum][x.transformed_state], axis=1)\n"
     ]
    },
    {
     "name": "stdout",
     "output_type": "stream",
     "text": [
      "Iteration No: 288 ended. Search finished for the next optimal point.\n",
      "Time taken: 51.5342\n",
      "Function value obtained: 13082.1511\n",
      "Current minimum: 13014.7061\n",
      "Iteration No: 289 started. Searching for the next optimal point.\n"
     ]
    },
    {
     "name": "stderr",
     "output_type": "stream",
     "text": [
      "/var/folders/6y/gzz1g_p559n80dc3_f2fl6m80000gn/T/ipykernel_54320/3668836295.py:32: SettingWithCopyWarning: \n",
      "A value is trying to be set on a copy of a slice from a DataFrame.\n",
      "Try using .loc[row_indexer,col_indexer] = value instead\n",
      "\n",
      "See the caveats in the documentation: https://pandas.pydata.org/pandas-docs/stable/user_guide/indexing.html#returning-a-view-versus-a-copy\n",
      "  data[model + \"_Q\"] = data.apply(lambda x: Q_dict[x.gridnum][x.transformed_state], axis=1)\n"
     ]
    },
    {
     "name": "stdout",
     "output_type": "stream",
     "text": [
      "Iteration No: 289 ended. Search finished for the next optimal point.\n",
      "Time taken: 47.0463\n",
      "Function value obtained: 13079.9741\n",
      "Current minimum: 13014.7061\n",
      "Iteration No: 290 started. Searching for the next optimal point.\n"
     ]
    },
    {
     "name": "stderr",
     "output_type": "stream",
     "text": [
      "/var/folders/6y/gzz1g_p559n80dc3_f2fl6m80000gn/T/ipykernel_54320/3668836295.py:32: SettingWithCopyWarning: \n",
      "A value is trying to be set on a copy of a slice from a DataFrame.\n",
      "Try using .loc[row_indexer,col_indexer] = value instead\n",
      "\n",
      "See the caveats in the documentation: https://pandas.pydata.org/pandas-docs/stable/user_guide/indexing.html#returning-a-view-versus-a-copy\n",
      "  data[model + \"_Q\"] = data.apply(lambda x: Q_dict[x.gridnum][x.transformed_state], axis=1)\n"
     ]
    },
    {
     "name": "stdout",
     "output_type": "stream",
     "text": [
      "Iteration No: 290 ended. Search finished for the next optimal point.\n",
      "Time taken: 36.0745\n",
      "Function value obtained: 13414.1285\n",
      "Current minimum: 13014.7061\n",
      "Iteration No: 291 started. Searching for the next optimal point.\n"
     ]
    },
    {
     "name": "stderr",
     "output_type": "stream",
     "text": [
      "/var/folders/6y/gzz1g_p559n80dc3_f2fl6m80000gn/T/ipykernel_54320/3668836295.py:32: SettingWithCopyWarning: \n",
      "A value is trying to be set on a copy of a slice from a DataFrame.\n",
      "Try using .loc[row_indexer,col_indexer] = value instead\n",
      "\n",
      "See the caveats in the documentation: https://pandas.pydata.org/pandas-docs/stable/user_guide/indexing.html#returning-a-view-versus-a-copy\n",
      "  data[model + \"_Q\"] = data.apply(lambda x: Q_dict[x.gridnum][x.transformed_state], axis=1)\n"
     ]
    },
    {
     "name": "stdout",
     "output_type": "stream",
     "text": [
      "Iteration No: 291 ended. Search finished for the next optimal point.\n",
      "Time taken: 49.3142\n",
      "Function value obtained: 13095.3998\n",
      "Current minimum: 13014.7061\n",
      "Iteration No: 292 started. Searching for the next optimal point.\n"
     ]
    },
    {
     "name": "stderr",
     "output_type": "stream",
     "text": [
      "/var/folders/6y/gzz1g_p559n80dc3_f2fl6m80000gn/T/ipykernel_54320/3668836295.py:32: SettingWithCopyWarning: \n",
      "A value is trying to be set on a copy of a slice from a DataFrame.\n",
      "Try using .loc[row_indexer,col_indexer] = value instead\n",
      "\n",
      "See the caveats in the documentation: https://pandas.pydata.org/pandas-docs/stable/user_guide/indexing.html#returning-a-view-versus-a-copy\n",
      "  data[model + \"_Q\"] = data.apply(lambda x: Q_dict[x.gridnum][x.transformed_state], axis=1)\n"
     ]
    },
    {
     "name": "stdout",
     "output_type": "stream",
     "text": [
      "Iteration No: 292 ended. Search finished for the next optimal point.\n",
      "Time taken: 75.0629\n",
      "Function value obtained: 13088.6289\n",
      "Current minimum: 13014.7061\n",
      "Iteration No: 293 started. Searching for the next optimal point.\n"
     ]
    },
    {
     "name": "stderr",
     "output_type": "stream",
     "text": [
      "/var/folders/6y/gzz1g_p559n80dc3_f2fl6m80000gn/T/ipykernel_54320/3668836295.py:32: SettingWithCopyWarning: \n",
      "A value is trying to be set on a copy of a slice from a DataFrame.\n",
      "Try using .loc[row_indexer,col_indexer] = value instead\n",
      "\n",
      "See the caveats in the documentation: https://pandas.pydata.org/pandas-docs/stable/user_guide/indexing.html#returning-a-view-versus-a-copy\n",
      "  data[model + \"_Q\"] = data.apply(lambda x: Q_dict[x.gridnum][x.transformed_state], axis=1)\n"
     ]
    },
    {
     "name": "stdout",
     "output_type": "stream",
     "text": [
      "Iteration No: 293 ended. Search finished for the next optimal point.\n",
      "Time taken: 57.3077\n",
      "Function value obtained: 13068.4950\n",
      "Current minimum: 13014.7061\n",
      "Iteration No: 294 started. Searching for the next optimal point.\n"
     ]
    },
    {
     "name": "stderr",
     "output_type": "stream",
     "text": [
      "/var/folders/6y/gzz1g_p559n80dc3_f2fl6m80000gn/T/ipykernel_54320/3668836295.py:32: SettingWithCopyWarning: \n",
      "A value is trying to be set on a copy of a slice from a DataFrame.\n",
      "Try using .loc[row_indexer,col_indexer] = value instead\n",
      "\n",
      "See the caveats in the documentation: https://pandas.pydata.org/pandas-docs/stable/user_guide/indexing.html#returning-a-view-versus-a-copy\n",
      "  data[model + \"_Q\"] = data.apply(lambda x: Q_dict[x.gridnum][x.transformed_state], axis=1)\n"
     ]
    },
    {
     "name": "stdout",
     "output_type": "stream",
     "text": [
      "Iteration No: 294 ended. Search finished for the next optimal point.\n",
      "Time taken: 27.2628\n",
      "Function value obtained: 13126.5482\n",
      "Current minimum: 13014.7061\n",
      "Iteration No: 295 started. Searching for the next optimal point.\n"
     ]
    },
    {
     "name": "stderr",
     "output_type": "stream",
     "text": [
      "/var/folders/6y/gzz1g_p559n80dc3_f2fl6m80000gn/T/ipykernel_54320/3668836295.py:32: SettingWithCopyWarning: \n",
      "A value is trying to be set on a copy of a slice from a DataFrame.\n",
      "Try using .loc[row_indexer,col_indexer] = value instead\n",
      "\n",
      "See the caveats in the documentation: https://pandas.pydata.org/pandas-docs/stable/user_guide/indexing.html#returning-a-view-versus-a-copy\n",
      "  data[model + \"_Q\"] = data.apply(lambda x: Q_dict[x.gridnum][x.transformed_state], axis=1)\n"
     ]
    },
    {
     "name": "stdout",
     "output_type": "stream",
     "text": [
      "Iteration No: 295 ended. Search finished for the next optimal point.\n",
      "Time taken: 41.3263\n",
      "Function value obtained: 13041.9721\n",
      "Current minimum: 13014.7061\n",
      "Iteration No: 296 started. Searching for the next optimal point.\n"
     ]
    },
    {
     "name": "stderr",
     "output_type": "stream",
     "text": [
      "/var/folders/6y/gzz1g_p559n80dc3_f2fl6m80000gn/T/ipykernel_54320/3668836295.py:32: SettingWithCopyWarning: \n",
      "A value is trying to be set on a copy of a slice from a DataFrame.\n",
      "Try using .loc[row_indexer,col_indexer] = value instead\n",
      "\n",
      "See the caveats in the documentation: https://pandas.pydata.org/pandas-docs/stable/user_guide/indexing.html#returning-a-view-versus-a-copy\n",
      "  data[model + \"_Q\"] = data.apply(lambda x: Q_dict[x.gridnum][x.transformed_state], axis=1)\n"
     ]
    },
    {
     "name": "stdout",
     "output_type": "stream",
     "text": [
      "Iteration No: 296 ended. Search finished for the next optimal point.\n",
      "Time taken: 40.7151\n",
      "Function value obtained: 13094.4037\n",
      "Current minimum: 13014.7061\n",
      "Iteration No: 297 started. Searching for the next optimal point.\n"
     ]
    },
    {
     "name": "stderr",
     "output_type": "stream",
     "text": [
      "/var/folders/6y/gzz1g_p559n80dc3_f2fl6m80000gn/T/ipykernel_54320/3668836295.py:32: SettingWithCopyWarning: \n",
      "A value is trying to be set on a copy of a slice from a DataFrame.\n",
      "Try using .loc[row_indexer,col_indexer] = value instead\n",
      "\n",
      "See the caveats in the documentation: https://pandas.pydata.org/pandas-docs/stable/user_guide/indexing.html#returning-a-view-versus-a-copy\n",
      "  data[model + \"_Q\"] = data.apply(lambda x: Q_dict[x.gridnum][x.transformed_state], axis=1)\n"
     ]
    },
    {
     "name": "stdout",
     "output_type": "stream",
     "text": [
      "Iteration No: 297 ended. Search finished for the next optimal point.\n",
      "Time taken: 64.8535\n",
      "Function value obtained: 13096.5717\n",
      "Current minimum: 13014.7061\n",
      "Iteration No: 298 started. Searching for the next optimal point.\n"
     ]
    },
    {
     "name": "stderr",
     "output_type": "stream",
     "text": [
      "/var/folders/6y/gzz1g_p559n80dc3_f2fl6m80000gn/T/ipykernel_54320/3668836295.py:32: SettingWithCopyWarning: \n",
      "A value is trying to be set on a copy of a slice from a DataFrame.\n",
      "Try using .loc[row_indexer,col_indexer] = value instead\n",
      "\n",
      "See the caveats in the documentation: https://pandas.pydata.org/pandas-docs/stable/user_guide/indexing.html#returning-a-view-versus-a-copy\n",
      "  data[model + \"_Q\"] = data.apply(lambda x: Q_dict[x.gridnum][x.transformed_state], axis=1)\n"
     ]
    },
    {
     "name": "stdout",
     "output_type": "stream",
     "text": [
      "Iteration No: 298 ended. Search finished for the next optimal point.\n",
      "Time taken: 56.1925\n",
      "Function value obtained: 13099.4264\n",
      "Current minimum: 13014.7061\n",
      "Iteration No: 299 started. Searching for the next optimal point.\n"
     ]
    },
    {
     "name": "stderr",
     "output_type": "stream",
     "text": [
      "/var/folders/6y/gzz1g_p559n80dc3_f2fl6m80000gn/T/ipykernel_54320/3668836295.py:32: SettingWithCopyWarning: \n",
      "A value is trying to be set on a copy of a slice from a DataFrame.\n",
      "Try using .loc[row_indexer,col_indexer] = value instead\n",
      "\n",
      "See the caveats in the documentation: https://pandas.pydata.org/pandas-docs/stable/user_guide/indexing.html#returning-a-view-versus-a-copy\n",
      "  data[model + \"_Q\"] = data.apply(lambda x: Q_dict[x.gridnum][x.transformed_state], axis=1)\n"
     ]
    },
    {
     "name": "stdout",
     "output_type": "stream",
     "text": [
      "Iteration No: 299 ended. Search finished for the next optimal point.\n",
      "Time taken: 76.6928\n",
      "Function value obtained: 13094.1976\n",
      "Current minimum: 13014.7061\n",
      "Iteration No: 300 started. Searching for the next optimal point.\n"
     ]
    },
    {
     "name": "stderr",
     "output_type": "stream",
     "text": [
      "/var/folders/6y/gzz1g_p559n80dc3_f2fl6m80000gn/T/ipykernel_54320/3668836295.py:32: SettingWithCopyWarning: \n",
      "A value is trying to be set on a copy of a slice from a DataFrame.\n",
      "Try using .loc[row_indexer,col_indexer] = value instead\n",
      "\n",
      "See the caveats in the documentation: https://pandas.pydata.org/pandas-docs/stable/user_guide/indexing.html#returning-a-view-versus-a-copy\n",
      "  data[model + \"_Q\"] = data.apply(lambda x: Q_dict[x.gridnum][x.transformed_state], axis=1)\n"
     ]
    },
    {
     "name": "stdout",
     "output_type": "stream",
     "text": [
      "Iteration No: 300 ended. Search finished for the next optimal point.\n",
      "Time taken: 49.4352\n",
      "Function value obtained: 13127.3458\n",
      "Current minimum: 13014.7061\n",
      "Iteration No: 301 started. Searching for the next optimal point.\n"
     ]
    },
    {
     "name": "stderr",
     "output_type": "stream",
     "text": [
      "/var/folders/6y/gzz1g_p559n80dc3_f2fl6m80000gn/T/ipykernel_54320/3668836295.py:32: SettingWithCopyWarning: \n",
      "A value is trying to be set on a copy of a slice from a DataFrame.\n",
      "Try using .loc[row_indexer,col_indexer] = value instead\n",
      "\n",
      "See the caveats in the documentation: https://pandas.pydata.org/pandas-docs/stable/user_guide/indexing.html#returning-a-view-versus-a-copy\n",
      "  data[model + \"_Q\"] = data.apply(lambda x: Q_dict[x.gridnum][x.transformed_state], axis=1)\n"
     ]
    },
    {
     "name": "stdout",
     "output_type": "stream",
     "text": [
      "Iteration No: 301 ended. Search finished for the next optimal point.\n",
      "Time taken: 41.3782\n",
      "Function value obtained: 13101.7979\n",
      "Current minimum: 13014.7061\n",
      "Iteration No: 302 started. Searching for the next optimal point.\n"
     ]
    },
    {
     "name": "stderr",
     "output_type": "stream",
     "text": [
      "/var/folders/6y/gzz1g_p559n80dc3_f2fl6m80000gn/T/ipykernel_54320/3668836295.py:32: SettingWithCopyWarning: \n",
      "A value is trying to be set on a copy of a slice from a DataFrame.\n",
      "Try using .loc[row_indexer,col_indexer] = value instead\n",
      "\n",
      "See the caveats in the documentation: https://pandas.pydata.org/pandas-docs/stable/user_guide/indexing.html#returning-a-view-versus-a-copy\n",
      "  data[model + \"_Q\"] = data.apply(lambda x: Q_dict[x.gridnum][x.transformed_state], axis=1)\n"
     ]
    },
    {
     "name": "stdout",
     "output_type": "stream",
     "text": [
      "Iteration No: 302 ended. Search finished for the next optimal point.\n",
      "Time taken: 70.9176\n",
      "Function value obtained: 13095.0439\n",
      "Current minimum: 13014.7061\n",
      "Iteration No: 303 started. Searching for the next optimal point.\n"
     ]
    },
    {
     "name": "stderr",
     "output_type": "stream",
     "text": [
      "/var/folders/6y/gzz1g_p559n80dc3_f2fl6m80000gn/T/ipykernel_54320/3668836295.py:32: SettingWithCopyWarning: \n",
      "A value is trying to be set on a copy of a slice from a DataFrame.\n",
      "Try using .loc[row_indexer,col_indexer] = value instead\n",
      "\n",
      "See the caveats in the documentation: https://pandas.pydata.org/pandas-docs/stable/user_guide/indexing.html#returning-a-view-versus-a-copy\n",
      "  data[model + \"_Q\"] = data.apply(lambda x: Q_dict[x.gridnum][x.transformed_state], axis=1)\n"
     ]
    },
    {
     "name": "stdout",
     "output_type": "stream",
     "text": [
      "Iteration No: 303 ended. Search finished for the next optimal point.\n",
      "Time taken: 47.2452\n",
      "Function value obtained: 13109.7193\n",
      "Current minimum: 13014.7061\n",
      "Iteration No: 304 started. Searching for the next optimal point.\n"
     ]
    },
    {
     "name": "stderr",
     "output_type": "stream",
     "text": [
      "/var/folders/6y/gzz1g_p559n80dc3_f2fl6m80000gn/T/ipykernel_54320/3668836295.py:32: SettingWithCopyWarning: \n",
      "A value is trying to be set on a copy of a slice from a DataFrame.\n",
      "Try using .loc[row_indexer,col_indexer] = value instead\n",
      "\n",
      "See the caveats in the documentation: https://pandas.pydata.org/pandas-docs/stable/user_guide/indexing.html#returning-a-view-versus-a-copy\n",
      "  data[model + \"_Q\"] = data.apply(lambda x: Q_dict[x.gridnum][x.transformed_state], axis=1)\n"
     ]
    },
    {
     "name": "stdout",
     "output_type": "stream",
     "text": [
      "Iteration No: 304 ended. Search finished for the next optimal point.\n",
      "Time taken: 54.8955\n",
      "Function value obtained: 13084.7420\n",
      "Current minimum: 13014.7061\n",
      "Iteration No: 305 started. Searching for the next optimal point.\n"
     ]
    },
    {
     "name": "stderr",
     "output_type": "stream",
     "text": [
      "/var/folders/6y/gzz1g_p559n80dc3_f2fl6m80000gn/T/ipykernel_54320/3668836295.py:32: SettingWithCopyWarning: \n",
      "A value is trying to be set on a copy of a slice from a DataFrame.\n",
      "Try using .loc[row_indexer,col_indexer] = value instead\n",
      "\n",
      "See the caveats in the documentation: https://pandas.pydata.org/pandas-docs/stable/user_guide/indexing.html#returning-a-view-versus-a-copy\n",
      "  data[model + \"_Q\"] = data.apply(lambda x: Q_dict[x.gridnum][x.transformed_state], axis=1)\n"
     ]
    },
    {
     "name": "stdout",
     "output_type": "stream",
     "text": [
      "Iteration No: 305 ended. Search finished for the next optimal point.\n",
      "Time taken: 63.1266\n",
      "Function value obtained: 13090.0722\n",
      "Current minimum: 13014.7061\n",
      "Iteration No: 306 started. Searching for the next optimal point.\n"
     ]
    },
    {
     "name": "stderr",
     "output_type": "stream",
     "text": [
      "/var/folders/6y/gzz1g_p559n80dc3_f2fl6m80000gn/T/ipykernel_54320/3668836295.py:32: SettingWithCopyWarning: \n",
      "A value is trying to be set on a copy of a slice from a DataFrame.\n",
      "Try using .loc[row_indexer,col_indexer] = value instead\n",
      "\n",
      "See the caveats in the documentation: https://pandas.pydata.org/pandas-docs/stable/user_guide/indexing.html#returning-a-view-versus-a-copy\n",
      "  data[model + \"_Q\"] = data.apply(lambda x: Q_dict[x.gridnum][x.transformed_state], axis=1)\n"
     ]
    },
    {
     "name": "stdout",
     "output_type": "stream",
     "text": [
      "Iteration No: 306 ended. Search finished for the next optimal point.\n",
      "Time taken: 27.4037\n",
      "Function value obtained: 13070.6110\n",
      "Current minimum: 13014.7061\n",
      "Iteration No: 307 started. Searching for the next optimal point.\n"
     ]
    },
    {
     "name": "stderr",
     "output_type": "stream",
     "text": [
      "/var/folders/6y/gzz1g_p559n80dc3_f2fl6m80000gn/T/ipykernel_54320/3668836295.py:32: SettingWithCopyWarning: \n",
      "A value is trying to be set on a copy of a slice from a DataFrame.\n",
      "Try using .loc[row_indexer,col_indexer] = value instead\n",
      "\n",
      "See the caveats in the documentation: https://pandas.pydata.org/pandas-docs/stable/user_guide/indexing.html#returning-a-view-versus-a-copy\n",
      "  data[model + \"_Q\"] = data.apply(lambda x: Q_dict[x.gridnum][x.transformed_state], axis=1)\n"
     ]
    },
    {
     "name": "stdout",
     "output_type": "stream",
     "text": [
      "Iteration No: 307 ended. Search finished for the next optimal point.\n",
      "Time taken: 38.9239\n",
      "Function value obtained: 13139.8876\n",
      "Current minimum: 13014.7061\n",
      "Iteration No: 308 started. Searching for the next optimal point.\n"
     ]
    },
    {
     "name": "stderr",
     "output_type": "stream",
     "text": [
      "/var/folders/6y/gzz1g_p559n80dc3_f2fl6m80000gn/T/ipykernel_54320/3668836295.py:32: SettingWithCopyWarning: \n",
      "A value is trying to be set on a copy of a slice from a DataFrame.\n",
      "Try using .loc[row_indexer,col_indexer] = value instead\n",
      "\n",
      "See the caveats in the documentation: https://pandas.pydata.org/pandas-docs/stable/user_guide/indexing.html#returning-a-view-versus-a-copy\n",
      "  data[model + \"_Q\"] = data.apply(lambda x: Q_dict[x.gridnum][x.transformed_state], axis=1)\n"
     ]
    },
    {
     "name": "stdout",
     "output_type": "stream",
     "text": [
      "Iteration No: 308 ended. Search finished for the next optimal point.\n",
      "Time taken: 77.6972\n",
      "Function value obtained: 13107.2290\n",
      "Current minimum: 13014.7061\n",
      "Iteration No: 309 started. Searching for the next optimal point.\n"
     ]
    },
    {
     "name": "stderr",
     "output_type": "stream",
     "text": [
      "/var/folders/6y/gzz1g_p559n80dc3_f2fl6m80000gn/T/ipykernel_54320/3668836295.py:32: SettingWithCopyWarning: \n",
      "A value is trying to be set on a copy of a slice from a DataFrame.\n",
      "Try using .loc[row_indexer,col_indexer] = value instead\n",
      "\n",
      "See the caveats in the documentation: https://pandas.pydata.org/pandas-docs/stable/user_guide/indexing.html#returning-a-view-versus-a-copy\n",
      "  data[model + \"_Q\"] = data.apply(lambda x: Q_dict[x.gridnum][x.transformed_state], axis=1)\n"
     ]
    },
    {
     "name": "stdout",
     "output_type": "stream",
     "text": [
      "Iteration No: 309 ended. Search finished for the next optimal point.\n",
      "Time taken: 48.2429\n",
      "Function value obtained: 13078.3844\n",
      "Current minimum: 13014.7061\n",
      "Iteration No: 310 started. Searching for the next optimal point.\n"
     ]
    },
    {
     "name": "stderr",
     "output_type": "stream",
     "text": [
      "/var/folders/6y/gzz1g_p559n80dc3_f2fl6m80000gn/T/ipykernel_54320/3668836295.py:32: SettingWithCopyWarning: \n",
      "A value is trying to be set on a copy of a slice from a DataFrame.\n",
      "Try using .loc[row_indexer,col_indexer] = value instead\n",
      "\n",
      "See the caveats in the documentation: https://pandas.pydata.org/pandas-docs/stable/user_guide/indexing.html#returning-a-view-versus-a-copy\n",
      "  data[model + \"_Q\"] = data.apply(lambda x: Q_dict[x.gridnum][x.transformed_state], axis=1)\n"
     ]
    },
    {
     "name": "stdout",
     "output_type": "stream",
     "text": [
      "Iteration No: 310 ended. Search finished for the next optimal point.\n",
      "Time taken: 49.0855\n",
      "Function value obtained: 13044.9393\n",
      "Current minimum: 13014.7061\n",
      "Iteration No: 311 started. Searching for the next optimal point.\n"
     ]
    },
    {
     "name": "stderr",
     "output_type": "stream",
     "text": [
      "/var/folders/6y/gzz1g_p559n80dc3_f2fl6m80000gn/T/ipykernel_54320/3668836295.py:32: SettingWithCopyWarning: \n",
      "A value is trying to be set on a copy of a slice from a DataFrame.\n",
      "Try using .loc[row_indexer,col_indexer] = value instead\n",
      "\n",
      "See the caveats in the documentation: https://pandas.pydata.org/pandas-docs/stable/user_guide/indexing.html#returning-a-view-versus-a-copy\n",
      "  data[model + \"_Q\"] = data.apply(lambda x: Q_dict[x.gridnum][x.transformed_state], axis=1)\n"
     ]
    },
    {
     "name": "stdout",
     "output_type": "stream",
     "text": [
      "Iteration No: 311 ended. Search finished for the next optimal point.\n",
      "Time taken: 48.8983\n",
      "Function value obtained: 13039.3474\n",
      "Current minimum: 13014.7061\n",
      "Iteration No: 312 started. Searching for the next optimal point.\n"
     ]
    },
    {
     "name": "stderr",
     "output_type": "stream",
     "text": [
      "/var/folders/6y/gzz1g_p559n80dc3_f2fl6m80000gn/T/ipykernel_54320/3668836295.py:32: SettingWithCopyWarning: \n",
      "A value is trying to be set on a copy of a slice from a DataFrame.\n",
      "Try using .loc[row_indexer,col_indexer] = value instead\n",
      "\n",
      "See the caveats in the documentation: https://pandas.pydata.org/pandas-docs/stable/user_guide/indexing.html#returning-a-view-versus-a-copy\n",
      "  data[model + \"_Q\"] = data.apply(lambda x: Q_dict[x.gridnum][x.transformed_state], axis=1)\n"
     ]
    },
    {
     "name": "stdout",
     "output_type": "stream",
     "text": [
      "Iteration No: 312 ended. Search finished for the next optimal point.\n",
      "Time taken: 48.4332\n",
      "Function value obtained: 13100.7396\n",
      "Current minimum: 13014.7061\n",
      "Iteration No: 313 started. Searching for the next optimal point.\n"
     ]
    },
    {
     "name": "stderr",
     "output_type": "stream",
     "text": [
      "/var/folders/6y/gzz1g_p559n80dc3_f2fl6m80000gn/T/ipykernel_54320/3668836295.py:32: SettingWithCopyWarning: \n",
      "A value is trying to be set on a copy of a slice from a DataFrame.\n",
      "Try using .loc[row_indexer,col_indexer] = value instead\n",
      "\n",
      "See the caveats in the documentation: https://pandas.pydata.org/pandas-docs/stable/user_guide/indexing.html#returning-a-view-versus-a-copy\n",
      "  data[model + \"_Q\"] = data.apply(lambda x: Q_dict[x.gridnum][x.transformed_state], axis=1)\n"
     ]
    },
    {
     "name": "stdout",
     "output_type": "stream",
     "text": [
      "Iteration No: 313 ended. Search finished for the next optimal point.\n",
      "Time taken: 68.9466\n",
      "Function value obtained: 13118.1022\n",
      "Current minimum: 13014.7061\n",
      "Iteration No: 314 started. Searching for the next optimal point.\n"
     ]
    },
    {
     "name": "stderr",
     "output_type": "stream",
     "text": [
      "/var/folders/6y/gzz1g_p559n80dc3_f2fl6m80000gn/T/ipykernel_54320/3668836295.py:32: SettingWithCopyWarning: \n",
      "A value is trying to be set on a copy of a slice from a DataFrame.\n",
      "Try using .loc[row_indexer,col_indexer] = value instead\n",
      "\n",
      "See the caveats in the documentation: https://pandas.pydata.org/pandas-docs/stable/user_guide/indexing.html#returning-a-view-versus-a-copy\n",
      "  data[model + \"_Q\"] = data.apply(lambda x: Q_dict[x.gridnum][x.transformed_state], axis=1)\n"
     ]
    },
    {
     "name": "stdout",
     "output_type": "stream",
     "text": [
      "Iteration No: 314 ended. Search finished for the next optimal point.\n",
      "Time taken: 27.7132\n",
      "Function value obtained: 13081.8679\n",
      "Current minimum: 13014.7061\n",
      "Iteration No: 315 started. Searching for the next optimal point.\n"
     ]
    },
    {
     "name": "stderr",
     "output_type": "stream",
     "text": [
      "/var/folders/6y/gzz1g_p559n80dc3_f2fl6m80000gn/T/ipykernel_54320/3668836295.py:32: SettingWithCopyWarning: \n",
      "A value is trying to be set on a copy of a slice from a DataFrame.\n",
      "Try using .loc[row_indexer,col_indexer] = value instead\n",
      "\n",
      "See the caveats in the documentation: https://pandas.pydata.org/pandas-docs/stable/user_guide/indexing.html#returning-a-view-versus-a-copy\n",
      "  data[model + \"_Q\"] = data.apply(lambda x: Q_dict[x.gridnum][x.transformed_state], axis=1)\n"
     ]
    },
    {
     "name": "stdout",
     "output_type": "stream",
     "text": [
      "Iteration No: 315 ended. Search finished for the next optimal point.\n",
      "Time taken: 52.4748\n",
      "Function value obtained: 13091.0531\n",
      "Current minimum: 13014.7061\n",
      "Iteration No: 316 started. Searching for the next optimal point.\n"
     ]
    },
    {
     "name": "stderr",
     "output_type": "stream",
     "text": [
      "/var/folders/6y/gzz1g_p559n80dc3_f2fl6m80000gn/T/ipykernel_54320/3668836295.py:32: SettingWithCopyWarning: \n",
      "A value is trying to be set on a copy of a slice from a DataFrame.\n",
      "Try using .loc[row_indexer,col_indexer] = value instead\n",
      "\n",
      "See the caveats in the documentation: https://pandas.pydata.org/pandas-docs/stable/user_guide/indexing.html#returning-a-view-versus-a-copy\n",
      "  data[model + \"_Q\"] = data.apply(lambda x: Q_dict[x.gridnum][x.transformed_state], axis=1)\n"
     ]
    },
    {
     "name": "stdout",
     "output_type": "stream",
     "text": [
      "Iteration No: 316 ended. Search finished for the next optimal point.\n",
      "Time taken: 47.7285\n",
      "Function value obtained: 13625.4812\n",
      "Current minimum: 13014.7061\n",
      "Iteration No: 317 started. Searching for the next optimal point.\n"
     ]
    },
    {
     "name": "stderr",
     "output_type": "stream",
     "text": [
      "/var/folders/6y/gzz1g_p559n80dc3_f2fl6m80000gn/T/ipykernel_54320/3668836295.py:32: SettingWithCopyWarning: \n",
      "A value is trying to be set on a copy of a slice from a DataFrame.\n",
      "Try using .loc[row_indexer,col_indexer] = value instead\n",
      "\n",
      "See the caveats in the documentation: https://pandas.pydata.org/pandas-docs/stable/user_guide/indexing.html#returning-a-view-versus-a-copy\n",
      "  data[model + \"_Q\"] = data.apply(lambda x: Q_dict[x.gridnum][x.transformed_state], axis=1)\n"
     ]
    },
    {
     "name": "stdout",
     "output_type": "stream",
     "text": [
      "Iteration No: 317 ended. Search finished for the next optimal point.\n",
      "Time taken: 50.5787\n",
      "Function value obtained: 13107.4640\n",
      "Current minimum: 13014.7061\n",
      "Iteration No: 318 started. Searching for the next optimal point.\n"
     ]
    },
    {
     "name": "stderr",
     "output_type": "stream",
     "text": [
      "/var/folders/6y/gzz1g_p559n80dc3_f2fl6m80000gn/T/ipykernel_54320/3668836295.py:32: SettingWithCopyWarning: \n",
      "A value is trying to be set on a copy of a slice from a DataFrame.\n",
      "Try using .loc[row_indexer,col_indexer] = value instead\n",
      "\n",
      "See the caveats in the documentation: https://pandas.pydata.org/pandas-docs/stable/user_guide/indexing.html#returning-a-view-versus-a-copy\n",
      "  data[model + \"_Q\"] = data.apply(lambda x: Q_dict[x.gridnum][x.transformed_state], axis=1)\n"
     ]
    },
    {
     "name": "stdout",
     "output_type": "stream",
     "text": [
      "Iteration No: 318 ended. Search finished for the next optimal point.\n",
      "Time taken: 44.9862\n",
      "Function value obtained: 13106.6593\n",
      "Current minimum: 13014.7061\n",
      "Iteration No: 319 started. Searching for the next optimal point.\n"
     ]
    },
    {
     "name": "stderr",
     "output_type": "stream",
     "text": [
      "/var/folders/6y/gzz1g_p559n80dc3_f2fl6m80000gn/T/ipykernel_54320/3668836295.py:32: SettingWithCopyWarning: \n",
      "A value is trying to be set on a copy of a slice from a DataFrame.\n",
      "Try using .loc[row_indexer,col_indexer] = value instead\n",
      "\n",
      "See the caveats in the documentation: https://pandas.pydata.org/pandas-docs/stable/user_guide/indexing.html#returning-a-view-versus-a-copy\n",
      "  data[model + \"_Q\"] = data.apply(lambda x: Q_dict[x.gridnum][x.transformed_state], axis=1)\n"
     ]
    },
    {
     "name": "stdout",
     "output_type": "stream",
     "text": [
      "Iteration No: 319 ended. Search finished for the next optimal point.\n",
      "Time taken: 52.3649\n",
      "Function value obtained: 13118.6982\n",
      "Current minimum: 13014.7061\n",
      "Iteration No: 320 started. Searching for the next optimal point.\n"
     ]
    },
    {
     "name": "stderr",
     "output_type": "stream",
     "text": [
      "/var/folders/6y/gzz1g_p559n80dc3_f2fl6m80000gn/T/ipykernel_54320/3668836295.py:32: SettingWithCopyWarning: \n",
      "A value is trying to be set on a copy of a slice from a DataFrame.\n",
      "Try using .loc[row_indexer,col_indexer] = value instead\n",
      "\n",
      "See the caveats in the documentation: https://pandas.pydata.org/pandas-docs/stable/user_guide/indexing.html#returning-a-view-versus-a-copy\n",
      "  data[model + \"_Q\"] = data.apply(lambda x: Q_dict[x.gridnum][x.transformed_state], axis=1)\n"
     ]
    },
    {
     "name": "stdout",
     "output_type": "stream",
     "text": [
      "Iteration No: 320 ended. Search finished for the next optimal point.\n",
      "Time taken: 72.4131\n",
      "Function value obtained: 13116.3681\n",
      "Current minimum: 13014.7061\n",
      "Iteration No: 321 started. Searching for the next optimal point.\n"
     ]
    },
    {
     "name": "stderr",
     "output_type": "stream",
     "text": [
      "/var/folders/6y/gzz1g_p559n80dc3_f2fl6m80000gn/T/ipykernel_54320/3668836295.py:32: SettingWithCopyWarning: \n",
      "A value is trying to be set on a copy of a slice from a DataFrame.\n",
      "Try using .loc[row_indexer,col_indexer] = value instead\n",
      "\n",
      "See the caveats in the documentation: https://pandas.pydata.org/pandas-docs/stable/user_guide/indexing.html#returning-a-view-versus-a-copy\n",
      "  data[model + \"_Q\"] = data.apply(lambda x: Q_dict[x.gridnum][x.transformed_state], axis=1)\n"
     ]
    },
    {
     "name": "stdout",
     "output_type": "stream",
     "text": [
      "Iteration No: 321 ended. Search finished for the next optimal point.\n",
      "Time taken: 25.7693\n",
      "Function value obtained: 13047.9171\n",
      "Current minimum: 13014.7061\n",
      "Iteration No: 322 started. Searching for the next optimal point.\n"
     ]
    },
    {
     "name": "stderr",
     "output_type": "stream",
     "text": [
      "/var/folders/6y/gzz1g_p559n80dc3_f2fl6m80000gn/T/ipykernel_54320/3668836295.py:32: SettingWithCopyWarning: \n",
      "A value is trying to be set on a copy of a slice from a DataFrame.\n",
      "Try using .loc[row_indexer,col_indexer] = value instead\n",
      "\n",
      "See the caveats in the documentation: https://pandas.pydata.org/pandas-docs/stable/user_guide/indexing.html#returning-a-view-versus-a-copy\n",
      "  data[model + \"_Q\"] = data.apply(lambda x: Q_dict[x.gridnum][x.transformed_state], axis=1)\n"
     ]
    },
    {
     "name": "stdout",
     "output_type": "stream",
     "text": [
      "Iteration No: 322 ended. Search finished for the next optimal point.\n",
      "Time taken: 25.1222\n",
      "Function value obtained: 13273.6559\n",
      "Current minimum: 13014.7061\n",
      "Iteration No: 323 started. Searching for the next optimal point.\n"
     ]
    },
    {
     "name": "stderr",
     "output_type": "stream",
     "text": [
      "/var/folders/6y/gzz1g_p559n80dc3_f2fl6m80000gn/T/ipykernel_54320/3668836295.py:32: SettingWithCopyWarning: \n",
      "A value is trying to be set on a copy of a slice from a DataFrame.\n",
      "Try using .loc[row_indexer,col_indexer] = value instead\n",
      "\n",
      "See the caveats in the documentation: https://pandas.pydata.org/pandas-docs/stable/user_guide/indexing.html#returning-a-view-versus-a-copy\n",
      "  data[model + \"_Q\"] = data.apply(lambda x: Q_dict[x.gridnum][x.transformed_state], axis=1)\n"
     ]
    },
    {
     "name": "stdout",
     "output_type": "stream",
     "text": [
      "Iteration No: 323 ended. Search finished for the next optimal point.\n",
      "Time taken: 48.6071\n",
      "Function value obtained: 13078.1841\n",
      "Current minimum: 13014.7061\n",
      "Iteration No: 324 started. Searching for the next optimal point.\n"
     ]
    },
    {
     "name": "stderr",
     "output_type": "stream",
     "text": [
      "/var/folders/6y/gzz1g_p559n80dc3_f2fl6m80000gn/T/ipykernel_54320/3668836295.py:32: SettingWithCopyWarning: \n",
      "A value is trying to be set on a copy of a slice from a DataFrame.\n",
      "Try using .loc[row_indexer,col_indexer] = value instead\n",
      "\n",
      "See the caveats in the documentation: https://pandas.pydata.org/pandas-docs/stable/user_guide/indexing.html#returning-a-view-versus-a-copy\n",
      "  data[model + \"_Q\"] = data.apply(lambda x: Q_dict[x.gridnum][x.transformed_state], axis=1)\n"
     ]
    },
    {
     "name": "stdout",
     "output_type": "stream",
     "text": [
      "Iteration No: 324 ended. Search finished for the next optimal point.\n",
      "Time taken: 51.6483\n",
      "Function value obtained: 13083.4824\n",
      "Current minimum: 13014.7061\n",
      "Iteration No: 325 started. Searching for the next optimal point.\n"
     ]
    },
    {
     "name": "stderr",
     "output_type": "stream",
     "text": [
      "/var/folders/6y/gzz1g_p559n80dc3_f2fl6m80000gn/T/ipykernel_54320/3668836295.py:32: SettingWithCopyWarning: \n",
      "A value is trying to be set on a copy of a slice from a DataFrame.\n",
      "Try using .loc[row_indexer,col_indexer] = value instead\n",
      "\n",
      "See the caveats in the documentation: https://pandas.pydata.org/pandas-docs/stable/user_guide/indexing.html#returning-a-view-versus-a-copy\n",
      "  data[model + \"_Q\"] = data.apply(lambda x: Q_dict[x.gridnum][x.transformed_state], axis=1)\n"
     ]
    },
    {
     "name": "stdout",
     "output_type": "stream",
     "text": [
      "Iteration No: 325 ended. Search finished for the next optimal point.\n",
      "Time taken: 32.6105\n",
      "Function value obtained: 13100.6902\n",
      "Current minimum: 13014.7061\n",
      "Iteration No: 326 started. Searching for the next optimal point.\n"
     ]
    },
    {
     "name": "stderr",
     "output_type": "stream",
     "text": [
      "/var/folders/6y/gzz1g_p559n80dc3_f2fl6m80000gn/T/ipykernel_54320/3668836295.py:32: SettingWithCopyWarning: \n",
      "A value is trying to be set on a copy of a slice from a DataFrame.\n",
      "Try using .loc[row_indexer,col_indexer] = value instead\n",
      "\n",
      "See the caveats in the documentation: https://pandas.pydata.org/pandas-docs/stable/user_guide/indexing.html#returning-a-view-versus-a-copy\n",
      "  data[model + \"_Q\"] = data.apply(lambda x: Q_dict[x.gridnum][x.transformed_state], axis=1)\n"
     ]
    },
    {
     "name": "stdout",
     "output_type": "stream",
     "text": [
      "Iteration No: 326 ended. Search finished for the next optimal point.\n",
      "Time taken: 55.4528\n",
      "Function value obtained: 13058.2150\n",
      "Current minimum: 13014.7061\n",
      "Iteration No: 327 started. Searching for the next optimal point.\n"
     ]
    },
    {
     "name": "stderr",
     "output_type": "stream",
     "text": [
      "/var/folders/6y/gzz1g_p559n80dc3_f2fl6m80000gn/T/ipykernel_54320/3668836295.py:32: SettingWithCopyWarning: \n",
      "A value is trying to be set on a copy of a slice from a DataFrame.\n",
      "Try using .loc[row_indexer,col_indexer] = value instead\n",
      "\n",
      "See the caveats in the documentation: https://pandas.pydata.org/pandas-docs/stable/user_guide/indexing.html#returning-a-view-versus-a-copy\n",
      "  data[model + \"_Q\"] = data.apply(lambda x: Q_dict[x.gridnum][x.transformed_state], axis=1)\n"
     ]
    },
    {
     "name": "stdout",
     "output_type": "stream",
     "text": [
      "Iteration No: 327 ended. Search finished for the next optimal point.\n",
      "Time taken: 49.2452\n",
      "Function value obtained: 13138.5786\n",
      "Current minimum: 13014.7061\n",
      "Iteration No: 328 started. Searching for the next optimal point.\n"
     ]
    },
    {
     "name": "stderr",
     "output_type": "stream",
     "text": [
      "/var/folders/6y/gzz1g_p559n80dc3_f2fl6m80000gn/T/ipykernel_54320/3668836295.py:32: SettingWithCopyWarning: \n",
      "A value is trying to be set on a copy of a slice from a DataFrame.\n",
      "Try using .loc[row_indexer,col_indexer] = value instead\n",
      "\n",
      "See the caveats in the documentation: https://pandas.pydata.org/pandas-docs/stable/user_guide/indexing.html#returning-a-view-versus-a-copy\n",
      "  data[model + \"_Q\"] = data.apply(lambda x: Q_dict[x.gridnum][x.transformed_state], axis=1)\n"
     ]
    },
    {
     "name": "stdout",
     "output_type": "stream",
     "text": [
      "Iteration No: 328 ended. Search finished for the next optimal point.\n",
      "Time taken: 48.6487\n",
      "Function value obtained: 13068.7708\n",
      "Current minimum: 13014.7061\n",
      "Iteration No: 329 started. Searching for the next optimal point.\n"
     ]
    },
    {
     "name": "stderr",
     "output_type": "stream",
     "text": [
      "/var/folders/6y/gzz1g_p559n80dc3_f2fl6m80000gn/T/ipykernel_54320/3668836295.py:32: SettingWithCopyWarning: \n",
      "A value is trying to be set on a copy of a slice from a DataFrame.\n",
      "Try using .loc[row_indexer,col_indexer] = value instead\n",
      "\n",
      "See the caveats in the documentation: https://pandas.pydata.org/pandas-docs/stable/user_guide/indexing.html#returning-a-view-versus-a-copy\n",
      "  data[model + \"_Q\"] = data.apply(lambda x: Q_dict[x.gridnum][x.transformed_state], axis=1)\n"
     ]
    },
    {
     "name": "stdout",
     "output_type": "stream",
     "text": [
      "Iteration No: 329 ended. Search finished for the next optimal point.\n",
      "Time taken: 48.6062\n",
      "Function value obtained: 13120.4170\n",
      "Current minimum: 13014.7061\n",
      "Iteration No: 330 started. Searching for the next optimal point.\n"
     ]
    },
    {
     "name": "stderr",
     "output_type": "stream",
     "text": [
      "/var/folders/6y/gzz1g_p559n80dc3_f2fl6m80000gn/T/ipykernel_54320/3668836295.py:32: SettingWithCopyWarning: \n",
      "A value is trying to be set on a copy of a slice from a DataFrame.\n",
      "Try using .loc[row_indexer,col_indexer] = value instead\n",
      "\n",
      "See the caveats in the documentation: https://pandas.pydata.org/pandas-docs/stable/user_guide/indexing.html#returning-a-view-versus-a-copy\n",
      "  data[model + \"_Q\"] = data.apply(lambda x: Q_dict[x.gridnum][x.transformed_state], axis=1)\n"
     ]
    },
    {
     "name": "stdout",
     "output_type": "stream",
     "text": [
      "Iteration No: 330 ended. Search finished for the next optimal point.\n",
      "Time taken: 48.0806\n",
      "Function value obtained: 13109.0637\n",
      "Current minimum: 13014.7061\n",
      "Iteration No: 331 started. Searching for the next optimal point.\n"
     ]
    },
    {
     "name": "stderr",
     "output_type": "stream",
     "text": [
      "/var/folders/6y/gzz1g_p559n80dc3_f2fl6m80000gn/T/ipykernel_54320/3668836295.py:32: SettingWithCopyWarning: \n",
      "A value is trying to be set on a copy of a slice from a DataFrame.\n",
      "Try using .loc[row_indexer,col_indexer] = value instead\n",
      "\n",
      "See the caveats in the documentation: https://pandas.pydata.org/pandas-docs/stable/user_guide/indexing.html#returning-a-view-versus-a-copy\n",
      "  data[model + \"_Q\"] = data.apply(lambda x: Q_dict[x.gridnum][x.transformed_state], axis=1)\n"
     ]
    },
    {
     "name": "stdout",
     "output_type": "stream",
     "text": [
      "Iteration No: 331 ended. Search finished for the next optimal point.\n",
      "Time taken: 10.7499\n",
      "Function value obtained: 14056.7989\n",
      "Current minimum: 13014.7061\n",
      "Iteration No: 332 started. Searching for the next optimal point.\n"
     ]
    },
    {
     "name": "stderr",
     "output_type": "stream",
     "text": [
      "/var/folders/6y/gzz1g_p559n80dc3_f2fl6m80000gn/T/ipykernel_54320/3668836295.py:32: SettingWithCopyWarning: \n",
      "A value is trying to be set on a copy of a slice from a DataFrame.\n",
      "Try using .loc[row_indexer,col_indexer] = value instead\n",
      "\n",
      "See the caveats in the documentation: https://pandas.pydata.org/pandas-docs/stable/user_guide/indexing.html#returning-a-view-versus-a-copy\n",
      "  data[model + \"_Q\"] = data.apply(lambda x: Q_dict[x.gridnum][x.transformed_state], axis=1)\n"
     ]
    },
    {
     "name": "stdout",
     "output_type": "stream",
     "text": [
      "Iteration No: 332 ended. Search finished for the next optimal point.\n",
      "Time taken: 24.4597\n",
      "Function value obtained: 13032.5067\n",
      "Current minimum: 13014.7061\n",
      "Iteration No: 333 started. Searching for the next optimal point.\n"
     ]
    },
    {
     "name": "stderr",
     "output_type": "stream",
     "text": [
      "/var/folders/6y/gzz1g_p559n80dc3_f2fl6m80000gn/T/ipykernel_54320/3668836295.py:32: SettingWithCopyWarning: \n",
      "A value is trying to be set on a copy of a slice from a DataFrame.\n",
      "Try using .loc[row_indexer,col_indexer] = value instead\n",
      "\n",
      "See the caveats in the documentation: https://pandas.pydata.org/pandas-docs/stable/user_guide/indexing.html#returning-a-view-versus-a-copy\n",
      "  data[model + \"_Q\"] = data.apply(lambda x: Q_dict[x.gridnum][x.transformed_state], axis=1)\n"
     ]
    },
    {
     "name": "stdout",
     "output_type": "stream",
     "text": [
      "Iteration No: 333 ended. Search finished for the next optimal point.\n",
      "Time taken: 24.7107\n",
      "Function value obtained: 13002.1908\n",
      "Current minimum: 13002.1908\n",
      "Iteration No: 334 started. Searching for the next optimal point.\n"
     ]
    },
    {
     "name": "stderr",
     "output_type": "stream",
     "text": [
      "/var/folders/6y/gzz1g_p559n80dc3_f2fl6m80000gn/T/ipykernel_54320/3668836295.py:32: SettingWithCopyWarning: \n",
      "A value is trying to be set on a copy of a slice from a DataFrame.\n",
      "Try using .loc[row_indexer,col_indexer] = value instead\n",
      "\n",
      "See the caveats in the documentation: https://pandas.pydata.org/pandas-docs/stable/user_guide/indexing.html#returning-a-view-versus-a-copy\n",
      "  data[model + \"_Q\"] = data.apply(lambda x: Q_dict[x.gridnum][x.transformed_state], axis=1)\n"
     ]
    },
    {
     "name": "stdout",
     "output_type": "stream",
     "text": [
      "Iteration No: 334 ended. Search finished for the next optimal point.\n",
      "Time taken: 24.5490\n",
      "Function value obtained: 13144.9633\n",
      "Current minimum: 13002.1908\n",
      "Iteration No: 335 started. Searching for the next optimal point.\n"
     ]
    },
    {
     "name": "stderr",
     "output_type": "stream",
     "text": [
      "/var/folders/6y/gzz1g_p559n80dc3_f2fl6m80000gn/T/ipykernel_54320/3668836295.py:32: SettingWithCopyWarning: \n",
      "A value is trying to be set on a copy of a slice from a DataFrame.\n",
      "Try using .loc[row_indexer,col_indexer] = value instead\n",
      "\n",
      "See the caveats in the documentation: https://pandas.pydata.org/pandas-docs/stable/user_guide/indexing.html#returning-a-view-versus-a-copy\n",
      "  data[model + \"_Q\"] = data.apply(lambda x: Q_dict[x.gridnum][x.transformed_state], axis=1)\n"
     ]
    },
    {
     "name": "stdout",
     "output_type": "stream",
     "text": [
      "Iteration No: 335 ended. Search finished for the next optimal point.\n",
      "Time taken: 27.0852\n",
      "Function value obtained: 13136.6939\n",
      "Current minimum: 13002.1908\n",
      "Iteration No: 336 started. Searching for the next optimal point.\n"
     ]
    },
    {
     "name": "stderr",
     "output_type": "stream",
     "text": [
      "/var/folders/6y/gzz1g_p559n80dc3_f2fl6m80000gn/T/ipykernel_54320/3668836295.py:32: SettingWithCopyWarning: \n",
      "A value is trying to be set on a copy of a slice from a DataFrame.\n",
      "Try using .loc[row_indexer,col_indexer] = value instead\n",
      "\n",
      "See the caveats in the documentation: https://pandas.pydata.org/pandas-docs/stable/user_guide/indexing.html#returning-a-view-versus-a-copy\n",
      "  data[model + \"_Q\"] = data.apply(lambda x: Q_dict[x.gridnum][x.transformed_state], axis=1)\n"
     ]
    },
    {
     "name": "stdout",
     "output_type": "stream",
     "text": [
      "Iteration No: 336 ended. Search finished for the next optimal point.\n",
      "Time taken: 22.9155\n",
      "Function value obtained: 13112.5859\n",
      "Current minimum: 13002.1908\n",
      "Iteration No: 337 started. Searching for the next optimal point.\n"
     ]
    },
    {
     "name": "stderr",
     "output_type": "stream",
     "text": [
      "/var/folders/6y/gzz1g_p559n80dc3_f2fl6m80000gn/T/ipykernel_54320/3668836295.py:32: SettingWithCopyWarning: \n",
      "A value is trying to be set on a copy of a slice from a DataFrame.\n",
      "Try using .loc[row_indexer,col_indexer] = value instead\n",
      "\n",
      "See the caveats in the documentation: https://pandas.pydata.org/pandas-docs/stable/user_guide/indexing.html#returning-a-view-versus-a-copy\n",
      "  data[model + \"_Q\"] = data.apply(lambda x: Q_dict[x.gridnum][x.transformed_state], axis=1)\n"
     ]
    },
    {
     "name": "stdout",
     "output_type": "stream",
     "text": [
      "Iteration No: 337 ended. Search finished for the next optimal point.\n",
      "Time taken: 48.2704\n",
      "Function value obtained: 13098.5612\n",
      "Current minimum: 13002.1908\n",
      "Iteration No: 338 started. Searching for the next optimal point.\n"
     ]
    },
    {
     "name": "stderr",
     "output_type": "stream",
     "text": [
      "/var/folders/6y/gzz1g_p559n80dc3_f2fl6m80000gn/T/ipykernel_54320/3668836295.py:32: SettingWithCopyWarning: \n",
      "A value is trying to be set on a copy of a slice from a DataFrame.\n",
      "Try using .loc[row_indexer,col_indexer] = value instead\n",
      "\n",
      "See the caveats in the documentation: https://pandas.pydata.org/pandas-docs/stable/user_guide/indexing.html#returning-a-view-versus-a-copy\n",
      "  data[model + \"_Q\"] = data.apply(lambda x: Q_dict[x.gridnum][x.transformed_state], axis=1)\n"
     ]
    },
    {
     "name": "stdout",
     "output_type": "stream",
     "text": [
      "Iteration No: 338 ended. Search finished for the next optimal point.\n",
      "Time taken: 39.5221\n",
      "Function value obtained: 13125.1612\n",
      "Current minimum: 13002.1908\n",
      "Iteration No: 339 started. Searching for the next optimal point.\n"
     ]
    },
    {
     "name": "stderr",
     "output_type": "stream",
     "text": [
      "/var/folders/6y/gzz1g_p559n80dc3_f2fl6m80000gn/T/ipykernel_54320/3668836295.py:32: SettingWithCopyWarning: \n",
      "A value is trying to be set on a copy of a slice from a DataFrame.\n",
      "Try using .loc[row_indexer,col_indexer] = value instead\n",
      "\n",
      "See the caveats in the documentation: https://pandas.pydata.org/pandas-docs/stable/user_guide/indexing.html#returning-a-view-versus-a-copy\n",
      "  data[model + \"_Q\"] = data.apply(lambda x: Q_dict[x.gridnum][x.transformed_state], axis=1)\n"
     ]
    },
    {
     "name": "stdout",
     "output_type": "stream",
     "text": [
      "Iteration No: 339 ended. Search finished for the next optimal point.\n",
      "Time taken: 46.2826\n",
      "Function value obtained: 13119.5242\n",
      "Current minimum: 13002.1908\n",
      "Iteration No: 340 started. Searching for the next optimal point.\n"
     ]
    },
    {
     "name": "stderr",
     "output_type": "stream",
     "text": [
      "/var/folders/6y/gzz1g_p559n80dc3_f2fl6m80000gn/T/ipykernel_54320/3668836295.py:32: SettingWithCopyWarning: \n",
      "A value is trying to be set on a copy of a slice from a DataFrame.\n",
      "Try using .loc[row_indexer,col_indexer] = value instead\n",
      "\n",
      "See the caveats in the documentation: https://pandas.pydata.org/pandas-docs/stable/user_guide/indexing.html#returning-a-view-versus-a-copy\n",
      "  data[model + \"_Q\"] = data.apply(lambda x: Q_dict[x.gridnum][x.transformed_state], axis=1)\n"
     ]
    },
    {
     "name": "stdout",
     "output_type": "stream",
     "text": [
      "Iteration No: 340 ended. Search finished for the next optimal point.\n",
      "Time taken: 23.3299\n",
      "Function value obtained: 13150.2554\n",
      "Current minimum: 13002.1908\n",
      "Iteration No: 341 started. Searching for the next optimal point.\n"
     ]
    },
    {
     "name": "stderr",
     "output_type": "stream",
     "text": [
      "/var/folders/6y/gzz1g_p559n80dc3_f2fl6m80000gn/T/ipykernel_54320/3668836295.py:32: SettingWithCopyWarning: \n",
      "A value is trying to be set on a copy of a slice from a DataFrame.\n",
      "Try using .loc[row_indexer,col_indexer] = value instead\n",
      "\n",
      "See the caveats in the documentation: https://pandas.pydata.org/pandas-docs/stable/user_guide/indexing.html#returning-a-view-versus-a-copy\n",
      "  data[model + \"_Q\"] = data.apply(lambda x: Q_dict[x.gridnum][x.transformed_state], axis=1)\n"
     ]
    },
    {
     "name": "stdout",
     "output_type": "stream",
     "text": [
      "Iteration No: 341 ended. Search finished for the next optimal point.\n",
      "Time taken: 29.4807\n",
      "Function value obtained: 13098.6113\n",
      "Current minimum: 13002.1908\n",
      "Iteration No: 342 started. Searching for the next optimal point.\n"
     ]
    },
    {
     "name": "stderr",
     "output_type": "stream",
     "text": [
      "/var/folders/6y/gzz1g_p559n80dc3_f2fl6m80000gn/T/ipykernel_54320/3668836295.py:32: SettingWithCopyWarning: \n",
      "A value is trying to be set on a copy of a slice from a DataFrame.\n",
      "Try using .loc[row_indexer,col_indexer] = value instead\n",
      "\n",
      "See the caveats in the documentation: https://pandas.pydata.org/pandas-docs/stable/user_guide/indexing.html#returning-a-view-versus-a-copy\n",
      "  data[model + \"_Q\"] = data.apply(lambda x: Q_dict[x.gridnum][x.transformed_state], axis=1)\n"
     ]
    },
    {
     "name": "stdout",
     "output_type": "stream",
     "text": [
      "Iteration No: 342 ended. Search finished for the next optimal point.\n",
      "Time taken: 62.1923\n",
      "Function value obtained: 13091.2380\n",
      "Current minimum: 13002.1908\n",
      "Iteration No: 343 started. Searching for the next optimal point.\n"
     ]
    },
    {
     "name": "stderr",
     "output_type": "stream",
     "text": [
      "/var/folders/6y/gzz1g_p559n80dc3_f2fl6m80000gn/T/ipykernel_54320/3668836295.py:32: SettingWithCopyWarning: \n",
      "A value is trying to be set on a copy of a slice from a DataFrame.\n",
      "Try using .loc[row_indexer,col_indexer] = value instead\n",
      "\n",
      "See the caveats in the documentation: https://pandas.pydata.org/pandas-docs/stable/user_guide/indexing.html#returning-a-view-versus-a-copy\n",
      "  data[model + \"_Q\"] = data.apply(lambda x: Q_dict[x.gridnum][x.transformed_state], axis=1)\n"
     ]
    },
    {
     "name": "stdout",
     "output_type": "stream",
     "text": [
      "Iteration No: 343 ended. Search finished for the next optimal point.\n",
      "Time taken: 50.5951\n",
      "Function value obtained: 13110.1575\n",
      "Current minimum: 13002.1908\n",
      "Iteration No: 344 started. Searching for the next optimal point.\n"
     ]
    },
    {
     "name": "stderr",
     "output_type": "stream",
     "text": [
      "/var/folders/6y/gzz1g_p559n80dc3_f2fl6m80000gn/T/ipykernel_54320/3668836295.py:32: SettingWithCopyWarning: \n",
      "A value is trying to be set on a copy of a slice from a DataFrame.\n",
      "Try using .loc[row_indexer,col_indexer] = value instead\n",
      "\n",
      "See the caveats in the documentation: https://pandas.pydata.org/pandas-docs/stable/user_guide/indexing.html#returning-a-view-versus-a-copy\n",
      "  data[model + \"_Q\"] = data.apply(lambda x: Q_dict[x.gridnum][x.transformed_state], axis=1)\n"
     ]
    },
    {
     "name": "stdout",
     "output_type": "stream",
     "text": [
      "Iteration No: 344 ended. Search finished for the next optimal point.\n",
      "Time taken: 74.2386\n",
      "Function value obtained: 13089.4883\n",
      "Current minimum: 13002.1908\n",
      "Iteration No: 345 started. Searching for the next optimal point.\n"
     ]
    },
    {
     "name": "stderr",
     "output_type": "stream",
     "text": [
      "/var/folders/6y/gzz1g_p559n80dc3_f2fl6m80000gn/T/ipykernel_54320/3668836295.py:32: SettingWithCopyWarning: \n",
      "A value is trying to be set on a copy of a slice from a DataFrame.\n",
      "Try using .loc[row_indexer,col_indexer] = value instead\n",
      "\n",
      "See the caveats in the documentation: https://pandas.pydata.org/pandas-docs/stable/user_guide/indexing.html#returning-a-view-versus-a-copy\n",
      "  data[model + \"_Q\"] = data.apply(lambda x: Q_dict[x.gridnum][x.transformed_state], axis=1)\n"
     ]
    },
    {
     "name": "stdout",
     "output_type": "stream",
     "text": [
      "Iteration No: 345 ended. Search finished for the next optimal point.\n",
      "Time taken: 61.7553\n",
      "Function value obtained: 13063.0110\n",
      "Current minimum: 13002.1908\n",
      "Iteration No: 346 started. Searching for the next optimal point.\n"
     ]
    },
    {
     "name": "stderr",
     "output_type": "stream",
     "text": [
      "/var/folders/6y/gzz1g_p559n80dc3_f2fl6m80000gn/T/ipykernel_54320/3668836295.py:32: SettingWithCopyWarning: \n",
      "A value is trying to be set on a copy of a slice from a DataFrame.\n",
      "Try using .loc[row_indexer,col_indexer] = value instead\n",
      "\n",
      "See the caveats in the documentation: https://pandas.pydata.org/pandas-docs/stable/user_guide/indexing.html#returning-a-view-versus-a-copy\n",
      "  data[model + \"_Q\"] = data.apply(lambda x: Q_dict[x.gridnum][x.transformed_state], axis=1)\n"
     ]
    },
    {
     "name": "stdout",
     "output_type": "stream",
     "text": [
      "Iteration No: 346 ended. Search finished for the next optimal point.\n",
      "Time taken: 54.3373\n",
      "Function value obtained: 13081.3982\n",
      "Current minimum: 13002.1908\n",
      "Iteration No: 347 started. Searching for the next optimal point.\n"
     ]
    },
    {
     "name": "stderr",
     "output_type": "stream",
     "text": [
      "/var/folders/6y/gzz1g_p559n80dc3_f2fl6m80000gn/T/ipykernel_54320/3668836295.py:32: SettingWithCopyWarning: \n",
      "A value is trying to be set on a copy of a slice from a DataFrame.\n",
      "Try using .loc[row_indexer,col_indexer] = value instead\n",
      "\n",
      "See the caveats in the documentation: https://pandas.pydata.org/pandas-docs/stable/user_guide/indexing.html#returning-a-view-versus-a-copy\n",
      "  data[model + \"_Q\"] = data.apply(lambda x: Q_dict[x.gridnum][x.transformed_state], axis=1)\n"
     ]
    },
    {
     "name": "stdout",
     "output_type": "stream",
     "text": [
      "Iteration No: 347 ended. Search finished for the next optimal point.\n",
      "Time taken: 41.8493\n",
      "Function value obtained: 13102.7340\n",
      "Current minimum: 13002.1908\n",
      "Iteration No: 348 started. Searching for the next optimal point.\n"
     ]
    },
    {
     "name": "stderr",
     "output_type": "stream",
     "text": [
      "/var/folders/6y/gzz1g_p559n80dc3_f2fl6m80000gn/T/ipykernel_54320/3668836295.py:32: SettingWithCopyWarning: \n",
      "A value is trying to be set on a copy of a slice from a DataFrame.\n",
      "Try using .loc[row_indexer,col_indexer] = value instead\n",
      "\n",
      "See the caveats in the documentation: https://pandas.pydata.org/pandas-docs/stable/user_guide/indexing.html#returning-a-view-versus-a-copy\n",
      "  data[model + \"_Q\"] = data.apply(lambda x: Q_dict[x.gridnum][x.transformed_state], axis=1)\n"
     ]
    },
    {
     "name": "stdout",
     "output_type": "stream",
     "text": [
      "Iteration No: 348 ended. Search finished for the next optimal point.\n",
      "Time taken: 62.9948\n",
      "Function value obtained: 13123.0750\n",
      "Current minimum: 13002.1908\n",
      "Iteration No: 349 started. Searching for the next optimal point.\n"
     ]
    },
    {
     "name": "stderr",
     "output_type": "stream",
     "text": [
      "/var/folders/6y/gzz1g_p559n80dc3_f2fl6m80000gn/T/ipykernel_54320/3668836295.py:32: SettingWithCopyWarning: \n",
      "A value is trying to be set on a copy of a slice from a DataFrame.\n",
      "Try using .loc[row_indexer,col_indexer] = value instead\n",
      "\n",
      "See the caveats in the documentation: https://pandas.pydata.org/pandas-docs/stable/user_guide/indexing.html#returning-a-view-versus-a-copy\n",
      "  data[model + \"_Q\"] = data.apply(lambda x: Q_dict[x.gridnum][x.transformed_state], axis=1)\n"
     ]
    },
    {
     "name": "stdout",
     "output_type": "stream",
     "text": [
      "Iteration No: 349 ended. Search finished for the next optimal point.\n",
      "Time taken: 54.7799\n",
      "Function value obtained: 13085.7764\n",
      "Current minimum: 13002.1908\n",
      "Iteration No: 350 started. Searching for the next optimal point.\n"
     ]
    },
    {
     "name": "stderr",
     "output_type": "stream",
     "text": [
      "/var/folders/6y/gzz1g_p559n80dc3_f2fl6m80000gn/T/ipykernel_54320/3668836295.py:32: SettingWithCopyWarning: \n",
      "A value is trying to be set on a copy of a slice from a DataFrame.\n",
      "Try using .loc[row_indexer,col_indexer] = value instead\n",
      "\n",
      "See the caveats in the documentation: https://pandas.pydata.org/pandas-docs/stable/user_guide/indexing.html#returning-a-view-versus-a-copy\n",
      "  data[model + \"_Q\"] = data.apply(lambda x: Q_dict[x.gridnum][x.transformed_state], axis=1)\n"
     ]
    },
    {
     "name": "stdout",
     "output_type": "stream",
     "text": [
      "Iteration No: 350 ended. Search finished for the next optimal point.\n",
      "Time taken: 34.4902\n",
      "Function value obtained: 13094.0483\n",
      "Current minimum: 13002.1908\n",
      "Iteration No: 351 started. Searching for the next optimal point.\n"
     ]
    },
    {
     "name": "stderr",
     "output_type": "stream",
     "text": [
      "/var/folders/6y/gzz1g_p559n80dc3_f2fl6m80000gn/T/ipykernel_54320/3668836295.py:32: SettingWithCopyWarning: \n",
      "A value is trying to be set on a copy of a slice from a DataFrame.\n",
      "Try using .loc[row_indexer,col_indexer] = value instead\n",
      "\n",
      "See the caveats in the documentation: https://pandas.pydata.org/pandas-docs/stable/user_guide/indexing.html#returning-a-view-versus-a-copy\n",
      "  data[model + \"_Q\"] = data.apply(lambda x: Q_dict[x.gridnum][x.transformed_state], axis=1)\n"
     ]
    },
    {
     "name": "stdout",
     "output_type": "stream",
     "text": [
      "Iteration No: 351 ended. Search finished for the next optimal point.\n",
      "Time taken: 61.7740\n",
      "Function value obtained: 13105.5567\n",
      "Current minimum: 13002.1908\n",
      "Iteration No: 352 started. Searching for the next optimal point.\n"
     ]
    },
    {
     "name": "stderr",
     "output_type": "stream",
     "text": [
      "/var/folders/6y/gzz1g_p559n80dc3_f2fl6m80000gn/T/ipykernel_54320/3668836295.py:32: SettingWithCopyWarning: \n",
      "A value is trying to be set on a copy of a slice from a DataFrame.\n",
      "Try using .loc[row_indexer,col_indexer] = value instead\n",
      "\n",
      "See the caveats in the documentation: https://pandas.pydata.org/pandas-docs/stable/user_guide/indexing.html#returning-a-view-versus-a-copy\n",
      "  data[model + \"_Q\"] = data.apply(lambda x: Q_dict[x.gridnum][x.transformed_state], axis=1)\n"
     ]
    },
    {
     "name": "stdout",
     "output_type": "stream",
     "text": [
      "Iteration No: 352 ended. Search finished for the next optimal point.\n",
      "Time taken: 56.6497\n",
      "Function value obtained: 13112.2686\n",
      "Current minimum: 13002.1908\n",
      "Iteration No: 353 started. Searching for the next optimal point.\n"
     ]
    },
    {
     "name": "stderr",
     "output_type": "stream",
     "text": [
      "/var/folders/6y/gzz1g_p559n80dc3_f2fl6m80000gn/T/ipykernel_54320/3668836295.py:32: SettingWithCopyWarning: \n",
      "A value is trying to be set on a copy of a slice from a DataFrame.\n",
      "Try using .loc[row_indexer,col_indexer] = value instead\n",
      "\n",
      "See the caveats in the documentation: https://pandas.pydata.org/pandas-docs/stable/user_guide/indexing.html#returning-a-view-versus-a-copy\n",
      "  data[model + \"_Q\"] = data.apply(lambda x: Q_dict[x.gridnum][x.transformed_state], axis=1)\n"
     ]
    },
    {
     "name": "stdout",
     "output_type": "stream",
     "text": [
      "Iteration No: 353 ended. Search finished for the next optimal point.\n",
      "Time taken: 70.1505\n",
      "Function value obtained: 13121.9016\n",
      "Current minimum: 13002.1908\n",
      "Iteration No: 354 started. Searching for the next optimal point.\n"
     ]
    },
    {
     "name": "stderr",
     "output_type": "stream",
     "text": [
      "/var/folders/6y/gzz1g_p559n80dc3_f2fl6m80000gn/T/ipykernel_54320/3668836295.py:32: SettingWithCopyWarning: \n",
      "A value is trying to be set on a copy of a slice from a DataFrame.\n",
      "Try using .loc[row_indexer,col_indexer] = value instead\n",
      "\n",
      "See the caveats in the documentation: https://pandas.pydata.org/pandas-docs/stable/user_guide/indexing.html#returning-a-view-versus-a-copy\n",
      "  data[model + \"_Q\"] = data.apply(lambda x: Q_dict[x.gridnum][x.transformed_state], axis=1)\n"
     ]
    },
    {
     "name": "stdout",
     "output_type": "stream",
     "text": [
      "Iteration No: 354 ended. Search finished for the next optimal point.\n",
      "Time taken: 41.4740\n",
      "Function value obtained: 13081.3840\n",
      "Current minimum: 13002.1908\n",
      "Iteration No: 355 started. Searching for the next optimal point.\n"
     ]
    },
    {
     "name": "stderr",
     "output_type": "stream",
     "text": [
      "/var/folders/6y/gzz1g_p559n80dc3_f2fl6m80000gn/T/ipykernel_54320/3668836295.py:32: SettingWithCopyWarning: \n",
      "A value is trying to be set on a copy of a slice from a DataFrame.\n",
      "Try using .loc[row_indexer,col_indexer] = value instead\n",
      "\n",
      "See the caveats in the documentation: https://pandas.pydata.org/pandas-docs/stable/user_guide/indexing.html#returning-a-view-versus-a-copy\n",
      "  data[model + \"_Q\"] = data.apply(lambda x: Q_dict[x.gridnum][x.transformed_state], axis=1)\n"
     ]
    },
    {
     "name": "stdout",
     "output_type": "stream",
     "text": [
      "Iteration No: 355 ended. Search finished for the next optimal point.\n",
      "Time taken: 53.3341\n",
      "Function value obtained: 13097.3650\n",
      "Current minimum: 13002.1908\n",
      "Iteration No: 356 started. Searching for the next optimal point.\n"
     ]
    },
    {
     "name": "stderr",
     "output_type": "stream",
     "text": [
      "/var/folders/6y/gzz1g_p559n80dc3_f2fl6m80000gn/T/ipykernel_54320/3668836295.py:32: SettingWithCopyWarning: \n",
      "A value is trying to be set on a copy of a slice from a DataFrame.\n",
      "Try using .loc[row_indexer,col_indexer] = value instead\n",
      "\n",
      "See the caveats in the documentation: https://pandas.pydata.org/pandas-docs/stable/user_guide/indexing.html#returning-a-view-versus-a-copy\n",
      "  data[model + \"_Q\"] = data.apply(lambda x: Q_dict[x.gridnum][x.transformed_state], axis=1)\n"
     ]
    },
    {
     "name": "stdout",
     "output_type": "stream",
     "text": [
      "Iteration No: 356 ended. Search finished for the next optimal point.\n",
      "Time taken: 79.4163\n",
      "Function value obtained: 13109.4063\n",
      "Current minimum: 13002.1908\n",
      "Iteration No: 357 started. Searching for the next optimal point.\n"
     ]
    },
    {
     "name": "stderr",
     "output_type": "stream",
     "text": [
      "/var/folders/6y/gzz1g_p559n80dc3_f2fl6m80000gn/T/ipykernel_54320/3668836295.py:32: SettingWithCopyWarning: \n",
      "A value is trying to be set on a copy of a slice from a DataFrame.\n",
      "Try using .loc[row_indexer,col_indexer] = value instead\n",
      "\n",
      "See the caveats in the documentation: https://pandas.pydata.org/pandas-docs/stable/user_guide/indexing.html#returning-a-view-versus-a-copy\n",
      "  data[model + \"_Q\"] = data.apply(lambda x: Q_dict[x.gridnum][x.transformed_state], axis=1)\n"
     ]
    },
    {
     "name": "stdout",
     "output_type": "stream",
     "text": [
      "Iteration No: 357 ended. Search finished for the next optimal point.\n",
      "Time taken: 57.1466\n",
      "Function value obtained: 13112.2745\n",
      "Current minimum: 13002.1908\n",
      "Iteration No: 358 started. Searching for the next optimal point.\n"
     ]
    },
    {
     "name": "stderr",
     "output_type": "stream",
     "text": [
      "/var/folders/6y/gzz1g_p559n80dc3_f2fl6m80000gn/T/ipykernel_54320/3668836295.py:32: SettingWithCopyWarning: \n",
      "A value is trying to be set on a copy of a slice from a DataFrame.\n",
      "Try using .loc[row_indexer,col_indexer] = value instead\n",
      "\n",
      "See the caveats in the documentation: https://pandas.pydata.org/pandas-docs/stable/user_guide/indexing.html#returning-a-view-versus-a-copy\n",
      "  data[model + \"_Q\"] = data.apply(lambda x: Q_dict[x.gridnum][x.transformed_state], axis=1)\n"
     ]
    },
    {
     "name": "stdout",
     "output_type": "stream",
     "text": [
      "Iteration No: 358 ended. Search finished for the next optimal point.\n",
      "Time taken: 23.7729\n",
      "Function value obtained: 13303.5312\n",
      "Current minimum: 13002.1908\n",
      "Iteration No: 359 started. Searching for the next optimal point.\n"
     ]
    },
    {
     "name": "stderr",
     "output_type": "stream",
     "text": [
      "/var/folders/6y/gzz1g_p559n80dc3_f2fl6m80000gn/T/ipykernel_54320/3668836295.py:32: SettingWithCopyWarning: \n",
      "A value is trying to be set on a copy of a slice from a DataFrame.\n",
      "Try using .loc[row_indexer,col_indexer] = value instead\n",
      "\n",
      "See the caveats in the documentation: https://pandas.pydata.org/pandas-docs/stable/user_guide/indexing.html#returning-a-view-versus-a-copy\n",
      "  data[model + \"_Q\"] = data.apply(lambda x: Q_dict[x.gridnum][x.transformed_state], axis=1)\n"
     ]
    },
    {
     "name": "stdout",
     "output_type": "stream",
     "text": [
      "Iteration No: 359 ended. Search finished for the next optimal point.\n",
      "Time taken: 55.2691\n",
      "Function value obtained: 13122.2726\n",
      "Current minimum: 13002.1908\n",
      "Iteration No: 360 started. Searching for the next optimal point.\n"
     ]
    },
    {
     "name": "stderr",
     "output_type": "stream",
     "text": [
      "/var/folders/6y/gzz1g_p559n80dc3_f2fl6m80000gn/T/ipykernel_54320/3668836295.py:32: SettingWithCopyWarning: \n",
      "A value is trying to be set on a copy of a slice from a DataFrame.\n",
      "Try using .loc[row_indexer,col_indexer] = value instead\n",
      "\n",
      "See the caveats in the documentation: https://pandas.pydata.org/pandas-docs/stable/user_guide/indexing.html#returning-a-view-versus-a-copy\n",
      "  data[model + \"_Q\"] = data.apply(lambda x: Q_dict[x.gridnum][x.transformed_state], axis=1)\n"
     ]
    },
    {
     "name": "stdout",
     "output_type": "stream",
     "text": [
      "Iteration No: 360 ended. Search finished for the next optimal point.\n",
      "Time taken: 27.4361\n",
      "Function value obtained: 13093.4902\n",
      "Current minimum: 13002.1908\n",
      "Iteration No: 361 started. Searching for the next optimal point.\n"
     ]
    },
    {
     "name": "stderr",
     "output_type": "stream",
     "text": [
      "/var/folders/6y/gzz1g_p559n80dc3_f2fl6m80000gn/T/ipykernel_54320/3668836295.py:32: SettingWithCopyWarning: \n",
      "A value is trying to be set on a copy of a slice from a DataFrame.\n",
      "Try using .loc[row_indexer,col_indexer] = value instead\n",
      "\n",
      "See the caveats in the documentation: https://pandas.pydata.org/pandas-docs/stable/user_guide/indexing.html#returning-a-view-versus-a-copy\n",
      "  data[model + \"_Q\"] = data.apply(lambda x: Q_dict[x.gridnum][x.transformed_state], axis=1)\n"
     ]
    },
    {
     "name": "stdout",
     "output_type": "stream",
     "text": [
      "Iteration No: 361 ended. Search finished for the next optimal point.\n",
      "Time taken: 24.5921\n",
      "Function value obtained: 13110.6648\n",
      "Current minimum: 13002.1908\n",
      "Iteration No: 362 started. Searching for the next optimal point.\n"
     ]
    },
    {
     "name": "stderr",
     "output_type": "stream",
     "text": [
      "/var/folders/6y/gzz1g_p559n80dc3_f2fl6m80000gn/T/ipykernel_54320/3668836295.py:32: SettingWithCopyWarning: \n",
      "A value is trying to be set on a copy of a slice from a DataFrame.\n",
      "Try using .loc[row_indexer,col_indexer] = value instead\n",
      "\n",
      "See the caveats in the documentation: https://pandas.pydata.org/pandas-docs/stable/user_guide/indexing.html#returning-a-view-versus-a-copy\n",
      "  data[model + \"_Q\"] = data.apply(lambda x: Q_dict[x.gridnum][x.transformed_state], axis=1)\n"
     ]
    },
    {
     "name": "stdout",
     "output_type": "stream",
     "text": [
      "Iteration No: 362 ended. Search finished for the next optimal point.\n",
      "Time taken: 54.1440\n",
      "Function value obtained: 13086.1077\n",
      "Current minimum: 13002.1908\n",
      "Iteration No: 363 started. Searching for the next optimal point.\n"
     ]
    },
    {
     "name": "stderr",
     "output_type": "stream",
     "text": [
      "/var/folders/6y/gzz1g_p559n80dc3_f2fl6m80000gn/T/ipykernel_54320/3668836295.py:32: SettingWithCopyWarning: \n",
      "A value is trying to be set on a copy of a slice from a DataFrame.\n",
      "Try using .loc[row_indexer,col_indexer] = value instead\n",
      "\n",
      "See the caveats in the documentation: https://pandas.pydata.org/pandas-docs/stable/user_guide/indexing.html#returning-a-view-versus-a-copy\n",
      "  data[model + \"_Q\"] = data.apply(lambda x: Q_dict[x.gridnum][x.transformed_state], axis=1)\n"
     ]
    },
    {
     "name": "stdout",
     "output_type": "stream",
     "text": [
      "Iteration No: 363 ended. Search finished for the next optimal point.\n",
      "Time taken: 62.3975\n",
      "Function value obtained: 13109.8818\n",
      "Current minimum: 13002.1908\n",
      "Iteration No: 364 started. Searching for the next optimal point.\n"
     ]
    },
    {
     "name": "stderr",
     "output_type": "stream",
     "text": [
      "/var/folders/6y/gzz1g_p559n80dc3_f2fl6m80000gn/T/ipykernel_54320/3668836295.py:32: SettingWithCopyWarning: \n",
      "A value is trying to be set on a copy of a slice from a DataFrame.\n",
      "Try using .loc[row_indexer,col_indexer] = value instead\n",
      "\n",
      "See the caveats in the documentation: https://pandas.pydata.org/pandas-docs/stable/user_guide/indexing.html#returning-a-view-versus-a-copy\n",
      "  data[model + \"_Q\"] = data.apply(lambda x: Q_dict[x.gridnum][x.transformed_state], axis=1)\n"
     ]
    },
    {
     "name": "stdout",
     "output_type": "stream",
     "text": [
      "Iteration No: 364 ended. Search finished for the next optimal point.\n",
      "Time taken: 46.0606\n",
      "Function value obtained: 13094.6305\n",
      "Current minimum: 13002.1908\n",
      "Iteration No: 365 started. Searching for the next optimal point.\n"
     ]
    },
    {
     "name": "stderr",
     "output_type": "stream",
     "text": [
      "/var/folders/6y/gzz1g_p559n80dc3_f2fl6m80000gn/T/ipykernel_54320/3668836295.py:32: SettingWithCopyWarning: \n",
      "A value is trying to be set on a copy of a slice from a DataFrame.\n",
      "Try using .loc[row_indexer,col_indexer] = value instead\n",
      "\n",
      "See the caveats in the documentation: https://pandas.pydata.org/pandas-docs/stable/user_guide/indexing.html#returning-a-view-versus-a-copy\n",
      "  data[model + \"_Q\"] = data.apply(lambda x: Q_dict[x.gridnum][x.transformed_state], axis=1)\n"
     ]
    },
    {
     "name": "stdout",
     "output_type": "stream",
     "text": [
      "Iteration No: 365 ended. Search finished for the next optimal point.\n",
      "Time taken: 38.7615\n",
      "Function value obtained: 13099.2826\n",
      "Current minimum: 13002.1908\n",
      "Iteration No: 366 started. Searching for the next optimal point.\n"
     ]
    },
    {
     "name": "stderr",
     "output_type": "stream",
     "text": [
      "/var/folders/6y/gzz1g_p559n80dc3_f2fl6m80000gn/T/ipykernel_54320/3668836295.py:32: SettingWithCopyWarning: \n",
      "A value is trying to be set on a copy of a slice from a DataFrame.\n",
      "Try using .loc[row_indexer,col_indexer] = value instead\n",
      "\n",
      "See the caveats in the documentation: https://pandas.pydata.org/pandas-docs/stable/user_guide/indexing.html#returning-a-view-versus-a-copy\n",
      "  data[model + \"_Q\"] = data.apply(lambda x: Q_dict[x.gridnum][x.transformed_state], axis=1)\n"
     ]
    },
    {
     "name": "stdout",
     "output_type": "stream",
     "text": [
      "Iteration No: 366 ended. Search finished for the next optimal point.\n",
      "Time taken: 56.0743\n",
      "Function value obtained: 13088.1040\n",
      "Current minimum: 13002.1908\n",
      "Iteration No: 367 started. Searching for the next optimal point.\n"
     ]
    },
    {
     "name": "stderr",
     "output_type": "stream",
     "text": [
      "/var/folders/6y/gzz1g_p559n80dc3_f2fl6m80000gn/T/ipykernel_54320/3668836295.py:32: SettingWithCopyWarning: \n",
      "A value is trying to be set on a copy of a slice from a DataFrame.\n",
      "Try using .loc[row_indexer,col_indexer] = value instead\n",
      "\n",
      "See the caveats in the documentation: https://pandas.pydata.org/pandas-docs/stable/user_guide/indexing.html#returning-a-view-versus-a-copy\n",
      "  data[model + \"_Q\"] = data.apply(lambda x: Q_dict[x.gridnum][x.transformed_state], axis=1)\n"
     ]
    },
    {
     "name": "stdout",
     "output_type": "stream",
     "text": [
      "Iteration No: 367 ended. Search finished for the next optimal point.\n",
      "Time taken: 66.2187\n",
      "Function value obtained: 13095.6387\n",
      "Current minimum: 13002.1908\n",
      "Iteration No: 368 started. Searching for the next optimal point.\n"
     ]
    },
    {
     "name": "stderr",
     "output_type": "stream",
     "text": [
      "/var/folders/6y/gzz1g_p559n80dc3_f2fl6m80000gn/T/ipykernel_54320/3668836295.py:32: SettingWithCopyWarning: \n",
      "A value is trying to be set on a copy of a slice from a DataFrame.\n",
      "Try using .loc[row_indexer,col_indexer] = value instead\n",
      "\n",
      "See the caveats in the documentation: https://pandas.pydata.org/pandas-docs/stable/user_guide/indexing.html#returning-a-view-versus-a-copy\n",
      "  data[model + \"_Q\"] = data.apply(lambda x: Q_dict[x.gridnum][x.transformed_state], axis=1)\n"
     ]
    },
    {
     "name": "stdout",
     "output_type": "stream",
     "text": [
      "Iteration No: 368 ended. Search finished for the next optimal point.\n",
      "Time taken: 45.1285\n",
      "Function value obtained: 13148.1755\n",
      "Current minimum: 13002.1908\n",
      "Iteration No: 369 started. Searching for the next optimal point.\n"
     ]
    },
    {
     "name": "stderr",
     "output_type": "stream",
     "text": [
      "/var/folders/6y/gzz1g_p559n80dc3_f2fl6m80000gn/T/ipykernel_54320/3668836295.py:32: SettingWithCopyWarning: \n",
      "A value is trying to be set on a copy of a slice from a DataFrame.\n",
      "Try using .loc[row_indexer,col_indexer] = value instead\n",
      "\n",
      "See the caveats in the documentation: https://pandas.pydata.org/pandas-docs/stable/user_guide/indexing.html#returning-a-view-versus-a-copy\n",
      "  data[model + \"_Q\"] = data.apply(lambda x: Q_dict[x.gridnum][x.transformed_state], axis=1)\n"
     ]
    },
    {
     "name": "stdout",
     "output_type": "stream",
     "text": [
      "Iteration No: 369 ended. Search finished for the next optimal point.\n",
      "Time taken: 47.0113\n",
      "Function value obtained: 13113.6590\n",
      "Current minimum: 13002.1908\n",
      "Iteration No: 370 started. Searching for the next optimal point.\n"
     ]
    },
    {
     "name": "stderr",
     "output_type": "stream",
     "text": [
      "/var/folders/6y/gzz1g_p559n80dc3_f2fl6m80000gn/T/ipykernel_54320/3668836295.py:32: SettingWithCopyWarning: \n",
      "A value is trying to be set on a copy of a slice from a DataFrame.\n",
      "Try using .loc[row_indexer,col_indexer] = value instead\n",
      "\n",
      "See the caveats in the documentation: https://pandas.pydata.org/pandas-docs/stable/user_guide/indexing.html#returning-a-view-versus-a-copy\n",
      "  data[model + \"_Q\"] = data.apply(lambda x: Q_dict[x.gridnum][x.transformed_state], axis=1)\n"
     ]
    },
    {
     "name": "stdout",
     "output_type": "stream",
     "text": [
      "Iteration No: 370 ended. Search finished for the next optimal point.\n",
      "Time taken: 74.3140\n",
      "Function value obtained: 13095.7806\n",
      "Current minimum: 13002.1908\n",
      "Iteration No: 371 started. Searching for the next optimal point.\n"
     ]
    },
    {
     "name": "stderr",
     "output_type": "stream",
     "text": [
      "/var/folders/6y/gzz1g_p559n80dc3_f2fl6m80000gn/T/ipykernel_54320/3668836295.py:32: SettingWithCopyWarning: \n",
      "A value is trying to be set on a copy of a slice from a DataFrame.\n",
      "Try using .loc[row_indexer,col_indexer] = value instead\n",
      "\n",
      "See the caveats in the documentation: https://pandas.pydata.org/pandas-docs/stable/user_guide/indexing.html#returning-a-view-versus-a-copy\n",
      "  data[model + \"_Q\"] = data.apply(lambda x: Q_dict[x.gridnum][x.transformed_state], axis=1)\n"
     ]
    },
    {
     "name": "stdout",
     "output_type": "stream",
     "text": [
      "Iteration No: 371 ended. Search finished for the next optimal point.\n",
      "Time taken: 82.4084\n",
      "Function value obtained: 13096.8558\n",
      "Current minimum: 13002.1908\n",
      "Iteration No: 372 started. Searching for the next optimal point.\n"
     ]
    },
    {
     "name": "stderr",
     "output_type": "stream",
     "text": [
      "/var/folders/6y/gzz1g_p559n80dc3_f2fl6m80000gn/T/ipykernel_54320/3668836295.py:32: SettingWithCopyWarning: \n",
      "A value is trying to be set on a copy of a slice from a DataFrame.\n",
      "Try using .loc[row_indexer,col_indexer] = value instead\n",
      "\n",
      "See the caveats in the documentation: https://pandas.pydata.org/pandas-docs/stable/user_guide/indexing.html#returning-a-view-versus-a-copy\n",
      "  data[model + \"_Q\"] = data.apply(lambda x: Q_dict[x.gridnum][x.transformed_state], axis=1)\n"
     ]
    },
    {
     "name": "stdout",
     "output_type": "stream",
     "text": [
      "Iteration No: 372 ended. Search finished for the next optimal point.\n",
      "Time taken: 53.4504\n",
      "Function value obtained: 13036.4521\n",
      "Current minimum: 13002.1908\n",
      "Iteration No: 373 started. Searching for the next optimal point.\n"
     ]
    },
    {
     "name": "stderr",
     "output_type": "stream",
     "text": [
      "/var/folders/6y/gzz1g_p559n80dc3_f2fl6m80000gn/T/ipykernel_54320/3668836295.py:32: SettingWithCopyWarning: \n",
      "A value is trying to be set on a copy of a slice from a DataFrame.\n",
      "Try using .loc[row_indexer,col_indexer] = value instead\n",
      "\n",
      "See the caveats in the documentation: https://pandas.pydata.org/pandas-docs/stable/user_guide/indexing.html#returning-a-view-versus-a-copy\n",
      "  data[model + \"_Q\"] = data.apply(lambda x: Q_dict[x.gridnum][x.transformed_state], axis=1)\n"
     ]
    },
    {
     "name": "stdout",
     "output_type": "stream",
     "text": [
      "Iteration No: 373 ended. Search finished for the next optimal point.\n",
      "Time taken: 52.9003\n",
      "Function value obtained: 13088.8127\n",
      "Current minimum: 13002.1908\n",
      "Iteration No: 374 started. Searching for the next optimal point.\n"
     ]
    },
    {
     "name": "stderr",
     "output_type": "stream",
     "text": [
      "/var/folders/6y/gzz1g_p559n80dc3_f2fl6m80000gn/T/ipykernel_54320/3668836295.py:32: SettingWithCopyWarning: \n",
      "A value is trying to be set on a copy of a slice from a DataFrame.\n",
      "Try using .loc[row_indexer,col_indexer] = value instead\n",
      "\n",
      "See the caveats in the documentation: https://pandas.pydata.org/pandas-docs/stable/user_guide/indexing.html#returning-a-view-versus-a-copy\n",
      "  data[model + \"_Q\"] = data.apply(lambda x: Q_dict[x.gridnum][x.transformed_state], axis=1)\n"
     ]
    },
    {
     "name": "stdout",
     "output_type": "stream",
     "text": [
      "Iteration No: 374 ended. Search finished for the next optimal point.\n",
      "Time taken: 45.8604\n",
      "Function value obtained: 13128.3672\n",
      "Current minimum: 13002.1908\n",
      "Iteration No: 375 started. Searching for the next optimal point.\n"
     ]
    },
    {
     "name": "stderr",
     "output_type": "stream",
     "text": [
      "/var/folders/6y/gzz1g_p559n80dc3_f2fl6m80000gn/T/ipykernel_54320/3668836295.py:32: SettingWithCopyWarning: \n",
      "A value is trying to be set on a copy of a slice from a DataFrame.\n",
      "Try using .loc[row_indexer,col_indexer] = value instead\n",
      "\n",
      "See the caveats in the documentation: https://pandas.pydata.org/pandas-docs/stable/user_guide/indexing.html#returning-a-view-versus-a-copy\n",
      "  data[model + \"_Q\"] = data.apply(lambda x: Q_dict[x.gridnum][x.transformed_state], axis=1)\n"
     ]
    },
    {
     "name": "stdout",
     "output_type": "stream",
     "text": [
      "Iteration No: 375 ended. Search finished for the next optimal point.\n",
      "Time taken: 31.8518\n",
      "Function value obtained: 13052.8393\n",
      "Current minimum: 13002.1908\n",
      "Iteration No: 376 started. Searching for the next optimal point.\n"
     ]
    },
    {
     "name": "stderr",
     "output_type": "stream",
     "text": [
      "/var/folders/6y/gzz1g_p559n80dc3_f2fl6m80000gn/T/ipykernel_54320/3668836295.py:32: SettingWithCopyWarning: \n",
      "A value is trying to be set on a copy of a slice from a DataFrame.\n",
      "Try using .loc[row_indexer,col_indexer] = value instead\n",
      "\n",
      "See the caveats in the documentation: https://pandas.pydata.org/pandas-docs/stable/user_guide/indexing.html#returning-a-view-versus-a-copy\n",
      "  data[model + \"_Q\"] = data.apply(lambda x: Q_dict[x.gridnum][x.transformed_state], axis=1)\n"
     ]
    },
    {
     "name": "stdout",
     "output_type": "stream",
     "text": [
      "Iteration No: 376 ended. Search finished for the next optimal point.\n",
      "Time taken: 67.2556\n",
      "Function value obtained: 13049.0141\n",
      "Current minimum: 13002.1908\n",
      "Iteration No: 377 started. Searching for the next optimal point.\n"
     ]
    },
    {
     "name": "stderr",
     "output_type": "stream",
     "text": [
      "/var/folders/6y/gzz1g_p559n80dc3_f2fl6m80000gn/T/ipykernel_54320/3668836295.py:32: SettingWithCopyWarning: \n",
      "A value is trying to be set on a copy of a slice from a DataFrame.\n",
      "Try using .loc[row_indexer,col_indexer] = value instead\n",
      "\n",
      "See the caveats in the documentation: https://pandas.pydata.org/pandas-docs/stable/user_guide/indexing.html#returning-a-view-versus-a-copy\n",
      "  data[model + \"_Q\"] = data.apply(lambda x: Q_dict[x.gridnum][x.transformed_state], axis=1)\n"
     ]
    },
    {
     "name": "stdout",
     "output_type": "stream",
     "text": [
      "Iteration No: 377 ended. Search finished for the next optimal point.\n",
      "Time taken: 68.6910\n",
      "Function value obtained: 13135.7986\n",
      "Current minimum: 13002.1908\n",
      "Iteration No: 378 started. Searching for the next optimal point.\n"
     ]
    },
    {
     "name": "stderr",
     "output_type": "stream",
     "text": [
      "/var/folders/6y/gzz1g_p559n80dc3_f2fl6m80000gn/T/ipykernel_54320/3668836295.py:32: SettingWithCopyWarning: \n",
      "A value is trying to be set on a copy of a slice from a DataFrame.\n",
      "Try using .loc[row_indexer,col_indexer] = value instead\n",
      "\n",
      "See the caveats in the documentation: https://pandas.pydata.org/pandas-docs/stable/user_guide/indexing.html#returning-a-view-versus-a-copy\n",
      "  data[model + \"_Q\"] = data.apply(lambda x: Q_dict[x.gridnum][x.transformed_state], axis=1)\n"
     ]
    },
    {
     "name": "stdout",
     "output_type": "stream",
     "text": [
      "Iteration No: 378 ended. Search finished for the next optimal point.\n",
      "Time taken: 68.3447\n",
      "Function value obtained: 13084.6864\n",
      "Current minimum: 13002.1908\n",
      "Iteration No: 379 started. Searching for the next optimal point.\n"
     ]
    },
    {
     "name": "stderr",
     "output_type": "stream",
     "text": [
      "/var/folders/6y/gzz1g_p559n80dc3_f2fl6m80000gn/T/ipykernel_54320/3668836295.py:32: SettingWithCopyWarning: \n",
      "A value is trying to be set on a copy of a slice from a DataFrame.\n",
      "Try using .loc[row_indexer,col_indexer] = value instead\n",
      "\n",
      "See the caveats in the documentation: https://pandas.pydata.org/pandas-docs/stable/user_guide/indexing.html#returning-a-view-versus-a-copy\n",
      "  data[model + \"_Q\"] = data.apply(lambda x: Q_dict[x.gridnum][x.transformed_state], axis=1)\n"
     ]
    },
    {
     "name": "stdout",
     "output_type": "stream",
     "text": [
      "Iteration No: 379 ended. Search finished for the next optimal point.\n",
      "Time taken: 65.3703\n",
      "Function value obtained: 13093.2283\n",
      "Current minimum: 13002.1908\n",
      "Iteration No: 380 started. Searching for the next optimal point.\n"
     ]
    },
    {
     "name": "stderr",
     "output_type": "stream",
     "text": [
      "/var/folders/6y/gzz1g_p559n80dc3_f2fl6m80000gn/T/ipykernel_54320/3668836295.py:32: SettingWithCopyWarning: \n",
      "A value is trying to be set on a copy of a slice from a DataFrame.\n",
      "Try using .loc[row_indexer,col_indexer] = value instead\n",
      "\n",
      "See the caveats in the documentation: https://pandas.pydata.org/pandas-docs/stable/user_guide/indexing.html#returning-a-view-versus-a-copy\n",
      "  data[model + \"_Q\"] = data.apply(lambda x: Q_dict[x.gridnum][x.transformed_state], axis=1)\n"
     ]
    },
    {
     "name": "stdout",
     "output_type": "stream",
     "text": [
      "Iteration No: 380 ended. Search finished for the next optimal point.\n",
      "Time taken: 50.8330\n",
      "Function value obtained: 13101.3523\n",
      "Current minimum: 13002.1908\n",
      "Iteration No: 381 started. Searching for the next optimal point.\n"
     ]
    },
    {
     "name": "stderr",
     "output_type": "stream",
     "text": [
      "/var/folders/6y/gzz1g_p559n80dc3_f2fl6m80000gn/T/ipykernel_54320/3668836295.py:32: SettingWithCopyWarning: \n",
      "A value is trying to be set on a copy of a slice from a DataFrame.\n",
      "Try using .loc[row_indexer,col_indexer] = value instead\n",
      "\n",
      "See the caveats in the documentation: https://pandas.pydata.org/pandas-docs/stable/user_guide/indexing.html#returning-a-view-versus-a-copy\n",
      "  data[model + \"_Q\"] = data.apply(lambda x: Q_dict[x.gridnum][x.transformed_state], axis=1)\n"
     ]
    },
    {
     "name": "stdout",
     "output_type": "stream",
     "text": [
      "Iteration No: 381 ended. Search finished for the next optimal point.\n",
      "Time taken: 34.5351\n",
      "Function value obtained: 13119.2987\n",
      "Current minimum: 13002.1908\n",
      "Iteration No: 382 started. Searching for the next optimal point.\n"
     ]
    },
    {
     "name": "stderr",
     "output_type": "stream",
     "text": [
      "/var/folders/6y/gzz1g_p559n80dc3_f2fl6m80000gn/T/ipykernel_54320/3668836295.py:32: SettingWithCopyWarning: \n",
      "A value is trying to be set on a copy of a slice from a DataFrame.\n",
      "Try using .loc[row_indexer,col_indexer] = value instead\n",
      "\n",
      "See the caveats in the documentation: https://pandas.pydata.org/pandas-docs/stable/user_guide/indexing.html#returning-a-view-versus-a-copy\n",
      "  data[model + \"_Q\"] = data.apply(lambda x: Q_dict[x.gridnum][x.transformed_state], axis=1)\n"
     ]
    },
    {
     "name": "stdout",
     "output_type": "stream",
     "text": [
      "Iteration No: 382 ended. Search finished for the next optimal point.\n",
      "Time taken: 34.1565\n",
      "Function value obtained: 13063.9187\n",
      "Current minimum: 13002.1908\n",
      "Iteration No: 383 started. Searching for the next optimal point.\n"
     ]
    },
    {
     "name": "stderr",
     "output_type": "stream",
     "text": [
      "/var/folders/6y/gzz1g_p559n80dc3_f2fl6m80000gn/T/ipykernel_54320/3668836295.py:32: SettingWithCopyWarning: \n",
      "A value is trying to be set on a copy of a slice from a DataFrame.\n",
      "Try using .loc[row_indexer,col_indexer] = value instead\n",
      "\n",
      "See the caveats in the documentation: https://pandas.pydata.org/pandas-docs/stable/user_guide/indexing.html#returning-a-view-versus-a-copy\n",
      "  data[model + \"_Q\"] = data.apply(lambda x: Q_dict[x.gridnum][x.transformed_state], axis=1)\n"
     ]
    },
    {
     "name": "stdout",
     "output_type": "stream",
     "text": [
      "Iteration No: 383 ended. Search finished for the next optimal point.\n",
      "Time taken: 30.5155\n",
      "Function value obtained: 13115.9408\n",
      "Current minimum: 13002.1908\n",
      "Iteration No: 384 started. Searching for the next optimal point.\n"
     ]
    },
    {
     "name": "stderr",
     "output_type": "stream",
     "text": [
      "/var/folders/6y/gzz1g_p559n80dc3_f2fl6m80000gn/T/ipykernel_54320/3668836295.py:32: SettingWithCopyWarning: \n",
      "A value is trying to be set on a copy of a slice from a DataFrame.\n",
      "Try using .loc[row_indexer,col_indexer] = value instead\n",
      "\n",
      "See the caveats in the documentation: https://pandas.pydata.org/pandas-docs/stable/user_guide/indexing.html#returning-a-view-versus-a-copy\n",
      "  data[model + \"_Q\"] = data.apply(lambda x: Q_dict[x.gridnum][x.transformed_state], axis=1)\n"
     ]
    },
    {
     "name": "stdout",
     "output_type": "stream",
     "text": [
      "Iteration No: 384 ended. Search finished for the next optimal point.\n",
      "Time taken: 65.2535\n",
      "Function value obtained: 13113.2836\n",
      "Current minimum: 13002.1908\n",
      "Iteration No: 385 started. Searching for the next optimal point.\n"
     ]
    },
    {
     "name": "stderr",
     "output_type": "stream",
     "text": [
      "/var/folders/6y/gzz1g_p559n80dc3_f2fl6m80000gn/T/ipykernel_54320/3668836295.py:32: SettingWithCopyWarning: \n",
      "A value is trying to be set on a copy of a slice from a DataFrame.\n",
      "Try using .loc[row_indexer,col_indexer] = value instead\n",
      "\n",
      "See the caveats in the documentation: https://pandas.pydata.org/pandas-docs/stable/user_guide/indexing.html#returning-a-view-versus-a-copy\n",
      "  data[model + \"_Q\"] = data.apply(lambda x: Q_dict[x.gridnum][x.transformed_state], axis=1)\n"
     ]
    },
    {
     "name": "stdout",
     "output_type": "stream",
     "text": [
      "Iteration No: 385 ended. Search finished for the next optimal point.\n",
      "Time taken: 52.3093\n",
      "Function value obtained: 13072.9247\n",
      "Current minimum: 13002.1908\n",
      "Iteration No: 386 started. Searching for the next optimal point.\n"
     ]
    },
    {
     "name": "stderr",
     "output_type": "stream",
     "text": [
      "/var/folders/6y/gzz1g_p559n80dc3_f2fl6m80000gn/T/ipykernel_54320/3668836295.py:32: SettingWithCopyWarning: \n",
      "A value is trying to be set on a copy of a slice from a DataFrame.\n",
      "Try using .loc[row_indexer,col_indexer] = value instead\n",
      "\n",
      "See the caveats in the documentation: https://pandas.pydata.org/pandas-docs/stable/user_guide/indexing.html#returning-a-view-versus-a-copy\n",
      "  data[model + \"_Q\"] = data.apply(lambda x: Q_dict[x.gridnum][x.transformed_state], axis=1)\n"
     ]
    },
    {
     "name": "stdout",
     "output_type": "stream",
     "text": [
      "Iteration No: 386 ended. Search finished for the next optimal point.\n",
      "Time taken: 55.0957\n",
      "Function value obtained: 13076.7725\n",
      "Current minimum: 13002.1908\n",
      "Iteration No: 387 started. Searching for the next optimal point.\n"
     ]
    },
    {
     "name": "stderr",
     "output_type": "stream",
     "text": [
      "/var/folders/6y/gzz1g_p559n80dc3_f2fl6m80000gn/T/ipykernel_54320/3668836295.py:32: SettingWithCopyWarning: \n",
      "A value is trying to be set on a copy of a slice from a DataFrame.\n",
      "Try using .loc[row_indexer,col_indexer] = value instead\n",
      "\n",
      "See the caveats in the documentation: https://pandas.pydata.org/pandas-docs/stable/user_guide/indexing.html#returning-a-view-versus-a-copy\n",
      "  data[model + \"_Q\"] = data.apply(lambda x: Q_dict[x.gridnum][x.transformed_state], axis=1)\n"
     ]
    },
    {
     "name": "stdout",
     "output_type": "stream",
     "text": [
      "Iteration No: 387 ended. Search finished for the next optimal point.\n",
      "Time taken: 57.9478\n",
      "Function value obtained: 13102.2221\n",
      "Current minimum: 13002.1908\n",
      "Iteration No: 388 started. Searching for the next optimal point.\n"
     ]
    },
    {
     "name": "stderr",
     "output_type": "stream",
     "text": [
      "/var/folders/6y/gzz1g_p559n80dc3_f2fl6m80000gn/T/ipykernel_54320/3668836295.py:32: SettingWithCopyWarning: \n",
      "A value is trying to be set on a copy of a slice from a DataFrame.\n",
      "Try using .loc[row_indexer,col_indexer] = value instead\n",
      "\n",
      "See the caveats in the documentation: https://pandas.pydata.org/pandas-docs/stable/user_guide/indexing.html#returning-a-view-versus-a-copy\n",
      "  data[model + \"_Q\"] = data.apply(lambda x: Q_dict[x.gridnum][x.transformed_state], axis=1)\n"
     ]
    },
    {
     "name": "stdout",
     "output_type": "stream",
     "text": [
      "Iteration No: 388 ended. Search finished for the next optimal point.\n",
      "Time taken: 47.0273\n",
      "Function value obtained: 13079.0512\n",
      "Current minimum: 13002.1908\n",
      "Iteration No: 389 started. Searching for the next optimal point.\n"
     ]
    },
    {
     "name": "stderr",
     "output_type": "stream",
     "text": [
      "/var/folders/6y/gzz1g_p559n80dc3_f2fl6m80000gn/T/ipykernel_54320/3668836295.py:32: SettingWithCopyWarning: \n",
      "A value is trying to be set on a copy of a slice from a DataFrame.\n",
      "Try using .loc[row_indexer,col_indexer] = value instead\n",
      "\n",
      "See the caveats in the documentation: https://pandas.pydata.org/pandas-docs/stable/user_guide/indexing.html#returning-a-view-versus-a-copy\n",
      "  data[model + \"_Q\"] = data.apply(lambda x: Q_dict[x.gridnum][x.transformed_state], axis=1)\n"
     ]
    },
    {
     "name": "stdout",
     "output_type": "stream",
     "text": [
      "Iteration No: 389 ended. Search finished for the next optimal point.\n",
      "Time taken: 55.8119\n",
      "Function value obtained: 13028.4299\n",
      "Current minimum: 13002.1908\n",
      "Iteration No: 390 started. Searching for the next optimal point.\n"
     ]
    },
    {
     "name": "stderr",
     "output_type": "stream",
     "text": [
      "/var/folders/6y/gzz1g_p559n80dc3_f2fl6m80000gn/T/ipykernel_54320/3668836295.py:32: SettingWithCopyWarning: \n",
      "A value is trying to be set on a copy of a slice from a DataFrame.\n",
      "Try using .loc[row_indexer,col_indexer] = value instead\n",
      "\n",
      "See the caveats in the documentation: https://pandas.pydata.org/pandas-docs/stable/user_guide/indexing.html#returning-a-view-versus-a-copy\n",
      "  data[model + \"_Q\"] = data.apply(lambda x: Q_dict[x.gridnum][x.transformed_state], axis=1)\n"
     ]
    },
    {
     "name": "stdout",
     "output_type": "stream",
     "text": [
      "Iteration No: 390 ended. Search finished for the next optimal point.\n",
      "Time taken: 69.9172\n",
      "Function value obtained: 13128.3800\n",
      "Current minimum: 13002.1908\n",
      "Iteration No: 391 started. Searching for the next optimal point.\n"
     ]
    },
    {
     "name": "stderr",
     "output_type": "stream",
     "text": [
      "/var/folders/6y/gzz1g_p559n80dc3_f2fl6m80000gn/T/ipykernel_54320/3668836295.py:32: SettingWithCopyWarning: \n",
      "A value is trying to be set on a copy of a slice from a DataFrame.\n",
      "Try using .loc[row_indexer,col_indexer] = value instead\n",
      "\n",
      "See the caveats in the documentation: https://pandas.pydata.org/pandas-docs/stable/user_guide/indexing.html#returning-a-view-versus-a-copy\n",
      "  data[model + \"_Q\"] = data.apply(lambda x: Q_dict[x.gridnum][x.transformed_state], axis=1)\n"
     ]
    },
    {
     "name": "stdout",
     "output_type": "stream",
     "text": [
      "Iteration No: 391 ended. Search finished for the next optimal point.\n",
      "Time taken: 55.3156\n",
      "Function value obtained: 13095.3071\n",
      "Current minimum: 13002.1908\n",
      "Iteration No: 392 started. Searching for the next optimal point.\n"
     ]
    },
    {
     "name": "stderr",
     "output_type": "stream",
     "text": [
      "/var/folders/6y/gzz1g_p559n80dc3_f2fl6m80000gn/T/ipykernel_54320/3668836295.py:32: SettingWithCopyWarning: \n",
      "A value is trying to be set on a copy of a slice from a DataFrame.\n",
      "Try using .loc[row_indexer,col_indexer] = value instead\n",
      "\n",
      "See the caveats in the documentation: https://pandas.pydata.org/pandas-docs/stable/user_guide/indexing.html#returning-a-view-versus-a-copy\n",
      "  data[model + \"_Q\"] = data.apply(lambda x: Q_dict[x.gridnum][x.transformed_state], axis=1)\n"
     ]
    },
    {
     "name": "stdout",
     "output_type": "stream",
     "text": [
      "Iteration No: 392 ended. Search finished for the next optimal point.\n",
      "Time taken: 60.4542\n",
      "Function value obtained: 13104.1432\n",
      "Current minimum: 13002.1908\n",
      "Iteration No: 393 started. Searching for the next optimal point.\n"
     ]
    },
    {
     "name": "stderr",
     "output_type": "stream",
     "text": [
      "/var/folders/6y/gzz1g_p559n80dc3_f2fl6m80000gn/T/ipykernel_54320/3668836295.py:32: SettingWithCopyWarning: \n",
      "A value is trying to be set on a copy of a slice from a DataFrame.\n",
      "Try using .loc[row_indexer,col_indexer] = value instead\n",
      "\n",
      "See the caveats in the documentation: https://pandas.pydata.org/pandas-docs/stable/user_guide/indexing.html#returning-a-view-versus-a-copy\n",
      "  data[model + \"_Q\"] = data.apply(lambda x: Q_dict[x.gridnum][x.transformed_state], axis=1)\n"
     ]
    },
    {
     "name": "stdout",
     "output_type": "stream",
     "text": [
      "Iteration No: 393 ended. Search finished for the next optimal point.\n",
      "Time taken: 41.4583\n",
      "Function value obtained: 13108.6335\n",
      "Current minimum: 13002.1908\n",
      "Iteration No: 394 started. Searching for the next optimal point.\n"
     ]
    },
    {
     "name": "stderr",
     "output_type": "stream",
     "text": [
      "/var/folders/6y/gzz1g_p559n80dc3_f2fl6m80000gn/T/ipykernel_54320/3668836295.py:32: SettingWithCopyWarning: \n",
      "A value is trying to be set on a copy of a slice from a DataFrame.\n",
      "Try using .loc[row_indexer,col_indexer] = value instead\n",
      "\n",
      "See the caveats in the documentation: https://pandas.pydata.org/pandas-docs/stable/user_guide/indexing.html#returning-a-view-versus-a-copy\n",
      "  data[model + \"_Q\"] = data.apply(lambda x: Q_dict[x.gridnum][x.transformed_state], axis=1)\n"
     ]
    },
    {
     "name": "stdout",
     "output_type": "stream",
     "text": [
      "Iteration No: 394 ended. Search finished for the next optimal point.\n",
      "Time taken: 49.0996\n",
      "Function value obtained: 13113.5456\n",
      "Current minimum: 13002.1908\n",
      "Iteration No: 395 started. Searching for the next optimal point.\n"
     ]
    },
    {
     "name": "stderr",
     "output_type": "stream",
     "text": [
      "/var/folders/6y/gzz1g_p559n80dc3_f2fl6m80000gn/T/ipykernel_54320/3668836295.py:32: SettingWithCopyWarning: \n",
      "A value is trying to be set on a copy of a slice from a DataFrame.\n",
      "Try using .loc[row_indexer,col_indexer] = value instead\n",
      "\n",
      "See the caveats in the documentation: https://pandas.pydata.org/pandas-docs/stable/user_guide/indexing.html#returning-a-view-versus-a-copy\n",
      "  data[model + \"_Q\"] = data.apply(lambda x: Q_dict[x.gridnum][x.transformed_state], axis=1)\n"
     ]
    },
    {
     "name": "stdout",
     "output_type": "stream",
     "text": [
      "Iteration No: 395 ended. Search finished for the next optimal point.\n",
      "Time taken: 41.6437\n",
      "Function value obtained: 13079.1698\n",
      "Current minimum: 13002.1908\n",
      "Iteration No: 396 started. Searching for the next optimal point.\n"
     ]
    },
    {
     "name": "stderr",
     "output_type": "stream",
     "text": [
      "/var/folders/6y/gzz1g_p559n80dc3_f2fl6m80000gn/T/ipykernel_54320/3668836295.py:32: SettingWithCopyWarning: \n",
      "A value is trying to be set on a copy of a slice from a DataFrame.\n",
      "Try using .loc[row_indexer,col_indexer] = value instead\n",
      "\n",
      "See the caveats in the documentation: https://pandas.pydata.org/pandas-docs/stable/user_guide/indexing.html#returning-a-view-versus-a-copy\n",
      "  data[model + \"_Q\"] = data.apply(lambda x: Q_dict[x.gridnum][x.transformed_state], axis=1)\n"
     ]
    },
    {
     "name": "stdout",
     "output_type": "stream",
     "text": [
      "Iteration No: 396 ended. Search finished for the next optimal point.\n",
      "Time taken: 58.7575\n",
      "Function value obtained: 13073.5247\n",
      "Current minimum: 13002.1908\n",
      "Iteration No: 397 started. Searching for the next optimal point.\n"
     ]
    },
    {
     "name": "stderr",
     "output_type": "stream",
     "text": [
      "/var/folders/6y/gzz1g_p559n80dc3_f2fl6m80000gn/T/ipykernel_54320/3668836295.py:32: SettingWithCopyWarning: \n",
      "A value is trying to be set on a copy of a slice from a DataFrame.\n",
      "Try using .loc[row_indexer,col_indexer] = value instead\n",
      "\n",
      "See the caveats in the documentation: https://pandas.pydata.org/pandas-docs/stable/user_guide/indexing.html#returning-a-view-versus-a-copy\n",
      "  data[model + \"_Q\"] = data.apply(lambda x: Q_dict[x.gridnum][x.transformed_state], axis=1)\n"
     ]
    },
    {
     "name": "stdout",
     "output_type": "stream",
     "text": [
      "Iteration No: 397 ended. Search finished for the next optimal point.\n",
      "Time taken: 42.2269\n",
      "Function value obtained: 13101.8920\n",
      "Current minimum: 13002.1908\n",
      "Iteration No: 398 started. Searching for the next optimal point.\n"
     ]
    },
    {
     "name": "stderr",
     "output_type": "stream",
     "text": [
      "/var/folders/6y/gzz1g_p559n80dc3_f2fl6m80000gn/T/ipykernel_54320/3668836295.py:32: SettingWithCopyWarning: \n",
      "A value is trying to be set on a copy of a slice from a DataFrame.\n",
      "Try using .loc[row_indexer,col_indexer] = value instead\n",
      "\n",
      "See the caveats in the documentation: https://pandas.pydata.org/pandas-docs/stable/user_guide/indexing.html#returning-a-view-versus-a-copy\n",
      "  data[model + \"_Q\"] = data.apply(lambda x: Q_dict[x.gridnum][x.transformed_state], axis=1)\n"
     ]
    },
    {
     "name": "stdout",
     "output_type": "stream",
     "text": [
      "Iteration No: 398 ended. Search finished for the next optimal point.\n",
      "Time taken: 36.9774\n",
      "Function value obtained: 13093.0941\n",
      "Current minimum: 13002.1908\n",
      "Iteration No: 399 started. Searching for the next optimal point.\n"
     ]
    },
    {
     "name": "stderr",
     "output_type": "stream",
     "text": [
      "/var/folders/6y/gzz1g_p559n80dc3_f2fl6m80000gn/T/ipykernel_54320/3668836295.py:32: SettingWithCopyWarning: \n",
      "A value is trying to be set on a copy of a slice from a DataFrame.\n",
      "Try using .loc[row_indexer,col_indexer] = value instead\n",
      "\n",
      "See the caveats in the documentation: https://pandas.pydata.org/pandas-docs/stable/user_guide/indexing.html#returning-a-view-versus-a-copy\n",
      "  data[model + \"_Q\"] = data.apply(lambda x: Q_dict[x.gridnum][x.transformed_state], axis=1)\n"
     ]
    },
    {
     "name": "stdout",
     "output_type": "stream",
     "text": [
      "Iteration No: 399 ended. Search finished for the next optimal point.\n",
      "Time taken: 64.0662\n",
      "Function value obtained: 13111.0673\n",
      "Current minimum: 13002.1908\n",
      "Iteration No: 400 started. Searching for the next optimal point.\n"
     ]
    },
    {
     "name": "stderr",
     "output_type": "stream",
     "text": [
      "/var/folders/6y/gzz1g_p559n80dc3_f2fl6m80000gn/T/ipykernel_54320/3668836295.py:32: SettingWithCopyWarning: \n",
      "A value is trying to be set on a copy of a slice from a DataFrame.\n",
      "Try using .loc[row_indexer,col_indexer] = value instead\n",
      "\n",
      "See the caveats in the documentation: https://pandas.pydata.org/pandas-docs/stable/user_guide/indexing.html#returning-a-view-versus-a-copy\n",
      "  data[model + \"_Q\"] = data.apply(lambda x: Q_dict[x.gridnum][x.transformed_state], axis=1)\n"
     ]
    },
    {
     "name": "stdout",
     "output_type": "stream",
     "text": [
      "Iteration No: 400 ended. Search finished for the next optimal point.\n",
      "Time taken: 55.6912\n",
      "Function value obtained: 13094.6392\n",
      "Current minimum: 13002.1908\n",
      "Iteration No: 401 started. Searching for the next optimal point.\n"
     ]
    },
    {
     "name": "stderr",
     "output_type": "stream",
     "text": [
      "/var/folders/6y/gzz1g_p559n80dc3_f2fl6m80000gn/T/ipykernel_54320/3668836295.py:32: SettingWithCopyWarning: \n",
      "A value is trying to be set on a copy of a slice from a DataFrame.\n",
      "Try using .loc[row_indexer,col_indexer] = value instead\n",
      "\n",
      "See the caveats in the documentation: https://pandas.pydata.org/pandas-docs/stable/user_guide/indexing.html#returning-a-view-versus-a-copy\n",
      "  data[model + \"_Q\"] = data.apply(lambda x: Q_dict[x.gridnum][x.transformed_state], axis=1)\n"
     ]
    },
    {
     "name": "stdout",
     "output_type": "stream",
     "text": [
      "Iteration No: 401 ended. Search finished for the next optimal point.\n",
      "Time taken: 40.5245\n",
      "Function value obtained: 13112.1573\n",
      "Current minimum: 13002.1908\n",
      "Iteration No: 402 started. Searching for the next optimal point.\n"
     ]
    },
    {
     "name": "stderr",
     "output_type": "stream",
     "text": [
      "/var/folders/6y/gzz1g_p559n80dc3_f2fl6m80000gn/T/ipykernel_54320/3668836295.py:32: SettingWithCopyWarning: \n",
      "A value is trying to be set on a copy of a slice from a DataFrame.\n",
      "Try using .loc[row_indexer,col_indexer] = value instead\n",
      "\n",
      "See the caveats in the documentation: https://pandas.pydata.org/pandas-docs/stable/user_guide/indexing.html#returning-a-view-versus-a-copy\n",
      "  data[model + \"_Q\"] = data.apply(lambda x: Q_dict[x.gridnum][x.transformed_state], axis=1)\n"
     ]
    },
    {
     "name": "stdout",
     "output_type": "stream",
     "text": [
      "Iteration No: 402 ended. Search finished for the next optimal point.\n",
      "Time taken: 60.9226\n",
      "Function value obtained: 13100.4438\n",
      "Current minimum: 13002.1908\n",
      "Iteration No: 403 started. Searching for the next optimal point.\n"
     ]
    },
    {
     "name": "stderr",
     "output_type": "stream",
     "text": [
      "/var/folders/6y/gzz1g_p559n80dc3_f2fl6m80000gn/T/ipykernel_54320/3668836295.py:32: SettingWithCopyWarning: \n",
      "A value is trying to be set on a copy of a slice from a DataFrame.\n",
      "Try using .loc[row_indexer,col_indexer] = value instead\n",
      "\n",
      "See the caveats in the documentation: https://pandas.pydata.org/pandas-docs/stable/user_guide/indexing.html#returning-a-view-versus-a-copy\n",
      "  data[model + \"_Q\"] = data.apply(lambda x: Q_dict[x.gridnum][x.transformed_state], axis=1)\n"
     ]
    },
    {
     "name": "stdout",
     "output_type": "stream",
     "text": [
      "Iteration No: 403 ended. Search finished for the next optimal point.\n",
      "Time taken: 55.4408\n",
      "Function value obtained: 13111.4274\n",
      "Current minimum: 13002.1908\n",
      "Iteration No: 404 started. Searching for the next optimal point.\n"
     ]
    },
    {
     "name": "stderr",
     "output_type": "stream",
     "text": [
      "/var/folders/6y/gzz1g_p559n80dc3_f2fl6m80000gn/T/ipykernel_54320/3668836295.py:32: SettingWithCopyWarning: \n",
      "A value is trying to be set on a copy of a slice from a DataFrame.\n",
      "Try using .loc[row_indexer,col_indexer] = value instead\n",
      "\n",
      "See the caveats in the documentation: https://pandas.pydata.org/pandas-docs/stable/user_guide/indexing.html#returning-a-view-versus-a-copy\n",
      "  data[model + \"_Q\"] = data.apply(lambda x: Q_dict[x.gridnum][x.transformed_state], axis=1)\n"
     ]
    },
    {
     "name": "stdout",
     "output_type": "stream",
     "text": [
      "Iteration No: 404 ended. Search finished for the next optimal point.\n",
      "Time taken: 45.7086\n",
      "Function value obtained: 13195.1998\n",
      "Current minimum: 13002.1908\n",
      "Iteration No: 405 started. Searching for the next optimal point.\n"
     ]
    },
    {
     "name": "stderr",
     "output_type": "stream",
     "text": [
      "/var/folders/6y/gzz1g_p559n80dc3_f2fl6m80000gn/T/ipykernel_54320/3668836295.py:32: SettingWithCopyWarning: \n",
      "A value is trying to be set on a copy of a slice from a DataFrame.\n",
      "Try using .loc[row_indexer,col_indexer] = value instead\n",
      "\n",
      "See the caveats in the documentation: https://pandas.pydata.org/pandas-docs/stable/user_guide/indexing.html#returning-a-view-versus-a-copy\n",
      "  data[model + \"_Q\"] = data.apply(lambda x: Q_dict[x.gridnum][x.transformed_state], axis=1)\n"
     ]
    },
    {
     "name": "stdout",
     "output_type": "stream",
     "text": [
      "Iteration No: 405 ended. Search finished for the next optimal point.\n",
      "Time taken: 65.3246\n",
      "Function value obtained: 13173.1662\n",
      "Current minimum: 13002.1908\n",
      "Iteration No: 406 started. Searching for the next optimal point.\n"
     ]
    },
    {
     "name": "stderr",
     "output_type": "stream",
     "text": [
      "/var/folders/6y/gzz1g_p559n80dc3_f2fl6m80000gn/T/ipykernel_54320/3668836295.py:32: SettingWithCopyWarning: \n",
      "A value is trying to be set on a copy of a slice from a DataFrame.\n",
      "Try using .loc[row_indexer,col_indexer] = value instead\n",
      "\n",
      "See the caveats in the documentation: https://pandas.pydata.org/pandas-docs/stable/user_guide/indexing.html#returning-a-view-versus-a-copy\n",
      "  data[model + \"_Q\"] = data.apply(lambda x: Q_dict[x.gridnum][x.transformed_state], axis=1)\n"
     ]
    },
    {
     "name": "stdout",
     "output_type": "stream",
     "text": [
      "Iteration No: 406 ended. Search finished for the next optimal point.\n",
      "Time taken: 81.4937\n",
      "Function value obtained: 13105.6518\n",
      "Current minimum: 13002.1908\n",
      "Iteration No: 407 started. Searching for the next optimal point.\n"
     ]
    },
    {
     "name": "stderr",
     "output_type": "stream",
     "text": [
      "/var/folders/6y/gzz1g_p559n80dc3_f2fl6m80000gn/T/ipykernel_54320/3668836295.py:32: SettingWithCopyWarning: \n",
      "A value is trying to be set on a copy of a slice from a DataFrame.\n",
      "Try using .loc[row_indexer,col_indexer] = value instead\n",
      "\n",
      "See the caveats in the documentation: https://pandas.pydata.org/pandas-docs/stable/user_guide/indexing.html#returning-a-view-versus-a-copy\n",
      "  data[model + \"_Q\"] = data.apply(lambda x: Q_dict[x.gridnum][x.transformed_state], axis=1)\n"
     ]
    },
    {
     "name": "stdout",
     "output_type": "stream",
     "text": [
      "Iteration No: 407 ended. Search finished for the next optimal point.\n",
      "Time taken: 63.8616\n",
      "Function value obtained: 13091.0288\n",
      "Current minimum: 13002.1908\n",
      "Iteration No: 408 started. Searching for the next optimal point.\n"
     ]
    },
    {
     "name": "stderr",
     "output_type": "stream",
     "text": [
      "/var/folders/6y/gzz1g_p559n80dc3_f2fl6m80000gn/T/ipykernel_54320/3668836295.py:32: SettingWithCopyWarning: \n",
      "A value is trying to be set on a copy of a slice from a DataFrame.\n",
      "Try using .loc[row_indexer,col_indexer] = value instead\n",
      "\n",
      "See the caveats in the documentation: https://pandas.pydata.org/pandas-docs/stable/user_guide/indexing.html#returning-a-view-versus-a-copy\n",
      "  data[model + \"_Q\"] = data.apply(lambda x: Q_dict[x.gridnum][x.transformed_state], axis=1)\n"
     ]
    },
    {
     "name": "stdout",
     "output_type": "stream",
     "text": [
      "Iteration No: 408 ended. Search finished for the next optimal point.\n",
      "Time taken: 58.4999\n",
      "Function value obtained: 13087.7799\n",
      "Current minimum: 13002.1908\n",
      "Iteration No: 409 started. Searching for the next optimal point.\n"
     ]
    },
    {
     "name": "stderr",
     "output_type": "stream",
     "text": [
      "/var/folders/6y/gzz1g_p559n80dc3_f2fl6m80000gn/T/ipykernel_54320/3668836295.py:32: SettingWithCopyWarning: \n",
      "A value is trying to be set on a copy of a slice from a DataFrame.\n",
      "Try using .loc[row_indexer,col_indexer] = value instead\n",
      "\n",
      "See the caveats in the documentation: https://pandas.pydata.org/pandas-docs/stable/user_guide/indexing.html#returning-a-view-versus-a-copy\n",
      "  data[model + \"_Q\"] = data.apply(lambda x: Q_dict[x.gridnum][x.transformed_state], axis=1)\n"
     ]
    },
    {
     "name": "stdout",
     "output_type": "stream",
     "text": [
      "Iteration No: 409 ended. Search finished for the next optimal point.\n",
      "Time taken: 56.5009\n",
      "Function value obtained: 13118.8266\n",
      "Current minimum: 13002.1908\n",
      "Iteration No: 410 started. Searching for the next optimal point.\n"
     ]
    },
    {
     "name": "stderr",
     "output_type": "stream",
     "text": [
      "/var/folders/6y/gzz1g_p559n80dc3_f2fl6m80000gn/T/ipykernel_54320/3668836295.py:32: SettingWithCopyWarning: \n",
      "A value is trying to be set on a copy of a slice from a DataFrame.\n",
      "Try using .loc[row_indexer,col_indexer] = value instead\n",
      "\n",
      "See the caveats in the documentation: https://pandas.pydata.org/pandas-docs/stable/user_guide/indexing.html#returning-a-view-versus-a-copy\n",
      "  data[model + \"_Q\"] = data.apply(lambda x: Q_dict[x.gridnum][x.transformed_state], axis=1)\n"
     ]
    },
    {
     "name": "stdout",
     "output_type": "stream",
     "text": [
      "Iteration No: 410 ended. Search finished for the next optimal point.\n",
      "Time taken: 63.5511\n",
      "Function value obtained: 13095.6229\n",
      "Current minimum: 13002.1908\n",
      "Iteration No: 411 started. Searching for the next optimal point.\n"
     ]
    },
    {
     "name": "stderr",
     "output_type": "stream",
     "text": [
      "/var/folders/6y/gzz1g_p559n80dc3_f2fl6m80000gn/T/ipykernel_54320/3668836295.py:32: SettingWithCopyWarning: \n",
      "A value is trying to be set on a copy of a slice from a DataFrame.\n",
      "Try using .loc[row_indexer,col_indexer] = value instead\n",
      "\n",
      "See the caveats in the documentation: https://pandas.pydata.org/pandas-docs/stable/user_guide/indexing.html#returning-a-view-versus-a-copy\n",
      "  data[model + \"_Q\"] = data.apply(lambda x: Q_dict[x.gridnum][x.transformed_state], axis=1)\n"
     ]
    },
    {
     "name": "stdout",
     "output_type": "stream",
     "text": [
      "Iteration No: 411 ended. Search finished for the next optimal point.\n",
      "Time taken: 67.9655\n",
      "Function value obtained: 13112.6618\n",
      "Current minimum: 13002.1908\n",
      "Iteration No: 412 started. Searching for the next optimal point.\n"
     ]
    },
    {
     "name": "stderr",
     "output_type": "stream",
     "text": [
      "/var/folders/6y/gzz1g_p559n80dc3_f2fl6m80000gn/T/ipykernel_54320/3668836295.py:32: SettingWithCopyWarning: \n",
      "A value is trying to be set on a copy of a slice from a DataFrame.\n",
      "Try using .loc[row_indexer,col_indexer] = value instead\n",
      "\n",
      "See the caveats in the documentation: https://pandas.pydata.org/pandas-docs/stable/user_guide/indexing.html#returning-a-view-versus-a-copy\n",
      "  data[model + \"_Q\"] = data.apply(lambda x: Q_dict[x.gridnum][x.transformed_state], axis=1)\n"
     ]
    },
    {
     "name": "stdout",
     "output_type": "stream",
     "text": [
      "Iteration No: 412 ended. Search finished for the next optimal point.\n",
      "Time taken: 37.1105\n",
      "Function value obtained: 13073.9045\n",
      "Current minimum: 13002.1908\n",
      "Iteration No: 413 started. Searching for the next optimal point.\n"
     ]
    },
    {
     "name": "stderr",
     "output_type": "stream",
     "text": [
      "/var/folders/6y/gzz1g_p559n80dc3_f2fl6m80000gn/T/ipykernel_54320/3668836295.py:32: SettingWithCopyWarning: \n",
      "A value is trying to be set on a copy of a slice from a DataFrame.\n",
      "Try using .loc[row_indexer,col_indexer] = value instead\n",
      "\n",
      "See the caveats in the documentation: https://pandas.pydata.org/pandas-docs/stable/user_guide/indexing.html#returning-a-view-versus-a-copy\n",
      "  data[model + \"_Q\"] = data.apply(lambda x: Q_dict[x.gridnum][x.transformed_state], axis=1)\n"
     ]
    },
    {
     "name": "stdout",
     "output_type": "stream",
     "text": [
      "Iteration No: 413 ended. Search finished for the next optimal point.\n",
      "Time taken: 56.4603\n",
      "Function value obtained: 13114.5508\n",
      "Current minimum: 13002.1908\n",
      "Iteration No: 414 started. Searching for the next optimal point.\n"
     ]
    },
    {
     "name": "stderr",
     "output_type": "stream",
     "text": [
      "/var/folders/6y/gzz1g_p559n80dc3_f2fl6m80000gn/T/ipykernel_54320/3668836295.py:32: SettingWithCopyWarning: \n",
      "A value is trying to be set on a copy of a slice from a DataFrame.\n",
      "Try using .loc[row_indexer,col_indexer] = value instead\n",
      "\n",
      "See the caveats in the documentation: https://pandas.pydata.org/pandas-docs/stable/user_guide/indexing.html#returning-a-view-versus-a-copy\n",
      "  data[model + \"_Q\"] = data.apply(lambda x: Q_dict[x.gridnum][x.transformed_state], axis=1)\n"
     ]
    },
    {
     "name": "stdout",
     "output_type": "stream",
     "text": [
      "Iteration No: 414 ended. Search finished for the next optimal point.\n",
      "Time taken: 77.6162\n",
      "Function value obtained: 13085.3610\n",
      "Current minimum: 13002.1908\n",
      "Iteration No: 415 started. Searching for the next optimal point.\n"
     ]
    },
    {
     "name": "stderr",
     "output_type": "stream",
     "text": [
      "/var/folders/6y/gzz1g_p559n80dc3_f2fl6m80000gn/T/ipykernel_54320/3668836295.py:32: SettingWithCopyWarning: \n",
      "A value is trying to be set on a copy of a slice from a DataFrame.\n",
      "Try using .loc[row_indexer,col_indexer] = value instead\n",
      "\n",
      "See the caveats in the documentation: https://pandas.pydata.org/pandas-docs/stable/user_guide/indexing.html#returning-a-view-versus-a-copy\n",
      "  data[model + \"_Q\"] = data.apply(lambda x: Q_dict[x.gridnum][x.transformed_state], axis=1)\n"
     ]
    },
    {
     "name": "stdout",
     "output_type": "stream",
     "text": [
      "Iteration No: 415 ended. Search finished for the next optimal point.\n",
      "Time taken: 71.6527\n",
      "Function value obtained: 13104.4728\n",
      "Current minimum: 13002.1908\n",
      "Iteration No: 416 started. Searching for the next optimal point.\n"
     ]
    },
    {
     "name": "stderr",
     "output_type": "stream",
     "text": [
      "/var/folders/6y/gzz1g_p559n80dc3_f2fl6m80000gn/T/ipykernel_54320/3668836295.py:32: SettingWithCopyWarning: \n",
      "A value is trying to be set on a copy of a slice from a DataFrame.\n",
      "Try using .loc[row_indexer,col_indexer] = value instead\n",
      "\n",
      "See the caveats in the documentation: https://pandas.pydata.org/pandas-docs/stable/user_guide/indexing.html#returning-a-view-versus-a-copy\n",
      "  data[model + \"_Q\"] = data.apply(lambda x: Q_dict[x.gridnum][x.transformed_state], axis=1)\n"
     ]
    },
    {
     "name": "stdout",
     "output_type": "stream",
     "text": [
      "Iteration No: 416 ended. Search finished for the next optimal point.\n",
      "Time taken: 52.0629\n",
      "Function value obtained: 13069.5814\n",
      "Current minimum: 13002.1908\n",
      "Iteration No: 417 started. Searching for the next optimal point.\n"
     ]
    },
    {
     "name": "stderr",
     "output_type": "stream",
     "text": [
      "/var/folders/6y/gzz1g_p559n80dc3_f2fl6m80000gn/T/ipykernel_54320/3668836295.py:32: SettingWithCopyWarning: \n",
      "A value is trying to be set on a copy of a slice from a DataFrame.\n",
      "Try using .loc[row_indexer,col_indexer] = value instead\n",
      "\n",
      "See the caveats in the documentation: https://pandas.pydata.org/pandas-docs/stable/user_guide/indexing.html#returning-a-view-versus-a-copy\n",
      "  data[model + \"_Q\"] = data.apply(lambda x: Q_dict[x.gridnum][x.transformed_state], axis=1)\n"
     ]
    },
    {
     "name": "stdout",
     "output_type": "stream",
     "text": [
      "Iteration No: 417 ended. Search finished for the next optimal point.\n",
      "Time taken: 25.8038\n",
      "Function value obtained: 13230.5276\n",
      "Current minimum: 13002.1908\n",
      "Iteration No: 418 started. Searching for the next optimal point.\n"
     ]
    },
    {
     "name": "stderr",
     "output_type": "stream",
     "text": [
      "/var/folders/6y/gzz1g_p559n80dc3_f2fl6m80000gn/T/ipykernel_54320/3668836295.py:32: SettingWithCopyWarning: \n",
      "A value is trying to be set on a copy of a slice from a DataFrame.\n",
      "Try using .loc[row_indexer,col_indexer] = value instead\n",
      "\n",
      "See the caveats in the documentation: https://pandas.pydata.org/pandas-docs/stable/user_guide/indexing.html#returning-a-view-versus-a-copy\n",
      "  data[model + \"_Q\"] = data.apply(lambda x: Q_dict[x.gridnum][x.transformed_state], axis=1)\n"
     ]
    },
    {
     "name": "stdout",
     "output_type": "stream",
     "text": [
      "Iteration No: 418 ended. Search finished for the next optimal point.\n",
      "Time taken: 57.4005\n",
      "Function value obtained: 13115.3875\n",
      "Current minimum: 13002.1908\n",
      "Iteration No: 419 started. Searching for the next optimal point.\n"
     ]
    },
    {
     "name": "stderr",
     "output_type": "stream",
     "text": [
      "/var/folders/6y/gzz1g_p559n80dc3_f2fl6m80000gn/T/ipykernel_54320/3668836295.py:32: SettingWithCopyWarning: \n",
      "A value is trying to be set on a copy of a slice from a DataFrame.\n",
      "Try using .loc[row_indexer,col_indexer] = value instead\n",
      "\n",
      "See the caveats in the documentation: https://pandas.pydata.org/pandas-docs/stable/user_guide/indexing.html#returning-a-view-versus-a-copy\n",
      "  data[model + \"_Q\"] = data.apply(lambda x: Q_dict[x.gridnum][x.transformed_state], axis=1)\n"
     ]
    },
    {
     "name": "stdout",
     "output_type": "stream",
     "text": [
      "Iteration No: 419 ended. Search finished for the next optimal point.\n",
      "Time taken: 46.0775\n",
      "Function value obtained: 13119.0266\n",
      "Current minimum: 13002.1908\n",
      "Iteration No: 420 started. Searching for the next optimal point.\n"
     ]
    },
    {
     "name": "stderr",
     "output_type": "stream",
     "text": [
      "/var/folders/6y/gzz1g_p559n80dc3_f2fl6m80000gn/T/ipykernel_54320/3668836295.py:32: SettingWithCopyWarning: \n",
      "A value is trying to be set on a copy of a slice from a DataFrame.\n",
      "Try using .loc[row_indexer,col_indexer] = value instead\n",
      "\n",
      "See the caveats in the documentation: https://pandas.pydata.org/pandas-docs/stable/user_guide/indexing.html#returning-a-view-versus-a-copy\n",
      "  data[model + \"_Q\"] = data.apply(lambda x: Q_dict[x.gridnum][x.transformed_state], axis=1)\n"
     ]
    },
    {
     "name": "stdout",
     "output_type": "stream",
     "text": [
      "Iteration No: 420 ended. Search finished for the next optimal point.\n",
      "Time taken: 39.0227\n",
      "Function value obtained: 13077.5959\n",
      "Current minimum: 13002.1908\n",
      "Iteration No: 421 started. Searching for the next optimal point.\n"
     ]
    },
    {
     "name": "stderr",
     "output_type": "stream",
     "text": [
      "/var/folders/6y/gzz1g_p559n80dc3_f2fl6m80000gn/T/ipykernel_54320/3668836295.py:32: SettingWithCopyWarning: \n",
      "A value is trying to be set on a copy of a slice from a DataFrame.\n",
      "Try using .loc[row_indexer,col_indexer] = value instead\n",
      "\n",
      "See the caveats in the documentation: https://pandas.pydata.org/pandas-docs/stable/user_guide/indexing.html#returning-a-view-versus-a-copy\n",
      "  data[model + \"_Q\"] = data.apply(lambda x: Q_dict[x.gridnum][x.transformed_state], axis=1)\n"
     ]
    },
    {
     "name": "stdout",
     "output_type": "stream",
     "text": [
      "Iteration No: 421 ended. Search finished for the next optimal point.\n",
      "Time taken: 56.5346\n",
      "Function value obtained: 13120.5882\n",
      "Current minimum: 13002.1908\n",
      "Iteration No: 422 started. Searching for the next optimal point.\n"
     ]
    },
    {
     "name": "stderr",
     "output_type": "stream",
     "text": [
      "/var/folders/6y/gzz1g_p559n80dc3_f2fl6m80000gn/T/ipykernel_54320/3668836295.py:32: SettingWithCopyWarning: \n",
      "A value is trying to be set on a copy of a slice from a DataFrame.\n",
      "Try using .loc[row_indexer,col_indexer] = value instead\n",
      "\n",
      "See the caveats in the documentation: https://pandas.pydata.org/pandas-docs/stable/user_guide/indexing.html#returning-a-view-versus-a-copy\n",
      "  data[model + \"_Q\"] = data.apply(lambda x: Q_dict[x.gridnum][x.transformed_state], axis=1)\n"
     ]
    },
    {
     "name": "stdout",
     "output_type": "stream",
     "text": [
      "Iteration No: 422 ended. Search finished for the next optimal point.\n",
      "Time taken: 62.7755\n",
      "Function value obtained: 13114.4028\n",
      "Current minimum: 13002.1908\n",
      "Iteration No: 423 started. Searching for the next optimal point.\n"
     ]
    },
    {
     "name": "stderr",
     "output_type": "stream",
     "text": [
      "/var/folders/6y/gzz1g_p559n80dc3_f2fl6m80000gn/T/ipykernel_54320/3668836295.py:32: SettingWithCopyWarning: \n",
      "A value is trying to be set on a copy of a slice from a DataFrame.\n",
      "Try using .loc[row_indexer,col_indexer] = value instead\n",
      "\n",
      "See the caveats in the documentation: https://pandas.pydata.org/pandas-docs/stable/user_guide/indexing.html#returning-a-view-versus-a-copy\n",
      "  data[model + \"_Q\"] = data.apply(lambda x: Q_dict[x.gridnum][x.transformed_state], axis=1)\n"
     ]
    },
    {
     "name": "stdout",
     "output_type": "stream",
     "text": [
      "Iteration No: 423 ended. Search finished for the next optimal point.\n",
      "Time taken: 47.9910\n",
      "Function value obtained: 13098.7750\n",
      "Current minimum: 13002.1908\n",
      "Iteration No: 424 started. Searching for the next optimal point.\n"
     ]
    },
    {
     "name": "stderr",
     "output_type": "stream",
     "text": [
      "/var/folders/6y/gzz1g_p559n80dc3_f2fl6m80000gn/T/ipykernel_54320/3668836295.py:32: SettingWithCopyWarning: \n",
      "A value is trying to be set on a copy of a slice from a DataFrame.\n",
      "Try using .loc[row_indexer,col_indexer] = value instead\n",
      "\n",
      "See the caveats in the documentation: https://pandas.pydata.org/pandas-docs/stable/user_guide/indexing.html#returning-a-view-versus-a-copy\n",
      "  data[model + \"_Q\"] = data.apply(lambda x: Q_dict[x.gridnum][x.transformed_state], axis=1)\n"
     ]
    },
    {
     "name": "stdout",
     "output_type": "stream",
     "text": [
      "Iteration No: 424 ended. Search finished for the next optimal point.\n",
      "Time taken: 75.0149\n",
      "Function value obtained: 13087.9719\n",
      "Current minimum: 13002.1908\n",
      "Iteration No: 425 started. Searching for the next optimal point.\n"
     ]
    },
    {
     "name": "stderr",
     "output_type": "stream",
     "text": [
      "/var/folders/6y/gzz1g_p559n80dc3_f2fl6m80000gn/T/ipykernel_54320/3668836295.py:32: SettingWithCopyWarning: \n",
      "A value is trying to be set on a copy of a slice from a DataFrame.\n",
      "Try using .loc[row_indexer,col_indexer] = value instead\n",
      "\n",
      "See the caveats in the documentation: https://pandas.pydata.org/pandas-docs/stable/user_guide/indexing.html#returning-a-view-versus-a-copy\n",
      "  data[model + \"_Q\"] = data.apply(lambda x: Q_dict[x.gridnum][x.transformed_state], axis=1)\n"
     ]
    },
    {
     "name": "stdout",
     "output_type": "stream",
     "text": [
      "Iteration No: 425 ended. Search finished for the next optimal point.\n",
      "Time taken: 50.2372\n",
      "Function value obtained: 13107.4350\n",
      "Current minimum: 13002.1908\n",
      "Iteration No: 426 started. Searching for the next optimal point.\n"
     ]
    },
    {
     "name": "stderr",
     "output_type": "stream",
     "text": [
      "/var/folders/6y/gzz1g_p559n80dc3_f2fl6m80000gn/T/ipykernel_54320/3668836295.py:32: SettingWithCopyWarning: \n",
      "A value is trying to be set on a copy of a slice from a DataFrame.\n",
      "Try using .loc[row_indexer,col_indexer] = value instead\n",
      "\n",
      "See the caveats in the documentation: https://pandas.pydata.org/pandas-docs/stable/user_guide/indexing.html#returning-a-view-versus-a-copy\n",
      "  data[model + \"_Q\"] = data.apply(lambda x: Q_dict[x.gridnum][x.transformed_state], axis=1)\n"
     ]
    },
    {
     "name": "stdout",
     "output_type": "stream",
     "text": [
      "Iteration No: 426 ended. Search finished for the next optimal point.\n",
      "Time taken: 34.8570\n",
      "Function value obtained: 13154.9437\n",
      "Current minimum: 13002.1908\n",
      "Iteration No: 427 started. Searching for the next optimal point.\n"
     ]
    },
    {
     "name": "stderr",
     "output_type": "stream",
     "text": [
      "/var/folders/6y/gzz1g_p559n80dc3_f2fl6m80000gn/T/ipykernel_54320/3668836295.py:32: SettingWithCopyWarning: \n",
      "A value is trying to be set on a copy of a slice from a DataFrame.\n",
      "Try using .loc[row_indexer,col_indexer] = value instead\n",
      "\n",
      "See the caveats in the documentation: https://pandas.pydata.org/pandas-docs/stable/user_guide/indexing.html#returning-a-view-versus-a-copy\n",
      "  data[model + \"_Q\"] = data.apply(lambda x: Q_dict[x.gridnum][x.transformed_state], axis=1)\n"
     ]
    },
    {
     "name": "stdout",
     "output_type": "stream",
     "text": [
      "Iteration No: 427 ended. Search finished for the next optimal point.\n",
      "Time taken: 79.1597\n",
      "Function value obtained: 13103.8484\n",
      "Current minimum: 13002.1908\n",
      "Iteration No: 428 started. Searching for the next optimal point.\n"
     ]
    },
    {
     "name": "stderr",
     "output_type": "stream",
     "text": [
      "/var/folders/6y/gzz1g_p559n80dc3_f2fl6m80000gn/T/ipykernel_54320/3668836295.py:32: SettingWithCopyWarning: \n",
      "A value is trying to be set on a copy of a slice from a DataFrame.\n",
      "Try using .loc[row_indexer,col_indexer] = value instead\n",
      "\n",
      "See the caveats in the documentation: https://pandas.pydata.org/pandas-docs/stable/user_guide/indexing.html#returning-a-view-versus-a-copy\n",
      "  data[model + \"_Q\"] = data.apply(lambda x: Q_dict[x.gridnum][x.transformed_state], axis=1)\n"
     ]
    },
    {
     "name": "stdout",
     "output_type": "stream",
     "text": [
      "Iteration No: 428 ended. Search finished for the next optimal point.\n",
      "Time taken: 41.7759\n",
      "Function value obtained: 13073.4873\n",
      "Current minimum: 13002.1908\n",
      "Iteration No: 429 started. Searching for the next optimal point.\n"
     ]
    },
    {
     "name": "stderr",
     "output_type": "stream",
     "text": [
      "/var/folders/6y/gzz1g_p559n80dc3_f2fl6m80000gn/T/ipykernel_54320/3668836295.py:32: SettingWithCopyWarning: \n",
      "A value is trying to be set on a copy of a slice from a DataFrame.\n",
      "Try using .loc[row_indexer,col_indexer] = value instead\n",
      "\n",
      "See the caveats in the documentation: https://pandas.pydata.org/pandas-docs/stable/user_guide/indexing.html#returning-a-view-versus-a-copy\n",
      "  data[model + \"_Q\"] = data.apply(lambda x: Q_dict[x.gridnum][x.transformed_state], axis=1)\n"
     ]
    },
    {
     "name": "stdout",
     "output_type": "stream",
     "text": [
      "Iteration No: 429 ended. Search finished for the next optimal point.\n",
      "Time taken: 47.0845\n",
      "Function value obtained: 13182.7965\n",
      "Current minimum: 13002.1908\n",
      "Iteration No: 430 started. Searching for the next optimal point.\n"
     ]
    },
    {
     "name": "stderr",
     "output_type": "stream",
     "text": [
      "/var/folders/6y/gzz1g_p559n80dc3_f2fl6m80000gn/T/ipykernel_54320/3668836295.py:32: SettingWithCopyWarning: \n",
      "A value is trying to be set on a copy of a slice from a DataFrame.\n",
      "Try using .loc[row_indexer,col_indexer] = value instead\n",
      "\n",
      "See the caveats in the documentation: https://pandas.pydata.org/pandas-docs/stable/user_guide/indexing.html#returning-a-view-versus-a-copy\n",
      "  data[model + \"_Q\"] = data.apply(lambda x: Q_dict[x.gridnum][x.transformed_state], axis=1)\n"
     ]
    },
    {
     "name": "stdout",
     "output_type": "stream",
     "text": [
      "Iteration No: 430 ended. Search finished for the next optimal point.\n",
      "Time taken: 38.4183\n",
      "Function value obtained: 13055.5634\n",
      "Current minimum: 13002.1908\n",
      "Iteration No: 431 started. Searching for the next optimal point.\n"
     ]
    },
    {
     "name": "stderr",
     "output_type": "stream",
     "text": [
      "/var/folders/6y/gzz1g_p559n80dc3_f2fl6m80000gn/T/ipykernel_54320/3668836295.py:32: SettingWithCopyWarning: \n",
      "A value is trying to be set on a copy of a slice from a DataFrame.\n",
      "Try using .loc[row_indexer,col_indexer] = value instead\n",
      "\n",
      "See the caveats in the documentation: https://pandas.pydata.org/pandas-docs/stable/user_guide/indexing.html#returning-a-view-versus-a-copy\n",
      "  data[model + \"_Q\"] = data.apply(lambda x: Q_dict[x.gridnum][x.transformed_state], axis=1)\n"
     ]
    },
    {
     "name": "stdout",
     "output_type": "stream",
     "text": [
      "Iteration No: 431 ended. Search finished for the next optimal point.\n",
      "Time taken: 37.8794\n",
      "Function value obtained: 13068.3579\n",
      "Current minimum: 13002.1908\n",
      "Iteration No: 432 started. Searching for the next optimal point.\n"
     ]
    },
    {
     "name": "stderr",
     "output_type": "stream",
     "text": [
      "/var/folders/6y/gzz1g_p559n80dc3_f2fl6m80000gn/T/ipykernel_54320/3668836295.py:32: SettingWithCopyWarning: \n",
      "A value is trying to be set on a copy of a slice from a DataFrame.\n",
      "Try using .loc[row_indexer,col_indexer] = value instead\n",
      "\n",
      "See the caveats in the documentation: https://pandas.pydata.org/pandas-docs/stable/user_guide/indexing.html#returning-a-view-versus-a-copy\n",
      "  data[model + \"_Q\"] = data.apply(lambda x: Q_dict[x.gridnum][x.transformed_state], axis=1)\n"
     ]
    },
    {
     "name": "stdout",
     "output_type": "stream",
     "text": [
      "Iteration No: 432 ended. Search finished for the next optimal point.\n",
      "Time taken: 57.1340\n",
      "Function value obtained: 13152.1197\n",
      "Current minimum: 13002.1908\n",
      "Iteration No: 433 started. Searching for the next optimal point.\n"
     ]
    },
    {
     "name": "stderr",
     "output_type": "stream",
     "text": [
      "/var/folders/6y/gzz1g_p559n80dc3_f2fl6m80000gn/T/ipykernel_54320/3668836295.py:32: SettingWithCopyWarning: \n",
      "A value is trying to be set on a copy of a slice from a DataFrame.\n",
      "Try using .loc[row_indexer,col_indexer] = value instead\n",
      "\n",
      "See the caveats in the documentation: https://pandas.pydata.org/pandas-docs/stable/user_guide/indexing.html#returning-a-view-versus-a-copy\n",
      "  data[model + \"_Q\"] = data.apply(lambda x: Q_dict[x.gridnum][x.transformed_state], axis=1)\n"
     ]
    },
    {
     "name": "stdout",
     "output_type": "stream",
     "text": [
      "Iteration No: 433 ended. Search finished for the next optimal point.\n",
      "Time taken: 35.0033\n",
      "Function value obtained: 13098.2932\n",
      "Current minimum: 13002.1908\n",
      "Iteration No: 434 started. Searching for the next optimal point.\n"
     ]
    },
    {
     "name": "stderr",
     "output_type": "stream",
     "text": [
      "/var/folders/6y/gzz1g_p559n80dc3_f2fl6m80000gn/T/ipykernel_54320/3668836295.py:32: SettingWithCopyWarning: \n",
      "A value is trying to be set on a copy of a slice from a DataFrame.\n",
      "Try using .loc[row_indexer,col_indexer] = value instead\n",
      "\n",
      "See the caveats in the documentation: https://pandas.pydata.org/pandas-docs/stable/user_guide/indexing.html#returning-a-view-versus-a-copy\n",
      "  data[model + \"_Q\"] = data.apply(lambda x: Q_dict[x.gridnum][x.transformed_state], axis=1)\n"
     ]
    },
    {
     "name": "stdout",
     "output_type": "stream",
     "text": [
      "Iteration No: 434 ended. Search finished for the next optimal point.\n",
      "Time taken: 76.6234\n",
      "Function value obtained: 13113.0353\n",
      "Current minimum: 13002.1908\n",
      "Iteration No: 435 started. Searching for the next optimal point.\n"
     ]
    },
    {
     "name": "stderr",
     "output_type": "stream",
     "text": [
      "/var/folders/6y/gzz1g_p559n80dc3_f2fl6m80000gn/T/ipykernel_54320/3668836295.py:32: SettingWithCopyWarning: \n",
      "A value is trying to be set on a copy of a slice from a DataFrame.\n",
      "Try using .loc[row_indexer,col_indexer] = value instead\n",
      "\n",
      "See the caveats in the documentation: https://pandas.pydata.org/pandas-docs/stable/user_guide/indexing.html#returning-a-view-versus-a-copy\n",
      "  data[model + \"_Q\"] = data.apply(lambda x: Q_dict[x.gridnum][x.transformed_state], axis=1)\n"
     ]
    },
    {
     "name": "stdout",
     "output_type": "stream",
     "text": [
      "Iteration No: 435 ended. Search finished for the next optimal point.\n",
      "Time taken: 62.2435\n",
      "Function value obtained: 13119.8502\n",
      "Current minimum: 13002.1908\n",
      "Iteration No: 436 started. Searching for the next optimal point.\n"
     ]
    },
    {
     "name": "stderr",
     "output_type": "stream",
     "text": [
      "/var/folders/6y/gzz1g_p559n80dc3_f2fl6m80000gn/T/ipykernel_54320/3668836295.py:32: SettingWithCopyWarning: \n",
      "A value is trying to be set on a copy of a slice from a DataFrame.\n",
      "Try using .loc[row_indexer,col_indexer] = value instead\n",
      "\n",
      "See the caveats in the documentation: https://pandas.pydata.org/pandas-docs/stable/user_guide/indexing.html#returning-a-view-versus-a-copy\n",
      "  data[model + \"_Q\"] = data.apply(lambda x: Q_dict[x.gridnum][x.transformed_state], axis=1)\n"
     ]
    },
    {
     "name": "stdout",
     "output_type": "stream",
     "text": [
      "Iteration No: 436 ended. Search finished for the next optimal point.\n",
      "Time taken: 41.1957\n",
      "Function value obtained: 13242.6292\n",
      "Current minimum: 13002.1908\n",
      "Iteration No: 437 started. Searching for the next optimal point.\n"
     ]
    },
    {
     "name": "stderr",
     "output_type": "stream",
     "text": [
      "/var/folders/6y/gzz1g_p559n80dc3_f2fl6m80000gn/T/ipykernel_54320/3668836295.py:32: SettingWithCopyWarning: \n",
      "A value is trying to be set on a copy of a slice from a DataFrame.\n",
      "Try using .loc[row_indexer,col_indexer] = value instead\n",
      "\n",
      "See the caveats in the documentation: https://pandas.pydata.org/pandas-docs/stable/user_guide/indexing.html#returning-a-view-versus-a-copy\n",
      "  data[model + \"_Q\"] = data.apply(lambda x: Q_dict[x.gridnum][x.transformed_state], axis=1)\n"
     ]
    },
    {
     "name": "stdout",
     "output_type": "stream",
     "text": [
      "Iteration No: 437 ended. Search finished for the next optimal point.\n",
      "Time taken: 55.7094\n",
      "Function value obtained: 13045.8369\n",
      "Current minimum: 13002.1908\n",
      "Iteration No: 438 started. Searching for the next optimal point.\n"
     ]
    },
    {
     "name": "stderr",
     "output_type": "stream",
     "text": [
      "/var/folders/6y/gzz1g_p559n80dc3_f2fl6m80000gn/T/ipykernel_54320/3668836295.py:32: SettingWithCopyWarning: \n",
      "A value is trying to be set on a copy of a slice from a DataFrame.\n",
      "Try using .loc[row_indexer,col_indexer] = value instead\n",
      "\n",
      "See the caveats in the documentation: https://pandas.pydata.org/pandas-docs/stable/user_guide/indexing.html#returning-a-view-versus-a-copy\n",
      "  data[model + \"_Q\"] = data.apply(lambda x: Q_dict[x.gridnum][x.transformed_state], axis=1)\n"
     ]
    },
    {
     "name": "stdout",
     "output_type": "stream",
     "text": [
      "Iteration No: 438 ended. Search finished for the next optimal point.\n",
      "Time taken: 56.4112\n",
      "Function value obtained: 13142.9937\n",
      "Current minimum: 13002.1908\n",
      "Iteration No: 439 started. Searching for the next optimal point.\n"
     ]
    },
    {
     "name": "stderr",
     "output_type": "stream",
     "text": [
      "/var/folders/6y/gzz1g_p559n80dc3_f2fl6m80000gn/T/ipykernel_54320/3668836295.py:32: SettingWithCopyWarning: \n",
      "A value is trying to be set on a copy of a slice from a DataFrame.\n",
      "Try using .loc[row_indexer,col_indexer] = value instead\n",
      "\n",
      "See the caveats in the documentation: https://pandas.pydata.org/pandas-docs/stable/user_guide/indexing.html#returning-a-view-versus-a-copy\n",
      "  data[model + \"_Q\"] = data.apply(lambda x: Q_dict[x.gridnum][x.transformed_state], axis=1)\n"
     ]
    },
    {
     "name": "stdout",
     "output_type": "stream",
     "text": [
      "Iteration No: 439 ended. Search finished for the next optimal point.\n",
      "Time taken: 67.2934\n",
      "Function value obtained: 13085.8523\n",
      "Current minimum: 13002.1908\n",
      "Iteration No: 440 started. Searching for the next optimal point.\n"
     ]
    },
    {
     "name": "stderr",
     "output_type": "stream",
     "text": [
      "/var/folders/6y/gzz1g_p559n80dc3_f2fl6m80000gn/T/ipykernel_54320/3668836295.py:32: SettingWithCopyWarning: \n",
      "A value is trying to be set on a copy of a slice from a DataFrame.\n",
      "Try using .loc[row_indexer,col_indexer] = value instead\n",
      "\n",
      "See the caveats in the documentation: https://pandas.pydata.org/pandas-docs/stable/user_guide/indexing.html#returning-a-view-versus-a-copy\n",
      "  data[model + \"_Q\"] = data.apply(lambda x: Q_dict[x.gridnum][x.transformed_state], axis=1)\n"
     ]
    },
    {
     "name": "stdout",
     "output_type": "stream",
     "text": [
      "Iteration No: 440 ended. Search finished for the next optimal point.\n",
      "Time taken: 70.7990\n",
      "Function value obtained: 13103.0140\n",
      "Current minimum: 13002.1908\n",
      "Iteration No: 441 started. Searching for the next optimal point.\n"
     ]
    },
    {
     "name": "stderr",
     "output_type": "stream",
     "text": [
      "/var/folders/6y/gzz1g_p559n80dc3_f2fl6m80000gn/T/ipykernel_54320/3668836295.py:32: SettingWithCopyWarning: \n",
      "A value is trying to be set on a copy of a slice from a DataFrame.\n",
      "Try using .loc[row_indexer,col_indexer] = value instead\n",
      "\n",
      "See the caveats in the documentation: https://pandas.pydata.org/pandas-docs/stable/user_guide/indexing.html#returning-a-view-versus-a-copy\n",
      "  data[model + \"_Q\"] = data.apply(lambda x: Q_dict[x.gridnum][x.transformed_state], axis=1)\n"
     ]
    },
    {
     "name": "stdout",
     "output_type": "stream",
     "text": [
      "Iteration No: 441 ended. Search finished for the next optimal point.\n",
      "Time taken: 73.7217\n",
      "Function value obtained: 13149.9112\n",
      "Current minimum: 13002.1908\n",
      "Iteration No: 442 started. Searching for the next optimal point.\n"
     ]
    },
    {
     "name": "stderr",
     "output_type": "stream",
     "text": [
      "/var/folders/6y/gzz1g_p559n80dc3_f2fl6m80000gn/T/ipykernel_54320/3668836295.py:32: SettingWithCopyWarning: \n",
      "A value is trying to be set on a copy of a slice from a DataFrame.\n",
      "Try using .loc[row_indexer,col_indexer] = value instead\n",
      "\n",
      "See the caveats in the documentation: https://pandas.pydata.org/pandas-docs/stable/user_guide/indexing.html#returning-a-view-versus-a-copy\n",
      "  data[model + \"_Q\"] = data.apply(lambda x: Q_dict[x.gridnum][x.transformed_state], axis=1)\n"
     ]
    },
    {
     "name": "stdout",
     "output_type": "stream",
     "text": [
      "Iteration No: 442 ended. Search finished for the next optimal point.\n",
      "Time taken: 57.9179\n",
      "Function value obtained: 13122.7422\n",
      "Current minimum: 13002.1908\n",
      "Iteration No: 443 started. Searching for the next optimal point.\n"
     ]
    },
    {
     "name": "stderr",
     "output_type": "stream",
     "text": [
      "/var/folders/6y/gzz1g_p559n80dc3_f2fl6m80000gn/T/ipykernel_54320/3668836295.py:32: SettingWithCopyWarning: \n",
      "A value is trying to be set on a copy of a slice from a DataFrame.\n",
      "Try using .loc[row_indexer,col_indexer] = value instead\n",
      "\n",
      "See the caveats in the documentation: https://pandas.pydata.org/pandas-docs/stable/user_guide/indexing.html#returning-a-view-versus-a-copy\n",
      "  data[model + \"_Q\"] = data.apply(lambda x: Q_dict[x.gridnum][x.transformed_state], axis=1)\n"
     ]
    },
    {
     "name": "stdout",
     "output_type": "stream",
     "text": [
      "Iteration No: 443 ended. Search finished for the next optimal point.\n",
      "Time taken: 46.1703\n",
      "Function value obtained: 13066.9111\n",
      "Current minimum: 13002.1908\n",
      "Iteration No: 444 started. Searching for the next optimal point.\n"
     ]
    },
    {
     "name": "stderr",
     "output_type": "stream",
     "text": [
      "/var/folders/6y/gzz1g_p559n80dc3_f2fl6m80000gn/T/ipykernel_54320/3668836295.py:32: SettingWithCopyWarning: \n",
      "A value is trying to be set on a copy of a slice from a DataFrame.\n",
      "Try using .loc[row_indexer,col_indexer] = value instead\n",
      "\n",
      "See the caveats in the documentation: https://pandas.pydata.org/pandas-docs/stable/user_guide/indexing.html#returning-a-view-versus-a-copy\n",
      "  data[model + \"_Q\"] = data.apply(lambda x: Q_dict[x.gridnum][x.transformed_state], axis=1)\n"
     ]
    },
    {
     "name": "stdout",
     "output_type": "stream",
     "text": [
      "Iteration No: 444 ended. Search finished for the next optimal point.\n",
      "Time taken: 83.2221\n",
      "Function value obtained: 13080.0123\n",
      "Current minimum: 13002.1908\n",
      "Iteration No: 445 started. Searching for the next optimal point.\n"
     ]
    },
    {
     "name": "stderr",
     "output_type": "stream",
     "text": [
      "/var/folders/6y/gzz1g_p559n80dc3_f2fl6m80000gn/T/ipykernel_54320/3668836295.py:32: SettingWithCopyWarning: \n",
      "A value is trying to be set on a copy of a slice from a DataFrame.\n",
      "Try using .loc[row_indexer,col_indexer] = value instead\n",
      "\n",
      "See the caveats in the documentation: https://pandas.pydata.org/pandas-docs/stable/user_guide/indexing.html#returning-a-view-versus-a-copy\n",
      "  data[model + \"_Q\"] = data.apply(lambda x: Q_dict[x.gridnum][x.transformed_state], axis=1)\n"
     ]
    },
    {
     "name": "stdout",
     "output_type": "stream",
     "text": [
      "Iteration No: 445 ended. Search finished for the next optimal point.\n",
      "Time taken: 42.0578\n",
      "Function value obtained: 13121.2591\n",
      "Current minimum: 13002.1908\n",
      "Iteration No: 446 started. Searching for the next optimal point.\n"
     ]
    },
    {
     "name": "stderr",
     "output_type": "stream",
     "text": [
      "/var/folders/6y/gzz1g_p559n80dc3_f2fl6m80000gn/T/ipykernel_54320/3668836295.py:32: SettingWithCopyWarning: \n",
      "A value is trying to be set on a copy of a slice from a DataFrame.\n",
      "Try using .loc[row_indexer,col_indexer] = value instead\n",
      "\n",
      "See the caveats in the documentation: https://pandas.pydata.org/pandas-docs/stable/user_guide/indexing.html#returning-a-view-versus-a-copy\n",
      "  data[model + \"_Q\"] = data.apply(lambda x: Q_dict[x.gridnum][x.transformed_state], axis=1)\n"
     ]
    },
    {
     "name": "stdout",
     "output_type": "stream",
     "text": [
      "Iteration No: 446 ended. Search finished for the next optimal point.\n",
      "Time taken: 50.0580\n",
      "Function value obtained: 13102.6021\n",
      "Current minimum: 13002.1908\n",
      "Iteration No: 447 started. Searching for the next optimal point.\n"
     ]
    },
    {
     "name": "stderr",
     "output_type": "stream",
     "text": [
      "/var/folders/6y/gzz1g_p559n80dc3_f2fl6m80000gn/T/ipykernel_54320/3668836295.py:32: SettingWithCopyWarning: \n",
      "A value is trying to be set on a copy of a slice from a DataFrame.\n",
      "Try using .loc[row_indexer,col_indexer] = value instead\n",
      "\n",
      "See the caveats in the documentation: https://pandas.pydata.org/pandas-docs/stable/user_guide/indexing.html#returning-a-view-versus-a-copy\n",
      "  data[model + \"_Q\"] = data.apply(lambda x: Q_dict[x.gridnum][x.transformed_state], axis=1)\n"
     ]
    },
    {
     "name": "stdout",
     "output_type": "stream",
     "text": [
      "Iteration No: 447 ended. Search finished for the next optimal point.\n",
      "Time taken: 56.6948\n",
      "Function value obtained: 13097.7436\n",
      "Current minimum: 13002.1908\n",
      "Iteration No: 448 started. Searching for the next optimal point.\n"
     ]
    },
    {
     "name": "stderr",
     "output_type": "stream",
     "text": [
      "/var/folders/6y/gzz1g_p559n80dc3_f2fl6m80000gn/T/ipykernel_54320/3668836295.py:32: SettingWithCopyWarning: \n",
      "A value is trying to be set on a copy of a slice from a DataFrame.\n",
      "Try using .loc[row_indexer,col_indexer] = value instead\n",
      "\n",
      "See the caveats in the documentation: https://pandas.pydata.org/pandas-docs/stable/user_guide/indexing.html#returning-a-view-versus-a-copy\n",
      "  data[model + \"_Q\"] = data.apply(lambda x: Q_dict[x.gridnum][x.transformed_state], axis=1)\n"
     ]
    },
    {
     "name": "stdout",
     "output_type": "stream",
     "text": [
      "Iteration No: 448 ended. Search finished for the next optimal point.\n",
      "Time taken: 41.2854\n",
      "Function value obtained: 13077.6295\n",
      "Current minimum: 13002.1908\n",
      "Iteration No: 449 started. Searching for the next optimal point.\n"
     ]
    },
    {
     "name": "stderr",
     "output_type": "stream",
     "text": [
      "/var/folders/6y/gzz1g_p559n80dc3_f2fl6m80000gn/T/ipykernel_54320/3668836295.py:32: SettingWithCopyWarning: \n",
      "A value is trying to be set on a copy of a slice from a DataFrame.\n",
      "Try using .loc[row_indexer,col_indexer] = value instead\n",
      "\n",
      "See the caveats in the documentation: https://pandas.pydata.org/pandas-docs/stable/user_guide/indexing.html#returning-a-view-versus-a-copy\n",
      "  data[model + \"_Q\"] = data.apply(lambda x: Q_dict[x.gridnum][x.transformed_state], axis=1)\n"
     ]
    },
    {
     "name": "stdout",
     "output_type": "stream",
     "text": [
      "Iteration No: 449 ended. Search finished for the next optimal point.\n",
      "Time taken: 50.9349\n",
      "Function value obtained: 13113.8979\n",
      "Current minimum: 13002.1908\n",
      "Iteration No: 450 started. Searching for the next optimal point.\n"
     ]
    },
    {
     "name": "stderr",
     "output_type": "stream",
     "text": [
      "/var/folders/6y/gzz1g_p559n80dc3_f2fl6m80000gn/T/ipykernel_54320/3668836295.py:32: SettingWithCopyWarning: \n",
      "A value is trying to be set on a copy of a slice from a DataFrame.\n",
      "Try using .loc[row_indexer,col_indexer] = value instead\n",
      "\n",
      "See the caveats in the documentation: https://pandas.pydata.org/pandas-docs/stable/user_guide/indexing.html#returning-a-view-versus-a-copy\n",
      "  data[model + \"_Q\"] = data.apply(lambda x: Q_dict[x.gridnum][x.transformed_state], axis=1)\n"
     ]
    },
    {
     "name": "stdout",
     "output_type": "stream",
     "text": [
      "Iteration No: 450 ended. Search finished for the next optimal point.\n",
      "Time taken: 43.5285\n",
      "Function value obtained: 13089.0503\n",
      "Current minimum: 13002.1908\n",
      "Iteration No: 451 started. Searching for the next optimal point.\n"
     ]
    },
    {
     "name": "stderr",
     "output_type": "stream",
     "text": [
      "/var/folders/6y/gzz1g_p559n80dc3_f2fl6m80000gn/T/ipykernel_54320/3668836295.py:32: SettingWithCopyWarning: \n",
      "A value is trying to be set on a copy of a slice from a DataFrame.\n",
      "Try using .loc[row_indexer,col_indexer] = value instead\n",
      "\n",
      "See the caveats in the documentation: https://pandas.pydata.org/pandas-docs/stable/user_guide/indexing.html#returning-a-view-versus-a-copy\n",
      "  data[model + \"_Q\"] = data.apply(lambda x: Q_dict[x.gridnum][x.transformed_state], axis=1)\n"
     ]
    },
    {
     "name": "stdout",
     "output_type": "stream",
     "text": [
      "Iteration No: 451 ended. Search finished for the next optimal point.\n",
      "Time taken: 79.1144\n",
      "Function value obtained: 13079.9335\n",
      "Current minimum: 13002.1908\n",
      "Iteration No: 452 started. Searching for the next optimal point.\n"
     ]
    },
    {
     "name": "stderr",
     "output_type": "stream",
     "text": [
      "/var/folders/6y/gzz1g_p559n80dc3_f2fl6m80000gn/T/ipykernel_54320/3668836295.py:32: SettingWithCopyWarning: \n",
      "A value is trying to be set on a copy of a slice from a DataFrame.\n",
      "Try using .loc[row_indexer,col_indexer] = value instead\n",
      "\n",
      "See the caveats in the documentation: https://pandas.pydata.org/pandas-docs/stable/user_guide/indexing.html#returning-a-view-versus-a-copy\n",
      "  data[model + \"_Q\"] = data.apply(lambda x: Q_dict[x.gridnum][x.transformed_state], axis=1)\n"
     ]
    },
    {
     "name": "stdout",
     "output_type": "stream",
     "text": [
      "Iteration No: 452 ended. Search finished for the next optimal point.\n",
      "Time taken: 74.4323\n",
      "Function value obtained: 13086.7640\n",
      "Current minimum: 13002.1908\n",
      "Iteration No: 453 started. Searching for the next optimal point.\n"
     ]
    },
    {
     "name": "stderr",
     "output_type": "stream",
     "text": [
      "/var/folders/6y/gzz1g_p559n80dc3_f2fl6m80000gn/T/ipykernel_54320/3668836295.py:32: SettingWithCopyWarning: \n",
      "A value is trying to be set on a copy of a slice from a DataFrame.\n",
      "Try using .loc[row_indexer,col_indexer] = value instead\n",
      "\n",
      "See the caveats in the documentation: https://pandas.pydata.org/pandas-docs/stable/user_guide/indexing.html#returning-a-view-versus-a-copy\n",
      "  data[model + \"_Q\"] = data.apply(lambda x: Q_dict[x.gridnum][x.transformed_state], axis=1)\n"
     ]
    },
    {
     "name": "stdout",
     "output_type": "stream",
     "text": [
      "Iteration No: 453 ended. Search finished for the next optimal point.\n",
      "Time taken: 55.1575\n",
      "Function value obtained: 13124.4903\n",
      "Current minimum: 13002.1908\n",
      "Iteration No: 454 started. Searching for the next optimal point.\n"
     ]
    },
    {
     "name": "stderr",
     "output_type": "stream",
     "text": [
      "/var/folders/6y/gzz1g_p559n80dc3_f2fl6m80000gn/T/ipykernel_54320/3668836295.py:32: SettingWithCopyWarning: \n",
      "A value is trying to be set on a copy of a slice from a DataFrame.\n",
      "Try using .loc[row_indexer,col_indexer] = value instead\n",
      "\n",
      "See the caveats in the documentation: https://pandas.pydata.org/pandas-docs/stable/user_guide/indexing.html#returning-a-view-versus-a-copy\n",
      "  data[model + \"_Q\"] = data.apply(lambda x: Q_dict[x.gridnum][x.transformed_state], axis=1)\n"
     ]
    },
    {
     "name": "stdout",
     "output_type": "stream",
     "text": [
      "Iteration No: 454 ended. Search finished for the next optimal point.\n",
      "Time taken: 65.5774\n",
      "Function value obtained: 13099.8317\n",
      "Current minimum: 13002.1908\n",
      "Iteration No: 455 started. Searching for the next optimal point.\n"
     ]
    },
    {
     "name": "stderr",
     "output_type": "stream",
     "text": [
      "/var/folders/6y/gzz1g_p559n80dc3_f2fl6m80000gn/T/ipykernel_54320/3668836295.py:32: SettingWithCopyWarning: \n",
      "A value is trying to be set on a copy of a slice from a DataFrame.\n",
      "Try using .loc[row_indexer,col_indexer] = value instead\n",
      "\n",
      "See the caveats in the documentation: https://pandas.pydata.org/pandas-docs/stable/user_guide/indexing.html#returning-a-view-versus-a-copy\n",
      "  data[model + \"_Q\"] = data.apply(lambda x: Q_dict[x.gridnum][x.transformed_state], axis=1)\n"
     ]
    },
    {
     "name": "stdout",
     "output_type": "stream",
     "text": [
      "Iteration No: 455 ended. Search finished for the next optimal point.\n",
      "Time taken: 67.0272\n",
      "Function value obtained: 13100.0726\n",
      "Current minimum: 13002.1908\n",
      "Iteration No: 456 started. Searching for the next optimal point.\n"
     ]
    },
    {
     "name": "stderr",
     "output_type": "stream",
     "text": [
      "/var/folders/6y/gzz1g_p559n80dc3_f2fl6m80000gn/T/ipykernel_54320/3668836295.py:32: SettingWithCopyWarning: \n",
      "A value is trying to be set on a copy of a slice from a DataFrame.\n",
      "Try using .loc[row_indexer,col_indexer] = value instead\n",
      "\n",
      "See the caveats in the documentation: https://pandas.pydata.org/pandas-docs/stable/user_guide/indexing.html#returning-a-view-versus-a-copy\n",
      "  data[model + \"_Q\"] = data.apply(lambda x: Q_dict[x.gridnum][x.transformed_state], axis=1)\n"
     ]
    },
    {
     "name": "stdout",
     "output_type": "stream",
     "text": [
      "Iteration No: 456 ended. Search finished for the next optimal point.\n",
      "Time taken: 62.6973\n",
      "Function value obtained: 13062.9622\n",
      "Current minimum: 13002.1908\n",
      "Iteration No: 457 started. Searching for the next optimal point.\n"
     ]
    },
    {
     "name": "stderr",
     "output_type": "stream",
     "text": [
      "/var/folders/6y/gzz1g_p559n80dc3_f2fl6m80000gn/T/ipykernel_54320/3668836295.py:32: SettingWithCopyWarning: \n",
      "A value is trying to be set on a copy of a slice from a DataFrame.\n",
      "Try using .loc[row_indexer,col_indexer] = value instead\n",
      "\n",
      "See the caveats in the documentation: https://pandas.pydata.org/pandas-docs/stable/user_guide/indexing.html#returning-a-view-versus-a-copy\n",
      "  data[model + \"_Q\"] = data.apply(lambda x: Q_dict[x.gridnum][x.transformed_state], axis=1)\n"
     ]
    },
    {
     "name": "stdout",
     "output_type": "stream",
     "text": [
      "Iteration No: 457 ended. Search finished for the next optimal point.\n",
      "Time taken: 67.7854\n",
      "Function value obtained: 13133.5408\n",
      "Current minimum: 13002.1908\n",
      "Iteration No: 458 started. Searching for the next optimal point.\n"
     ]
    },
    {
     "name": "stderr",
     "output_type": "stream",
     "text": [
      "/var/folders/6y/gzz1g_p559n80dc3_f2fl6m80000gn/T/ipykernel_54320/3668836295.py:32: SettingWithCopyWarning: \n",
      "A value is trying to be set on a copy of a slice from a DataFrame.\n",
      "Try using .loc[row_indexer,col_indexer] = value instead\n",
      "\n",
      "See the caveats in the documentation: https://pandas.pydata.org/pandas-docs/stable/user_guide/indexing.html#returning-a-view-versus-a-copy\n",
      "  data[model + \"_Q\"] = data.apply(lambda x: Q_dict[x.gridnum][x.transformed_state], axis=1)\n"
     ]
    },
    {
     "name": "stdout",
     "output_type": "stream",
     "text": [
      "Iteration No: 458 ended. Search finished for the next optimal point.\n",
      "Time taken: 53.3607\n",
      "Function value obtained: 13094.3006\n",
      "Current minimum: 13002.1908\n",
      "Iteration No: 459 started. Searching for the next optimal point.\n"
     ]
    },
    {
     "name": "stderr",
     "output_type": "stream",
     "text": [
      "/var/folders/6y/gzz1g_p559n80dc3_f2fl6m80000gn/T/ipykernel_54320/3668836295.py:32: SettingWithCopyWarning: \n",
      "A value is trying to be set on a copy of a slice from a DataFrame.\n",
      "Try using .loc[row_indexer,col_indexer] = value instead\n",
      "\n",
      "See the caveats in the documentation: https://pandas.pydata.org/pandas-docs/stable/user_guide/indexing.html#returning-a-view-versus-a-copy\n",
      "  data[model + \"_Q\"] = data.apply(lambda x: Q_dict[x.gridnum][x.transformed_state], axis=1)\n"
     ]
    },
    {
     "name": "stdout",
     "output_type": "stream",
     "text": [
      "Iteration No: 459 ended. Search finished for the next optimal point.\n",
      "Time taken: 58.8824\n",
      "Function value obtained: 13144.0771\n",
      "Current minimum: 13002.1908\n",
      "Iteration No: 460 started. Searching for the next optimal point.\n"
     ]
    },
    {
     "name": "stderr",
     "output_type": "stream",
     "text": [
      "/var/folders/6y/gzz1g_p559n80dc3_f2fl6m80000gn/T/ipykernel_54320/3668836295.py:32: SettingWithCopyWarning: \n",
      "A value is trying to be set on a copy of a slice from a DataFrame.\n",
      "Try using .loc[row_indexer,col_indexer] = value instead\n",
      "\n",
      "See the caveats in the documentation: https://pandas.pydata.org/pandas-docs/stable/user_guide/indexing.html#returning-a-view-versus-a-copy\n",
      "  data[model + \"_Q\"] = data.apply(lambda x: Q_dict[x.gridnum][x.transformed_state], axis=1)\n"
     ]
    },
    {
     "name": "stdout",
     "output_type": "stream",
     "text": [
      "Iteration No: 460 ended. Search finished for the next optimal point.\n",
      "Time taken: 66.5012\n",
      "Function value obtained: 13114.3302\n",
      "Current minimum: 13002.1908\n",
      "Iteration No: 461 started. Searching for the next optimal point.\n"
     ]
    },
    {
     "name": "stderr",
     "output_type": "stream",
     "text": [
      "/var/folders/6y/gzz1g_p559n80dc3_f2fl6m80000gn/T/ipykernel_54320/3668836295.py:32: SettingWithCopyWarning: \n",
      "A value is trying to be set on a copy of a slice from a DataFrame.\n",
      "Try using .loc[row_indexer,col_indexer] = value instead\n",
      "\n",
      "See the caveats in the documentation: https://pandas.pydata.org/pandas-docs/stable/user_guide/indexing.html#returning-a-view-versus-a-copy\n",
      "  data[model + \"_Q\"] = data.apply(lambda x: Q_dict[x.gridnum][x.transformed_state], axis=1)\n"
     ]
    },
    {
     "name": "stdout",
     "output_type": "stream",
     "text": [
      "Iteration No: 461 ended. Search finished for the next optimal point.\n",
      "Time taken: 62.4213\n",
      "Function value obtained: 13089.0566\n",
      "Current minimum: 13002.1908\n",
      "Iteration No: 462 started. Searching for the next optimal point.\n"
     ]
    },
    {
     "name": "stderr",
     "output_type": "stream",
     "text": [
      "/var/folders/6y/gzz1g_p559n80dc3_f2fl6m80000gn/T/ipykernel_54320/3668836295.py:32: SettingWithCopyWarning: \n",
      "A value is trying to be set on a copy of a slice from a DataFrame.\n",
      "Try using .loc[row_indexer,col_indexer] = value instead\n",
      "\n",
      "See the caveats in the documentation: https://pandas.pydata.org/pandas-docs/stable/user_guide/indexing.html#returning-a-view-versus-a-copy\n",
      "  data[model + \"_Q\"] = data.apply(lambda x: Q_dict[x.gridnum][x.transformed_state], axis=1)\n"
     ]
    },
    {
     "name": "stdout",
     "output_type": "stream",
     "text": [
      "Iteration No: 462 ended. Search finished for the next optimal point.\n",
      "Time taken: 40.4213\n",
      "Function value obtained: 13113.9260\n",
      "Current minimum: 13002.1908\n",
      "Iteration No: 463 started. Searching for the next optimal point.\n"
     ]
    },
    {
     "name": "stderr",
     "output_type": "stream",
     "text": [
      "/var/folders/6y/gzz1g_p559n80dc3_f2fl6m80000gn/T/ipykernel_54320/3668836295.py:32: SettingWithCopyWarning: \n",
      "A value is trying to be set on a copy of a slice from a DataFrame.\n",
      "Try using .loc[row_indexer,col_indexer] = value instead\n",
      "\n",
      "See the caveats in the documentation: https://pandas.pydata.org/pandas-docs/stable/user_guide/indexing.html#returning-a-view-versus-a-copy\n",
      "  data[model + \"_Q\"] = data.apply(lambda x: Q_dict[x.gridnum][x.transformed_state], axis=1)\n"
     ]
    },
    {
     "name": "stdout",
     "output_type": "stream",
     "text": [
      "Iteration No: 463 ended. Search finished for the next optimal point.\n",
      "Time taken: 91.1702\n",
      "Function value obtained: 13088.4762\n",
      "Current minimum: 13002.1908\n",
      "Iteration No: 464 started. Searching for the next optimal point.\n"
     ]
    },
    {
     "name": "stderr",
     "output_type": "stream",
     "text": [
      "/var/folders/6y/gzz1g_p559n80dc3_f2fl6m80000gn/T/ipykernel_54320/3668836295.py:32: SettingWithCopyWarning: \n",
      "A value is trying to be set on a copy of a slice from a DataFrame.\n",
      "Try using .loc[row_indexer,col_indexer] = value instead\n",
      "\n",
      "See the caveats in the documentation: https://pandas.pydata.org/pandas-docs/stable/user_guide/indexing.html#returning-a-view-versus-a-copy\n",
      "  data[model + \"_Q\"] = data.apply(lambda x: Q_dict[x.gridnum][x.transformed_state], axis=1)\n"
     ]
    },
    {
     "name": "stdout",
     "output_type": "stream",
     "text": [
      "Iteration No: 464 ended. Search finished for the next optimal point.\n",
      "Time taken: 54.4826\n",
      "Function value obtained: 13150.3199\n",
      "Current minimum: 13002.1908\n",
      "Iteration No: 465 started. Searching for the next optimal point.\n"
     ]
    },
    {
     "name": "stderr",
     "output_type": "stream",
     "text": [
      "/var/folders/6y/gzz1g_p559n80dc3_f2fl6m80000gn/T/ipykernel_54320/3668836295.py:32: SettingWithCopyWarning: \n",
      "A value is trying to be set on a copy of a slice from a DataFrame.\n",
      "Try using .loc[row_indexer,col_indexer] = value instead\n",
      "\n",
      "See the caveats in the documentation: https://pandas.pydata.org/pandas-docs/stable/user_guide/indexing.html#returning-a-view-versus-a-copy\n",
      "  data[model + \"_Q\"] = data.apply(lambda x: Q_dict[x.gridnum][x.transformed_state], axis=1)\n"
     ]
    },
    {
     "name": "stdout",
     "output_type": "stream",
     "text": [
      "Iteration No: 465 ended. Search finished for the next optimal point.\n",
      "Time taken: 51.7503\n",
      "Function value obtained: 13076.2072\n",
      "Current minimum: 13002.1908\n",
      "Iteration No: 466 started. Searching for the next optimal point.\n"
     ]
    },
    {
     "name": "stderr",
     "output_type": "stream",
     "text": [
      "/var/folders/6y/gzz1g_p559n80dc3_f2fl6m80000gn/T/ipykernel_54320/3668836295.py:32: SettingWithCopyWarning: \n",
      "A value is trying to be set on a copy of a slice from a DataFrame.\n",
      "Try using .loc[row_indexer,col_indexer] = value instead\n",
      "\n",
      "See the caveats in the documentation: https://pandas.pydata.org/pandas-docs/stable/user_guide/indexing.html#returning-a-view-versus-a-copy\n",
      "  data[model + \"_Q\"] = data.apply(lambda x: Q_dict[x.gridnum][x.transformed_state], axis=1)\n"
     ]
    },
    {
     "name": "stdout",
     "output_type": "stream",
     "text": [
      "Iteration No: 466 ended. Search finished for the next optimal point.\n",
      "Time taken: 87.5740\n",
      "Function value obtained: 13129.9689\n",
      "Current minimum: 13002.1908\n",
      "Iteration No: 467 started. Searching for the next optimal point.\n"
     ]
    },
    {
     "name": "stderr",
     "output_type": "stream",
     "text": [
      "/var/folders/6y/gzz1g_p559n80dc3_f2fl6m80000gn/T/ipykernel_54320/3668836295.py:32: SettingWithCopyWarning: \n",
      "A value is trying to be set on a copy of a slice from a DataFrame.\n",
      "Try using .loc[row_indexer,col_indexer] = value instead\n",
      "\n",
      "See the caveats in the documentation: https://pandas.pydata.org/pandas-docs/stable/user_guide/indexing.html#returning-a-view-versus-a-copy\n",
      "  data[model + \"_Q\"] = data.apply(lambda x: Q_dict[x.gridnum][x.transformed_state], axis=1)\n"
     ]
    },
    {
     "name": "stdout",
     "output_type": "stream",
     "text": [
      "Iteration No: 467 ended. Search finished for the next optimal point.\n",
      "Time taken: 84.7320\n",
      "Function value obtained: 13118.0646\n",
      "Current minimum: 13002.1908\n",
      "Iteration No: 468 started. Searching for the next optimal point.\n"
     ]
    },
    {
     "name": "stderr",
     "output_type": "stream",
     "text": [
      "/var/folders/6y/gzz1g_p559n80dc3_f2fl6m80000gn/T/ipykernel_54320/3668836295.py:32: SettingWithCopyWarning: \n",
      "A value is trying to be set on a copy of a slice from a DataFrame.\n",
      "Try using .loc[row_indexer,col_indexer] = value instead\n",
      "\n",
      "See the caveats in the documentation: https://pandas.pydata.org/pandas-docs/stable/user_guide/indexing.html#returning-a-view-versus-a-copy\n",
      "  data[model + \"_Q\"] = data.apply(lambda x: Q_dict[x.gridnum][x.transformed_state], axis=1)\n"
     ]
    },
    {
     "name": "stdout",
     "output_type": "stream",
     "text": [
      "Iteration No: 468 ended. Search finished for the next optimal point.\n",
      "Time taken: 58.6129\n",
      "Function value obtained: 13078.9663\n",
      "Current minimum: 13002.1908\n",
      "Iteration No: 469 started. Searching for the next optimal point.\n"
     ]
    },
    {
     "name": "stderr",
     "output_type": "stream",
     "text": [
      "/var/folders/6y/gzz1g_p559n80dc3_f2fl6m80000gn/T/ipykernel_54320/3668836295.py:32: SettingWithCopyWarning: \n",
      "A value is trying to be set on a copy of a slice from a DataFrame.\n",
      "Try using .loc[row_indexer,col_indexer] = value instead\n",
      "\n",
      "See the caveats in the documentation: https://pandas.pydata.org/pandas-docs/stable/user_guide/indexing.html#returning-a-view-versus-a-copy\n",
      "  data[model + \"_Q\"] = data.apply(lambda x: Q_dict[x.gridnum][x.transformed_state], axis=1)\n"
     ]
    },
    {
     "name": "stdout",
     "output_type": "stream",
     "text": [
      "Iteration No: 469 ended. Search finished for the next optimal point.\n",
      "Time taken: 34.3491\n",
      "Function value obtained: 13072.4170\n",
      "Current minimum: 13002.1908\n",
      "Iteration No: 470 started. Searching for the next optimal point.\n"
     ]
    },
    {
     "name": "stderr",
     "output_type": "stream",
     "text": [
      "/var/folders/6y/gzz1g_p559n80dc3_f2fl6m80000gn/T/ipykernel_54320/3668836295.py:32: SettingWithCopyWarning: \n",
      "A value is trying to be set on a copy of a slice from a DataFrame.\n",
      "Try using .loc[row_indexer,col_indexer] = value instead\n",
      "\n",
      "See the caveats in the documentation: https://pandas.pydata.org/pandas-docs/stable/user_guide/indexing.html#returning-a-view-versus-a-copy\n",
      "  data[model + \"_Q\"] = data.apply(lambda x: Q_dict[x.gridnum][x.transformed_state], axis=1)\n"
     ]
    },
    {
     "name": "stdout",
     "output_type": "stream",
     "text": [
      "Iteration No: 470 ended. Search finished for the next optimal point.\n",
      "Time taken: 63.0870\n",
      "Function value obtained: 13105.9645\n",
      "Current minimum: 13002.1908\n",
      "Iteration No: 471 started. Searching for the next optimal point.\n"
     ]
    },
    {
     "name": "stderr",
     "output_type": "stream",
     "text": [
      "/var/folders/6y/gzz1g_p559n80dc3_f2fl6m80000gn/T/ipykernel_54320/3668836295.py:32: SettingWithCopyWarning: \n",
      "A value is trying to be set on a copy of a slice from a DataFrame.\n",
      "Try using .loc[row_indexer,col_indexer] = value instead\n",
      "\n",
      "See the caveats in the documentation: https://pandas.pydata.org/pandas-docs/stable/user_guide/indexing.html#returning-a-view-versus-a-copy\n",
      "  data[model + \"_Q\"] = data.apply(lambda x: Q_dict[x.gridnum][x.transformed_state], axis=1)\n"
     ]
    },
    {
     "name": "stdout",
     "output_type": "stream",
     "text": [
      "Iteration No: 471 ended. Search finished for the next optimal point.\n",
      "Time taken: 53.9372\n",
      "Function value obtained: 13070.9522\n",
      "Current minimum: 13002.1908\n",
      "Iteration No: 472 started. Searching for the next optimal point.\n"
     ]
    },
    {
     "name": "stderr",
     "output_type": "stream",
     "text": [
      "/var/folders/6y/gzz1g_p559n80dc3_f2fl6m80000gn/T/ipykernel_54320/3668836295.py:32: SettingWithCopyWarning: \n",
      "A value is trying to be set on a copy of a slice from a DataFrame.\n",
      "Try using .loc[row_indexer,col_indexer] = value instead\n",
      "\n",
      "See the caveats in the documentation: https://pandas.pydata.org/pandas-docs/stable/user_guide/indexing.html#returning-a-view-versus-a-copy\n",
      "  data[model + \"_Q\"] = data.apply(lambda x: Q_dict[x.gridnum][x.transformed_state], axis=1)\n"
     ]
    },
    {
     "name": "stdout",
     "output_type": "stream",
     "text": [
      "Iteration No: 472 ended. Search finished for the next optimal point.\n",
      "Time taken: 41.2321\n",
      "Function value obtained: 13114.0750\n",
      "Current minimum: 13002.1908\n",
      "Iteration No: 473 started. Searching for the next optimal point.\n"
     ]
    },
    {
     "name": "stderr",
     "output_type": "stream",
     "text": [
      "/var/folders/6y/gzz1g_p559n80dc3_f2fl6m80000gn/T/ipykernel_54320/3668836295.py:32: SettingWithCopyWarning: \n",
      "A value is trying to be set on a copy of a slice from a DataFrame.\n",
      "Try using .loc[row_indexer,col_indexer] = value instead\n",
      "\n",
      "See the caveats in the documentation: https://pandas.pydata.org/pandas-docs/stable/user_guide/indexing.html#returning-a-view-versus-a-copy\n",
      "  data[model + \"_Q\"] = data.apply(lambda x: Q_dict[x.gridnum][x.transformed_state], axis=1)\n"
     ]
    },
    {
     "name": "stdout",
     "output_type": "stream",
     "text": [
      "Iteration No: 473 ended. Search finished for the next optimal point.\n",
      "Time taken: 57.9145\n",
      "Function value obtained: 13217.1673\n",
      "Current minimum: 13002.1908\n",
      "Iteration No: 474 started. Searching for the next optimal point.\n"
     ]
    },
    {
     "name": "stderr",
     "output_type": "stream",
     "text": [
      "/var/folders/6y/gzz1g_p559n80dc3_f2fl6m80000gn/T/ipykernel_54320/3668836295.py:32: SettingWithCopyWarning: \n",
      "A value is trying to be set on a copy of a slice from a DataFrame.\n",
      "Try using .loc[row_indexer,col_indexer] = value instead\n",
      "\n",
      "See the caveats in the documentation: https://pandas.pydata.org/pandas-docs/stable/user_guide/indexing.html#returning-a-view-versus-a-copy\n",
      "  data[model + \"_Q\"] = data.apply(lambda x: Q_dict[x.gridnum][x.transformed_state], axis=1)\n"
     ]
    },
    {
     "name": "stdout",
     "output_type": "stream",
     "text": [
      "Iteration No: 474 ended. Search finished for the next optimal point.\n",
      "Time taken: 62.4542\n",
      "Function value obtained: 13093.1894\n",
      "Current minimum: 13002.1908\n",
      "Iteration No: 475 started. Searching for the next optimal point.\n"
     ]
    },
    {
     "name": "stderr",
     "output_type": "stream",
     "text": [
      "/var/folders/6y/gzz1g_p559n80dc3_f2fl6m80000gn/T/ipykernel_54320/3668836295.py:32: SettingWithCopyWarning: \n",
      "A value is trying to be set on a copy of a slice from a DataFrame.\n",
      "Try using .loc[row_indexer,col_indexer] = value instead\n",
      "\n",
      "See the caveats in the documentation: https://pandas.pydata.org/pandas-docs/stable/user_guide/indexing.html#returning-a-view-versus-a-copy\n",
      "  data[model + \"_Q\"] = data.apply(lambda x: Q_dict[x.gridnum][x.transformed_state], axis=1)\n"
     ]
    },
    {
     "name": "stdout",
     "output_type": "stream",
     "text": [
      "Iteration No: 475 ended. Search finished for the next optimal point.\n",
      "Time taken: 65.0234\n",
      "Function value obtained: 13087.2576\n",
      "Current minimum: 13002.1908\n",
      "Iteration No: 476 started. Searching for the next optimal point.\n"
     ]
    },
    {
     "name": "stderr",
     "output_type": "stream",
     "text": [
      "/var/folders/6y/gzz1g_p559n80dc3_f2fl6m80000gn/T/ipykernel_54320/3668836295.py:32: SettingWithCopyWarning: \n",
      "A value is trying to be set on a copy of a slice from a DataFrame.\n",
      "Try using .loc[row_indexer,col_indexer] = value instead\n",
      "\n",
      "See the caveats in the documentation: https://pandas.pydata.org/pandas-docs/stable/user_guide/indexing.html#returning-a-view-versus-a-copy\n",
      "  data[model + \"_Q\"] = data.apply(lambda x: Q_dict[x.gridnum][x.transformed_state], axis=1)\n"
     ]
    },
    {
     "name": "stdout",
     "output_type": "stream",
     "text": [
      "Iteration No: 476 ended. Search finished for the next optimal point.\n",
      "Time taken: 69.7679\n",
      "Function value obtained: 13121.6487\n",
      "Current minimum: 13002.1908\n",
      "Iteration No: 477 started. Searching for the next optimal point.\n"
     ]
    },
    {
     "name": "stderr",
     "output_type": "stream",
     "text": [
      "/var/folders/6y/gzz1g_p559n80dc3_f2fl6m80000gn/T/ipykernel_54320/3668836295.py:32: SettingWithCopyWarning: \n",
      "A value is trying to be set on a copy of a slice from a DataFrame.\n",
      "Try using .loc[row_indexer,col_indexer] = value instead\n",
      "\n",
      "See the caveats in the documentation: https://pandas.pydata.org/pandas-docs/stable/user_guide/indexing.html#returning-a-view-versus-a-copy\n",
      "  data[model + \"_Q\"] = data.apply(lambda x: Q_dict[x.gridnum][x.transformed_state], axis=1)\n"
     ]
    },
    {
     "name": "stdout",
     "output_type": "stream",
     "text": [
      "Iteration No: 477 ended. Search finished for the next optimal point.\n",
      "Time taken: 42.6583\n",
      "Function value obtained: 13057.2601\n",
      "Current minimum: 13002.1908\n",
      "Iteration No: 478 started. Searching for the next optimal point.\n"
     ]
    },
    {
     "name": "stderr",
     "output_type": "stream",
     "text": [
      "/var/folders/6y/gzz1g_p559n80dc3_f2fl6m80000gn/T/ipykernel_54320/3668836295.py:32: SettingWithCopyWarning: \n",
      "A value is trying to be set on a copy of a slice from a DataFrame.\n",
      "Try using .loc[row_indexer,col_indexer] = value instead\n",
      "\n",
      "See the caveats in the documentation: https://pandas.pydata.org/pandas-docs/stable/user_guide/indexing.html#returning-a-view-versus-a-copy\n",
      "  data[model + \"_Q\"] = data.apply(lambda x: Q_dict[x.gridnum][x.transformed_state], axis=1)\n"
     ]
    },
    {
     "name": "stdout",
     "output_type": "stream",
     "text": [
      "Iteration No: 478 ended. Search finished for the next optimal point.\n",
      "Time taken: 43.8068\n",
      "Function value obtained: 13103.7277\n",
      "Current minimum: 13002.1908\n",
      "Iteration No: 479 started. Searching for the next optimal point.\n"
     ]
    },
    {
     "name": "stderr",
     "output_type": "stream",
     "text": [
      "/var/folders/6y/gzz1g_p559n80dc3_f2fl6m80000gn/T/ipykernel_54320/3668836295.py:32: SettingWithCopyWarning: \n",
      "A value is trying to be set on a copy of a slice from a DataFrame.\n",
      "Try using .loc[row_indexer,col_indexer] = value instead\n",
      "\n",
      "See the caveats in the documentation: https://pandas.pydata.org/pandas-docs/stable/user_guide/indexing.html#returning-a-view-versus-a-copy\n",
      "  data[model + \"_Q\"] = data.apply(lambda x: Q_dict[x.gridnum][x.transformed_state], axis=1)\n"
     ]
    },
    {
     "name": "stdout",
     "output_type": "stream",
     "text": [
      "Iteration No: 479 ended. Search finished for the next optimal point.\n",
      "Time taken: 62.6875\n",
      "Function value obtained: 13089.5173\n",
      "Current minimum: 13002.1908\n",
      "Iteration No: 480 started. Searching for the next optimal point.\n"
     ]
    },
    {
     "name": "stderr",
     "output_type": "stream",
     "text": [
      "/var/folders/6y/gzz1g_p559n80dc3_f2fl6m80000gn/T/ipykernel_54320/3668836295.py:32: SettingWithCopyWarning: \n",
      "A value is trying to be set on a copy of a slice from a DataFrame.\n",
      "Try using .loc[row_indexer,col_indexer] = value instead\n",
      "\n",
      "See the caveats in the documentation: https://pandas.pydata.org/pandas-docs/stable/user_guide/indexing.html#returning-a-view-versus-a-copy\n",
      "  data[model + \"_Q\"] = data.apply(lambda x: Q_dict[x.gridnum][x.transformed_state], axis=1)\n"
     ]
    },
    {
     "name": "stdout",
     "output_type": "stream",
     "text": [
      "Iteration No: 480 ended. Search finished for the next optimal point.\n",
      "Time taken: 51.1639\n",
      "Function value obtained: 13102.8909\n",
      "Current minimum: 13002.1908\n",
      "Iteration No: 481 started. Searching for the next optimal point.\n"
     ]
    },
    {
     "name": "stderr",
     "output_type": "stream",
     "text": [
      "/var/folders/6y/gzz1g_p559n80dc3_f2fl6m80000gn/T/ipykernel_54320/3668836295.py:32: SettingWithCopyWarning: \n",
      "A value is trying to be set on a copy of a slice from a DataFrame.\n",
      "Try using .loc[row_indexer,col_indexer] = value instead\n",
      "\n",
      "See the caveats in the documentation: https://pandas.pydata.org/pandas-docs/stable/user_guide/indexing.html#returning-a-view-versus-a-copy\n",
      "  data[model + \"_Q\"] = data.apply(lambda x: Q_dict[x.gridnum][x.transformed_state], axis=1)\n"
     ]
    },
    {
     "name": "stdout",
     "output_type": "stream",
     "text": [
      "Iteration No: 481 ended. Search finished for the next optimal point.\n",
      "Time taken: 74.9363\n",
      "Function value obtained: 13083.5492\n",
      "Current minimum: 13002.1908\n",
      "Iteration No: 482 started. Searching for the next optimal point.\n"
     ]
    },
    {
     "name": "stderr",
     "output_type": "stream",
     "text": [
      "/var/folders/6y/gzz1g_p559n80dc3_f2fl6m80000gn/T/ipykernel_54320/3668836295.py:32: SettingWithCopyWarning: \n",
      "A value is trying to be set on a copy of a slice from a DataFrame.\n",
      "Try using .loc[row_indexer,col_indexer] = value instead\n",
      "\n",
      "See the caveats in the documentation: https://pandas.pydata.org/pandas-docs/stable/user_guide/indexing.html#returning-a-view-versus-a-copy\n",
      "  data[model + \"_Q\"] = data.apply(lambda x: Q_dict[x.gridnum][x.transformed_state], axis=1)\n"
     ]
    },
    {
     "name": "stdout",
     "output_type": "stream",
     "text": [
      "Iteration No: 482 ended. Search finished for the next optimal point.\n",
      "Time taken: 62.9717\n",
      "Function value obtained: 13095.8692\n",
      "Current minimum: 13002.1908\n",
      "Iteration No: 483 started. Searching for the next optimal point.\n"
     ]
    },
    {
     "name": "stderr",
     "output_type": "stream",
     "text": [
      "/var/folders/6y/gzz1g_p559n80dc3_f2fl6m80000gn/T/ipykernel_54320/3668836295.py:32: SettingWithCopyWarning: \n",
      "A value is trying to be set on a copy of a slice from a DataFrame.\n",
      "Try using .loc[row_indexer,col_indexer] = value instead\n",
      "\n",
      "See the caveats in the documentation: https://pandas.pydata.org/pandas-docs/stable/user_guide/indexing.html#returning-a-view-versus-a-copy\n",
      "  data[model + \"_Q\"] = data.apply(lambda x: Q_dict[x.gridnum][x.transformed_state], axis=1)\n"
     ]
    },
    {
     "name": "stdout",
     "output_type": "stream",
     "text": [
      "Iteration No: 483 ended. Search finished for the next optimal point.\n",
      "Time taken: 72.1770\n",
      "Function value obtained: 13118.6742\n",
      "Current minimum: 13002.1908\n",
      "Iteration No: 484 started. Searching for the next optimal point.\n"
     ]
    },
    {
     "name": "stderr",
     "output_type": "stream",
     "text": [
      "/var/folders/6y/gzz1g_p559n80dc3_f2fl6m80000gn/T/ipykernel_54320/3668836295.py:32: SettingWithCopyWarning: \n",
      "A value is trying to be set on a copy of a slice from a DataFrame.\n",
      "Try using .loc[row_indexer,col_indexer] = value instead\n",
      "\n",
      "See the caveats in the documentation: https://pandas.pydata.org/pandas-docs/stable/user_guide/indexing.html#returning-a-view-versus-a-copy\n",
      "  data[model + \"_Q\"] = data.apply(lambda x: Q_dict[x.gridnum][x.transformed_state], axis=1)\n"
     ]
    },
    {
     "name": "stdout",
     "output_type": "stream",
     "text": [
      "Iteration No: 484 ended. Search finished for the next optimal point.\n",
      "Time taken: 61.5330\n",
      "Function value obtained: 13079.1354\n",
      "Current minimum: 13002.1908\n",
      "Iteration No: 485 started. Searching for the next optimal point.\n"
     ]
    },
    {
     "name": "stderr",
     "output_type": "stream",
     "text": [
      "/var/folders/6y/gzz1g_p559n80dc3_f2fl6m80000gn/T/ipykernel_54320/3668836295.py:32: SettingWithCopyWarning: \n",
      "A value is trying to be set on a copy of a slice from a DataFrame.\n",
      "Try using .loc[row_indexer,col_indexer] = value instead\n",
      "\n",
      "See the caveats in the documentation: https://pandas.pydata.org/pandas-docs/stable/user_guide/indexing.html#returning-a-view-versus-a-copy\n",
      "  data[model + \"_Q\"] = data.apply(lambda x: Q_dict[x.gridnum][x.transformed_state], axis=1)\n"
     ]
    },
    {
     "name": "stdout",
     "output_type": "stream",
     "text": [
      "Iteration No: 485 ended. Search finished for the next optimal point.\n",
      "Time taken: 47.2627\n",
      "Function value obtained: 13110.3215\n",
      "Current minimum: 13002.1908\n",
      "Iteration No: 486 started. Searching for the next optimal point.\n"
     ]
    },
    {
     "name": "stderr",
     "output_type": "stream",
     "text": [
      "/var/folders/6y/gzz1g_p559n80dc3_f2fl6m80000gn/T/ipykernel_54320/3668836295.py:32: SettingWithCopyWarning: \n",
      "A value is trying to be set on a copy of a slice from a DataFrame.\n",
      "Try using .loc[row_indexer,col_indexer] = value instead\n",
      "\n",
      "See the caveats in the documentation: https://pandas.pydata.org/pandas-docs/stable/user_guide/indexing.html#returning-a-view-versus-a-copy\n",
      "  data[model + \"_Q\"] = data.apply(lambda x: Q_dict[x.gridnum][x.transformed_state], axis=1)\n"
     ]
    },
    {
     "name": "stdout",
     "output_type": "stream",
     "text": [
      "Iteration No: 486 ended. Search finished for the next optimal point.\n",
      "Time taken: 37.6110\n",
      "Function value obtained: 13081.2244\n",
      "Current minimum: 13002.1908\n",
      "Iteration No: 487 started. Searching for the next optimal point.\n"
     ]
    },
    {
     "name": "stderr",
     "output_type": "stream",
     "text": [
      "/var/folders/6y/gzz1g_p559n80dc3_f2fl6m80000gn/T/ipykernel_54320/3668836295.py:32: SettingWithCopyWarning: \n",
      "A value is trying to be set on a copy of a slice from a DataFrame.\n",
      "Try using .loc[row_indexer,col_indexer] = value instead\n",
      "\n",
      "See the caveats in the documentation: https://pandas.pydata.org/pandas-docs/stable/user_guide/indexing.html#returning-a-view-versus-a-copy\n",
      "  data[model + \"_Q\"] = data.apply(lambda x: Q_dict[x.gridnum][x.transformed_state], axis=1)\n"
     ]
    },
    {
     "name": "stdout",
     "output_type": "stream",
     "text": [
      "Iteration No: 487 ended. Search finished for the next optimal point.\n",
      "Time taken: 76.0724\n",
      "Function value obtained: 13089.5582\n",
      "Current minimum: 13002.1908\n",
      "Iteration No: 488 started. Searching for the next optimal point.\n"
     ]
    },
    {
     "name": "stderr",
     "output_type": "stream",
     "text": [
      "/var/folders/6y/gzz1g_p559n80dc3_f2fl6m80000gn/T/ipykernel_54320/3668836295.py:32: SettingWithCopyWarning: \n",
      "A value is trying to be set on a copy of a slice from a DataFrame.\n",
      "Try using .loc[row_indexer,col_indexer] = value instead\n",
      "\n",
      "See the caveats in the documentation: https://pandas.pydata.org/pandas-docs/stable/user_guide/indexing.html#returning-a-view-versus-a-copy\n",
      "  data[model + \"_Q\"] = data.apply(lambda x: Q_dict[x.gridnum][x.transformed_state], axis=1)\n"
     ]
    },
    {
     "name": "stdout",
     "output_type": "stream",
     "text": [
      "Iteration No: 488 ended. Search finished for the next optimal point.\n",
      "Time taken: 42.5604\n",
      "Function value obtained: 13100.8511\n",
      "Current minimum: 13002.1908\n",
      "Iteration No: 489 started. Searching for the next optimal point.\n"
     ]
    },
    {
     "name": "stderr",
     "output_type": "stream",
     "text": [
      "/var/folders/6y/gzz1g_p559n80dc3_f2fl6m80000gn/T/ipykernel_54320/3668836295.py:32: SettingWithCopyWarning: \n",
      "A value is trying to be set on a copy of a slice from a DataFrame.\n",
      "Try using .loc[row_indexer,col_indexer] = value instead\n",
      "\n",
      "See the caveats in the documentation: https://pandas.pydata.org/pandas-docs/stable/user_guide/indexing.html#returning-a-view-versus-a-copy\n",
      "  data[model + \"_Q\"] = data.apply(lambda x: Q_dict[x.gridnum][x.transformed_state], axis=1)\n"
     ]
    },
    {
     "name": "stdout",
     "output_type": "stream",
     "text": [
      "Iteration No: 489 ended. Search finished for the next optimal point.\n",
      "Time taken: 58.3875\n",
      "Function value obtained: 13109.1784\n",
      "Current minimum: 13002.1908\n",
      "Iteration No: 490 started. Searching for the next optimal point.\n"
     ]
    },
    {
     "name": "stderr",
     "output_type": "stream",
     "text": [
      "/var/folders/6y/gzz1g_p559n80dc3_f2fl6m80000gn/T/ipykernel_54320/3668836295.py:32: SettingWithCopyWarning: \n",
      "A value is trying to be set on a copy of a slice from a DataFrame.\n",
      "Try using .loc[row_indexer,col_indexer] = value instead\n",
      "\n",
      "See the caveats in the documentation: https://pandas.pydata.org/pandas-docs/stable/user_guide/indexing.html#returning-a-view-versus-a-copy\n",
      "  data[model + \"_Q\"] = data.apply(lambda x: Q_dict[x.gridnum][x.transformed_state], axis=1)\n"
     ]
    },
    {
     "name": "stdout",
     "output_type": "stream",
     "text": [
      "Iteration No: 490 ended. Search finished for the next optimal point.\n",
      "Time taken: 80.3117\n",
      "Function value obtained: 13094.9619\n",
      "Current minimum: 13002.1908\n",
      "Iteration No: 491 started. Searching for the next optimal point.\n"
     ]
    },
    {
     "name": "stderr",
     "output_type": "stream",
     "text": [
      "/var/folders/6y/gzz1g_p559n80dc3_f2fl6m80000gn/T/ipykernel_54320/3668836295.py:32: SettingWithCopyWarning: \n",
      "A value is trying to be set on a copy of a slice from a DataFrame.\n",
      "Try using .loc[row_indexer,col_indexer] = value instead\n",
      "\n",
      "See the caveats in the documentation: https://pandas.pydata.org/pandas-docs/stable/user_guide/indexing.html#returning-a-view-versus-a-copy\n",
      "  data[model + \"_Q\"] = data.apply(lambda x: Q_dict[x.gridnum][x.transformed_state], axis=1)\n"
     ]
    },
    {
     "name": "stdout",
     "output_type": "stream",
     "text": [
      "Iteration No: 491 ended. Search finished for the next optimal point.\n",
      "Time taken: 40.0215\n",
      "Function value obtained: 13127.5157\n",
      "Current minimum: 13002.1908\n",
      "Iteration No: 492 started. Searching for the next optimal point.\n"
     ]
    },
    {
     "name": "stderr",
     "output_type": "stream",
     "text": [
      "/var/folders/6y/gzz1g_p559n80dc3_f2fl6m80000gn/T/ipykernel_54320/3668836295.py:32: SettingWithCopyWarning: \n",
      "A value is trying to be set on a copy of a slice from a DataFrame.\n",
      "Try using .loc[row_indexer,col_indexer] = value instead\n",
      "\n",
      "See the caveats in the documentation: https://pandas.pydata.org/pandas-docs/stable/user_guide/indexing.html#returning-a-view-versus-a-copy\n",
      "  data[model + \"_Q\"] = data.apply(lambda x: Q_dict[x.gridnum][x.transformed_state], axis=1)\n"
     ]
    },
    {
     "name": "stdout",
     "output_type": "stream",
     "text": [
      "Iteration No: 492 ended. Search finished for the next optimal point.\n",
      "Time taken: 61.5902\n",
      "Function value obtained: 13119.0780\n",
      "Current minimum: 13002.1908\n",
      "Iteration No: 493 started. Searching for the next optimal point.\n"
     ]
    },
    {
     "name": "stderr",
     "output_type": "stream",
     "text": [
      "/var/folders/6y/gzz1g_p559n80dc3_f2fl6m80000gn/T/ipykernel_54320/3668836295.py:32: SettingWithCopyWarning: \n",
      "A value is trying to be set on a copy of a slice from a DataFrame.\n",
      "Try using .loc[row_indexer,col_indexer] = value instead\n",
      "\n",
      "See the caveats in the documentation: https://pandas.pydata.org/pandas-docs/stable/user_guide/indexing.html#returning-a-view-versus-a-copy\n",
      "  data[model + \"_Q\"] = data.apply(lambda x: Q_dict[x.gridnum][x.transformed_state], axis=1)\n"
     ]
    },
    {
     "name": "stdout",
     "output_type": "stream",
     "text": [
      "Iteration No: 493 ended. Search finished for the next optimal point.\n",
      "Time taken: 55.5397\n",
      "Function value obtained: 13081.5630\n",
      "Current minimum: 13002.1908\n",
      "Iteration No: 494 started. Searching for the next optimal point.\n"
     ]
    },
    {
     "name": "stderr",
     "output_type": "stream",
     "text": [
      "/var/folders/6y/gzz1g_p559n80dc3_f2fl6m80000gn/T/ipykernel_54320/3668836295.py:32: SettingWithCopyWarning: \n",
      "A value is trying to be set on a copy of a slice from a DataFrame.\n",
      "Try using .loc[row_indexer,col_indexer] = value instead\n",
      "\n",
      "See the caveats in the documentation: https://pandas.pydata.org/pandas-docs/stable/user_guide/indexing.html#returning-a-view-versus-a-copy\n",
      "  data[model + \"_Q\"] = data.apply(lambda x: Q_dict[x.gridnum][x.transformed_state], axis=1)\n"
     ]
    },
    {
     "name": "stdout",
     "output_type": "stream",
     "text": [
      "Iteration No: 494 ended. Search finished for the next optimal point.\n",
      "Time taken: 62.1614\n",
      "Function value obtained: 13116.3649\n",
      "Current minimum: 13002.1908\n",
      "Iteration No: 495 started. Searching for the next optimal point.\n"
     ]
    },
    {
     "name": "stderr",
     "output_type": "stream",
     "text": [
      "/var/folders/6y/gzz1g_p559n80dc3_f2fl6m80000gn/T/ipykernel_54320/3668836295.py:32: SettingWithCopyWarning: \n",
      "A value is trying to be set on a copy of a slice from a DataFrame.\n",
      "Try using .loc[row_indexer,col_indexer] = value instead\n",
      "\n",
      "See the caveats in the documentation: https://pandas.pydata.org/pandas-docs/stable/user_guide/indexing.html#returning-a-view-versus-a-copy\n",
      "  data[model + \"_Q\"] = data.apply(lambda x: Q_dict[x.gridnum][x.transformed_state], axis=1)\n"
     ]
    },
    {
     "name": "stdout",
     "output_type": "stream",
     "text": [
      "Iteration No: 495 ended. Search finished for the next optimal point.\n",
      "Time taken: 80.6736\n",
      "Function value obtained: 13092.8137\n",
      "Current minimum: 13002.1908\n",
      "Iteration No: 496 started. Searching for the next optimal point.\n"
     ]
    },
    {
     "name": "stderr",
     "output_type": "stream",
     "text": [
      "/var/folders/6y/gzz1g_p559n80dc3_f2fl6m80000gn/T/ipykernel_54320/3668836295.py:32: SettingWithCopyWarning: \n",
      "A value is trying to be set on a copy of a slice from a DataFrame.\n",
      "Try using .loc[row_indexer,col_indexer] = value instead\n",
      "\n",
      "See the caveats in the documentation: https://pandas.pydata.org/pandas-docs/stable/user_guide/indexing.html#returning-a-view-versus-a-copy\n",
      "  data[model + \"_Q\"] = data.apply(lambda x: Q_dict[x.gridnum][x.transformed_state], axis=1)\n"
     ]
    },
    {
     "name": "stdout",
     "output_type": "stream",
     "text": [
      "Iteration No: 496 ended. Search finished for the next optimal point.\n",
      "Time taken: 32.3248\n",
      "Function value obtained: 13137.0428\n",
      "Current minimum: 13002.1908\n",
      "Iteration No: 497 started. Searching for the next optimal point.\n"
     ]
    },
    {
     "name": "stderr",
     "output_type": "stream",
     "text": [
      "/var/folders/6y/gzz1g_p559n80dc3_f2fl6m80000gn/T/ipykernel_54320/3668836295.py:32: SettingWithCopyWarning: \n",
      "A value is trying to be set on a copy of a slice from a DataFrame.\n",
      "Try using .loc[row_indexer,col_indexer] = value instead\n",
      "\n",
      "See the caveats in the documentation: https://pandas.pydata.org/pandas-docs/stable/user_guide/indexing.html#returning-a-view-versus-a-copy\n",
      "  data[model + \"_Q\"] = data.apply(lambda x: Q_dict[x.gridnum][x.transformed_state], axis=1)\n"
     ]
    },
    {
     "name": "stdout",
     "output_type": "stream",
     "text": [
      "Iteration No: 497 ended. Search finished for the next optimal point.\n",
      "Time taken: 82.2147\n",
      "Function value obtained: 13108.1405\n",
      "Current minimum: 13002.1908\n",
      "Iteration No: 498 started. Searching for the next optimal point.\n"
     ]
    },
    {
     "name": "stderr",
     "output_type": "stream",
     "text": [
      "/var/folders/6y/gzz1g_p559n80dc3_f2fl6m80000gn/T/ipykernel_54320/3668836295.py:32: SettingWithCopyWarning: \n",
      "A value is trying to be set on a copy of a slice from a DataFrame.\n",
      "Try using .loc[row_indexer,col_indexer] = value instead\n",
      "\n",
      "See the caveats in the documentation: https://pandas.pydata.org/pandas-docs/stable/user_guide/indexing.html#returning-a-view-versus-a-copy\n",
      "  data[model + \"_Q\"] = data.apply(lambda x: Q_dict[x.gridnum][x.transformed_state], axis=1)\n"
     ]
    },
    {
     "name": "stdout",
     "output_type": "stream",
     "text": [
      "Iteration No: 498 ended. Search finished for the next optimal point.\n",
      "Time taken: 33.7201\n",
      "Function value obtained: 13090.3174\n",
      "Current minimum: 13002.1908\n",
      "Iteration No: 499 started. Searching for the next optimal point.\n"
     ]
    },
    {
     "name": "stderr",
     "output_type": "stream",
     "text": [
      "/var/folders/6y/gzz1g_p559n80dc3_f2fl6m80000gn/T/ipykernel_54320/3668836295.py:32: SettingWithCopyWarning: \n",
      "A value is trying to be set on a copy of a slice from a DataFrame.\n",
      "Try using .loc[row_indexer,col_indexer] = value instead\n",
      "\n",
      "See the caveats in the documentation: https://pandas.pydata.org/pandas-docs/stable/user_guide/indexing.html#returning-a-view-versus-a-copy\n",
      "  data[model + \"_Q\"] = data.apply(lambda x: Q_dict[x.gridnum][x.transformed_state], axis=1)\n"
     ]
    },
    {
     "name": "stdout",
     "output_type": "stream",
     "text": [
      "Iteration No: 499 ended. Search finished for the next optimal point.\n",
      "Time taken: 51.5919\n",
      "Function value obtained: 13266.7593\n",
      "Current minimum: 13002.1908\n",
      "Iteration No: 500 started. Searching for the next optimal point.\n"
     ]
    },
    {
     "name": "stderr",
     "output_type": "stream",
     "text": [
      "/var/folders/6y/gzz1g_p559n80dc3_f2fl6m80000gn/T/ipykernel_54320/3668836295.py:32: SettingWithCopyWarning: \n",
      "A value is trying to be set on a copy of a slice from a DataFrame.\n",
      "Try using .loc[row_indexer,col_indexer] = value instead\n",
      "\n",
      "See the caveats in the documentation: https://pandas.pydata.org/pandas-docs/stable/user_guide/indexing.html#returning-a-view-versus-a-copy\n",
      "  data[model + \"_Q\"] = data.apply(lambda x: Q_dict[x.gridnum][x.transformed_state], axis=1)\n"
     ]
    },
    {
     "name": "stdout",
     "output_type": "stream",
     "text": [
      "Iteration No: 500 ended. Search finished for the next optimal point.\n",
      "Time taken: 54.3820\n",
      "Function value obtained: 13090.2563\n",
      "Current minimum: 13002.1908\n",
      "Iteration No: 501 started. Searching for the next optimal point.\n"
     ]
    },
    {
     "name": "stderr",
     "output_type": "stream",
     "text": [
      "/var/folders/6y/gzz1g_p559n80dc3_f2fl6m80000gn/T/ipykernel_54320/3668836295.py:32: SettingWithCopyWarning: \n",
      "A value is trying to be set on a copy of a slice from a DataFrame.\n",
      "Try using .loc[row_indexer,col_indexer] = value instead\n",
      "\n",
      "See the caveats in the documentation: https://pandas.pydata.org/pandas-docs/stable/user_guide/indexing.html#returning-a-view-versus-a-copy\n",
      "  data[model + \"_Q\"] = data.apply(lambda x: Q_dict[x.gridnum][x.transformed_state], axis=1)\n"
     ]
    },
    {
     "name": "stdout",
     "output_type": "stream",
     "text": [
      "Iteration No: 501 ended. Search finished for the next optimal point.\n",
      "Time taken: 73.8025\n",
      "Function value obtained: 13080.5451\n",
      "Current minimum: 13002.1908\n",
      "Iteration No: 502 started. Searching for the next optimal point.\n"
     ]
    },
    {
     "name": "stderr",
     "output_type": "stream",
     "text": [
      "/var/folders/6y/gzz1g_p559n80dc3_f2fl6m80000gn/T/ipykernel_54320/3668836295.py:32: SettingWithCopyWarning: \n",
      "A value is trying to be set on a copy of a slice from a DataFrame.\n",
      "Try using .loc[row_indexer,col_indexer] = value instead\n",
      "\n",
      "See the caveats in the documentation: https://pandas.pydata.org/pandas-docs/stable/user_guide/indexing.html#returning-a-view-versus-a-copy\n",
      "  data[model + \"_Q\"] = data.apply(lambda x: Q_dict[x.gridnum][x.transformed_state], axis=1)\n"
     ]
    },
    {
     "name": "stdout",
     "output_type": "stream",
     "text": [
      "Iteration No: 502 ended. Search finished for the next optimal point.\n",
      "Time taken: 51.8081\n",
      "Function value obtained: 13048.0504\n",
      "Current minimum: 13002.1908\n",
      "Iteration No: 503 started. Searching for the next optimal point.\n"
     ]
    },
    {
     "name": "stderr",
     "output_type": "stream",
     "text": [
      "/var/folders/6y/gzz1g_p559n80dc3_f2fl6m80000gn/T/ipykernel_54320/3668836295.py:32: SettingWithCopyWarning: \n",
      "A value is trying to be set on a copy of a slice from a DataFrame.\n",
      "Try using .loc[row_indexer,col_indexer] = value instead\n",
      "\n",
      "See the caveats in the documentation: https://pandas.pydata.org/pandas-docs/stable/user_guide/indexing.html#returning-a-view-versus-a-copy\n",
      "  data[model + \"_Q\"] = data.apply(lambda x: Q_dict[x.gridnum][x.transformed_state], axis=1)\n"
     ]
    },
    {
     "name": "stdout",
     "output_type": "stream",
     "text": [
      "Iteration No: 503 ended. Search finished for the next optimal point.\n",
      "Time taken: 52.2506\n",
      "Function value obtained: 13066.0732\n",
      "Current minimum: 13002.1908\n",
      "Iteration No: 504 started. Searching for the next optimal point.\n"
     ]
    },
    {
     "name": "stderr",
     "output_type": "stream",
     "text": [
      "/var/folders/6y/gzz1g_p559n80dc3_f2fl6m80000gn/T/ipykernel_54320/3668836295.py:32: SettingWithCopyWarning: \n",
      "A value is trying to be set on a copy of a slice from a DataFrame.\n",
      "Try using .loc[row_indexer,col_indexer] = value instead\n",
      "\n",
      "See the caveats in the documentation: https://pandas.pydata.org/pandas-docs/stable/user_guide/indexing.html#returning-a-view-versus-a-copy\n",
      "  data[model + \"_Q\"] = data.apply(lambda x: Q_dict[x.gridnum][x.transformed_state], axis=1)\n"
     ]
    },
    {
     "name": "stdout",
     "output_type": "stream",
     "text": [
      "Iteration No: 504 ended. Search finished for the next optimal point.\n",
      "Time taken: 86.9619\n",
      "Function value obtained: 13067.8264\n",
      "Current minimum: 13002.1908\n",
      "Iteration No: 505 started. Searching for the next optimal point.\n"
     ]
    },
    {
     "name": "stderr",
     "output_type": "stream",
     "text": [
      "/var/folders/6y/gzz1g_p559n80dc3_f2fl6m80000gn/T/ipykernel_54320/3668836295.py:32: SettingWithCopyWarning: \n",
      "A value is trying to be set on a copy of a slice from a DataFrame.\n",
      "Try using .loc[row_indexer,col_indexer] = value instead\n",
      "\n",
      "See the caveats in the documentation: https://pandas.pydata.org/pandas-docs/stable/user_guide/indexing.html#returning-a-view-versus-a-copy\n",
      "  data[model + \"_Q\"] = data.apply(lambda x: Q_dict[x.gridnum][x.transformed_state], axis=1)\n"
     ]
    },
    {
     "name": "stdout",
     "output_type": "stream",
     "text": [
      "Iteration No: 505 ended. Search finished for the next optimal point.\n",
      "Time taken: 58.4168\n",
      "Function value obtained: 13114.1590\n",
      "Current minimum: 13002.1908\n",
      "Iteration No: 506 started. Searching for the next optimal point.\n"
     ]
    },
    {
     "name": "stderr",
     "output_type": "stream",
     "text": [
      "/var/folders/6y/gzz1g_p559n80dc3_f2fl6m80000gn/T/ipykernel_54320/3668836295.py:32: SettingWithCopyWarning: \n",
      "A value is trying to be set on a copy of a slice from a DataFrame.\n",
      "Try using .loc[row_indexer,col_indexer] = value instead\n",
      "\n",
      "See the caveats in the documentation: https://pandas.pydata.org/pandas-docs/stable/user_guide/indexing.html#returning-a-view-versus-a-copy\n",
      "  data[model + \"_Q\"] = data.apply(lambda x: Q_dict[x.gridnum][x.transformed_state], axis=1)\n"
     ]
    },
    {
     "name": "stdout",
     "output_type": "stream",
     "text": [
      "Iteration No: 506 ended. Search finished for the next optimal point.\n",
      "Time taken: 70.8296\n",
      "Function value obtained: 13089.9749\n",
      "Current minimum: 13002.1908\n",
      "Iteration No: 507 started. Searching for the next optimal point.\n"
     ]
    },
    {
     "name": "stderr",
     "output_type": "stream",
     "text": [
      "/var/folders/6y/gzz1g_p559n80dc3_f2fl6m80000gn/T/ipykernel_54320/3668836295.py:32: SettingWithCopyWarning: \n",
      "A value is trying to be set on a copy of a slice from a DataFrame.\n",
      "Try using .loc[row_indexer,col_indexer] = value instead\n",
      "\n",
      "See the caveats in the documentation: https://pandas.pydata.org/pandas-docs/stable/user_guide/indexing.html#returning-a-view-versus-a-copy\n",
      "  data[model + \"_Q\"] = data.apply(lambda x: Q_dict[x.gridnum][x.transformed_state], axis=1)\n"
     ]
    },
    {
     "name": "stdout",
     "output_type": "stream",
     "text": [
      "Iteration No: 507 ended. Search finished for the next optimal point.\n",
      "Time taken: 45.2800\n",
      "Function value obtained: 13248.4616\n",
      "Current minimum: 13002.1908\n",
      "Iteration No: 508 started. Searching for the next optimal point.\n"
     ]
    },
    {
     "name": "stderr",
     "output_type": "stream",
     "text": [
      "/var/folders/6y/gzz1g_p559n80dc3_f2fl6m80000gn/T/ipykernel_54320/3668836295.py:32: SettingWithCopyWarning: \n",
      "A value is trying to be set on a copy of a slice from a DataFrame.\n",
      "Try using .loc[row_indexer,col_indexer] = value instead\n",
      "\n",
      "See the caveats in the documentation: https://pandas.pydata.org/pandas-docs/stable/user_guide/indexing.html#returning-a-view-versus-a-copy\n",
      "  data[model + \"_Q\"] = data.apply(lambda x: Q_dict[x.gridnum][x.transformed_state], axis=1)\n"
     ]
    },
    {
     "name": "stdout",
     "output_type": "stream",
     "text": [
      "Iteration No: 508 ended. Search finished for the next optimal point.\n",
      "Time taken: 56.6022\n",
      "Function value obtained: 13120.8109\n",
      "Current minimum: 13002.1908\n",
      "Iteration No: 509 started. Searching for the next optimal point.\n"
     ]
    },
    {
     "name": "stderr",
     "output_type": "stream",
     "text": [
      "/var/folders/6y/gzz1g_p559n80dc3_f2fl6m80000gn/T/ipykernel_54320/3668836295.py:32: SettingWithCopyWarning: \n",
      "A value is trying to be set on a copy of a slice from a DataFrame.\n",
      "Try using .loc[row_indexer,col_indexer] = value instead\n",
      "\n",
      "See the caveats in the documentation: https://pandas.pydata.org/pandas-docs/stable/user_guide/indexing.html#returning-a-view-versus-a-copy\n",
      "  data[model + \"_Q\"] = data.apply(lambda x: Q_dict[x.gridnum][x.transformed_state], axis=1)\n"
     ]
    },
    {
     "name": "stdout",
     "output_type": "stream",
     "text": [
      "Iteration No: 509 ended. Search finished for the next optimal point.\n",
      "Time taken: 53.2160\n",
      "Function value obtained: 13101.9249\n",
      "Current minimum: 13002.1908\n",
      "Iteration No: 510 started. Searching for the next optimal point.\n"
     ]
    },
    {
     "name": "stderr",
     "output_type": "stream",
     "text": [
      "/var/folders/6y/gzz1g_p559n80dc3_f2fl6m80000gn/T/ipykernel_54320/3668836295.py:32: SettingWithCopyWarning: \n",
      "A value is trying to be set on a copy of a slice from a DataFrame.\n",
      "Try using .loc[row_indexer,col_indexer] = value instead\n",
      "\n",
      "See the caveats in the documentation: https://pandas.pydata.org/pandas-docs/stable/user_guide/indexing.html#returning-a-view-versus-a-copy\n",
      "  data[model + \"_Q\"] = data.apply(lambda x: Q_dict[x.gridnum][x.transformed_state], axis=1)\n"
     ]
    },
    {
     "name": "stdout",
     "output_type": "stream",
     "text": [
      "Iteration No: 510 ended. Search finished for the next optimal point.\n",
      "Time taken: 38.0118\n",
      "Function value obtained: 13185.4038\n",
      "Current minimum: 13002.1908\n",
      "Iteration No: 511 started. Searching for the next optimal point.\n"
     ]
    },
    {
     "name": "stderr",
     "output_type": "stream",
     "text": [
      "/var/folders/6y/gzz1g_p559n80dc3_f2fl6m80000gn/T/ipykernel_54320/3668836295.py:32: SettingWithCopyWarning: \n",
      "A value is trying to be set on a copy of a slice from a DataFrame.\n",
      "Try using .loc[row_indexer,col_indexer] = value instead\n",
      "\n",
      "See the caveats in the documentation: https://pandas.pydata.org/pandas-docs/stable/user_guide/indexing.html#returning-a-view-versus-a-copy\n",
      "  data[model + \"_Q\"] = data.apply(lambda x: Q_dict[x.gridnum][x.transformed_state], axis=1)\n"
     ]
    },
    {
     "name": "stdout",
     "output_type": "stream",
     "text": [
      "Iteration No: 511 ended. Search finished for the next optimal point.\n",
      "Time taken: 52.7351\n",
      "Function value obtained: 13074.7916\n",
      "Current minimum: 13002.1908\n",
      "Iteration No: 512 started. Searching for the next optimal point.\n"
     ]
    },
    {
     "name": "stderr",
     "output_type": "stream",
     "text": [
      "/var/folders/6y/gzz1g_p559n80dc3_f2fl6m80000gn/T/ipykernel_54320/3668836295.py:32: SettingWithCopyWarning: \n",
      "A value is trying to be set on a copy of a slice from a DataFrame.\n",
      "Try using .loc[row_indexer,col_indexer] = value instead\n",
      "\n",
      "See the caveats in the documentation: https://pandas.pydata.org/pandas-docs/stable/user_guide/indexing.html#returning-a-view-versus-a-copy\n",
      "  data[model + \"_Q\"] = data.apply(lambda x: Q_dict[x.gridnum][x.transformed_state], axis=1)\n"
     ]
    },
    {
     "name": "stdout",
     "output_type": "stream",
     "text": [
      "Iteration No: 512 ended. Search finished for the next optimal point.\n",
      "Time taken: 41.4734\n",
      "Function value obtained: 13217.8055\n",
      "Current minimum: 13002.1908\n",
      "Iteration No: 513 started. Searching for the next optimal point.\n"
     ]
    },
    {
     "name": "stderr",
     "output_type": "stream",
     "text": [
      "/var/folders/6y/gzz1g_p559n80dc3_f2fl6m80000gn/T/ipykernel_54320/3668836295.py:32: SettingWithCopyWarning: \n",
      "A value is trying to be set on a copy of a slice from a DataFrame.\n",
      "Try using .loc[row_indexer,col_indexer] = value instead\n",
      "\n",
      "See the caveats in the documentation: https://pandas.pydata.org/pandas-docs/stable/user_guide/indexing.html#returning-a-view-versus-a-copy\n",
      "  data[model + \"_Q\"] = data.apply(lambda x: Q_dict[x.gridnum][x.transformed_state], axis=1)\n"
     ]
    },
    {
     "name": "stdout",
     "output_type": "stream",
     "text": [
      "Iteration No: 513 ended. Search finished for the next optimal point.\n",
      "Time taken: 54.8548\n",
      "Function value obtained: 13122.0816\n",
      "Current minimum: 13002.1908\n",
      "Iteration No: 514 started. Searching for the next optimal point.\n"
     ]
    },
    {
     "name": "stderr",
     "output_type": "stream",
     "text": [
      "/var/folders/6y/gzz1g_p559n80dc3_f2fl6m80000gn/T/ipykernel_54320/3668836295.py:32: SettingWithCopyWarning: \n",
      "A value is trying to be set on a copy of a slice from a DataFrame.\n",
      "Try using .loc[row_indexer,col_indexer] = value instead\n",
      "\n",
      "See the caveats in the documentation: https://pandas.pydata.org/pandas-docs/stable/user_guide/indexing.html#returning-a-view-versus-a-copy\n",
      "  data[model + \"_Q\"] = data.apply(lambda x: Q_dict[x.gridnum][x.transformed_state], axis=1)\n"
     ]
    },
    {
     "name": "stdout",
     "output_type": "stream",
     "text": [
      "Iteration No: 514 ended. Search finished for the next optimal point.\n",
      "Time taken: 62.7938\n",
      "Function value obtained: 13111.4480\n",
      "Current minimum: 13002.1908\n",
      "Iteration No: 515 started. Searching for the next optimal point.\n"
     ]
    },
    {
     "name": "stderr",
     "output_type": "stream",
     "text": [
      "/var/folders/6y/gzz1g_p559n80dc3_f2fl6m80000gn/T/ipykernel_54320/3668836295.py:32: SettingWithCopyWarning: \n",
      "A value is trying to be set on a copy of a slice from a DataFrame.\n",
      "Try using .loc[row_indexer,col_indexer] = value instead\n",
      "\n",
      "See the caveats in the documentation: https://pandas.pydata.org/pandas-docs/stable/user_guide/indexing.html#returning-a-view-versus-a-copy\n",
      "  data[model + \"_Q\"] = data.apply(lambda x: Q_dict[x.gridnum][x.transformed_state], axis=1)\n"
     ]
    },
    {
     "name": "stdout",
     "output_type": "stream",
     "text": [
      "Iteration No: 515 ended. Search finished for the next optimal point.\n",
      "Time taken: 65.1788\n",
      "Function value obtained: 13133.8326\n",
      "Current minimum: 13002.1908\n",
      "Iteration No: 516 started. Searching for the next optimal point.\n"
     ]
    },
    {
     "name": "stderr",
     "output_type": "stream",
     "text": [
      "/var/folders/6y/gzz1g_p559n80dc3_f2fl6m80000gn/T/ipykernel_54320/3668836295.py:32: SettingWithCopyWarning: \n",
      "A value is trying to be set on a copy of a slice from a DataFrame.\n",
      "Try using .loc[row_indexer,col_indexer] = value instead\n",
      "\n",
      "See the caveats in the documentation: https://pandas.pydata.org/pandas-docs/stable/user_guide/indexing.html#returning-a-view-versus-a-copy\n",
      "  data[model + \"_Q\"] = data.apply(lambda x: Q_dict[x.gridnum][x.transformed_state], axis=1)\n"
     ]
    },
    {
     "name": "stdout",
     "output_type": "stream",
     "text": [
      "Iteration No: 516 ended. Search finished for the next optimal point.\n",
      "Time taken: 54.5415\n",
      "Function value obtained: 13125.1035\n",
      "Current minimum: 13002.1908\n",
      "Iteration No: 517 started. Searching for the next optimal point.\n"
     ]
    },
    {
     "name": "stderr",
     "output_type": "stream",
     "text": [
      "/var/folders/6y/gzz1g_p559n80dc3_f2fl6m80000gn/T/ipykernel_54320/3668836295.py:32: SettingWithCopyWarning: \n",
      "A value is trying to be set on a copy of a slice from a DataFrame.\n",
      "Try using .loc[row_indexer,col_indexer] = value instead\n",
      "\n",
      "See the caveats in the documentation: https://pandas.pydata.org/pandas-docs/stable/user_guide/indexing.html#returning-a-view-versus-a-copy\n",
      "  data[model + \"_Q\"] = data.apply(lambda x: Q_dict[x.gridnum][x.transformed_state], axis=1)\n"
     ]
    },
    {
     "name": "stdout",
     "output_type": "stream",
     "text": [
      "Iteration No: 517 ended. Search finished for the next optimal point.\n",
      "Time taken: 76.0856\n",
      "Function value obtained: 13085.9807\n",
      "Current minimum: 13002.1908\n",
      "Iteration No: 518 started. Searching for the next optimal point.\n"
     ]
    },
    {
     "name": "stderr",
     "output_type": "stream",
     "text": [
      "/var/folders/6y/gzz1g_p559n80dc3_f2fl6m80000gn/T/ipykernel_54320/3668836295.py:32: SettingWithCopyWarning: \n",
      "A value is trying to be set on a copy of a slice from a DataFrame.\n",
      "Try using .loc[row_indexer,col_indexer] = value instead\n",
      "\n",
      "See the caveats in the documentation: https://pandas.pydata.org/pandas-docs/stable/user_guide/indexing.html#returning-a-view-versus-a-copy\n",
      "  data[model + \"_Q\"] = data.apply(lambda x: Q_dict[x.gridnum][x.transformed_state], axis=1)\n"
     ]
    },
    {
     "name": "stdout",
     "output_type": "stream",
     "text": [
      "Iteration No: 518 ended. Search finished for the next optimal point.\n",
      "Time taken: 72.3017\n",
      "Function value obtained: 13097.1840\n",
      "Current minimum: 13002.1908\n",
      "Iteration No: 519 started. Searching for the next optimal point.\n"
     ]
    },
    {
     "name": "stderr",
     "output_type": "stream",
     "text": [
      "/var/folders/6y/gzz1g_p559n80dc3_f2fl6m80000gn/T/ipykernel_54320/3668836295.py:32: SettingWithCopyWarning: \n",
      "A value is trying to be set on a copy of a slice from a DataFrame.\n",
      "Try using .loc[row_indexer,col_indexer] = value instead\n",
      "\n",
      "See the caveats in the documentation: https://pandas.pydata.org/pandas-docs/stable/user_guide/indexing.html#returning-a-view-versus-a-copy\n",
      "  data[model + \"_Q\"] = data.apply(lambda x: Q_dict[x.gridnum][x.transformed_state], axis=1)\n"
     ]
    },
    {
     "name": "stdout",
     "output_type": "stream",
     "text": [
      "Iteration No: 519 ended. Search finished for the next optimal point.\n",
      "Time taken: 40.7466\n",
      "Function value obtained: 13091.8016\n",
      "Current minimum: 13002.1908\n",
      "Iteration No: 520 started. Searching for the next optimal point.\n"
     ]
    },
    {
     "name": "stderr",
     "output_type": "stream",
     "text": [
      "/var/folders/6y/gzz1g_p559n80dc3_f2fl6m80000gn/T/ipykernel_54320/3668836295.py:32: SettingWithCopyWarning: \n",
      "A value is trying to be set on a copy of a slice from a DataFrame.\n",
      "Try using .loc[row_indexer,col_indexer] = value instead\n",
      "\n",
      "See the caveats in the documentation: https://pandas.pydata.org/pandas-docs/stable/user_guide/indexing.html#returning-a-view-versus-a-copy\n",
      "  data[model + \"_Q\"] = data.apply(lambda x: Q_dict[x.gridnum][x.transformed_state], axis=1)\n"
     ]
    },
    {
     "name": "stdout",
     "output_type": "stream",
     "text": [
      "Iteration No: 520 ended. Search finished for the next optimal point.\n",
      "Time taken: 87.9969\n",
      "Function value obtained: 13080.0171\n",
      "Current minimum: 13002.1908\n",
      "Iteration No: 521 started. Searching for the next optimal point.\n"
     ]
    },
    {
     "name": "stderr",
     "output_type": "stream",
     "text": [
      "/var/folders/6y/gzz1g_p559n80dc3_f2fl6m80000gn/T/ipykernel_54320/3668836295.py:32: SettingWithCopyWarning: \n",
      "A value is trying to be set on a copy of a slice from a DataFrame.\n",
      "Try using .loc[row_indexer,col_indexer] = value instead\n",
      "\n",
      "See the caveats in the documentation: https://pandas.pydata.org/pandas-docs/stable/user_guide/indexing.html#returning-a-view-versus-a-copy\n",
      "  data[model + \"_Q\"] = data.apply(lambda x: Q_dict[x.gridnum][x.transformed_state], axis=1)\n"
     ]
    },
    {
     "name": "stdout",
     "output_type": "stream",
     "text": [
      "Iteration No: 521 ended. Search finished for the next optimal point.\n",
      "Time taken: 51.4276\n",
      "Function value obtained: 13051.7705\n",
      "Current minimum: 13002.1908\n",
      "Iteration No: 522 started. Searching for the next optimal point.\n"
     ]
    },
    {
     "name": "stderr",
     "output_type": "stream",
     "text": [
      "/var/folders/6y/gzz1g_p559n80dc3_f2fl6m80000gn/T/ipykernel_54320/3668836295.py:32: SettingWithCopyWarning: \n",
      "A value is trying to be set on a copy of a slice from a DataFrame.\n",
      "Try using .loc[row_indexer,col_indexer] = value instead\n",
      "\n",
      "See the caveats in the documentation: https://pandas.pydata.org/pandas-docs/stable/user_guide/indexing.html#returning-a-view-versus-a-copy\n",
      "  data[model + \"_Q\"] = data.apply(lambda x: Q_dict[x.gridnum][x.transformed_state], axis=1)\n"
     ]
    },
    {
     "name": "stdout",
     "output_type": "stream",
     "text": [
      "Iteration No: 522 ended. Search finished for the next optimal point.\n",
      "Time taken: 56.0521\n",
      "Function value obtained: 13091.2176\n",
      "Current minimum: 13002.1908\n",
      "Iteration No: 523 started. Searching for the next optimal point.\n"
     ]
    },
    {
     "name": "stderr",
     "output_type": "stream",
     "text": [
      "/var/folders/6y/gzz1g_p559n80dc3_f2fl6m80000gn/T/ipykernel_54320/3668836295.py:32: SettingWithCopyWarning: \n",
      "A value is trying to be set on a copy of a slice from a DataFrame.\n",
      "Try using .loc[row_indexer,col_indexer] = value instead\n",
      "\n",
      "See the caveats in the documentation: https://pandas.pydata.org/pandas-docs/stable/user_guide/indexing.html#returning-a-view-versus-a-copy\n",
      "  data[model + \"_Q\"] = data.apply(lambda x: Q_dict[x.gridnum][x.transformed_state], axis=1)\n"
     ]
    },
    {
     "name": "stdout",
     "output_type": "stream",
     "text": [
      "Iteration No: 523 ended. Search finished for the next optimal point.\n",
      "Time taken: 48.7623\n",
      "Function value obtained: 13056.0440\n",
      "Current minimum: 13002.1908\n",
      "Iteration No: 524 started. Searching for the next optimal point.\n"
     ]
    },
    {
     "name": "stderr",
     "output_type": "stream",
     "text": [
      "/var/folders/6y/gzz1g_p559n80dc3_f2fl6m80000gn/T/ipykernel_54320/3668836295.py:32: SettingWithCopyWarning: \n",
      "A value is trying to be set on a copy of a slice from a DataFrame.\n",
      "Try using .loc[row_indexer,col_indexer] = value instead\n",
      "\n",
      "See the caveats in the documentation: https://pandas.pydata.org/pandas-docs/stable/user_guide/indexing.html#returning-a-view-versus-a-copy\n",
      "  data[model + \"_Q\"] = data.apply(lambda x: Q_dict[x.gridnum][x.transformed_state], axis=1)\n"
     ]
    },
    {
     "name": "stdout",
     "output_type": "stream",
     "text": [
      "Iteration No: 524 ended. Search finished for the next optimal point.\n",
      "Time taken: 49.3947\n",
      "Function value obtained: 13090.1144\n",
      "Current minimum: 13002.1908\n",
      "Iteration No: 525 started. Searching for the next optimal point.\n"
     ]
    },
    {
     "name": "stderr",
     "output_type": "stream",
     "text": [
      "/var/folders/6y/gzz1g_p559n80dc3_f2fl6m80000gn/T/ipykernel_54320/3668836295.py:32: SettingWithCopyWarning: \n",
      "A value is trying to be set on a copy of a slice from a DataFrame.\n",
      "Try using .loc[row_indexer,col_indexer] = value instead\n",
      "\n",
      "See the caveats in the documentation: https://pandas.pydata.org/pandas-docs/stable/user_guide/indexing.html#returning-a-view-versus-a-copy\n",
      "  data[model + \"_Q\"] = data.apply(lambda x: Q_dict[x.gridnum][x.transformed_state], axis=1)\n"
     ]
    },
    {
     "name": "stdout",
     "output_type": "stream",
     "text": [
      "Iteration No: 525 ended. Search finished for the next optimal point.\n",
      "Time taken: 49.9009\n",
      "Function value obtained: 13091.9021\n",
      "Current minimum: 13002.1908\n",
      "Iteration No: 526 started. Searching for the next optimal point.\n"
     ]
    },
    {
     "name": "stderr",
     "output_type": "stream",
     "text": [
      "/var/folders/6y/gzz1g_p559n80dc3_f2fl6m80000gn/T/ipykernel_54320/3668836295.py:32: SettingWithCopyWarning: \n",
      "A value is trying to be set on a copy of a slice from a DataFrame.\n",
      "Try using .loc[row_indexer,col_indexer] = value instead\n",
      "\n",
      "See the caveats in the documentation: https://pandas.pydata.org/pandas-docs/stable/user_guide/indexing.html#returning-a-view-versus-a-copy\n",
      "  data[model + \"_Q\"] = data.apply(lambda x: Q_dict[x.gridnum][x.transformed_state], axis=1)\n"
     ]
    },
    {
     "name": "stdout",
     "output_type": "stream",
     "text": [
      "Iteration No: 526 ended. Search finished for the next optimal point.\n",
      "Time taken: 81.3421\n",
      "Function value obtained: 13114.8221\n",
      "Current minimum: 13002.1908\n",
      "Iteration No: 527 started. Searching for the next optimal point.\n"
     ]
    },
    {
     "name": "stderr",
     "output_type": "stream",
     "text": [
      "/var/folders/6y/gzz1g_p559n80dc3_f2fl6m80000gn/T/ipykernel_54320/3668836295.py:32: SettingWithCopyWarning: \n",
      "A value is trying to be set on a copy of a slice from a DataFrame.\n",
      "Try using .loc[row_indexer,col_indexer] = value instead\n",
      "\n",
      "See the caveats in the documentation: https://pandas.pydata.org/pandas-docs/stable/user_guide/indexing.html#returning-a-view-versus-a-copy\n",
      "  data[model + \"_Q\"] = data.apply(lambda x: Q_dict[x.gridnum][x.transformed_state], axis=1)\n"
     ]
    },
    {
     "name": "stdout",
     "output_type": "stream",
     "text": [
      "Iteration No: 527 ended. Search finished for the next optimal point.\n",
      "Time taken: 65.5485\n",
      "Function value obtained: 13069.7777\n",
      "Current minimum: 13002.1908\n",
      "Iteration No: 528 started. Searching for the next optimal point.\n"
     ]
    },
    {
     "name": "stderr",
     "output_type": "stream",
     "text": [
      "/var/folders/6y/gzz1g_p559n80dc3_f2fl6m80000gn/T/ipykernel_54320/3668836295.py:32: SettingWithCopyWarning: \n",
      "A value is trying to be set on a copy of a slice from a DataFrame.\n",
      "Try using .loc[row_indexer,col_indexer] = value instead\n",
      "\n",
      "See the caveats in the documentation: https://pandas.pydata.org/pandas-docs/stable/user_guide/indexing.html#returning-a-view-versus-a-copy\n",
      "  data[model + \"_Q\"] = data.apply(lambda x: Q_dict[x.gridnum][x.transformed_state], axis=1)\n"
     ]
    },
    {
     "name": "stdout",
     "output_type": "stream",
     "text": [
      "Iteration No: 528 ended. Search finished for the next optimal point.\n",
      "Time taken: 78.4395\n",
      "Function value obtained: 13084.7139\n",
      "Current minimum: 13002.1908\n",
      "Iteration No: 529 started. Searching for the next optimal point.\n"
     ]
    },
    {
     "name": "stderr",
     "output_type": "stream",
     "text": [
      "/var/folders/6y/gzz1g_p559n80dc3_f2fl6m80000gn/T/ipykernel_54320/3668836295.py:32: SettingWithCopyWarning: \n",
      "A value is trying to be set on a copy of a slice from a DataFrame.\n",
      "Try using .loc[row_indexer,col_indexer] = value instead\n",
      "\n",
      "See the caveats in the documentation: https://pandas.pydata.org/pandas-docs/stable/user_guide/indexing.html#returning-a-view-versus-a-copy\n",
      "  data[model + \"_Q\"] = data.apply(lambda x: Q_dict[x.gridnum][x.transformed_state], axis=1)\n"
     ]
    },
    {
     "name": "stdout",
     "output_type": "stream",
     "text": [
      "Iteration No: 529 ended. Search finished for the next optimal point.\n",
      "Time taken: 56.6091\n",
      "Function value obtained: 13071.4863\n",
      "Current minimum: 13002.1908\n",
      "Iteration No: 530 started. Searching for the next optimal point.\n"
     ]
    },
    {
     "name": "stderr",
     "output_type": "stream",
     "text": [
      "/var/folders/6y/gzz1g_p559n80dc3_f2fl6m80000gn/T/ipykernel_54320/3668836295.py:32: SettingWithCopyWarning: \n",
      "A value is trying to be set on a copy of a slice from a DataFrame.\n",
      "Try using .loc[row_indexer,col_indexer] = value instead\n",
      "\n",
      "See the caveats in the documentation: https://pandas.pydata.org/pandas-docs/stable/user_guide/indexing.html#returning-a-view-versus-a-copy\n",
      "  data[model + \"_Q\"] = data.apply(lambda x: Q_dict[x.gridnum][x.transformed_state], axis=1)\n"
     ]
    },
    {
     "name": "stdout",
     "output_type": "stream",
     "text": [
      "Iteration No: 530 ended. Search finished for the next optimal point.\n",
      "Time taken: 57.0202\n",
      "Function value obtained: 13054.1965\n",
      "Current minimum: 13002.1908\n",
      "Iteration No: 531 started. Searching for the next optimal point.\n"
     ]
    },
    {
     "name": "stderr",
     "output_type": "stream",
     "text": [
      "/var/folders/6y/gzz1g_p559n80dc3_f2fl6m80000gn/T/ipykernel_54320/3668836295.py:32: SettingWithCopyWarning: \n",
      "A value is trying to be set on a copy of a slice from a DataFrame.\n",
      "Try using .loc[row_indexer,col_indexer] = value instead\n",
      "\n",
      "See the caveats in the documentation: https://pandas.pydata.org/pandas-docs/stable/user_guide/indexing.html#returning-a-view-versus-a-copy\n",
      "  data[model + \"_Q\"] = data.apply(lambda x: Q_dict[x.gridnum][x.transformed_state], axis=1)\n"
     ]
    },
    {
     "name": "stdout",
     "output_type": "stream",
     "text": [
      "Iteration No: 531 ended. Search finished for the next optimal point.\n",
      "Time taken: 62.8806\n",
      "Function value obtained: 13082.2075\n",
      "Current minimum: 13002.1908\n",
      "Iteration No: 532 started. Searching for the next optimal point.\n"
     ]
    },
    {
     "name": "stderr",
     "output_type": "stream",
     "text": [
      "/var/folders/6y/gzz1g_p559n80dc3_f2fl6m80000gn/T/ipykernel_54320/3668836295.py:32: SettingWithCopyWarning: \n",
      "A value is trying to be set on a copy of a slice from a DataFrame.\n",
      "Try using .loc[row_indexer,col_indexer] = value instead\n",
      "\n",
      "See the caveats in the documentation: https://pandas.pydata.org/pandas-docs/stable/user_guide/indexing.html#returning-a-view-versus-a-copy\n",
      "  data[model + \"_Q\"] = data.apply(lambda x: Q_dict[x.gridnum][x.transformed_state], axis=1)\n"
     ]
    },
    {
     "name": "stdout",
     "output_type": "stream",
     "text": [
      "Iteration No: 532 ended. Search finished for the next optimal point.\n",
      "Time taken: 66.9214\n",
      "Function value obtained: 13106.3982\n",
      "Current minimum: 13002.1908\n",
      "Iteration No: 533 started. Searching for the next optimal point.\n"
     ]
    },
    {
     "name": "stderr",
     "output_type": "stream",
     "text": [
      "/var/folders/6y/gzz1g_p559n80dc3_f2fl6m80000gn/T/ipykernel_54320/3668836295.py:32: SettingWithCopyWarning: \n",
      "A value is trying to be set on a copy of a slice from a DataFrame.\n",
      "Try using .loc[row_indexer,col_indexer] = value instead\n",
      "\n",
      "See the caveats in the documentation: https://pandas.pydata.org/pandas-docs/stable/user_guide/indexing.html#returning-a-view-versus-a-copy\n",
      "  data[model + \"_Q\"] = data.apply(lambda x: Q_dict[x.gridnum][x.transformed_state], axis=1)\n"
     ]
    },
    {
     "name": "stdout",
     "output_type": "stream",
     "text": [
      "Iteration No: 533 ended. Search finished for the next optimal point.\n",
      "Time taken: 58.2218\n",
      "Function value obtained: 13090.4493\n",
      "Current minimum: 13002.1908\n",
      "Iteration No: 534 started. Searching for the next optimal point.\n"
     ]
    },
    {
     "name": "stderr",
     "output_type": "stream",
     "text": [
      "/var/folders/6y/gzz1g_p559n80dc3_f2fl6m80000gn/T/ipykernel_54320/3668836295.py:32: SettingWithCopyWarning: \n",
      "A value is trying to be set on a copy of a slice from a DataFrame.\n",
      "Try using .loc[row_indexer,col_indexer] = value instead\n",
      "\n",
      "See the caveats in the documentation: https://pandas.pydata.org/pandas-docs/stable/user_guide/indexing.html#returning-a-view-versus-a-copy\n",
      "  data[model + \"_Q\"] = data.apply(lambda x: Q_dict[x.gridnum][x.transformed_state], axis=1)\n"
     ]
    },
    {
     "name": "stdout",
     "output_type": "stream",
     "text": [
      "Iteration No: 534 ended. Search finished for the next optimal point.\n",
      "Time taken: 70.2648\n",
      "Function value obtained: 13118.5230\n",
      "Current minimum: 13002.1908\n",
      "Iteration No: 535 started. Searching for the next optimal point.\n"
     ]
    },
    {
     "name": "stderr",
     "output_type": "stream",
     "text": [
      "/var/folders/6y/gzz1g_p559n80dc3_f2fl6m80000gn/T/ipykernel_54320/3668836295.py:32: SettingWithCopyWarning: \n",
      "A value is trying to be set on a copy of a slice from a DataFrame.\n",
      "Try using .loc[row_indexer,col_indexer] = value instead\n",
      "\n",
      "See the caveats in the documentation: https://pandas.pydata.org/pandas-docs/stable/user_guide/indexing.html#returning-a-view-versus-a-copy\n",
      "  data[model + \"_Q\"] = data.apply(lambda x: Q_dict[x.gridnum][x.transformed_state], axis=1)\n"
     ]
    },
    {
     "name": "stdout",
     "output_type": "stream",
     "text": [
      "Iteration No: 535 ended. Search finished for the next optimal point.\n",
      "Time taken: 69.8922\n",
      "Function value obtained: 13116.0842\n",
      "Current minimum: 13002.1908\n",
      "Iteration No: 536 started. Searching for the next optimal point.\n"
     ]
    },
    {
     "name": "stderr",
     "output_type": "stream",
     "text": [
      "/var/folders/6y/gzz1g_p559n80dc3_f2fl6m80000gn/T/ipykernel_54320/3668836295.py:32: SettingWithCopyWarning: \n",
      "A value is trying to be set on a copy of a slice from a DataFrame.\n",
      "Try using .loc[row_indexer,col_indexer] = value instead\n",
      "\n",
      "See the caveats in the documentation: https://pandas.pydata.org/pandas-docs/stable/user_guide/indexing.html#returning-a-view-versus-a-copy\n",
      "  data[model + \"_Q\"] = data.apply(lambda x: Q_dict[x.gridnum][x.transformed_state], axis=1)\n"
     ]
    },
    {
     "name": "stdout",
     "output_type": "stream",
     "text": [
      "Iteration No: 536 ended. Search finished for the next optimal point.\n",
      "Time taken: 54.8858\n",
      "Function value obtained: 13108.5070\n",
      "Current minimum: 13002.1908\n",
      "Iteration No: 537 started. Searching for the next optimal point.\n"
     ]
    },
    {
     "name": "stderr",
     "output_type": "stream",
     "text": [
      "/var/folders/6y/gzz1g_p559n80dc3_f2fl6m80000gn/T/ipykernel_54320/3668836295.py:32: SettingWithCopyWarning: \n",
      "A value is trying to be set on a copy of a slice from a DataFrame.\n",
      "Try using .loc[row_indexer,col_indexer] = value instead\n",
      "\n",
      "See the caveats in the documentation: https://pandas.pydata.org/pandas-docs/stable/user_guide/indexing.html#returning-a-view-versus-a-copy\n",
      "  data[model + \"_Q\"] = data.apply(lambda x: Q_dict[x.gridnum][x.transformed_state], axis=1)\n"
     ]
    },
    {
     "name": "stdout",
     "output_type": "stream",
     "text": [
      "Iteration No: 537 ended. Search finished for the next optimal point.\n",
      "Time taken: 78.9842\n",
      "Function value obtained: 13164.0811\n",
      "Current minimum: 13002.1908\n",
      "Iteration No: 538 started. Searching for the next optimal point.\n"
     ]
    },
    {
     "name": "stderr",
     "output_type": "stream",
     "text": [
      "/var/folders/6y/gzz1g_p559n80dc3_f2fl6m80000gn/T/ipykernel_54320/3668836295.py:32: SettingWithCopyWarning: \n",
      "A value is trying to be set on a copy of a slice from a DataFrame.\n",
      "Try using .loc[row_indexer,col_indexer] = value instead\n",
      "\n",
      "See the caveats in the documentation: https://pandas.pydata.org/pandas-docs/stable/user_guide/indexing.html#returning-a-view-versus-a-copy\n",
      "  data[model + \"_Q\"] = data.apply(lambda x: Q_dict[x.gridnum][x.transformed_state], axis=1)\n"
     ]
    },
    {
     "name": "stdout",
     "output_type": "stream",
     "text": [
      "Iteration No: 538 ended. Search finished for the next optimal point.\n",
      "Time taken: 67.4380\n",
      "Function value obtained: 13136.1143\n",
      "Current minimum: 13002.1908\n",
      "Iteration No: 539 started. Searching for the next optimal point.\n"
     ]
    },
    {
     "name": "stderr",
     "output_type": "stream",
     "text": [
      "/var/folders/6y/gzz1g_p559n80dc3_f2fl6m80000gn/T/ipykernel_54320/3668836295.py:32: SettingWithCopyWarning: \n",
      "A value is trying to be set on a copy of a slice from a DataFrame.\n",
      "Try using .loc[row_indexer,col_indexer] = value instead\n",
      "\n",
      "See the caveats in the documentation: https://pandas.pydata.org/pandas-docs/stable/user_guide/indexing.html#returning-a-view-versus-a-copy\n",
      "  data[model + \"_Q\"] = data.apply(lambda x: Q_dict[x.gridnum][x.transformed_state], axis=1)\n"
     ]
    },
    {
     "name": "stdout",
     "output_type": "stream",
     "text": [
      "Iteration No: 539 ended. Search finished for the next optimal point.\n",
      "Time taken: 55.9685\n",
      "Function value obtained: 13133.3035\n",
      "Current minimum: 13002.1908\n",
      "Iteration No: 540 started. Searching for the next optimal point.\n"
     ]
    },
    {
     "name": "stderr",
     "output_type": "stream",
     "text": [
      "/var/folders/6y/gzz1g_p559n80dc3_f2fl6m80000gn/T/ipykernel_54320/3668836295.py:32: SettingWithCopyWarning: \n",
      "A value is trying to be set on a copy of a slice from a DataFrame.\n",
      "Try using .loc[row_indexer,col_indexer] = value instead\n",
      "\n",
      "See the caveats in the documentation: https://pandas.pydata.org/pandas-docs/stable/user_guide/indexing.html#returning-a-view-versus-a-copy\n",
      "  data[model + \"_Q\"] = data.apply(lambda x: Q_dict[x.gridnum][x.transformed_state], axis=1)\n"
     ]
    },
    {
     "name": "stdout",
     "output_type": "stream",
     "text": [
      "Iteration No: 540 ended. Search finished for the next optimal point.\n",
      "Time taken: 49.5043\n",
      "Function value obtained: 13050.5647\n",
      "Current minimum: 13002.1908\n",
      "Iteration No: 541 started. Searching for the next optimal point.\n"
     ]
    },
    {
     "name": "stderr",
     "output_type": "stream",
     "text": [
      "/var/folders/6y/gzz1g_p559n80dc3_f2fl6m80000gn/T/ipykernel_54320/3668836295.py:32: SettingWithCopyWarning: \n",
      "A value is trying to be set on a copy of a slice from a DataFrame.\n",
      "Try using .loc[row_indexer,col_indexer] = value instead\n",
      "\n",
      "See the caveats in the documentation: https://pandas.pydata.org/pandas-docs/stable/user_guide/indexing.html#returning-a-view-versus-a-copy\n",
      "  data[model + \"_Q\"] = data.apply(lambda x: Q_dict[x.gridnum][x.transformed_state], axis=1)\n"
     ]
    },
    {
     "name": "stdout",
     "output_type": "stream",
     "text": [
      "Iteration No: 541 ended. Search finished for the next optimal point.\n",
      "Time taken: 69.8735\n",
      "Function value obtained: 13112.1501\n",
      "Current minimum: 13002.1908\n",
      "Iteration No: 542 started. Searching for the next optimal point.\n"
     ]
    },
    {
     "name": "stderr",
     "output_type": "stream",
     "text": [
      "/var/folders/6y/gzz1g_p559n80dc3_f2fl6m80000gn/T/ipykernel_54320/3668836295.py:32: SettingWithCopyWarning: \n",
      "A value is trying to be set on a copy of a slice from a DataFrame.\n",
      "Try using .loc[row_indexer,col_indexer] = value instead\n",
      "\n",
      "See the caveats in the documentation: https://pandas.pydata.org/pandas-docs/stable/user_guide/indexing.html#returning-a-view-versus-a-copy\n",
      "  data[model + \"_Q\"] = data.apply(lambda x: Q_dict[x.gridnum][x.transformed_state], axis=1)\n"
     ]
    },
    {
     "name": "stdout",
     "output_type": "stream",
     "text": [
      "Iteration No: 542 ended. Search finished for the next optimal point.\n",
      "Time taken: 55.6614\n",
      "Function value obtained: 13093.3733\n",
      "Current minimum: 13002.1908\n",
      "Iteration No: 543 started. Searching for the next optimal point.\n"
     ]
    },
    {
     "name": "stderr",
     "output_type": "stream",
     "text": [
      "/var/folders/6y/gzz1g_p559n80dc3_f2fl6m80000gn/T/ipykernel_54320/3668836295.py:32: SettingWithCopyWarning: \n",
      "A value is trying to be set on a copy of a slice from a DataFrame.\n",
      "Try using .loc[row_indexer,col_indexer] = value instead\n",
      "\n",
      "See the caveats in the documentation: https://pandas.pydata.org/pandas-docs/stable/user_guide/indexing.html#returning-a-view-versus-a-copy\n",
      "  data[model + \"_Q\"] = data.apply(lambda x: Q_dict[x.gridnum][x.transformed_state], axis=1)\n"
     ]
    },
    {
     "name": "stdout",
     "output_type": "stream",
     "text": [
      "Iteration No: 543 ended. Search finished for the next optimal point.\n",
      "Time taken: 43.8010\n",
      "Function value obtained: 13117.3008\n",
      "Current minimum: 13002.1908\n",
      "Iteration No: 544 started. Searching for the next optimal point.\n"
     ]
    },
    {
     "name": "stderr",
     "output_type": "stream",
     "text": [
      "/var/folders/6y/gzz1g_p559n80dc3_f2fl6m80000gn/T/ipykernel_54320/3668836295.py:32: SettingWithCopyWarning: \n",
      "A value is trying to be set on a copy of a slice from a DataFrame.\n",
      "Try using .loc[row_indexer,col_indexer] = value instead\n",
      "\n",
      "See the caveats in the documentation: https://pandas.pydata.org/pandas-docs/stable/user_guide/indexing.html#returning-a-view-versus-a-copy\n",
      "  data[model + \"_Q\"] = data.apply(lambda x: Q_dict[x.gridnum][x.transformed_state], axis=1)\n"
     ]
    },
    {
     "name": "stdout",
     "output_type": "stream",
     "text": [
      "Iteration No: 544 ended. Search finished for the next optimal point.\n",
      "Time taken: 51.8326\n",
      "Function value obtained: 13101.0547\n",
      "Current minimum: 13002.1908\n",
      "Iteration No: 545 started. Searching for the next optimal point.\n"
     ]
    },
    {
     "name": "stderr",
     "output_type": "stream",
     "text": [
      "/var/folders/6y/gzz1g_p559n80dc3_f2fl6m80000gn/T/ipykernel_54320/3668836295.py:32: SettingWithCopyWarning: \n",
      "A value is trying to be set on a copy of a slice from a DataFrame.\n",
      "Try using .loc[row_indexer,col_indexer] = value instead\n",
      "\n",
      "See the caveats in the documentation: https://pandas.pydata.org/pandas-docs/stable/user_guide/indexing.html#returning-a-view-versus-a-copy\n",
      "  data[model + \"_Q\"] = data.apply(lambda x: Q_dict[x.gridnum][x.transformed_state], axis=1)\n"
     ]
    },
    {
     "name": "stdout",
     "output_type": "stream",
     "text": [
      "Iteration No: 545 ended. Search finished for the next optimal point.\n",
      "Time taken: 62.4266\n",
      "Function value obtained: 13063.4535\n",
      "Current minimum: 13002.1908\n",
      "Iteration No: 546 started. Searching for the next optimal point.\n"
     ]
    },
    {
     "name": "stderr",
     "output_type": "stream",
     "text": [
      "/var/folders/6y/gzz1g_p559n80dc3_f2fl6m80000gn/T/ipykernel_54320/3668836295.py:32: SettingWithCopyWarning: \n",
      "A value is trying to be set on a copy of a slice from a DataFrame.\n",
      "Try using .loc[row_indexer,col_indexer] = value instead\n",
      "\n",
      "See the caveats in the documentation: https://pandas.pydata.org/pandas-docs/stable/user_guide/indexing.html#returning-a-view-versus-a-copy\n",
      "  data[model + \"_Q\"] = data.apply(lambda x: Q_dict[x.gridnum][x.transformed_state], axis=1)\n"
     ]
    },
    {
     "name": "stdout",
     "output_type": "stream",
     "text": [
      "Iteration No: 546 ended. Search finished for the next optimal point.\n",
      "Time taken: 75.8848\n",
      "Function value obtained: 13095.1485\n",
      "Current minimum: 13002.1908\n",
      "Iteration No: 547 started. Searching for the next optimal point.\n"
     ]
    },
    {
     "name": "stderr",
     "output_type": "stream",
     "text": [
      "/var/folders/6y/gzz1g_p559n80dc3_f2fl6m80000gn/T/ipykernel_54320/3668836295.py:32: SettingWithCopyWarning: \n",
      "A value is trying to be set on a copy of a slice from a DataFrame.\n",
      "Try using .loc[row_indexer,col_indexer] = value instead\n",
      "\n",
      "See the caveats in the documentation: https://pandas.pydata.org/pandas-docs/stable/user_guide/indexing.html#returning-a-view-versus-a-copy\n",
      "  data[model + \"_Q\"] = data.apply(lambda x: Q_dict[x.gridnum][x.transformed_state], axis=1)\n"
     ]
    },
    {
     "name": "stdout",
     "output_type": "stream",
     "text": [
      "Iteration No: 547 ended. Search finished for the next optimal point.\n",
      "Time taken: 67.9972\n",
      "Function value obtained: 13097.4955\n",
      "Current minimum: 13002.1908\n",
      "Iteration No: 548 started. Searching for the next optimal point.\n"
     ]
    },
    {
     "name": "stderr",
     "output_type": "stream",
     "text": [
      "/var/folders/6y/gzz1g_p559n80dc3_f2fl6m80000gn/T/ipykernel_54320/3668836295.py:32: SettingWithCopyWarning: \n",
      "A value is trying to be set on a copy of a slice from a DataFrame.\n",
      "Try using .loc[row_indexer,col_indexer] = value instead\n",
      "\n",
      "See the caveats in the documentation: https://pandas.pydata.org/pandas-docs/stable/user_guide/indexing.html#returning-a-view-versus-a-copy\n",
      "  data[model + \"_Q\"] = data.apply(lambda x: Q_dict[x.gridnum][x.transformed_state], axis=1)\n"
     ]
    },
    {
     "name": "stdout",
     "output_type": "stream",
     "text": [
      "Iteration No: 548 ended. Search finished for the next optimal point.\n",
      "Time taken: 83.2861\n",
      "Function value obtained: 13100.8195\n",
      "Current minimum: 13002.1908\n",
      "Iteration No: 549 started. Searching for the next optimal point.\n"
     ]
    },
    {
     "name": "stderr",
     "output_type": "stream",
     "text": [
      "/var/folders/6y/gzz1g_p559n80dc3_f2fl6m80000gn/T/ipykernel_54320/3668836295.py:32: SettingWithCopyWarning: \n",
      "A value is trying to be set on a copy of a slice from a DataFrame.\n",
      "Try using .loc[row_indexer,col_indexer] = value instead\n",
      "\n",
      "See the caveats in the documentation: https://pandas.pydata.org/pandas-docs/stable/user_guide/indexing.html#returning-a-view-versus-a-copy\n",
      "  data[model + \"_Q\"] = data.apply(lambda x: Q_dict[x.gridnum][x.transformed_state], axis=1)\n"
     ]
    },
    {
     "name": "stdout",
     "output_type": "stream",
     "text": [
      "Iteration No: 549 ended. Search finished for the next optimal point.\n",
      "Time taken: 48.7817\n",
      "Function value obtained: 13117.7019\n",
      "Current minimum: 13002.1908\n",
      "Iteration No: 550 started. Searching for the next optimal point.\n"
     ]
    },
    {
     "name": "stderr",
     "output_type": "stream",
     "text": [
      "/var/folders/6y/gzz1g_p559n80dc3_f2fl6m80000gn/T/ipykernel_54320/3668836295.py:32: SettingWithCopyWarning: \n",
      "A value is trying to be set on a copy of a slice from a DataFrame.\n",
      "Try using .loc[row_indexer,col_indexer] = value instead\n",
      "\n",
      "See the caveats in the documentation: https://pandas.pydata.org/pandas-docs/stable/user_guide/indexing.html#returning-a-view-versus-a-copy\n",
      "  data[model + \"_Q\"] = data.apply(lambda x: Q_dict[x.gridnum][x.transformed_state], axis=1)\n"
     ]
    },
    {
     "name": "stdout",
     "output_type": "stream",
     "text": [
      "Iteration No: 550 ended. Search finished for the next optimal point.\n",
      "Time taken: 48.9337\n",
      "Function value obtained: 13126.4256\n",
      "Current minimum: 13002.1908\n",
      "Iteration No: 551 started. Searching for the next optimal point.\n"
     ]
    },
    {
     "name": "stderr",
     "output_type": "stream",
     "text": [
      "/var/folders/6y/gzz1g_p559n80dc3_f2fl6m80000gn/T/ipykernel_54320/3668836295.py:32: SettingWithCopyWarning: \n",
      "A value is trying to be set on a copy of a slice from a DataFrame.\n",
      "Try using .loc[row_indexer,col_indexer] = value instead\n",
      "\n",
      "See the caveats in the documentation: https://pandas.pydata.org/pandas-docs/stable/user_guide/indexing.html#returning-a-view-versus-a-copy\n",
      "  data[model + \"_Q\"] = data.apply(lambda x: Q_dict[x.gridnum][x.transformed_state], axis=1)\n"
     ]
    },
    {
     "name": "stdout",
     "output_type": "stream",
     "text": [
      "Iteration No: 551 ended. Search finished for the next optimal point.\n",
      "Time taken: 34.4745\n",
      "Function value obtained: 13094.3369\n",
      "Current minimum: 13002.1908\n",
      "Iteration No: 552 started. Searching for the next optimal point.\n"
     ]
    },
    {
     "name": "stderr",
     "output_type": "stream",
     "text": [
      "/var/folders/6y/gzz1g_p559n80dc3_f2fl6m80000gn/T/ipykernel_54320/3668836295.py:32: SettingWithCopyWarning: \n",
      "A value is trying to be set on a copy of a slice from a DataFrame.\n",
      "Try using .loc[row_indexer,col_indexer] = value instead\n",
      "\n",
      "See the caveats in the documentation: https://pandas.pydata.org/pandas-docs/stable/user_guide/indexing.html#returning-a-view-versus-a-copy\n",
      "  data[model + \"_Q\"] = data.apply(lambda x: Q_dict[x.gridnum][x.transformed_state], axis=1)\n"
     ]
    },
    {
     "name": "stdout",
     "output_type": "stream",
     "text": [
      "Iteration No: 552 ended. Search finished for the next optimal point.\n",
      "Time taken: 66.5927\n",
      "Function value obtained: 13085.0606\n",
      "Current minimum: 13002.1908\n",
      "Iteration No: 553 started. Searching for the next optimal point.\n"
     ]
    },
    {
     "name": "stderr",
     "output_type": "stream",
     "text": [
      "/var/folders/6y/gzz1g_p559n80dc3_f2fl6m80000gn/T/ipykernel_54320/3668836295.py:32: SettingWithCopyWarning: \n",
      "A value is trying to be set on a copy of a slice from a DataFrame.\n",
      "Try using .loc[row_indexer,col_indexer] = value instead\n",
      "\n",
      "See the caveats in the documentation: https://pandas.pydata.org/pandas-docs/stable/user_guide/indexing.html#returning-a-view-versus-a-copy\n",
      "  data[model + \"_Q\"] = data.apply(lambda x: Q_dict[x.gridnum][x.transformed_state], axis=1)\n"
     ]
    },
    {
     "name": "stdout",
     "output_type": "stream",
     "text": [
      "Iteration No: 553 ended. Search finished for the next optimal point.\n",
      "Time taken: 85.7540\n",
      "Function value obtained: 13106.1899\n",
      "Current minimum: 13002.1908\n",
      "Iteration No: 554 started. Searching for the next optimal point.\n"
     ]
    },
    {
     "name": "stderr",
     "output_type": "stream",
     "text": [
      "/var/folders/6y/gzz1g_p559n80dc3_f2fl6m80000gn/T/ipykernel_54320/3668836295.py:32: SettingWithCopyWarning: \n",
      "A value is trying to be set on a copy of a slice from a DataFrame.\n",
      "Try using .loc[row_indexer,col_indexer] = value instead\n",
      "\n",
      "See the caveats in the documentation: https://pandas.pydata.org/pandas-docs/stable/user_guide/indexing.html#returning-a-view-versus-a-copy\n",
      "  data[model + \"_Q\"] = data.apply(lambda x: Q_dict[x.gridnum][x.transformed_state], axis=1)\n"
     ]
    },
    {
     "name": "stdout",
     "output_type": "stream",
     "text": [
      "Iteration No: 554 ended. Search finished for the next optimal point.\n",
      "Time taken: 65.0136\n",
      "Function value obtained: 13061.4325\n",
      "Current minimum: 13002.1908\n",
      "Iteration No: 555 started. Searching for the next optimal point.\n"
     ]
    },
    {
     "name": "stderr",
     "output_type": "stream",
     "text": [
      "/var/folders/6y/gzz1g_p559n80dc3_f2fl6m80000gn/T/ipykernel_54320/3668836295.py:32: SettingWithCopyWarning: \n",
      "A value is trying to be set on a copy of a slice from a DataFrame.\n",
      "Try using .loc[row_indexer,col_indexer] = value instead\n",
      "\n",
      "See the caveats in the documentation: https://pandas.pydata.org/pandas-docs/stable/user_guide/indexing.html#returning-a-view-versus-a-copy\n",
      "  data[model + \"_Q\"] = data.apply(lambda x: Q_dict[x.gridnum][x.transformed_state], axis=1)\n"
     ]
    },
    {
     "name": "stdout",
     "output_type": "stream",
     "text": [
      "Iteration No: 555 ended. Search finished for the next optimal point.\n",
      "Time taken: 63.5633\n",
      "Function value obtained: 13105.9915\n",
      "Current minimum: 13002.1908\n",
      "Iteration No: 556 started. Searching for the next optimal point.\n"
     ]
    },
    {
     "name": "stderr",
     "output_type": "stream",
     "text": [
      "/var/folders/6y/gzz1g_p559n80dc3_f2fl6m80000gn/T/ipykernel_54320/3668836295.py:32: SettingWithCopyWarning: \n",
      "A value is trying to be set on a copy of a slice from a DataFrame.\n",
      "Try using .loc[row_indexer,col_indexer] = value instead\n",
      "\n",
      "See the caveats in the documentation: https://pandas.pydata.org/pandas-docs/stable/user_guide/indexing.html#returning-a-view-versus-a-copy\n",
      "  data[model + \"_Q\"] = data.apply(lambda x: Q_dict[x.gridnum][x.transformed_state], axis=1)\n"
     ]
    },
    {
     "name": "stdout",
     "output_type": "stream",
     "text": [
      "Iteration No: 556 ended. Search finished for the next optimal point.\n",
      "Time taken: 55.3524\n",
      "Function value obtained: 13101.2243\n",
      "Current minimum: 13002.1908\n",
      "Iteration No: 557 started. Searching for the next optimal point.\n"
     ]
    },
    {
     "name": "stderr",
     "output_type": "stream",
     "text": [
      "/var/folders/6y/gzz1g_p559n80dc3_f2fl6m80000gn/T/ipykernel_54320/3668836295.py:32: SettingWithCopyWarning: \n",
      "A value is trying to be set on a copy of a slice from a DataFrame.\n",
      "Try using .loc[row_indexer,col_indexer] = value instead\n",
      "\n",
      "See the caveats in the documentation: https://pandas.pydata.org/pandas-docs/stable/user_guide/indexing.html#returning-a-view-versus-a-copy\n",
      "  data[model + \"_Q\"] = data.apply(lambda x: Q_dict[x.gridnum][x.transformed_state], axis=1)\n"
     ]
    },
    {
     "name": "stdout",
     "output_type": "stream",
     "text": [
      "Iteration No: 557 ended. Search finished for the next optimal point.\n",
      "Time taken: 75.9399\n",
      "Function value obtained: 13128.5082\n",
      "Current minimum: 13002.1908\n",
      "Iteration No: 558 started. Searching for the next optimal point.\n"
     ]
    },
    {
     "name": "stderr",
     "output_type": "stream",
     "text": [
      "/var/folders/6y/gzz1g_p559n80dc3_f2fl6m80000gn/T/ipykernel_54320/3668836295.py:32: SettingWithCopyWarning: \n",
      "A value is trying to be set on a copy of a slice from a DataFrame.\n",
      "Try using .loc[row_indexer,col_indexer] = value instead\n",
      "\n",
      "See the caveats in the documentation: https://pandas.pydata.org/pandas-docs/stable/user_guide/indexing.html#returning-a-view-versus-a-copy\n",
      "  data[model + \"_Q\"] = data.apply(lambda x: Q_dict[x.gridnum][x.transformed_state], axis=1)\n"
     ]
    },
    {
     "name": "stdout",
     "output_type": "stream",
     "text": [
      "Iteration No: 558 ended. Search finished for the next optimal point.\n",
      "Time taken: 54.4485\n",
      "Function value obtained: 13092.6562\n",
      "Current minimum: 13002.1908\n",
      "Iteration No: 559 started. Searching for the next optimal point.\n"
     ]
    },
    {
     "name": "stderr",
     "output_type": "stream",
     "text": [
      "/var/folders/6y/gzz1g_p559n80dc3_f2fl6m80000gn/T/ipykernel_54320/3668836295.py:32: SettingWithCopyWarning: \n",
      "A value is trying to be set on a copy of a slice from a DataFrame.\n",
      "Try using .loc[row_indexer,col_indexer] = value instead\n",
      "\n",
      "See the caveats in the documentation: https://pandas.pydata.org/pandas-docs/stable/user_guide/indexing.html#returning-a-view-versus-a-copy\n",
      "  data[model + \"_Q\"] = data.apply(lambda x: Q_dict[x.gridnum][x.transformed_state], axis=1)\n"
     ]
    },
    {
     "name": "stdout",
     "output_type": "stream",
     "text": [
      "Iteration No: 559 ended. Search finished for the next optimal point.\n",
      "Time taken: 64.6950\n",
      "Function value obtained: 13067.3030\n",
      "Current minimum: 13002.1908\n",
      "Iteration No: 560 started. Searching for the next optimal point.\n"
     ]
    },
    {
     "name": "stderr",
     "output_type": "stream",
     "text": [
      "/var/folders/6y/gzz1g_p559n80dc3_f2fl6m80000gn/T/ipykernel_54320/3668836295.py:32: SettingWithCopyWarning: \n",
      "A value is trying to be set on a copy of a slice from a DataFrame.\n",
      "Try using .loc[row_indexer,col_indexer] = value instead\n",
      "\n",
      "See the caveats in the documentation: https://pandas.pydata.org/pandas-docs/stable/user_guide/indexing.html#returning-a-view-versus-a-copy\n",
      "  data[model + \"_Q\"] = data.apply(lambda x: Q_dict[x.gridnum][x.transformed_state], axis=1)\n"
     ]
    },
    {
     "name": "stdout",
     "output_type": "stream",
     "text": [
      "Iteration No: 560 ended. Search finished for the next optimal point.\n",
      "Time taken: 40.0061\n",
      "Function value obtained: 13079.8507\n",
      "Current minimum: 13002.1908\n",
      "Iteration No: 561 started. Searching for the next optimal point.\n"
     ]
    },
    {
     "name": "stderr",
     "output_type": "stream",
     "text": [
      "/var/folders/6y/gzz1g_p559n80dc3_f2fl6m80000gn/T/ipykernel_54320/3668836295.py:32: SettingWithCopyWarning: \n",
      "A value is trying to be set on a copy of a slice from a DataFrame.\n",
      "Try using .loc[row_indexer,col_indexer] = value instead\n",
      "\n",
      "See the caveats in the documentation: https://pandas.pydata.org/pandas-docs/stable/user_guide/indexing.html#returning-a-view-versus-a-copy\n",
      "  data[model + \"_Q\"] = data.apply(lambda x: Q_dict[x.gridnum][x.transformed_state], axis=1)\n"
     ]
    },
    {
     "name": "stdout",
     "output_type": "stream",
     "text": [
      "Iteration No: 561 ended. Search finished for the next optimal point.\n",
      "Time taken: 60.8231\n",
      "Function value obtained: 13136.6775\n",
      "Current minimum: 13002.1908\n",
      "Iteration No: 562 started. Searching for the next optimal point.\n"
     ]
    },
    {
     "name": "stderr",
     "output_type": "stream",
     "text": [
      "/var/folders/6y/gzz1g_p559n80dc3_f2fl6m80000gn/T/ipykernel_54320/3668836295.py:32: SettingWithCopyWarning: \n",
      "A value is trying to be set on a copy of a slice from a DataFrame.\n",
      "Try using .loc[row_indexer,col_indexer] = value instead\n",
      "\n",
      "See the caveats in the documentation: https://pandas.pydata.org/pandas-docs/stable/user_guide/indexing.html#returning-a-view-versus-a-copy\n",
      "  data[model + \"_Q\"] = data.apply(lambda x: Q_dict[x.gridnum][x.transformed_state], axis=1)\n"
     ]
    },
    {
     "name": "stdout",
     "output_type": "stream",
     "text": [
      "Iteration No: 562 ended. Search finished for the next optimal point.\n",
      "Time taken: 50.4707\n",
      "Function value obtained: 13105.9474\n",
      "Current minimum: 13002.1908\n",
      "Iteration No: 563 started. Searching for the next optimal point.\n"
     ]
    },
    {
     "name": "stderr",
     "output_type": "stream",
     "text": [
      "/var/folders/6y/gzz1g_p559n80dc3_f2fl6m80000gn/T/ipykernel_54320/3668836295.py:32: SettingWithCopyWarning: \n",
      "A value is trying to be set on a copy of a slice from a DataFrame.\n",
      "Try using .loc[row_indexer,col_indexer] = value instead\n",
      "\n",
      "See the caveats in the documentation: https://pandas.pydata.org/pandas-docs/stable/user_guide/indexing.html#returning-a-view-versus-a-copy\n",
      "  data[model + \"_Q\"] = data.apply(lambda x: Q_dict[x.gridnum][x.transformed_state], axis=1)\n"
     ]
    },
    {
     "name": "stdout",
     "output_type": "stream",
     "text": [
      "Iteration No: 563 ended. Search finished for the next optimal point.\n",
      "Time taken: 24.9588\n",
      "Function value obtained: 13299.6943\n",
      "Current minimum: 13002.1908\n",
      "Iteration No: 564 started. Searching for the next optimal point.\n"
     ]
    },
    {
     "name": "stderr",
     "output_type": "stream",
     "text": [
      "/var/folders/6y/gzz1g_p559n80dc3_f2fl6m80000gn/T/ipykernel_54320/3668836295.py:32: SettingWithCopyWarning: \n",
      "A value is trying to be set on a copy of a slice from a DataFrame.\n",
      "Try using .loc[row_indexer,col_indexer] = value instead\n",
      "\n",
      "See the caveats in the documentation: https://pandas.pydata.org/pandas-docs/stable/user_guide/indexing.html#returning-a-view-versus-a-copy\n",
      "  data[model + \"_Q\"] = data.apply(lambda x: Q_dict[x.gridnum][x.transformed_state], axis=1)\n"
     ]
    },
    {
     "name": "stdout",
     "output_type": "stream",
     "text": [
      "Iteration No: 564 ended. Search finished for the next optimal point.\n",
      "Time taken: 34.6340\n",
      "Function value obtained: 13069.4885\n",
      "Current minimum: 13002.1908\n",
      "Iteration No: 565 started. Searching for the next optimal point.\n"
     ]
    },
    {
     "name": "stderr",
     "output_type": "stream",
     "text": [
      "/var/folders/6y/gzz1g_p559n80dc3_f2fl6m80000gn/T/ipykernel_54320/3668836295.py:32: SettingWithCopyWarning: \n",
      "A value is trying to be set on a copy of a slice from a DataFrame.\n",
      "Try using .loc[row_indexer,col_indexer] = value instead\n",
      "\n",
      "See the caveats in the documentation: https://pandas.pydata.org/pandas-docs/stable/user_guide/indexing.html#returning-a-view-versus-a-copy\n",
      "  data[model + \"_Q\"] = data.apply(lambda x: Q_dict[x.gridnum][x.transformed_state], axis=1)\n"
     ]
    },
    {
     "name": "stdout",
     "output_type": "stream",
     "text": [
      "Iteration No: 565 ended. Search finished for the next optimal point.\n",
      "Time taken: 53.0760\n",
      "Function value obtained: 13078.5640\n",
      "Current minimum: 13002.1908\n",
      "Iteration No: 566 started. Searching for the next optimal point.\n"
     ]
    },
    {
     "name": "stderr",
     "output_type": "stream",
     "text": [
      "/var/folders/6y/gzz1g_p559n80dc3_f2fl6m80000gn/T/ipykernel_54320/3668836295.py:32: SettingWithCopyWarning: \n",
      "A value is trying to be set on a copy of a slice from a DataFrame.\n",
      "Try using .loc[row_indexer,col_indexer] = value instead\n",
      "\n",
      "See the caveats in the documentation: https://pandas.pydata.org/pandas-docs/stable/user_guide/indexing.html#returning-a-view-versus-a-copy\n",
      "  data[model + \"_Q\"] = data.apply(lambda x: Q_dict[x.gridnum][x.transformed_state], axis=1)\n"
     ]
    },
    {
     "name": "stdout",
     "output_type": "stream",
     "text": [
      "Iteration No: 566 ended. Search finished for the next optimal point.\n",
      "Time taken: 89.7568\n",
      "Function value obtained: 13112.9309\n",
      "Current minimum: 13002.1908\n",
      "Iteration No: 567 started. Searching for the next optimal point.\n"
     ]
    },
    {
     "name": "stderr",
     "output_type": "stream",
     "text": [
      "/var/folders/6y/gzz1g_p559n80dc3_f2fl6m80000gn/T/ipykernel_54320/3668836295.py:32: SettingWithCopyWarning: \n",
      "A value is trying to be set on a copy of a slice from a DataFrame.\n",
      "Try using .loc[row_indexer,col_indexer] = value instead\n",
      "\n",
      "See the caveats in the documentation: https://pandas.pydata.org/pandas-docs/stable/user_guide/indexing.html#returning-a-view-versus-a-copy\n",
      "  data[model + \"_Q\"] = data.apply(lambda x: Q_dict[x.gridnum][x.transformed_state], axis=1)\n"
     ]
    },
    {
     "name": "stdout",
     "output_type": "stream",
     "text": [
      "Iteration No: 567 ended. Search finished for the next optimal point.\n",
      "Time taken: 70.0338\n",
      "Function value obtained: 13123.2920\n",
      "Current minimum: 13002.1908\n",
      "Iteration No: 568 started. Searching for the next optimal point.\n"
     ]
    },
    {
     "name": "stderr",
     "output_type": "stream",
     "text": [
      "/var/folders/6y/gzz1g_p559n80dc3_f2fl6m80000gn/T/ipykernel_54320/3668836295.py:32: SettingWithCopyWarning: \n",
      "A value is trying to be set on a copy of a slice from a DataFrame.\n",
      "Try using .loc[row_indexer,col_indexer] = value instead\n",
      "\n",
      "See the caveats in the documentation: https://pandas.pydata.org/pandas-docs/stable/user_guide/indexing.html#returning-a-view-versus-a-copy\n",
      "  data[model + \"_Q\"] = data.apply(lambda x: Q_dict[x.gridnum][x.transformed_state], axis=1)\n"
     ]
    },
    {
     "name": "stdout",
     "output_type": "stream",
     "text": [
      "Iteration No: 568 ended. Search finished for the next optimal point.\n",
      "Time taken: 33.3781\n",
      "Function value obtained: 13155.1211\n",
      "Current minimum: 13002.1908\n",
      "Iteration No: 569 started. Searching for the next optimal point.\n"
     ]
    },
    {
     "name": "stderr",
     "output_type": "stream",
     "text": [
      "/var/folders/6y/gzz1g_p559n80dc3_f2fl6m80000gn/T/ipykernel_54320/3668836295.py:32: SettingWithCopyWarning: \n",
      "A value is trying to be set on a copy of a slice from a DataFrame.\n",
      "Try using .loc[row_indexer,col_indexer] = value instead\n",
      "\n",
      "See the caveats in the documentation: https://pandas.pydata.org/pandas-docs/stable/user_guide/indexing.html#returning-a-view-versus-a-copy\n",
      "  data[model + \"_Q\"] = data.apply(lambda x: Q_dict[x.gridnum][x.transformed_state], axis=1)\n"
     ]
    },
    {
     "name": "stdout",
     "output_type": "stream",
     "text": [
      "Iteration No: 569 ended. Search finished for the next optimal point.\n",
      "Time taken: 62.6426\n",
      "Function value obtained: 13094.7312\n",
      "Current minimum: 13002.1908\n",
      "Iteration No: 570 started. Searching for the next optimal point.\n"
     ]
    },
    {
     "name": "stderr",
     "output_type": "stream",
     "text": [
      "/var/folders/6y/gzz1g_p559n80dc3_f2fl6m80000gn/T/ipykernel_54320/3668836295.py:32: SettingWithCopyWarning: \n",
      "A value is trying to be set on a copy of a slice from a DataFrame.\n",
      "Try using .loc[row_indexer,col_indexer] = value instead\n",
      "\n",
      "See the caveats in the documentation: https://pandas.pydata.org/pandas-docs/stable/user_guide/indexing.html#returning-a-view-versus-a-copy\n",
      "  data[model + \"_Q\"] = data.apply(lambda x: Q_dict[x.gridnum][x.transformed_state], axis=1)\n"
     ]
    },
    {
     "name": "stdout",
     "output_type": "stream",
     "text": [
      "Iteration No: 570 ended. Search finished for the next optimal point.\n",
      "Time taken: 60.9410\n",
      "Function value obtained: 13074.6928\n",
      "Current minimum: 13002.1908\n",
      "Iteration No: 571 started. Searching for the next optimal point.\n"
     ]
    },
    {
     "name": "stderr",
     "output_type": "stream",
     "text": [
      "/var/folders/6y/gzz1g_p559n80dc3_f2fl6m80000gn/T/ipykernel_54320/3668836295.py:32: SettingWithCopyWarning: \n",
      "A value is trying to be set on a copy of a slice from a DataFrame.\n",
      "Try using .loc[row_indexer,col_indexer] = value instead\n",
      "\n",
      "See the caveats in the documentation: https://pandas.pydata.org/pandas-docs/stable/user_guide/indexing.html#returning-a-view-versus-a-copy\n",
      "  data[model + \"_Q\"] = data.apply(lambda x: Q_dict[x.gridnum][x.transformed_state], axis=1)\n"
     ]
    },
    {
     "name": "stdout",
     "output_type": "stream",
     "text": [
      "Iteration No: 571 ended. Search finished for the next optimal point.\n",
      "Time taken: 69.8822\n",
      "Function value obtained: 13096.4991\n",
      "Current minimum: 13002.1908\n",
      "Iteration No: 572 started. Searching for the next optimal point.\n"
     ]
    },
    {
     "name": "stderr",
     "output_type": "stream",
     "text": [
      "/var/folders/6y/gzz1g_p559n80dc3_f2fl6m80000gn/T/ipykernel_54320/3668836295.py:32: SettingWithCopyWarning: \n",
      "A value is trying to be set on a copy of a slice from a DataFrame.\n",
      "Try using .loc[row_indexer,col_indexer] = value instead\n",
      "\n",
      "See the caveats in the documentation: https://pandas.pydata.org/pandas-docs/stable/user_guide/indexing.html#returning-a-view-versus-a-copy\n",
      "  data[model + \"_Q\"] = data.apply(lambda x: Q_dict[x.gridnum][x.transformed_state], axis=1)\n"
     ]
    },
    {
     "name": "stdout",
     "output_type": "stream",
     "text": [
      "Iteration No: 572 ended. Search finished for the next optimal point.\n",
      "Time taken: 78.2732\n",
      "Function value obtained: 13102.6330\n",
      "Current minimum: 13002.1908\n",
      "Iteration No: 573 started. Searching for the next optimal point.\n"
     ]
    },
    {
     "name": "stderr",
     "output_type": "stream",
     "text": [
      "/var/folders/6y/gzz1g_p559n80dc3_f2fl6m80000gn/T/ipykernel_54320/3668836295.py:32: SettingWithCopyWarning: \n",
      "A value is trying to be set on a copy of a slice from a DataFrame.\n",
      "Try using .loc[row_indexer,col_indexer] = value instead\n",
      "\n",
      "See the caveats in the documentation: https://pandas.pydata.org/pandas-docs/stable/user_guide/indexing.html#returning-a-view-versus-a-copy\n",
      "  data[model + \"_Q\"] = data.apply(lambda x: Q_dict[x.gridnum][x.transformed_state], axis=1)\n"
     ]
    },
    {
     "name": "stdout",
     "output_type": "stream",
     "text": [
      "Iteration No: 573 ended. Search finished for the next optimal point.\n",
      "Time taken: 55.9004\n",
      "Function value obtained: 13070.0518\n",
      "Current minimum: 13002.1908\n",
      "Iteration No: 574 started. Searching for the next optimal point.\n"
     ]
    },
    {
     "name": "stderr",
     "output_type": "stream",
     "text": [
      "/var/folders/6y/gzz1g_p559n80dc3_f2fl6m80000gn/T/ipykernel_54320/3668836295.py:32: SettingWithCopyWarning: \n",
      "A value is trying to be set on a copy of a slice from a DataFrame.\n",
      "Try using .loc[row_indexer,col_indexer] = value instead\n",
      "\n",
      "See the caveats in the documentation: https://pandas.pydata.org/pandas-docs/stable/user_guide/indexing.html#returning-a-view-versus-a-copy\n",
      "  data[model + \"_Q\"] = data.apply(lambda x: Q_dict[x.gridnum][x.transformed_state], axis=1)\n"
     ]
    },
    {
     "name": "stdout",
     "output_type": "stream",
     "text": [
      "Iteration No: 574 ended. Search finished for the next optimal point.\n",
      "Time taken: 66.5206\n",
      "Function value obtained: 13086.7925\n",
      "Current minimum: 13002.1908\n",
      "Iteration No: 575 started. Searching for the next optimal point.\n"
     ]
    },
    {
     "name": "stderr",
     "output_type": "stream",
     "text": [
      "/var/folders/6y/gzz1g_p559n80dc3_f2fl6m80000gn/T/ipykernel_54320/3668836295.py:32: SettingWithCopyWarning: \n",
      "A value is trying to be set on a copy of a slice from a DataFrame.\n",
      "Try using .loc[row_indexer,col_indexer] = value instead\n",
      "\n",
      "See the caveats in the documentation: https://pandas.pydata.org/pandas-docs/stable/user_guide/indexing.html#returning-a-view-versus-a-copy\n",
      "  data[model + \"_Q\"] = data.apply(lambda x: Q_dict[x.gridnum][x.transformed_state], axis=1)\n"
     ]
    },
    {
     "name": "stdout",
     "output_type": "stream",
     "text": [
      "Iteration No: 575 ended. Search finished for the next optimal point.\n",
      "Time taken: 63.5900\n",
      "Function value obtained: 13111.2791\n",
      "Current minimum: 13002.1908\n",
      "Iteration No: 576 started. Searching for the next optimal point.\n"
     ]
    },
    {
     "name": "stderr",
     "output_type": "stream",
     "text": [
      "/var/folders/6y/gzz1g_p559n80dc3_f2fl6m80000gn/T/ipykernel_54320/3668836295.py:32: SettingWithCopyWarning: \n",
      "A value is trying to be set on a copy of a slice from a DataFrame.\n",
      "Try using .loc[row_indexer,col_indexer] = value instead\n",
      "\n",
      "See the caveats in the documentation: https://pandas.pydata.org/pandas-docs/stable/user_guide/indexing.html#returning-a-view-versus-a-copy\n",
      "  data[model + \"_Q\"] = data.apply(lambda x: Q_dict[x.gridnum][x.transformed_state], axis=1)\n"
     ]
    },
    {
     "name": "stdout",
     "output_type": "stream",
     "text": [
      "Iteration No: 576 ended. Search finished for the next optimal point.\n",
      "Time taken: 67.1303\n",
      "Function value obtained: 13103.4870\n",
      "Current minimum: 13002.1908\n",
      "Iteration No: 577 started. Searching for the next optimal point.\n"
     ]
    },
    {
     "name": "stderr",
     "output_type": "stream",
     "text": [
      "/var/folders/6y/gzz1g_p559n80dc3_f2fl6m80000gn/T/ipykernel_54320/3668836295.py:32: SettingWithCopyWarning: \n",
      "A value is trying to be set on a copy of a slice from a DataFrame.\n",
      "Try using .loc[row_indexer,col_indexer] = value instead\n",
      "\n",
      "See the caveats in the documentation: https://pandas.pydata.org/pandas-docs/stable/user_guide/indexing.html#returning-a-view-versus-a-copy\n",
      "  data[model + \"_Q\"] = data.apply(lambda x: Q_dict[x.gridnum][x.transformed_state], axis=1)\n"
     ]
    },
    {
     "name": "stdout",
     "output_type": "stream",
     "text": [
      "Iteration No: 577 ended. Search finished for the next optimal point.\n",
      "Time taken: 85.9143\n",
      "Function value obtained: 13080.9718\n",
      "Current minimum: 13002.1908\n",
      "Iteration No: 578 started. Searching for the next optimal point.\n"
     ]
    },
    {
     "name": "stderr",
     "output_type": "stream",
     "text": [
      "/var/folders/6y/gzz1g_p559n80dc3_f2fl6m80000gn/T/ipykernel_54320/3668836295.py:32: SettingWithCopyWarning: \n",
      "A value is trying to be set on a copy of a slice from a DataFrame.\n",
      "Try using .loc[row_indexer,col_indexer] = value instead\n",
      "\n",
      "See the caveats in the documentation: https://pandas.pydata.org/pandas-docs/stable/user_guide/indexing.html#returning-a-view-versus-a-copy\n",
      "  data[model + \"_Q\"] = data.apply(lambda x: Q_dict[x.gridnum][x.transformed_state], axis=1)\n"
     ]
    },
    {
     "name": "stdout",
     "output_type": "stream",
     "text": [
      "Iteration No: 578 ended. Search finished for the next optimal point.\n",
      "Time taken: 70.9401\n",
      "Function value obtained: 13128.7293\n",
      "Current minimum: 13002.1908\n",
      "Iteration No: 579 started. Searching for the next optimal point.\n"
     ]
    },
    {
     "name": "stderr",
     "output_type": "stream",
     "text": [
      "/var/folders/6y/gzz1g_p559n80dc3_f2fl6m80000gn/T/ipykernel_54320/3668836295.py:32: SettingWithCopyWarning: \n",
      "A value is trying to be set on a copy of a slice from a DataFrame.\n",
      "Try using .loc[row_indexer,col_indexer] = value instead\n",
      "\n",
      "See the caveats in the documentation: https://pandas.pydata.org/pandas-docs/stable/user_guide/indexing.html#returning-a-view-versus-a-copy\n",
      "  data[model + \"_Q\"] = data.apply(lambda x: Q_dict[x.gridnum][x.transformed_state], axis=1)\n"
     ]
    },
    {
     "name": "stdout",
     "output_type": "stream",
     "text": [
      "Iteration No: 579 ended. Search finished for the next optimal point.\n",
      "Time taken: 74.6339\n",
      "Function value obtained: 13088.8270\n",
      "Current minimum: 13002.1908\n",
      "Iteration No: 580 started. Searching for the next optimal point.\n"
     ]
    },
    {
     "name": "stderr",
     "output_type": "stream",
     "text": [
      "/var/folders/6y/gzz1g_p559n80dc3_f2fl6m80000gn/T/ipykernel_54320/3668836295.py:32: SettingWithCopyWarning: \n",
      "A value is trying to be set on a copy of a slice from a DataFrame.\n",
      "Try using .loc[row_indexer,col_indexer] = value instead\n",
      "\n",
      "See the caveats in the documentation: https://pandas.pydata.org/pandas-docs/stable/user_guide/indexing.html#returning-a-view-versus-a-copy\n",
      "  data[model + \"_Q\"] = data.apply(lambda x: Q_dict[x.gridnum][x.transformed_state], axis=1)\n"
     ]
    },
    {
     "name": "stdout",
     "output_type": "stream",
     "text": [
      "Iteration No: 580 ended. Search finished for the next optimal point.\n",
      "Time taken: 63.7160\n",
      "Function value obtained: 13116.7532\n",
      "Current minimum: 13002.1908\n",
      "Iteration No: 581 started. Searching for the next optimal point.\n"
     ]
    },
    {
     "name": "stderr",
     "output_type": "stream",
     "text": [
      "/var/folders/6y/gzz1g_p559n80dc3_f2fl6m80000gn/T/ipykernel_54320/3668836295.py:32: SettingWithCopyWarning: \n",
      "A value is trying to be set on a copy of a slice from a DataFrame.\n",
      "Try using .loc[row_indexer,col_indexer] = value instead\n",
      "\n",
      "See the caveats in the documentation: https://pandas.pydata.org/pandas-docs/stable/user_guide/indexing.html#returning-a-view-versus-a-copy\n",
      "  data[model + \"_Q\"] = data.apply(lambda x: Q_dict[x.gridnum][x.transformed_state], axis=1)\n"
     ]
    },
    {
     "name": "stdout",
     "output_type": "stream",
     "text": [
      "Iteration No: 581 ended. Search finished for the next optimal point.\n",
      "Time taken: 54.5047\n",
      "Function value obtained: 13141.3220\n",
      "Current minimum: 13002.1908\n",
      "Iteration No: 582 started. Searching for the next optimal point.\n"
     ]
    },
    {
     "name": "stderr",
     "output_type": "stream",
     "text": [
      "/var/folders/6y/gzz1g_p559n80dc3_f2fl6m80000gn/T/ipykernel_54320/3668836295.py:32: SettingWithCopyWarning: \n",
      "A value is trying to be set on a copy of a slice from a DataFrame.\n",
      "Try using .loc[row_indexer,col_indexer] = value instead\n",
      "\n",
      "See the caveats in the documentation: https://pandas.pydata.org/pandas-docs/stable/user_guide/indexing.html#returning-a-view-versus-a-copy\n",
      "  data[model + \"_Q\"] = data.apply(lambda x: Q_dict[x.gridnum][x.transformed_state], axis=1)\n"
     ]
    },
    {
     "name": "stdout",
     "output_type": "stream",
     "text": [
      "Iteration No: 582 ended. Search finished for the next optimal point.\n",
      "Time taken: 39.6817\n",
      "Function value obtained: 13175.6544\n",
      "Current minimum: 13002.1908\n",
      "Iteration No: 583 started. Searching for the next optimal point.\n"
     ]
    },
    {
     "name": "stderr",
     "output_type": "stream",
     "text": [
      "/var/folders/6y/gzz1g_p559n80dc3_f2fl6m80000gn/T/ipykernel_54320/3668836295.py:32: SettingWithCopyWarning: \n",
      "A value is trying to be set on a copy of a slice from a DataFrame.\n",
      "Try using .loc[row_indexer,col_indexer] = value instead\n",
      "\n",
      "See the caveats in the documentation: https://pandas.pydata.org/pandas-docs/stable/user_guide/indexing.html#returning-a-view-versus-a-copy\n",
      "  data[model + \"_Q\"] = data.apply(lambda x: Q_dict[x.gridnum][x.transformed_state], axis=1)\n"
     ]
    },
    {
     "name": "stdout",
     "output_type": "stream",
     "text": [
      "Iteration No: 583 ended. Search finished for the next optimal point.\n",
      "Time taken: 54.4504\n",
      "Function value obtained: 13087.5885\n",
      "Current minimum: 13002.1908\n",
      "Iteration No: 584 started. Searching for the next optimal point.\n"
     ]
    },
    {
     "name": "stderr",
     "output_type": "stream",
     "text": [
      "/var/folders/6y/gzz1g_p559n80dc3_f2fl6m80000gn/T/ipykernel_54320/3668836295.py:32: SettingWithCopyWarning: \n",
      "A value is trying to be set on a copy of a slice from a DataFrame.\n",
      "Try using .loc[row_indexer,col_indexer] = value instead\n",
      "\n",
      "See the caveats in the documentation: https://pandas.pydata.org/pandas-docs/stable/user_guide/indexing.html#returning-a-view-versus-a-copy\n",
      "  data[model + \"_Q\"] = data.apply(lambda x: Q_dict[x.gridnum][x.transformed_state], axis=1)\n"
     ]
    },
    {
     "name": "stdout",
     "output_type": "stream",
     "text": [
      "Iteration No: 584 ended. Search finished for the next optimal point.\n",
      "Time taken: 80.5713\n",
      "Function value obtained: 13110.7538\n",
      "Current minimum: 13002.1908\n",
      "Iteration No: 585 started. Searching for the next optimal point.\n"
     ]
    },
    {
     "name": "stderr",
     "output_type": "stream",
     "text": [
      "/var/folders/6y/gzz1g_p559n80dc3_f2fl6m80000gn/T/ipykernel_54320/3668836295.py:32: SettingWithCopyWarning: \n",
      "A value is trying to be set on a copy of a slice from a DataFrame.\n",
      "Try using .loc[row_indexer,col_indexer] = value instead\n",
      "\n",
      "See the caveats in the documentation: https://pandas.pydata.org/pandas-docs/stable/user_guide/indexing.html#returning-a-view-versus-a-copy\n",
      "  data[model + \"_Q\"] = data.apply(lambda x: Q_dict[x.gridnum][x.transformed_state], axis=1)\n"
     ]
    },
    {
     "name": "stdout",
     "output_type": "stream",
     "text": [
      "Iteration No: 585 ended. Search finished for the next optimal point.\n",
      "Time taken: 77.8954\n",
      "Function value obtained: 13093.5392\n",
      "Current minimum: 13002.1908\n",
      "Iteration No: 586 started. Searching for the next optimal point.\n"
     ]
    },
    {
     "name": "stderr",
     "output_type": "stream",
     "text": [
      "/var/folders/6y/gzz1g_p559n80dc3_f2fl6m80000gn/T/ipykernel_54320/3668836295.py:32: SettingWithCopyWarning: \n",
      "A value is trying to be set on a copy of a slice from a DataFrame.\n",
      "Try using .loc[row_indexer,col_indexer] = value instead\n",
      "\n",
      "See the caveats in the documentation: https://pandas.pydata.org/pandas-docs/stable/user_guide/indexing.html#returning-a-view-versus-a-copy\n",
      "  data[model + \"_Q\"] = data.apply(lambda x: Q_dict[x.gridnum][x.transformed_state], axis=1)\n"
     ]
    },
    {
     "name": "stdout",
     "output_type": "stream",
     "text": [
      "Iteration No: 586 ended. Search finished for the next optimal point.\n",
      "Time taken: 60.2632\n",
      "Function value obtained: 13091.5977\n",
      "Current minimum: 13002.1908\n",
      "Iteration No: 587 started. Searching for the next optimal point.\n"
     ]
    },
    {
     "name": "stderr",
     "output_type": "stream",
     "text": [
      "/var/folders/6y/gzz1g_p559n80dc3_f2fl6m80000gn/T/ipykernel_54320/3668836295.py:32: SettingWithCopyWarning: \n",
      "A value is trying to be set on a copy of a slice from a DataFrame.\n",
      "Try using .loc[row_indexer,col_indexer] = value instead\n",
      "\n",
      "See the caveats in the documentation: https://pandas.pydata.org/pandas-docs/stable/user_guide/indexing.html#returning-a-view-versus-a-copy\n",
      "  data[model + \"_Q\"] = data.apply(lambda x: Q_dict[x.gridnum][x.transformed_state], axis=1)\n"
     ]
    },
    {
     "name": "stdout",
     "output_type": "stream",
     "text": [
      "Iteration No: 587 ended. Search finished for the next optimal point.\n",
      "Time taken: 40.8520\n",
      "Function value obtained: 13066.7179\n",
      "Current minimum: 13002.1908\n",
      "Iteration No: 588 started. Searching for the next optimal point.\n"
     ]
    },
    {
     "name": "stderr",
     "output_type": "stream",
     "text": [
      "/var/folders/6y/gzz1g_p559n80dc3_f2fl6m80000gn/T/ipykernel_54320/3668836295.py:32: SettingWithCopyWarning: \n",
      "A value is trying to be set on a copy of a slice from a DataFrame.\n",
      "Try using .loc[row_indexer,col_indexer] = value instead\n",
      "\n",
      "See the caveats in the documentation: https://pandas.pydata.org/pandas-docs/stable/user_guide/indexing.html#returning-a-view-versus-a-copy\n",
      "  data[model + \"_Q\"] = data.apply(lambda x: Q_dict[x.gridnum][x.transformed_state], axis=1)\n"
     ]
    },
    {
     "name": "stdout",
     "output_type": "stream",
     "text": [
      "Iteration No: 588 ended. Search finished for the next optimal point.\n",
      "Time taken: 48.7556\n",
      "Function value obtained: 13079.9736\n",
      "Current minimum: 13002.1908\n",
      "Iteration No: 589 started. Searching for the next optimal point.\n"
     ]
    },
    {
     "name": "stderr",
     "output_type": "stream",
     "text": [
      "/var/folders/6y/gzz1g_p559n80dc3_f2fl6m80000gn/T/ipykernel_54320/3668836295.py:32: SettingWithCopyWarning: \n",
      "A value is trying to be set on a copy of a slice from a DataFrame.\n",
      "Try using .loc[row_indexer,col_indexer] = value instead\n",
      "\n",
      "See the caveats in the documentation: https://pandas.pydata.org/pandas-docs/stable/user_guide/indexing.html#returning-a-view-versus-a-copy\n",
      "  data[model + \"_Q\"] = data.apply(lambda x: Q_dict[x.gridnum][x.transformed_state], axis=1)\n"
     ]
    },
    {
     "name": "stdout",
     "output_type": "stream",
     "text": [
      "Iteration No: 589 ended. Search finished for the next optimal point.\n",
      "Time taken: 74.6405\n",
      "Function value obtained: 13097.5195\n",
      "Current minimum: 13002.1908\n",
      "Iteration No: 590 started. Searching for the next optimal point.\n"
     ]
    },
    {
     "name": "stderr",
     "output_type": "stream",
     "text": [
      "/var/folders/6y/gzz1g_p559n80dc3_f2fl6m80000gn/T/ipykernel_54320/3668836295.py:32: SettingWithCopyWarning: \n",
      "A value is trying to be set on a copy of a slice from a DataFrame.\n",
      "Try using .loc[row_indexer,col_indexer] = value instead\n",
      "\n",
      "See the caveats in the documentation: https://pandas.pydata.org/pandas-docs/stable/user_guide/indexing.html#returning-a-view-versus-a-copy\n",
      "  data[model + \"_Q\"] = data.apply(lambda x: Q_dict[x.gridnum][x.transformed_state], axis=1)\n"
     ]
    },
    {
     "name": "stdout",
     "output_type": "stream",
     "text": [
      "Iteration No: 590 ended. Search finished for the next optimal point.\n",
      "Time taken: 57.3384\n",
      "Function value obtained: 13076.2068\n",
      "Current minimum: 13002.1908\n",
      "Iteration No: 591 started. Searching for the next optimal point.\n"
     ]
    },
    {
     "name": "stderr",
     "output_type": "stream",
     "text": [
      "/var/folders/6y/gzz1g_p559n80dc3_f2fl6m80000gn/T/ipykernel_54320/3668836295.py:32: SettingWithCopyWarning: \n",
      "A value is trying to be set on a copy of a slice from a DataFrame.\n",
      "Try using .loc[row_indexer,col_indexer] = value instead\n",
      "\n",
      "See the caveats in the documentation: https://pandas.pydata.org/pandas-docs/stable/user_guide/indexing.html#returning-a-view-versus-a-copy\n",
      "  data[model + \"_Q\"] = data.apply(lambda x: Q_dict[x.gridnum][x.transformed_state], axis=1)\n"
     ]
    },
    {
     "name": "stdout",
     "output_type": "stream",
     "text": [
      "Iteration No: 591 ended. Search finished for the next optimal point.\n",
      "Time taken: 53.8310\n",
      "Function value obtained: 13063.6679\n",
      "Current minimum: 13002.1908\n",
      "Iteration No: 592 started. Searching for the next optimal point.\n"
     ]
    },
    {
     "name": "stderr",
     "output_type": "stream",
     "text": [
      "/var/folders/6y/gzz1g_p559n80dc3_f2fl6m80000gn/T/ipykernel_54320/3668836295.py:32: SettingWithCopyWarning: \n",
      "A value is trying to be set on a copy of a slice from a DataFrame.\n",
      "Try using .loc[row_indexer,col_indexer] = value instead\n",
      "\n",
      "See the caveats in the documentation: https://pandas.pydata.org/pandas-docs/stable/user_guide/indexing.html#returning-a-view-versus-a-copy\n",
      "  data[model + \"_Q\"] = data.apply(lambda x: Q_dict[x.gridnum][x.transformed_state], axis=1)\n"
     ]
    },
    {
     "name": "stdout",
     "output_type": "stream",
     "text": [
      "Iteration No: 592 ended. Search finished for the next optimal point.\n",
      "Time taken: 61.3963\n",
      "Function value obtained: 13090.0068\n",
      "Current minimum: 13002.1908\n",
      "Iteration No: 593 started. Searching for the next optimal point.\n"
     ]
    },
    {
     "name": "stderr",
     "output_type": "stream",
     "text": [
      "/var/folders/6y/gzz1g_p559n80dc3_f2fl6m80000gn/T/ipykernel_54320/3668836295.py:32: SettingWithCopyWarning: \n",
      "A value is trying to be set on a copy of a slice from a DataFrame.\n",
      "Try using .loc[row_indexer,col_indexer] = value instead\n",
      "\n",
      "See the caveats in the documentation: https://pandas.pydata.org/pandas-docs/stable/user_guide/indexing.html#returning-a-view-versus-a-copy\n",
      "  data[model + \"_Q\"] = data.apply(lambda x: Q_dict[x.gridnum][x.transformed_state], axis=1)\n"
     ]
    },
    {
     "name": "stdout",
     "output_type": "stream",
     "text": [
      "Iteration No: 593 ended. Search finished for the next optimal point.\n",
      "Time taken: 64.0742\n",
      "Function value obtained: 13108.0468\n",
      "Current minimum: 13002.1908\n",
      "Iteration No: 594 started. Searching for the next optimal point.\n"
     ]
    },
    {
     "name": "stderr",
     "output_type": "stream",
     "text": [
      "/var/folders/6y/gzz1g_p559n80dc3_f2fl6m80000gn/T/ipykernel_54320/3668836295.py:32: SettingWithCopyWarning: \n",
      "A value is trying to be set on a copy of a slice from a DataFrame.\n",
      "Try using .loc[row_indexer,col_indexer] = value instead\n",
      "\n",
      "See the caveats in the documentation: https://pandas.pydata.org/pandas-docs/stable/user_guide/indexing.html#returning-a-view-versus-a-copy\n",
      "  data[model + \"_Q\"] = data.apply(lambda x: Q_dict[x.gridnum][x.transformed_state], axis=1)\n"
     ]
    },
    {
     "name": "stdout",
     "output_type": "stream",
     "text": [
      "Iteration No: 594 ended. Search finished for the next optimal point.\n",
      "Time taken: 83.6237\n",
      "Function value obtained: 13115.6201\n",
      "Current minimum: 13002.1908\n",
      "Iteration No: 595 started. Searching for the next optimal point.\n"
     ]
    },
    {
     "name": "stderr",
     "output_type": "stream",
     "text": [
      "/var/folders/6y/gzz1g_p559n80dc3_f2fl6m80000gn/T/ipykernel_54320/3668836295.py:32: SettingWithCopyWarning: \n",
      "A value is trying to be set on a copy of a slice from a DataFrame.\n",
      "Try using .loc[row_indexer,col_indexer] = value instead\n",
      "\n",
      "See the caveats in the documentation: https://pandas.pydata.org/pandas-docs/stable/user_guide/indexing.html#returning-a-view-versus-a-copy\n",
      "  data[model + \"_Q\"] = data.apply(lambda x: Q_dict[x.gridnum][x.transformed_state], axis=1)\n"
     ]
    },
    {
     "name": "stdout",
     "output_type": "stream",
     "text": [
      "Iteration No: 595 ended. Search finished for the next optimal point.\n",
      "Time taken: 57.8363\n",
      "Function value obtained: 13095.7403\n",
      "Current minimum: 13002.1908\n",
      "Iteration No: 596 started. Searching for the next optimal point.\n"
     ]
    },
    {
     "name": "stderr",
     "output_type": "stream",
     "text": [
      "/var/folders/6y/gzz1g_p559n80dc3_f2fl6m80000gn/T/ipykernel_54320/3668836295.py:32: SettingWithCopyWarning: \n",
      "A value is trying to be set on a copy of a slice from a DataFrame.\n",
      "Try using .loc[row_indexer,col_indexer] = value instead\n",
      "\n",
      "See the caveats in the documentation: https://pandas.pydata.org/pandas-docs/stable/user_guide/indexing.html#returning-a-view-versus-a-copy\n",
      "  data[model + \"_Q\"] = data.apply(lambda x: Q_dict[x.gridnum][x.transformed_state], axis=1)\n"
     ]
    },
    {
     "name": "stdout",
     "output_type": "stream",
     "text": [
      "Iteration No: 596 ended. Search finished for the next optimal point.\n",
      "Time taken: 38.9944\n",
      "Function value obtained: 13120.7371\n",
      "Current minimum: 13002.1908\n",
      "Iteration No: 597 started. Searching for the next optimal point.\n"
     ]
    },
    {
     "name": "stderr",
     "output_type": "stream",
     "text": [
      "/var/folders/6y/gzz1g_p559n80dc3_f2fl6m80000gn/T/ipykernel_54320/3668836295.py:32: SettingWithCopyWarning: \n",
      "A value is trying to be set on a copy of a slice from a DataFrame.\n",
      "Try using .loc[row_indexer,col_indexer] = value instead\n",
      "\n",
      "See the caveats in the documentation: https://pandas.pydata.org/pandas-docs/stable/user_guide/indexing.html#returning-a-view-versus-a-copy\n",
      "  data[model + \"_Q\"] = data.apply(lambda x: Q_dict[x.gridnum][x.transformed_state], axis=1)\n"
     ]
    },
    {
     "name": "stdout",
     "output_type": "stream",
     "text": [
      "Iteration No: 597 ended. Search finished for the next optimal point.\n",
      "Time taken: 53.5566\n",
      "Function value obtained: 13050.7119\n",
      "Current minimum: 13002.1908\n",
      "Iteration No: 598 started. Searching for the next optimal point.\n"
     ]
    },
    {
     "name": "stderr",
     "output_type": "stream",
     "text": [
      "/var/folders/6y/gzz1g_p559n80dc3_f2fl6m80000gn/T/ipykernel_54320/3668836295.py:32: SettingWithCopyWarning: \n",
      "A value is trying to be set on a copy of a slice from a DataFrame.\n",
      "Try using .loc[row_indexer,col_indexer] = value instead\n",
      "\n",
      "See the caveats in the documentation: https://pandas.pydata.org/pandas-docs/stable/user_guide/indexing.html#returning-a-view-versus-a-copy\n",
      "  data[model + \"_Q\"] = data.apply(lambda x: Q_dict[x.gridnum][x.transformed_state], axis=1)\n"
     ]
    },
    {
     "name": "stdout",
     "output_type": "stream",
     "text": [
      "Iteration No: 598 ended. Search finished for the next optimal point.\n",
      "Time taken: 55.3839\n",
      "Function value obtained: 13085.0552\n",
      "Current minimum: 13002.1908\n",
      "Iteration No: 599 started. Searching for the next optimal point.\n"
     ]
    },
    {
     "name": "stderr",
     "output_type": "stream",
     "text": [
      "/var/folders/6y/gzz1g_p559n80dc3_f2fl6m80000gn/T/ipykernel_54320/3668836295.py:32: SettingWithCopyWarning: \n",
      "A value is trying to be set on a copy of a slice from a DataFrame.\n",
      "Try using .loc[row_indexer,col_indexer] = value instead\n",
      "\n",
      "See the caveats in the documentation: https://pandas.pydata.org/pandas-docs/stable/user_guide/indexing.html#returning-a-view-versus-a-copy\n",
      "  data[model + \"_Q\"] = data.apply(lambda x: Q_dict[x.gridnum][x.transformed_state], axis=1)\n"
     ]
    },
    {
     "name": "stdout",
     "output_type": "stream",
     "text": [
      "Iteration No: 599 ended. Search finished for the next optimal point.\n",
      "Time taken: 54.2901\n",
      "Function value obtained: 13148.7501\n",
      "Current minimum: 13002.1908\n",
      "Iteration No: 600 started. Searching for the next optimal point.\n"
     ]
    },
    {
     "name": "stderr",
     "output_type": "stream",
     "text": [
      "/var/folders/6y/gzz1g_p559n80dc3_f2fl6m80000gn/T/ipykernel_54320/3668836295.py:32: SettingWithCopyWarning: \n",
      "A value is trying to be set on a copy of a slice from a DataFrame.\n",
      "Try using .loc[row_indexer,col_indexer] = value instead\n",
      "\n",
      "See the caveats in the documentation: https://pandas.pydata.org/pandas-docs/stable/user_guide/indexing.html#returning-a-view-versus-a-copy\n",
      "  data[model + \"_Q\"] = data.apply(lambda x: Q_dict[x.gridnum][x.transformed_state], axis=1)\n"
     ]
    },
    {
     "name": "stdout",
     "output_type": "stream",
     "text": [
      "Iteration No: 600 ended. Search finished for the next optimal point.\n",
      "Time taken: 65.8679\n",
      "Function value obtained: 13066.5850\n",
      "Current minimum: 13002.1908\n",
      "Iteration No: 601 started. Searching for the next optimal point.\n"
     ]
    },
    {
     "name": "stderr",
     "output_type": "stream",
     "text": [
      "/var/folders/6y/gzz1g_p559n80dc3_f2fl6m80000gn/T/ipykernel_54320/3668836295.py:32: SettingWithCopyWarning: \n",
      "A value is trying to be set on a copy of a slice from a DataFrame.\n",
      "Try using .loc[row_indexer,col_indexer] = value instead\n",
      "\n",
      "See the caveats in the documentation: https://pandas.pydata.org/pandas-docs/stable/user_guide/indexing.html#returning-a-view-versus-a-copy\n",
      "  data[model + \"_Q\"] = data.apply(lambda x: Q_dict[x.gridnum][x.transformed_state], axis=1)\n"
     ]
    },
    {
     "name": "stdout",
     "output_type": "stream",
     "text": [
      "Iteration No: 601 ended. Search finished for the next optimal point.\n",
      "Time taken: 78.6193\n",
      "Function value obtained: 13076.7042\n",
      "Current minimum: 13002.1908\n",
      "Iteration No: 602 started. Searching for the next optimal point.\n"
     ]
    },
    {
     "name": "stderr",
     "output_type": "stream",
     "text": [
      "/var/folders/6y/gzz1g_p559n80dc3_f2fl6m80000gn/T/ipykernel_54320/3668836295.py:32: SettingWithCopyWarning: \n",
      "A value is trying to be set on a copy of a slice from a DataFrame.\n",
      "Try using .loc[row_indexer,col_indexer] = value instead\n",
      "\n",
      "See the caveats in the documentation: https://pandas.pydata.org/pandas-docs/stable/user_guide/indexing.html#returning-a-view-versus-a-copy\n",
      "  data[model + \"_Q\"] = data.apply(lambda x: Q_dict[x.gridnum][x.transformed_state], axis=1)\n"
     ]
    },
    {
     "name": "stdout",
     "output_type": "stream",
     "text": [
      "Iteration No: 602 ended. Search finished for the next optimal point.\n",
      "Time taken: 62.0213\n",
      "Function value obtained: 13080.6967\n",
      "Current minimum: 13002.1908\n",
      "Iteration No: 603 started. Searching for the next optimal point.\n"
     ]
    },
    {
     "name": "stderr",
     "output_type": "stream",
     "text": [
      "/var/folders/6y/gzz1g_p559n80dc3_f2fl6m80000gn/T/ipykernel_54320/3668836295.py:32: SettingWithCopyWarning: \n",
      "A value is trying to be set on a copy of a slice from a DataFrame.\n",
      "Try using .loc[row_indexer,col_indexer] = value instead\n",
      "\n",
      "See the caveats in the documentation: https://pandas.pydata.org/pandas-docs/stable/user_guide/indexing.html#returning-a-view-versus-a-copy\n",
      "  data[model + \"_Q\"] = data.apply(lambda x: Q_dict[x.gridnum][x.transformed_state], axis=1)\n"
     ]
    },
    {
     "name": "stdout",
     "output_type": "stream",
     "text": [
      "Iteration No: 603 ended. Search finished for the next optimal point.\n",
      "Time taken: 62.9947\n",
      "Function value obtained: 13073.9359\n",
      "Current minimum: 13002.1908\n",
      "Iteration No: 604 started. Searching for the next optimal point.\n"
     ]
    },
    {
     "name": "stderr",
     "output_type": "stream",
     "text": [
      "/var/folders/6y/gzz1g_p559n80dc3_f2fl6m80000gn/T/ipykernel_54320/3668836295.py:32: SettingWithCopyWarning: \n",
      "A value is trying to be set on a copy of a slice from a DataFrame.\n",
      "Try using .loc[row_indexer,col_indexer] = value instead\n",
      "\n",
      "See the caveats in the documentation: https://pandas.pydata.org/pandas-docs/stable/user_guide/indexing.html#returning-a-view-versus-a-copy\n",
      "  data[model + \"_Q\"] = data.apply(lambda x: Q_dict[x.gridnum][x.transformed_state], axis=1)\n"
     ]
    },
    {
     "name": "stdout",
     "output_type": "stream",
     "text": [
      "Iteration No: 604 ended. Search finished for the next optimal point.\n",
      "Time taken: 66.1100\n",
      "Function value obtained: 13050.8449\n",
      "Current minimum: 13002.1908\n",
      "Iteration No: 605 started. Searching for the next optimal point.\n"
     ]
    },
    {
     "name": "stderr",
     "output_type": "stream",
     "text": [
      "/var/folders/6y/gzz1g_p559n80dc3_f2fl6m80000gn/T/ipykernel_54320/3668836295.py:32: SettingWithCopyWarning: \n",
      "A value is trying to be set on a copy of a slice from a DataFrame.\n",
      "Try using .loc[row_indexer,col_indexer] = value instead\n",
      "\n",
      "See the caveats in the documentation: https://pandas.pydata.org/pandas-docs/stable/user_guide/indexing.html#returning-a-view-versus-a-copy\n",
      "  data[model + \"_Q\"] = data.apply(lambda x: Q_dict[x.gridnum][x.transformed_state], axis=1)\n"
     ]
    },
    {
     "name": "stdout",
     "output_type": "stream",
     "text": [
      "Iteration No: 605 ended. Search finished for the next optimal point.\n",
      "Time taken: 68.2257\n",
      "Function value obtained: 13070.1798\n",
      "Current minimum: 13002.1908\n",
      "Iteration No: 606 started. Searching for the next optimal point.\n"
     ]
    },
    {
     "name": "stderr",
     "output_type": "stream",
     "text": [
      "/var/folders/6y/gzz1g_p559n80dc3_f2fl6m80000gn/T/ipykernel_54320/3668836295.py:32: SettingWithCopyWarning: \n",
      "A value is trying to be set on a copy of a slice from a DataFrame.\n",
      "Try using .loc[row_indexer,col_indexer] = value instead\n",
      "\n",
      "See the caveats in the documentation: https://pandas.pydata.org/pandas-docs/stable/user_guide/indexing.html#returning-a-view-versus-a-copy\n",
      "  data[model + \"_Q\"] = data.apply(lambda x: Q_dict[x.gridnum][x.transformed_state], axis=1)\n"
     ]
    },
    {
     "name": "stdout",
     "output_type": "stream",
     "text": [
      "Iteration No: 606 ended. Search finished for the next optimal point.\n",
      "Time taken: 65.0659\n",
      "Function value obtained: 13067.3759\n",
      "Current minimum: 13002.1908\n",
      "Iteration No: 607 started. Searching for the next optimal point.\n"
     ]
    },
    {
     "name": "stderr",
     "output_type": "stream",
     "text": [
      "/var/folders/6y/gzz1g_p559n80dc3_f2fl6m80000gn/T/ipykernel_54320/3668836295.py:32: SettingWithCopyWarning: \n",
      "A value is trying to be set on a copy of a slice from a DataFrame.\n",
      "Try using .loc[row_indexer,col_indexer] = value instead\n",
      "\n",
      "See the caveats in the documentation: https://pandas.pydata.org/pandas-docs/stable/user_guide/indexing.html#returning-a-view-versus-a-copy\n",
      "  data[model + \"_Q\"] = data.apply(lambda x: Q_dict[x.gridnum][x.transformed_state], axis=1)\n"
     ]
    },
    {
     "name": "stdout",
     "output_type": "stream",
     "text": [
      "Iteration No: 607 ended. Search finished for the next optimal point.\n",
      "Time taken: 63.4226\n",
      "Function value obtained: 13077.2169\n",
      "Current minimum: 13002.1908\n",
      "Iteration No: 608 started. Searching for the next optimal point.\n"
     ]
    },
    {
     "name": "stderr",
     "output_type": "stream",
     "text": [
      "/var/folders/6y/gzz1g_p559n80dc3_f2fl6m80000gn/T/ipykernel_54320/3668836295.py:32: SettingWithCopyWarning: \n",
      "A value is trying to be set on a copy of a slice from a DataFrame.\n",
      "Try using .loc[row_indexer,col_indexer] = value instead\n",
      "\n",
      "See the caveats in the documentation: https://pandas.pydata.org/pandas-docs/stable/user_guide/indexing.html#returning-a-view-versus-a-copy\n",
      "  data[model + \"_Q\"] = data.apply(lambda x: Q_dict[x.gridnum][x.transformed_state], axis=1)\n"
     ]
    },
    {
     "name": "stdout",
     "output_type": "stream",
     "text": [
      "Iteration No: 608 ended. Search finished for the next optimal point.\n",
      "Time taken: 64.2320\n",
      "Function value obtained: 13079.0515\n",
      "Current minimum: 13002.1908\n",
      "Iteration No: 609 started. Searching for the next optimal point.\n"
     ]
    },
    {
     "name": "stderr",
     "output_type": "stream",
     "text": [
      "/var/folders/6y/gzz1g_p559n80dc3_f2fl6m80000gn/T/ipykernel_54320/3668836295.py:32: SettingWithCopyWarning: \n",
      "A value is trying to be set on a copy of a slice from a DataFrame.\n",
      "Try using .loc[row_indexer,col_indexer] = value instead\n",
      "\n",
      "See the caveats in the documentation: https://pandas.pydata.org/pandas-docs/stable/user_guide/indexing.html#returning-a-view-versus-a-copy\n",
      "  data[model + \"_Q\"] = data.apply(lambda x: Q_dict[x.gridnum][x.transformed_state], axis=1)\n"
     ]
    },
    {
     "name": "stdout",
     "output_type": "stream",
     "text": [
      "Iteration No: 609 ended. Search finished for the next optimal point.\n",
      "Time taken: 67.0392\n",
      "Function value obtained: 13150.0547\n",
      "Current minimum: 13002.1908\n",
      "Iteration No: 610 started. Searching for the next optimal point.\n"
     ]
    },
    {
     "name": "stderr",
     "output_type": "stream",
     "text": [
      "/var/folders/6y/gzz1g_p559n80dc3_f2fl6m80000gn/T/ipykernel_54320/3668836295.py:32: SettingWithCopyWarning: \n",
      "A value is trying to be set on a copy of a slice from a DataFrame.\n",
      "Try using .loc[row_indexer,col_indexer] = value instead\n",
      "\n",
      "See the caveats in the documentation: https://pandas.pydata.org/pandas-docs/stable/user_guide/indexing.html#returning-a-view-versus-a-copy\n",
      "  data[model + \"_Q\"] = data.apply(lambda x: Q_dict[x.gridnum][x.transformed_state], axis=1)\n"
     ]
    },
    {
     "name": "stdout",
     "output_type": "stream",
     "text": [
      "Iteration No: 610 ended. Search finished for the next optimal point.\n",
      "Time taken: 61.0509\n",
      "Function value obtained: 13076.3410\n",
      "Current minimum: 13002.1908\n",
      "Iteration No: 611 started. Searching for the next optimal point.\n"
     ]
    },
    {
     "name": "stderr",
     "output_type": "stream",
     "text": [
      "/var/folders/6y/gzz1g_p559n80dc3_f2fl6m80000gn/T/ipykernel_54320/3668836295.py:32: SettingWithCopyWarning: \n",
      "A value is trying to be set on a copy of a slice from a DataFrame.\n",
      "Try using .loc[row_indexer,col_indexer] = value instead\n",
      "\n",
      "See the caveats in the documentation: https://pandas.pydata.org/pandas-docs/stable/user_guide/indexing.html#returning-a-view-versus-a-copy\n",
      "  data[model + \"_Q\"] = data.apply(lambda x: Q_dict[x.gridnum][x.transformed_state], axis=1)\n"
     ]
    },
    {
     "name": "stdout",
     "output_type": "stream",
     "text": [
      "Iteration No: 611 ended. Search finished for the next optimal point.\n",
      "Time taken: 70.6508\n",
      "Function value obtained: 13082.8196\n",
      "Current minimum: 13002.1908\n",
      "Iteration No: 612 started. Searching for the next optimal point.\n"
     ]
    },
    {
     "name": "stderr",
     "output_type": "stream",
     "text": [
      "/var/folders/6y/gzz1g_p559n80dc3_f2fl6m80000gn/T/ipykernel_54320/3668836295.py:32: SettingWithCopyWarning: \n",
      "A value is trying to be set on a copy of a slice from a DataFrame.\n",
      "Try using .loc[row_indexer,col_indexer] = value instead\n",
      "\n",
      "See the caveats in the documentation: https://pandas.pydata.org/pandas-docs/stable/user_guide/indexing.html#returning-a-view-versus-a-copy\n",
      "  data[model + \"_Q\"] = data.apply(lambda x: Q_dict[x.gridnum][x.transformed_state], axis=1)\n"
     ]
    },
    {
     "name": "stdout",
     "output_type": "stream",
     "text": [
      "Iteration No: 612 ended. Search finished for the next optimal point.\n",
      "Time taken: 44.9988\n",
      "Function value obtained: 13085.0656\n",
      "Current minimum: 13002.1908\n",
      "Iteration No: 613 started. Searching for the next optimal point.\n"
     ]
    },
    {
     "name": "stderr",
     "output_type": "stream",
     "text": [
      "/var/folders/6y/gzz1g_p559n80dc3_f2fl6m80000gn/T/ipykernel_54320/3668836295.py:32: SettingWithCopyWarning: \n",
      "A value is trying to be set on a copy of a slice from a DataFrame.\n",
      "Try using .loc[row_indexer,col_indexer] = value instead\n",
      "\n",
      "See the caveats in the documentation: https://pandas.pydata.org/pandas-docs/stable/user_guide/indexing.html#returning-a-view-versus-a-copy\n",
      "  data[model + \"_Q\"] = data.apply(lambda x: Q_dict[x.gridnum][x.transformed_state], axis=1)\n"
     ]
    },
    {
     "name": "stdout",
     "output_type": "stream",
     "text": [
      "Iteration No: 613 ended. Search finished for the next optimal point.\n",
      "Time taken: 51.4652\n",
      "Function value obtained: 13092.9755\n",
      "Current minimum: 13002.1908\n",
      "Iteration No: 614 started. Searching for the next optimal point.\n"
     ]
    },
    {
     "name": "stderr",
     "output_type": "stream",
     "text": [
      "/var/folders/6y/gzz1g_p559n80dc3_f2fl6m80000gn/T/ipykernel_54320/3668836295.py:32: SettingWithCopyWarning: \n",
      "A value is trying to be set on a copy of a slice from a DataFrame.\n",
      "Try using .loc[row_indexer,col_indexer] = value instead\n",
      "\n",
      "See the caveats in the documentation: https://pandas.pydata.org/pandas-docs/stable/user_guide/indexing.html#returning-a-view-versus-a-copy\n",
      "  data[model + \"_Q\"] = data.apply(lambda x: Q_dict[x.gridnum][x.transformed_state], axis=1)\n"
     ]
    },
    {
     "name": "stdout",
     "output_type": "stream",
     "text": [
      "Iteration No: 614 ended. Search finished for the next optimal point.\n",
      "Time taken: 68.9443\n",
      "Function value obtained: 13053.0640\n",
      "Current minimum: 13002.1908\n",
      "Iteration No: 615 started. Searching for the next optimal point.\n"
     ]
    },
    {
     "name": "stderr",
     "output_type": "stream",
     "text": [
      "/var/folders/6y/gzz1g_p559n80dc3_f2fl6m80000gn/T/ipykernel_54320/3668836295.py:32: SettingWithCopyWarning: \n",
      "A value is trying to be set on a copy of a slice from a DataFrame.\n",
      "Try using .loc[row_indexer,col_indexer] = value instead\n",
      "\n",
      "See the caveats in the documentation: https://pandas.pydata.org/pandas-docs/stable/user_guide/indexing.html#returning-a-view-versus-a-copy\n",
      "  data[model + \"_Q\"] = data.apply(lambda x: Q_dict[x.gridnum][x.transformed_state], axis=1)\n"
     ]
    },
    {
     "name": "stdout",
     "output_type": "stream",
     "text": [
      "Iteration No: 615 ended. Search finished for the next optimal point.\n",
      "Time taken: 59.4572\n",
      "Function value obtained: 13125.3178\n",
      "Current minimum: 13002.1908\n",
      "Iteration No: 616 started. Searching for the next optimal point.\n"
     ]
    },
    {
     "name": "stderr",
     "output_type": "stream",
     "text": [
      "/var/folders/6y/gzz1g_p559n80dc3_f2fl6m80000gn/T/ipykernel_54320/3668836295.py:32: SettingWithCopyWarning: \n",
      "A value is trying to be set on a copy of a slice from a DataFrame.\n",
      "Try using .loc[row_indexer,col_indexer] = value instead\n",
      "\n",
      "See the caveats in the documentation: https://pandas.pydata.org/pandas-docs/stable/user_guide/indexing.html#returning-a-view-versus-a-copy\n",
      "  data[model + \"_Q\"] = data.apply(lambda x: Q_dict[x.gridnum][x.transformed_state], axis=1)\n"
     ]
    },
    {
     "name": "stdout",
     "output_type": "stream",
     "text": [
      "Iteration No: 616 ended. Search finished for the next optimal point.\n",
      "Time taken: 63.3006\n",
      "Function value obtained: 13182.4918\n",
      "Current minimum: 13002.1908\n",
      "Iteration No: 617 started. Searching for the next optimal point.\n"
     ]
    },
    {
     "name": "stderr",
     "output_type": "stream",
     "text": [
      "/var/folders/6y/gzz1g_p559n80dc3_f2fl6m80000gn/T/ipykernel_54320/3668836295.py:32: SettingWithCopyWarning: \n",
      "A value is trying to be set on a copy of a slice from a DataFrame.\n",
      "Try using .loc[row_indexer,col_indexer] = value instead\n",
      "\n",
      "See the caveats in the documentation: https://pandas.pydata.org/pandas-docs/stable/user_guide/indexing.html#returning-a-view-versus-a-copy\n",
      "  data[model + \"_Q\"] = data.apply(lambda x: Q_dict[x.gridnum][x.transformed_state], axis=1)\n"
     ]
    },
    {
     "name": "stdout",
     "output_type": "stream",
     "text": [
      "Iteration No: 617 ended. Search finished for the next optimal point.\n",
      "Time taken: 50.0372\n",
      "Function value obtained: 13183.1950\n",
      "Current minimum: 13002.1908\n",
      "Iteration No: 618 started. Searching for the next optimal point.\n"
     ]
    },
    {
     "name": "stderr",
     "output_type": "stream",
     "text": [
      "/var/folders/6y/gzz1g_p559n80dc3_f2fl6m80000gn/T/ipykernel_54320/3668836295.py:32: SettingWithCopyWarning: \n",
      "A value is trying to be set on a copy of a slice from a DataFrame.\n",
      "Try using .loc[row_indexer,col_indexer] = value instead\n",
      "\n",
      "See the caveats in the documentation: https://pandas.pydata.org/pandas-docs/stable/user_guide/indexing.html#returning-a-view-versus-a-copy\n",
      "  data[model + \"_Q\"] = data.apply(lambda x: Q_dict[x.gridnum][x.transformed_state], axis=1)\n"
     ]
    },
    {
     "name": "stdout",
     "output_type": "stream",
     "text": [
      "Iteration No: 618 ended. Search finished for the next optimal point.\n",
      "Time taken: 72.1197\n",
      "Function value obtained: 13116.7310\n",
      "Current minimum: 13002.1908\n",
      "Iteration No: 619 started. Searching for the next optimal point.\n"
     ]
    },
    {
     "name": "stderr",
     "output_type": "stream",
     "text": [
      "/var/folders/6y/gzz1g_p559n80dc3_f2fl6m80000gn/T/ipykernel_54320/3668836295.py:32: SettingWithCopyWarning: \n",
      "A value is trying to be set on a copy of a slice from a DataFrame.\n",
      "Try using .loc[row_indexer,col_indexer] = value instead\n",
      "\n",
      "See the caveats in the documentation: https://pandas.pydata.org/pandas-docs/stable/user_guide/indexing.html#returning-a-view-versus-a-copy\n",
      "  data[model + \"_Q\"] = data.apply(lambda x: Q_dict[x.gridnum][x.transformed_state], axis=1)\n"
     ]
    },
    {
     "name": "stdout",
     "output_type": "stream",
     "text": [
      "Iteration No: 619 ended. Search finished for the next optimal point.\n",
      "Time taken: 58.2940\n",
      "Function value obtained: 13087.2844\n",
      "Current minimum: 13002.1908\n",
      "Iteration No: 620 started. Searching for the next optimal point.\n"
     ]
    },
    {
     "name": "stderr",
     "output_type": "stream",
     "text": [
      "/var/folders/6y/gzz1g_p559n80dc3_f2fl6m80000gn/T/ipykernel_54320/3668836295.py:32: SettingWithCopyWarning: \n",
      "A value is trying to be set on a copy of a slice from a DataFrame.\n",
      "Try using .loc[row_indexer,col_indexer] = value instead\n",
      "\n",
      "See the caveats in the documentation: https://pandas.pydata.org/pandas-docs/stable/user_guide/indexing.html#returning-a-view-versus-a-copy\n",
      "  data[model + \"_Q\"] = data.apply(lambda x: Q_dict[x.gridnum][x.transformed_state], axis=1)\n"
     ]
    },
    {
     "name": "stdout",
     "output_type": "stream",
     "text": [
      "Iteration No: 620 ended. Search finished for the next optimal point.\n",
      "Time taken: 48.1951\n",
      "Function value obtained: 13086.7445\n",
      "Current minimum: 13002.1908\n",
      "Iteration No: 621 started. Searching for the next optimal point.\n"
     ]
    },
    {
     "name": "stderr",
     "output_type": "stream",
     "text": [
      "/var/folders/6y/gzz1g_p559n80dc3_f2fl6m80000gn/T/ipykernel_54320/3668836295.py:32: SettingWithCopyWarning: \n",
      "A value is trying to be set on a copy of a slice from a DataFrame.\n",
      "Try using .loc[row_indexer,col_indexer] = value instead\n",
      "\n",
      "See the caveats in the documentation: https://pandas.pydata.org/pandas-docs/stable/user_guide/indexing.html#returning-a-view-versus-a-copy\n",
      "  data[model + \"_Q\"] = data.apply(lambda x: Q_dict[x.gridnum][x.transformed_state], axis=1)\n"
     ]
    },
    {
     "name": "stdout",
     "output_type": "stream",
     "text": [
      "Iteration No: 621 ended. Search finished for the next optimal point.\n",
      "Time taken: 78.2180\n",
      "Function value obtained: 13058.0352\n",
      "Current minimum: 13002.1908\n",
      "Iteration No: 622 started. Searching for the next optimal point.\n"
     ]
    },
    {
     "name": "stderr",
     "output_type": "stream",
     "text": [
      "/var/folders/6y/gzz1g_p559n80dc3_f2fl6m80000gn/T/ipykernel_54320/3668836295.py:32: SettingWithCopyWarning: \n",
      "A value is trying to be set on a copy of a slice from a DataFrame.\n",
      "Try using .loc[row_indexer,col_indexer] = value instead\n",
      "\n",
      "See the caveats in the documentation: https://pandas.pydata.org/pandas-docs/stable/user_guide/indexing.html#returning-a-view-versus-a-copy\n",
      "  data[model + \"_Q\"] = data.apply(lambda x: Q_dict[x.gridnum][x.transformed_state], axis=1)\n"
     ]
    },
    {
     "name": "stdout",
     "output_type": "stream",
     "text": [
      "Iteration No: 622 ended. Search finished for the next optimal point.\n",
      "Time taken: 86.1678\n",
      "Function value obtained: 13074.1668\n",
      "Current minimum: 13002.1908\n",
      "Iteration No: 623 started. Searching for the next optimal point.\n"
     ]
    },
    {
     "name": "stderr",
     "output_type": "stream",
     "text": [
      "/var/folders/6y/gzz1g_p559n80dc3_f2fl6m80000gn/T/ipykernel_54320/3668836295.py:32: SettingWithCopyWarning: \n",
      "A value is trying to be set on a copy of a slice from a DataFrame.\n",
      "Try using .loc[row_indexer,col_indexer] = value instead\n",
      "\n",
      "See the caveats in the documentation: https://pandas.pydata.org/pandas-docs/stable/user_guide/indexing.html#returning-a-view-versus-a-copy\n",
      "  data[model + \"_Q\"] = data.apply(lambda x: Q_dict[x.gridnum][x.transformed_state], axis=1)\n"
     ]
    },
    {
     "name": "stdout",
     "output_type": "stream",
     "text": [
      "Iteration No: 623 ended. Search finished for the next optimal point.\n",
      "Time taken: 55.0744\n",
      "Function value obtained: 13071.9905\n",
      "Current minimum: 13002.1908\n",
      "Iteration No: 624 started. Searching for the next optimal point.\n"
     ]
    },
    {
     "name": "stderr",
     "output_type": "stream",
     "text": [
      "/var/folders/6y/gzz1g_p559n80dc3_f2fl6m80000gn/T/ipykernel_54320/3668836295.py:32: SettingWithCopyWarning: \n",
      "A value is trying to be set on a copy of a slice from a DataFrame.\n",
      "Try using .loc[row_indexer,col_indexer] = value instead\n",
      "\n",
      "See the caveats in the documentation: https://pandas.pydata.org/pandas-docs/stable/user_guide/indexing.html#returning-a-view-versus-a-copy\n",
      "  data[model + \"_Q\"] = data.apply(lambda x: Q_dict[x.gridnum][x.transformed_state], axis=1)\n"
     ]
    },
    {
     "name": "stdout",
     "output_type": "stream",
     "text": [
      "Iteration No: 624 ended. Search finished for the next optimal point.\n",
      "Time taken: 57.1716\n",
      "Function value obtained: 13107.3633\n",
      "Current minimum: 13002.1908\n",
      "Iteration No: 625 started. Searching for the next optimal point.\n"
     ]
    },
    {
     "name": "stderr",
     "output_type": "stream",
     "text": [
      "/var/folders/6y/gzz1g_p559n80dc3_f2fl6m80000gn/T/ipykernel_54320/3668836295.py:32: SettingWithCopyWarning: \n",
      "A value is trying to be set on a copy of a slice from a DataFrame.\n",
      "Try using .loc[row_indexer,col_indexer] = value instead\n",
      "\n",
      "See the caveats in the documentation: https://pandas.pydata.org/pandas-docs/stable/user_guide/indexing.html#returning-a-view-versus-a-copy\n",
      "  data[model + \"_Q\"] = data.apply(lambda x: Q_dict[x.gridnum][x.transformed_state], axis=1)\n"
     ]
    },
    {
     "name": "stdout",
     "output_type": "stream",
     "text": [
      "Iteration No: 625 ended. Search finished for the next optimal point.\n",
      "Time taken: 75.0847\n",
      "Function value obtained: 13113.5888\n",
      "Current minimum: 13002.1908\n",
      "Iteration No: 626 started. Searching for the next optimal point.\n"
     ]
    },
    {
     "name": "stderr",
     "output_type": "stream",
     "text": [
      "/var/folders/6y/gzz1g_p559n80dc3_f2fl6m80000gn/T/ipykernel_54320/3668836295.py:32: SettingWithCopyWarning: \n",
      "A value is trying to be set on a copy of a slice from a DataFrame.\n",
      "Try using .loc[row_indexer,col_indexer] = value instead\n",
      "\n",
      "See the caveats in the documentation: https://pandas.pydata.org/pandas-docs/stable/user_guide/indexing.html#returning-a-view-versus-a-copy\n",
      "  data[model + \"_Q\"] = data.apply(lambda x: Q_dict[x.gridnum][x.transformed_state], axis=1)\n"
     ]
    },
    {
     "name": "stdout",
     "output_type": "stream",
     "text": [
      "Iteration No: 626 ended. Search finished for the next optimal point.\n",
      "Time taken: 80.0449\n",
      "Function value obtained: 13104.8779\n",
      "Current minimum: 13002.1908\n",
      "Iteration No: 627 started. Searching for the next optimal point.\n"
     ]
    },
    {
     "name": "stderr",
     "output_type": "stream",
     "text": [
      "/var/folders/6y/gzz1g_p559n80dc3_f2fl6m80000gn/T/ipykernel_54320/3668836295.py:32: SettingWithCopyWarning: \n",
      "A value is trying to be set on a copy of a slice from a DataFrame.\n",
      "Try using .loc[row_indexer,col_indexer] = value instead\n",
      "\n",
      "See the caveats in the documentation: https://pandas.pydata.org/pandas-docs/stable/user_guide/indexing.html#returning-a-view-versus-a-copy\n",
      "  data[model + \"_Q\"] = data.apply(lambda x: Q_dict[x.gridnum][x.transformed_state], axis=1)\n"
     ]
    },
    {
     "name": "stdout",
     "output_type": "stream",
     "text": [
      "Iteration No: 627 ended. Search finished for the next optimal point.\n",
      "Time taken: 42.9334\n",
      "Function value obtained: 13150.3806\n",
      "Current minimum: 13002.1908\n",
      "Iteration No: 628 started. Searching for the next optimal point.\n"
     ]
    },
    {
     "name": "stderr",
     "output_type": "stream",
     "text": [
      "/var/folders/6y/gzz1g_p559n80dc3_f2fl6m80000gn/T/ipykernel_54320/3668836295.py:32: SettingWithCopyWarning: \n",
      "A value is trying to be set on a copy of a slice from a DataFrame.\n",
      "Try using .loc[row_indexer,col_indexer] = value instead\n",
      "\n",
      "See the caveats in the documentation: https://pandas.pydata.org/pandas-docs/stable/user_guide/indexing.html#returning-a-view-versus-a-copy\n",
      "  data[model + \"_Q\"] = data.apply(lambda x: Q_dict[x.gridnum][x.transformed_state], axis=1)\n"
     ]
    },
    {
     "name": "stdout",
     "output_type": "stream",
     "text": [
      "Iteration No: 628 ended. Search finished for the next optimal point.\n",
      "Time taken: 64.2023\n",
      "Function value obtained: 13055.3210\n",
      "Current minimum: 13002.1908\n",
      "Iteration No: 629 started. Searching for the next optimal point.\n"
     ]
    },
    {
     "name": "stderr",
     "output_type": "stream",
     "text": [
      "/var/folders/6y/gzz1g_p559n80dc3_f2fl6m80000gn/T/ipykernel_54320/3668836295.py:32: SettingWithCopyWarning: \n",
      "A value is trying to be set on a copy of a slice from a DataFrame.\n",
      "Try using .loc[row_indexer,col_indexer] = value instead\n",
      "\n",
      "See the caveats in the documentation: https://pandas.pydata.org/pandas-docs/stable/user_guide/indexing.html#returning-a-view-versus-a-copy\n",
      "  data[model + \"_Q\"] = data.apply(lambda x: Q_dict[x.gridnum][x.transformed_state], axis=1)\n"
     ]
    },
    {
     "name": "stdout",
     "output_type": "stream",
     "text": [
      "Iteration No: 629 ended. Search finished for the next optimal point.\n",
      "Time taken: 91.1743\n",
      "Function value obtained: 13096.3695\n",
      "Current minimum: 13002.1908\n",
      "Iteration No: 630 started. Searching for the next optimal point.\n"
     ]
    },
    {
     "name": "stderr",
     "output_type": "stream",
     "text": [
      "/var/folders/6y/gzz1g_p559n80dc3_f2fl6m80000gn/T/ipykernel_54320/3668836295.py:32: SettingWithCopyWarning: \n",
      "A value is trying to be set on a copy of a slice from a DataFrame.\n",
      "Try using .loc[row_indexer,col_indexer] = value instead\n",
      "\n",
      "See the caveats in the documentation: https://pandas.pydata.org/pandas-docs/stable/user_guide/indexing.html#returning-a-view-versus-a-copy\n",
      "  data[model + \"_Q\"] = data.apply(lambda x: Q_dict[x.gridnum][x.transformed_state], axis=1)\n"
     ]
    },
    {
     "name": "stdout",
     "output_type": "stream",
     "text": [
      "Iteration No: 630 ended. Search finished for the next optimal point.\n",
      "Time taken: 43.7891\n",
      "Function value obtained: 13095.8833\n",
      "Current minimum: 13002.1908\n",
      "Iteration No: 631 started. Searching for the next optimal point.\n"
     ]
    },
    {
     "name": "stderr",
     "output_type": "stream",
     "text": [
      "/var/folders/6y/gzz1g_p559n80dc3_f2fl6m80000gn/T/ipykernel_54320/3668836295.py:32: SettingWithCopyWarning: \n",
      "A value is trying to be set on a copy of a slice from a DataFrame.\n",
      "Try using .loc[row_indexer,col_indexer] = value instead\n",
      "\n",
      "See the caveats in the documentation: https://pandas.pydata.org/pandas-docs/stable/user_guide/indexing.html#returning-a-view-versus-a-copy\n",
      "  data[model + \"_Q\"] = data.apply(lambda x: Q_dict[x.gridnum][x.transformed_state], axis=1)\n"
     ]
    },
    {
     "name": "stdout",
     "output_type": "stream",
     "text": [
      "Iteration No: 631 ended. Search finished for the next optimal point.\n",
      "Time taken: 72.3401\n",
      "Function value obtained: 13114.4442\n",
      "Current minimum: 13002.1908\n",
      "Iteration No: 632 started. Searching for the next optimal point.\n"
     ]
    },
    {
     "name": "stderr",
     "output_type": "stream",
     "text": [
      "/var/folders/6y/gzz1g_p559n80dc3_f2fl6m80000gn/T/ipykernel_54320/3668836295.py:32: SettingWithCopyWarning: \n",
      "A value is trying to be set on a copy of a slice from a DataFrame.\n",
      "Try using .loc[row_indexer,col_indexer] = value instead\n",
      "\n",
      "See the caveats in the documentation: https://pandas.pydata.org/pandas-docs/stable/user_guide/indexing.html#returning-a-view-versus-a-copy\n",
      "  data[model + \"_Q\"] = data.apply(lambda x: Q_dict[x.gridnum][x.transformed_state], axis=1)\n"
     ]
    },
    {
     "name": "stdout",
     "output_type": "stream",
     "text": [
      "Iteration No: 632 ended. Search finished for the next optimal point.\n",
      "Time taken: 64.5423\n",
      "Function value obtained: 13117.4109\n",
      "Current minimum: 13002.1908\n",
      "Iteration No: 633 started. Searching for the next optimal point.\n"
     ]
    },
    {
     "name": "stderr",
     "output_type": "stream",
     "text": [
      "/var/folders/6y/gzz1g_p559n80dc3_f2fl6m80000gn/T/ipykernel_54320/3668836295.py:32: SettingWithCopyWarning: \n",
      "A value is trying to be set on a copy of a slice from a DataFrame.\n",
      "Try using .loc[row_indexer,col_indexer] = value instead\n",
      "\n",
      "See the caveats in the documentation: https://pandas.pydata.org/pandas-docs/stable/user_guide/indexing.html#returning-a-view-versus-a-copy\n",
      "  data[model + \"_Q\"] = data.apply(lambda x: Q_dict[x.gridnum][x.transformed_state], axis=1)\n"
     ]
    },
    {
     "name": "stdout",
     "output_type": "stream",
     "text": [
      "Iteration No: 633 ended. Search finished for the next optimal point.\n",
      "Time taken: 55.9679\n",
      "Function value obtained: 13195.1257\n",
      "Current minimum: 13002.1908\n",
      "Iteration No: 634 started. Searching for the next optimal point.\n"
     ]
    },
    {
     "name": "stderr",
     "output_type": "stream",
     "text": [
      "/var/folders/6y/gzz1g_p559n80dc3_f2fl6m80000gn/T/ipykernel_54320/3668836295.py:32: SettingWithCopyWarning: \n",
      "A value is trying to be set on a copy of a slice from a DataFrame.\n",
      "Try using .loc[row_indexer,col_indexer] = value instead\n",
      "\n",
      "See the caveats in the documentation: https://pandas.pydata.org/pandas-docs/stable/user_guide/indexing.html#returning-a-view-versus-a-copy\n",
      "  data[model + \"_Q\"] = data.apply(lambda x: Q_dict[x.gridnum][x.transformed_state], axis=1)\n"
     ]
    },
    {
     "name": "stdout",
     "output_type": "stream",
     "text": [
      "Iteration No: 634 ended. Search finished for the next optimal point.\n",
      "Time taken: 72.7159\n",
      "Function value obtained: 13087.7914\n",
      "Current minimum: 13002.1908\n",
      "Iteration No: 635 started. Searching for the next optimal point.\n"
     ]
    },
    {
     "name": "stderr",
     "output_type": "stream",
     "text": [
      "/var/folders/6y/gzz1g_p559n80dc3_f2fl6m80000gn/T/ipykernel_54320/3668836295.py:32: SettingWithCopyWarning: \n",
      "A value is trying to be set on a copy of a slice from a DataFrame.\n",
      "Try using .loc[row_indexer,col_indexer] = value instead\n",
      "\n",
      "See the caveats in the documentation: https://pandas.pydata.org/pandas-docs/stable/user_guide/indexing.html#returning-a-view-versus-a-copy\n",
      "  data[model + \"_Q\"] = data.apply(lambda x: Q_dict[x.gridnum][x.transformed_state], axis=1)\n"
     ]
    },
    {
     "name": "stdout",
     "output_type": "stream",
     "text": [
      "Iteration No: 635 ended. Search finished for the next optimal point.\n",
      "Time taken: 86.9147\n",
      "Function value obtained: 13094.2752\n",
      "Current minimum: 13002.1908\n",
      "Iteration No: 636 started. Searching for the next optimal point.\n"
     ]
    },
    {
     "name": "stderr",
     "output_type": "stream",
     "text": [
      "/var/folders/6y/gzz1g_p559n80dc3_f2fl6m80000gn/T/ipykernel_54320/3668836295.py:32: SettingWithCopyWarning: \n",
      "A value is trying to be set on a copy of a slice from a DataFrame.\n",
      "Try using .loc[row_indexer,col_indexer] = value instead\n",
      "\n",
      "See the caveats in the documentation: https://pandas.pydata.org/pandas-docs/stable/user_guide/indexing.html#returning-a-view-versus-a-copy\n",
      "  data[model + \"_Q\"] = data.apply(lambda x: Q_dict[x.gridnum][x.transformed_state], axis=1)\n"
     ]
    },
    {
     "name": "stdout",
     "output_type": "stream",
     "text": [
      "Iteration No: 636 ended. Search finished for the next optimal point.\n",
      "Time taken: 70.3447\n",
      "Function value obtained: 13090.3748\n",
      "Current minimum: 13002.1908\n",
      "Iteration No: 637 started. Searching for the next optimal point.\n"
     ]
    },
    {
     "name": "stderr",
     "output_type": "stream",
     "text": [
      "/var/folders/6y/gzz1g_p559n80dc3_f2fl6m80000gn/T/ipykernel_54320/3668836295.py:32: SettingWithCopyWarning: \n",
      "A value is trying to be set on a copy of a slice from a DataFrame.\n",
      "Try using .loc[row_indexer,col_indexer] = value instead\n",
      "\n",
      "See the caveats in the documentation: https://pandas.pydata.org/pandas-docs/stable/user_guide/indexing.html#returning-a-view-versus-a-copy\n",
      "  data[model + \"_Q\"] = data.apply(lambda x: Q_dict[x.gridnum][x.transformed_state], axis=1)\n"
     ]
    },
    {
     "name": "stdout",
     "output_type": "stream",
     "text": [
      "Iteration No: 637 ended. Search finished for the next optimal point.\n",
      "Time taken: 77.8370\n",
      "Function value obtained: 13082.0990\n",
      "Current minimum: 13002.1908\n",
      "Iteration No: 638 started. Searching for the next optimal point.\n"
     ]
    },
    {
     "name": "stderr",
     "output_type": "stream",
     "text": [
      "/var/folders/6y/gzz1g_p559n80dc3_f2fl6m80000gn/T/ipykernel_54320/3668836295.py:32: SettingWithCopyWarning: \n",
      "A value is trying to be set on a copy of a slice from a DataFrame.\n",
      "Try using .loc[row_indexer,col_indexer] = value instead\n",
      "\n",
      "See the caveats in the documentation: https://pandas.pydata.org/pandas-docs/stable/user_guide/indexing.html#returning-a-view-versus-a-copy\n",
      "  data[model + \"_Q\"] = data.apply(lambda x: Q_dict[x.gridnum][x.transformed_state], axis=1)\n"
     ]
    },
    {
     "name": "stdout",
     "output_type": "stream",
     "text": [
      "Iteration No: 638 ended. Search finished for the next optimal point.\n",
      "Time taken: 65.0356\n",
      "Function value obtained: 13109.3847\n",
      "Current minimum: 13002.1908\n",
      "Iteration No: 639 started. Searching for the next optimal point.\n"
     ]
    },
    {
     "name": "stderr",
     "output_type": "stream",
     "text": [
      "/var/folders/6y/gzz1g_p559n80dc3_f2fl6m80000gn/T/ipykernel_54320/3668836295.py:32: SettingWithCopyWarning: \n",
      "A value is trying to be set on a copy of a slice from a DataFrame.\n",
      "Try using .loc[row_indexer,col_indexer] = value instead\n",
      "\n",
      "See the caveats in the documentation: https://pandas.pydata.org/pandas-docs/stable/user_guide/indexing.html#returning-a-view-versus-a-copy\n",
      "  data[model + \"_Q\"] = data.apply(lambda x: Q_dict[x.gridnum][x.transformed_state], axis=1)\n"
     ]
    },
    {
     "name": "stdout",
     "output_type": "stream",
     "text": [
      "Iteration No: 639 ended. Search finished for the next optimal point.\n",
      "Time taken: 75.8549\n",
      "Function value obtained: 13109.4177\n",
      "Current minimum: 13002.1908\n",
      "Iteration No: 640 started. Searching for the next optimal point.\n"
     ]
    },
    {
     "name": "stderr",
     "output_type": "stream",
     "text": [
      "/var/folders/6y/gzz1g_p559n80dc3_f2fl6m80000gn/T/ipykernel_54320/3668836295.py:32: SettingWithCopyWarning: \n",
      "A value is trying to be set on a copy of a slice from a DataFrame.\n",
      "Try using .loc[row_indexer,col_indexer] = value instead\n",
      "\n",
      "See the caveats in the documentation: https://pandas.pydata.org/pandas-docs/stable/user_guide/indexing.html#returning-a-view-versus-a-copy\n",
      "  data[model + \"_Q\"] = data.apply(lambda x: Q_dict[x.gridnum][x.transformed_state], axis=1)\n"
     ]
    },
    {
     "name": "stdout",
     "output_type": "stream",
     "text": [
      "Iteration No: 640 ended. Search finished for the next optimal point.\n",
      "Time taken: 62.2301\n",
      "Function value obtained: 13070.6561\n",
      "Current minimum: 13002.1908\n",
      "Iteration No: 641 started. Searching for the next optimal point.\n"
     ]
    },
    {
     "name": "stderr",
     "output_type": "stream",
     "text": [
      "/var/folders/6y/gzz1g_p559n80dc3_f2fl6m80000gn/T/ipykernel_54320/3668836295.py:32: SettingWithCopyWarning: \n",
      "A value is trying to be set on a copy of a slice from a DataFrame.\n",
      "Try using .loc[row_indexer,col_indexer] = value instead\n",
      "\n",
      "See the caveats in the documentation: https://pandas.pydata.org/pandas-docs/stable/user_guide/indexing.html#returning-a-view-versus-a-copy\n",
      "  data[model + \"_Q\"] = data.apply(lambda x: Q_dict[x.gridnum][x.transformed_state], axis=1)\n"
     ]
    },
    {
     "name": "stdout",
     "output_type": "stream",
     "text": [
      "Iteration No: 641 ended. Search finished for the next optimal point.\n",
      "Time taken: 64.9344\n",
      "Function value obtained: 13079.6836\n",
      "Current minimum: 13002.1908\n",
      "Iteration No: 642 started. Searching for the next optimal point.\n"
     ]
    },
    {
     "name": "stderr",
     "output_type": "stream",
     "text": [
      "/var/folders/6y/gzz1g_p559n80dc3_f2fl6m80000gn/T/ipykernel_54320/3668836295.py:32: SettingWithCopyWarning: \n",
      "A value is trying to be set on a copy of a slice from a DataFrame.\n",
      "Try using .loc[row_indexer,col_indexer] = value instead\n",
      "\n",
      "See the caveats in the documentation: https://pandas.pydata.org/pandas-docs/stable/user_guide/indexing.html#returning-a-view-versus-a-copy\n",
      "  data[model + \"_Q\"] = data.apply(lambda x: Q_dict[x.gridnum][x.transformed_state], axis=1)\n"
     ]
    },
    {
     "name": "stdout",
     "output_type": "stream",
     "text": [
      "Iteration No: 642 ended. Search finished for the next optimal point.\n",
      "Time taken: 91.6808\n",
      "Function value obtained: 13071.5441\n",
      "Current minimum: 13002.1908\n",
      "Iteration No: 643 started. Searching for the next optimal point.\n"
     ]
    },
    {
     "name": "stderr",
     "output_type": "stream",
     "text": [
      "/var/folders/6y/gzz1g_p559n80dc3_f2fl6m80000gn/T/ipykernel_54320/3668836295.py:32: SettingWithCopyWarning: \n",
      "A value is trying to be set on a copy of a slice from a DataFrame.\n",
      "Try using .loc[row_indexer,col_indexer] = value instead\n",
      "\n",
      "See the caveats in the documentation: https://pandas.pydata.org/pandas-docs/stable/user_guide/indexing.html#returning-a-view-versus-a-copy\n",
      "  data[model + \"_Q\"] = data.apply(lambda x: Q_dict[x.gridnum][x.transformed_state], axis=1)\n"
     ]
    },
    {
     "name": "stdout",
     "output_type": "stream",
     "text": [
      "Iteration No: 643 ended. Search finished for the next optimal point.\n",
      "Time taken: 87.1154\n",
      "Function value obtained: 13093.0840\n",
      "Current minimum: 13002.1908\n",
      "Iteration No: 644 started. Searching for the next optimal point.\n"
     ]
    },
    {
     "name": "stderr",
     "output_type": "stream",
     "text": [
      "/var/folders/6y/gzz1g_p559n80dc3_f2fl6m80000gn/T/ipykernel_54320/3668836295.py:32: SettingWithCopyWarning: \n",
      "A value is trying to be set on a copy of a slice from a DataFrame.\n",
      "Try using .loc[row_indexer,col_indexer] = value instead\n",
      "\n",
      "See the caveats in the documentation: https://pandas.pydata.org/pandas-docs/stable/user_guide/indexing.html#returning-a-view-versus-a-copy\n",
      "  data[model + \"_Q\"] = data.apply(lambda x: Q_dict[x.gridnum][x.transformed_state], axis=1)\n"
     ]
    },
    {
     "name": "stdout",
     "output_type": "stream",
     "text": [
      "Iteration No: 644 ended. Search finished for the next optimal point.\n",
      "Time taken: 61.2981\n",
      "Function value obtained: 13059.9576\n",
      "Current minimum: 13002.1908\n",
      "Iteration No: 645 started. Searching for the next optimal point.\n"
     ]
    },
    {
     "name": "stderr",
     "output_type": "stream",
     "text": [
      "/var/folders/6y/gzz1g_p559n80dc3_f2fl6m80000gn/T/ipykernel_54320/3668836295.py:32: SettingWithCopyWarning: \n",
      "A value is trying to be set on a copy of a slice from a DataFrame.\n",
      "Try using .loc[row_indexer,col_indexer] = value instead\n",
      "\n",
      "See the caveats in the documentation: https://pandas.pydata.org/pandas-docs/stable/user_guide/indexing.html#returning-a-view-versus-a-copy\n",
      "  data[model + \"_Q\"] = data.apply(lambda x: Q_dict[x.gridnum][x.transformed_state], axis=1)\n"
     ]
    },
    {
     "name": "stdout",
     "output_type": "stream",
     "text": [
      "Iteration No: 645 ended. Search finished for the next optimal point.\n",
      "Time taken: 63.7283\n",
      "Function value obtained: 13081.6507\n",
      "Current minimum: 13002.1908\n",
      "Iteration No: 646 started. Searching for the next optimal point.\n"
     ]
    },
    {
     "name": "stderr",
     "output_type": "stream",
     "text": [
      "/var/folders/6y/gzz1g_p559n80dc3_f2fl6m80000gn/T/ipykernel_54320/3668836295.py:32: SettingWithCopyWarning: \n",
      "A value is trying to be set on a copy of a slice from a DataFrame.\n",
      "Try using .loc[row_indexer,col_indexer] = value instead\n",
      "\n",
      "See the caveats in the documentation: https://pandas.pydata.org/pandas-docs/stable/user_guide/indexing.html#returning-a-view-versus-a-copy\n",
      "  data[model + \"_Q\"] = data.apply(lambda x: Q_dict[x.gridnum][x.transformed_state], axis=1)\n"
     ]
    },
    {
     "name": "stdout",
     "output_type": "stream",
     "text": [
      "Iteration No: 646 ended. Search finished for the next optimal point.\n",
      "Time taken: 94.5617\n",
      "Function value obtained: 13077.2926\n",
      "Current minimum: 13002.1908\n",
      "Iteration No: 647 started. Searching for the next optimal point.\n"
     ]
    },
    {
     "name": "stderr",
     "output_type": "stream",
     "text": [
      "/var/folders/6y/gzz1g_p559n80dc3_f2fl6m80000gn/T/ipykernel_54320/3668836295.py:32: SettingWithCopyWarning: \n",
      "A value is trying to be set on a copy of a slice from a DataFrame.\n",
      "Try using .loc[row_indexer,col_indexer] = value instead\n",
      "\n",
      "See the caveats in the documentation: https://pandas.pydata.org/pandas-docs/stable/user_guide/indexing.html#returning-a-view-versus-a-copy\n",
      "  data[model + \"_Q\"] = data.apply(lambda x: Q_dict[x.gridnum][x.transformed_state], axis=1)\n"
     ]
    },
    {
     "name": "stdout",
     "output_type": "stream",
     "text": [
      "Iteration No: 647 ended. Search finished for the next optimal point.\n",
      "Time taken: 88.7204\n",
      "Function value obtained: 13104.9537\n",
      "Current minimum: 13002.1908\n",
      "Iteration No: 648 started. Searching for the next optimal point.\n"
     ]
    },
    {
     "name": "stderr",
     "output_type": "stream",
     "text": [
      "/var/folders/6y/gzz1g_p559n80dc3_f2fl6m80000gn/T/ipykernel_54320/3668836295.py:32: SettingWithCopyWarning: \n",
      "A value is trying to be set on a copy of a slice from a DataFrame.\n",
      "Try using .loc[row_indexer,col_indexer] = value instead\n",
      "\n",
      "See the caveats in the documentation: https://pandas.pydata.org/pandas-docs/stable/user_guide/indexing.html#returning-a-view-versus-a-copy\n",
      "  data[model + \"_Q\"] = data.apply(lambda x: Q_dict[x.gridnum][x.transformed_state], axis=1)\n"
     ]
    },
    {
     "name": "stdout",
     "output_type": "stream",
     "text": [
      "Iteration No: 648 ended. Search finished for the next optimal point.\n",
      "Time taken: 80.6488\n",
      "Function value obtained: 13085.0601\n",
      "Current minimum: 13002.1908\n",
      "Iteration No: 649 started. Searching for the next optimal point.\n"
     ]
    },
    {
     "name": "stderr",
     "output_type": "stream",
     "text": [
      "/var/folders/6y/gzz1g_p559n80dc3_f2fl6m80000gn/T/ipykernel_54320/3668836295.py:32: SettingWithCopyWarning: \n",
      "A value is trying to be set on a copy of a slice from a DataFrame.\n",
      "Try using .loc[row_indexer,col_indexer] = value instead\n",
      "\n",
      "See the caveats in the documentation: https://pandas.pydata.org/pandas-docs/stable/user_guide/indexing.html#returning-a-view-versus-a-copy\n",
      "  data[model + \"_Q\"] = data.apply(lambda x: Q_dict[x.gridnum][x.transformed_state], axis=1)\n"
     ]
    },
    {
     "name": "stdout",
     "output_type": "stream",
     "text": [
      "Iteration No: 649 ended. Search finished for the next optimal point.\n",
      "Time taken: 76.3236\n",
      "Function value obtained: 13087.7755\n",
      "Current minimum: 13002.1908\n",
      "Iteration No: 650 started. Searching for the next optimal point.\n"
     ]
    },
    {
     "name": "stderr",
     "output_type": "stream",
     "text": [
      "/var/folders/6y/gzz1g_p559n80dc3_f2fl6m80000gn/T/ipykernel_54320/3668836295.py:32: SettingWithCopyWarning: \n",
      "A value is trying to be set on a copy of a slice from a DataFrame.\n",
      "Try using .loc[row_indexer,col_indexer] = value instead\n",
      "\n",
      "See the caveats in the documentation: https://pandas.pydata.org/pandas-docs/stable/user_guide/indexing.html#returning-a-view-versus-a-copy\n",
      "  data[model + \"_Q\"] = data.apply(lambda x: Q_dict[x.gridnum][x.transformed_state], axis=1)\n"
     ]
    },
    {
     "name": "stdout",
     "output_type": "stream",
     "text": [
      "Iteration No: 650 ended. Search finished for the next optimal point.\n",
      "Time taken: 69.8940\n",
      "Function value obtained: 13074.9247\n",
      "Current minimum: 13002.1908\n",
      "Iteration No: 651 started. Searching for the next optimal point.\n"
     ]
    },
    {
     "name": "stderr",
     "output_type": "stream",
     "text": [
      "/var/folders/6y/gzz1g_p559n80dc3_f2fl6m80000gn/T/ipykernel_54320/3668836295.py:32: SettingWithCopyWarning: \n",
      "A value is trying to be set on a copy of a slice from a DataFrame.\n",
      "Try using .loc[row_indexer,col_indexer] = value instead\n",
      "\n",
      "See the caveats in the documentation: https://pandas.pydata.org/pandas-docs/stable/user_guide/indexing.html#returning-a-view-versus-a-copy\n",
      "  data[model + \"_Q\"] = data.apply(lambda x: Q_dict[x.gridnum][x.transformed_state], axis=1)\n"
     ]
    },
    {
     "name": "stdout",
     "output_type": "stream",
     "text": [
      "Iteration No: 651 ended. Search finished for the next optimal point.\n",
      "Time taken: 59.7318\n",
      "Function value obtained: 13148.9989\n",
      "Current minimum: 13002.1908\n",
      "Iteration No: 652 started. Searching for the next optimal point.\n"
     ]
    },
    {
     "name": "stderr",
     "output_type": "stream",
     "text": [
      "/var/folders/6y/gzz1g_p559n80dc3_f2fl6m80000gn/T/ipykernel_54320/3668836295.py:32: SettingWithCopyWarning: \n",
      "A value is trying to be set on a copy of a slice from a DataFrame.\n",
      "Try using .loc[row_indexer,col_indexer] = value instead\n",
      "\n",
      "See the caveats in the documentation: https://pandas.pydata.org/pandas-docs/stable/user_guide/indexing.html#returning-a-view-versus-a-copy\n",
      "  data[model + \"_Q\"] = data.apply(lambda x: Q_dict[x.gridnum][x.transformed_state], axis=1)\n"
     ]
    },
    {
     "name": "stdout",
     "output_type": "stream",
     "text": [
      "Iteration No: 652 ended. Search finished for the next optimal point.\n",
      "Time taken: 63.4764\n",
      "Function value obtained: 13086.1011\n",
      "Current minimum: 13002.1908\n",
      "Iteration No: 653 started. Searching for the next optimal point.\n"
     ]
    },
    {
     "name": "stderr",
     "output_type": "stream",
     "text": [
      "/var/folders/6y/gzz1g_p559n80dc3_f2fl6m80000gn/T/ipykernel_54320/3668836295.py:32: SettingWithCopyWarning: \n",
      "A value is trying to be set on a copy of a slice from a DataFrame.\n",
      "Try using .loc[row_indexer,col_indexer] = value instead\n",
      "\n",
      "See the caveats in the documentation: https://pandas.pydata.org/pandas-docs/stable/user_guide/indexing.html#returning-a-view-versus-a-copy\n",
      "  data[model + \"_Q\"] = data.apply(lambda x: Q_dict[x.gridnum][x.transformed_state], axis=1)\n"
     ]
    },
    {
     "name": "stdout",
     "output_type": "stream",
     "text": [
      "Iteration No: 653 ended. Search finished for the next optimal point.\n",
      "Time taken: 97.7818\n",
      "Function value obtained: 13076.5608\n",
      "Current minimum: 13002.1908\n",
      "Iteration No: 654 started. Searching for the next optimal point.\n"
     ]
    },
    {
     "name": "stderr",
     "output_type": "stream",
     "text": [
      "/var/folders/6y/gzz1g_p559n80dc3_f2fl6m80000gn/T/ipykernel_54320/3668836295.py:32: SettingWithCopyWarning: \n",
      "A value is trying to be set on a copy of a slice from a DataFrame.\n",
      "Try using .loc[row_indexer,col_indexer] = value instead\n",
      "\n",
      "See the caveats in the documentation: https://pandas.pydata.org/pandas-docs/stable/user_guide/indexing.html#returning-a-view-versus-a-copy\n",
      "  data[model + \"_Q\"] = data.apply(lambda x: Q_dict[x.gridnum][x.transformed_state], axis=1)\n"
     ]
    },
    {
     "name": "stdout",
     "output_type": "stream",
     "text": [
      "Iteration No: 654 ended. Search finished for the next optimal point.\n",
      "Time taken: 91.4910\n",
      "Function value obtained: 13090.3047\n",
      "Current minimum: 13002.1908\n",
      "Iteration No: 655 started. Searching for the next optimal point.\n"
     ]
    },
    {
     "name": "stderr",
     "output_type": "stream",
     "text": [
      "/var/folders/6y/gzz1g_p559n80dc3_f2fl6m80000gn/T/ipykernel_54320/3668836295.py:32: SettingWithCopyWarning: \n",
      "A value is trying to be set on a copy of a slice from a DataFrame.\n",
      "Try using .loc[row_indexer,col_indexer] = value instead\n",
      "\n",
      "See the caveats in the documentation: https://pandas.pydata.org/pandas-docs/stable/user_guide/indexing.html#returning-a-view-versus-a-copy\n",
      "  data[model + \"_Q\"] = data.apply(lambda x: Q_dict[x.gridnum][x.transformed_state], axis=1)\n"
     ]
    },
    {
     "name": "stdout",
     "output_type": "stream",
     "text": [
      "Iteration No: 655 ended. Search finished for the next optimal point.\n",
      "Time taken: 63.3366\n",
      "Function value obtained: 13106.8637\n",
      "Current minimum: 13002.1908\n",
      "Iteration No: 656 started. Searching for the next optimal point.\n"
     ]
    },
    {
     "name": "stderr",
     "output_type": "stream",
     "text": [
      "/var/folders/6y/gzz1g_p559n80dc3_f2fl6m80000gn/T/ipykernel_54320/3668836295.py:32: SettingWithCopyWarning: \n",
      "A value is trying to be set on a copy of a slice from a DataFrame.\n",
      "Try using .loc[row_indexer,col_indexer] = value instead\n",
      "\n",
      "See the caveats in the documentation: https://pandas.pydata.org/pandas-docs/stable/user_guide/indexing.html#returning-a-view-versus-a-copy\n",
      "  data[model + \"_Q\"] = data.apply(lambda x: Q_dict[x.gridnum][x.transformed_state], axis=1)\n"
     ]
    },
    {
     "name": "stdout",
     "output_type": "stream",
     "text": [
      "Iteration No: 656 ended. Search finished for the next optimal point.\n",
      "Time taken: 59.4383\n",
      "Function value obtained: 13120.0450\n",
      "Current minimum: 13002.1908\n",
      "Iteration No: 657 started. Searching for the next optimal point.\n"
     ]
    },
    {
     "name": "stderr",
     "output_type": "stream",
     "text": [
      "/var/folders/6y/gzz1g_p559n80dc3_f2fl6m80000gn/T/ipykernel_54320/3668836295.py:32: SettingWithCopyWarning: \n",
      "A value is trying to be set on a copy of a slice from a DataFrame.\n",
      "Try using .loc[row_indexer,col_indexer] = value instead\n",
      "\n",
      "See the caveats in the documentation: https://pandas.pydata.org/pandas-docs/stable/user_guide/indexing.html#returning-a-view-versus-a-copy\n",
      "  data[model + \"_Q\"] = data.apply(lambda x: Q_dict[x.gridnum][x.transformed_state], axis=1)\n"
     ]
    },
    {
     "name": "stdout",
     "output_type": "stream",
     "text": [
      "Iteration No: 657 ended. Search finished for the next optimal point.\n",
      "Time taken: 73.4135\n",
      "Function value obtained: 13078.1427\n",
      "Current minimum: 13002.1908\n",
      "Iteration No: 658 started. Searching for the next optimal point.\n"
     ]
    },
    {
     "name": "stderr",
     "output_type": "stream",
     "text": [
      "/var/folders/6y/gzz1g_p559n80dc3_f2fl6m80000gn/T/ipykernel_54320/3668836295.py:32: SettingWithCopyWarning: \n",
      "A value is trying to be set on a copy of a slice from a DataFrame.\n",
      "Try using .loc[row_indexer,col_indexer] = value instead\n",
      "\n",
      "See the caveats in the documentation: https://pandas.pydata.org/pandas-docs/stable/user_guide/indexing.html#returning-a-view-versus-a-copy\n",
      "  data[model + \"_Q\"] = data.apply(lambda x: Q_dict[x.gridnum][x.transformed_state], axis=1)\n"
     ]
    },
    {
     "name": "stdout",
     "output_type": "stream",
     "text": [
      "Iteration No: 658 ended. Search finished for the next optimal point.\n",
      "Time taken: 94.5386\n",
      "Function value obtained: 13143.6689\n",
      "Current minimum: 13002.1908\n",
      "Iteration No: 659 started. Searching for the next optimal point.\n"
     ]
    },
    {
     "name": "stderr",
     "output_type": "stream",
     "text": [
      "/var/folders/6y/gzz1g_p559n80dc3_f2fl6m80000gn/T/ipykernel_54320/3668836295.py:32: SettingWithCopyWarning: \n",
      "A value is trying to be set on a copy of a slice from a DataFrame.\n",
      "Try using .loc[row_indexer,col_indexer] = value instead\n",
      "\n",
      "See the caveats in the documentation: https://pandas.pydata.org/pandas-docs/stable/user_guide/indexing.html#returning-a-view-versus-a-copy\n",
      "  data[model + \"_Q\"] = data.apply(lambda x: Q_dict[x.gridnum][x.transformed_state], axis=1)\n"
     ]
    },
    {
     "name": "stdout",
     "output_type": "stream",
     "text": [
      "Iteration No: 659 ended. Search finished for the next optimal point.\n",
      "Time taken: 71.5426\n",
      "Function value obtained: 13070.0265\n",
      "Current minimum: 13002.1908\n",
      "Iteration No: 660 started. Searching for the next optimal point.\n"
     ]
    },
    {
     "name": "stderr",
     "output_type": "stream",
     "text": [
      "/var/folders/6y/gzz1g_p559n80dc3_f2fl6m80000gn/T/ipykernel_54320/3668836295.py:32: SettingWithCopyWarning: \n",
      "A value is trying to be set on a copy of a slice from a DataFrame.\n",
      "Try using .loc[row_indexer,col_indexer] = value instead\n",
      "\n",
      "See the caveats in the documentation: https://pandas.pydata.org/pandas-docs/stable/user_guide/indexing.html#returning-a-view-versus-a-copy\n",
      "  data[model + \"_Q\"] = data.apply(lambda x: Q_dict[x.gridnum][x.transformed_state], axis=1)\n"
     ]
    },
    {
     "name": "stdout",
     "output_type": "stream",
     "text": [
      "Iteration No: 660 ended. Search finished for the next optimal point.\n",
      "Time taken: 127.9324\n",
      "Function value obtained: 13089.0764\n",
      "Current minimum: 13002.1908\n",
      "Iteration No: 661 started. Searching for the next optimal point.\n"
     ]
    },
    {
     "name": "stderr",
     "output_type": "stream",
     "text": [
      "/var/folders/6y/gzz1g_p559n80dc3_f2fl6m80000gn/T/ipykernel_54320/3668836295.py:32: SettingWithCopyWarning: \n",
      "A value is trying to be set on a copy of a slice from a DataFrame.\n",
      "Try using .loc[row_indexer,col_indexer] = value instead\n",
      "\n",
      "See the caveats in the documentation: https://pandas.pydata.org/pandas-docs/stable/user_guide/indexing.html#returning-a-view-versus-a-copy\n",
      "  data[model + \"_Q\"] = data.apply(lambda x: Q_dict[x.gridnum][x.transformed_state], axis=1)\n"
     ]
    },
    {
     "name": "stdout",
     "output_type": "stream",
     "text": [
      "Iteration No: 661 ended. Search finished for the next optimal point.\n",
      "Time taken: 36.8906\n",
      "Function value obtained: 13115.0299\n",
      "Current minimum: 13002.1908\n",
      "Iteration No: 662 started. Searching for the next optimal point.\n"
     ]
    },
    {
     "name": "stderr",
     "output_type": "stream",
     "text": [
      "/var/folders/6y/gzz1g_p559n80dc3_f2fl6m80000gn/T/ipykernel_54320/3668836295.py:32: SettingWithCopyWarning: \n",
      "A value is trying to be set on a copy of a slice from a DataFrame.\n",
      "Try using .loc[row_indexer,col_indexer] = value instead\n",
      "\n",
      "See the caveats in the documentation: https://pandas.pydata.org/pandas-docs/stable/user_guide/indexing.html#returning-a-view-versus-a-copy\n",
      "  data[model + \"_Q\"] = data.apply(lambda x: Q_dict[x.gridnum][x.transformed_state], axis=1)\n"
     ]
    },
    {
     "name": "stdout",
     "output_type": "stream",
     "text": [
      "Iteration No: 662 ended. Search finished for the next optimal point.\n",
      "Time taken: 69.9827\n",
      "Function value obtained: 13089.8404\n",
      "Current minimum: 13002.1908\n",
      "Iteration No: 663 started. Searching for the next optimal point.\n"
     ]
    },
    {
     "name": "stderr",
     "output_type": "stream",
     "text": [
      "/var/folders/6y/gzz1g_p559n80dc3_f2fl6m80000gn/T/ipykernel_54320/3668836295.py:32: SettingWithCopyWarning: \n",
      "A value is trying to be set on a copy of a slice from a DataFrame.\n",
      "Try using .loc[row_indexer,col_indexer] = value instead\n",
      "\n",
      "See the caveats in the documentation: https://pandas.pydata.org/pandas-docs/stable/user_guide/indexing.html#returning-a-view-versus-a-copy\n",
      "  data[model + \"_Q\"] = data.apply(lambda x: Q_dict[x.gridnum][x.transformed_state], axis=1)\n"
     ]
    },
    {
     "name": "stdout",
     "output_type": "stream",
     "text": [
      "Iteration No: 663 ended. Search finished for the next optimal point.\n",
      "Time taken: 74.9091\n",
      "Function value obtained: 13099.1454\n",
      "Current minimum: 13002.1908\n",
      "Iteration No: 664 started. Searching for the next optimal point.\n"
     ]
    },
    {
     "name": "stderr",
     "output_type": "stream",
     "text": [
      "/var/folders/6y/gzz1g_p559n80dc3_f2fl6m80000gn/T/ipykernel_54320/3668836295.py:32: SettingWithCopyWarning: \n",
      "A value is trying to be set on a copy of a slice from a DataFrame.\n",
      "Try using .loc[row_indexer,col_indexer] = value instead\n",
      "\n",
      "See the caveats in the documentation: https://pandas.pydata.org/pandas-docs/stable/user_guide/indexing.html#returning-a-view-versus-a-copy\n",
      "  data[model + \"_Q\"] = data.apply(lambda x: Q_dict[x.gridnum][x.transformed_state], axis=1)\n"
     ]
    },
    {
     "name": "stdout",
     "output_type": "stream",
     "text": [
      "Iteration No: 664 ended. Search finished for the next optimal point.\n",
      "Time taken: 79.6718\n",
      "Function value obtained: 13035.2552\n",
      "Current minimum: 13002.1908\n",
      "Iteration No: 665 started. Searching for the next optimal point.\n"
     ]
    },
    {
     "name": "stderr",
     "output_type": "stream",
     "text": [
      "/var/folders/6y/gzz1g_p559n80dc3_f2fl6m80000gn/T/ipykernel_54320/3668836295.py:32: SettingWithCopyWarning: \n",
      "A value is trying to be set on a copy of a slice from a DataFrame.\n",
      "Try using .loc[row_indexer,col_indexer] = value instead\n",
      "\n",
      "See the caveats in the documentation: https://pandas.pydata.org/pandas-docs/stable/user_guide/indexing.html#returning-a-view-versus-a-copy\n",
      "  data[model + \"_Q\"] = data.apply(lambda x: Q_dict[x.gridnum][x.transformed_state], axis=1)\n"
     ]
    },
    {
     "name": "stdout",
     "output_type": "stream",
     "text": [
      "Iteration No: 665 ended. Search finished for the next optimal point.\n",
      "Time taken: 78.0367\n",
      "Function value obtained: 13081.3445\n",
      "Current minimum: 13002.1908\n",
      "Iteration No: 666 started. Searching for the next optimal point.\n"
     ]
    },
    {
     "name": "stderr",
     "output_type": "stream",
     "text": [
      "/var/folders/6y/gzz1g_p559n80dc3_f2fl6m80000gn/T/ipykernel_54320/3668836295.py:32: SettingWithCopyWarning: \n",
      "A value is trying to be set on a copy of a slice from a DataFrame.\n",
      "Try using .loc[row_indexer,col_indexer] = value instead\n",
      "\n",
      "See the caveats in the documentation: https://pandas.pydata.org/pandas-docs/stable/user_guide/indexing.html#returning-a-view-versus-a-copy\n",
      "  data[model + \"_Q\"] = data.apply(lambda x: Q_dict[x.gridnum][x.transformed_state], axis=1)\n"
     ]
    },
    {
     "name": "stdout",
     "output_type": "stream",
     "text": [
      "Iteration No: 666 ended. Search finished for the next optimal point.\n",
      "Time taken: 78.1651\n",
      "Function value obtained: 13144.9896\n",
      "Current minimum: 13002.1908\n",
      "Iteration No: 667 started. Searching for the next optimal point.\n"
     ]
    },
    {
     "name": "stderr",
     "output_type": "stream",
     "text": [
      "/var/folders/6y/gzz1g_p559n80dc3_f2fl6m80000gn/T/ipykernel_54320/3668836295.py:32: SettingWithCopyWarning: \n",
      "A value is trying to be set on a copy of a slice from a DataFrame.\n",
      "Try using .loc[row_indexer,col_indexer] = value instead\n",
      "\n",
      "See the caveats in the documentation: https://pandas.pydata.org/pandas-docs/stable/user_guide/indexing.html#returning-a-view-versus-a-copy\n",
      "  data[model + \"_Q\"] = data.apply(lambda x: Q_dict[x.gridnum][x.transformed_state], axis=1)\n"
     ]
    },
    {
     "name": "stdout",
     "output_type": "stream",
     "text": [
      "Iteration No: 667 ended. Search finished for the next optimal point.\n",
      "Time taken: 41.6225\n",
      "Function value obtained: 13267.0543\n",
      "Current minimum: 13002.1908\n",
      "Iteration No: 668 started. Searching for the next optimal point.\n"
     ]
    },
    {
     "name": "stderr",
     "output_type": "stream",
     "text": [
      "/var/folders/6y/gzz1g_p559n80dc3_f2fl6m80000gn/T/ipykernel_54320/3668836295.py:32: SettingWithCopyWarning: \n",
      "A value is trying to be set on a copy of a slice from a DataFrame.\n",
      "Try using .loc[row_indexer,col_indexer] = value instead\n",
      "\n",
      "See the caveats in the documentation: https://pandas.pydata.org/pandas-docs/stable/user_guide/indexing.html#returning-a-view-versus-a-copy\n",
      "  data[model + \"_Q\"] = data.apply(lambda x: Q_dict[x.gridnum][x.transformed_state], axis=1)\n"
     ]
    },
    {
     "name": "stdout",
     "output_type": "stream",
     "text": [
      "Iteration No: 668 ended. Search finished for the next optimal point.\n",
      "Time taken: 52.7211\n",
      "Function value obtained: 13102.0678\n",
      "Current minimum: 13002.1908\n",
      "Iteration No: 669 started. Searching for the next optimal point.\n"
     ]
    },
    {
     "name": "stderr",
     "output_type": "stream",
     "text": [
      "/var/folders/6y/gzz1g_p559n80dc3_f2fl6m80000gn/T/ipykernel_54320/3668836295.py:32: SettingWithCopyWarning: \n",
      "A value is trying to be set on a copy of a slice from a DataFrame.\n",
      "Try using .loc[row_indexer,col_indexer] = value instead\n",
      "\n",
      "See the caveats in the documentation: https://pandas.pydata.org/pandas-docs/stable/user_guide/indexing.html#returning-a-view-versus-a-copy\n",
      "  data[model + \"_Q\"] = data.apply(lambda x: Q_dict[x.gridnum][x.transformed_state], axis=1)\n"
     ]
    },
    {
     "name": "stdout",
     "output_type": "stream",
     "text": [
      "Iteration No: 669 ended. Search finished for the next optimal point.\n",
      "Time taken: 87.2252\n",
      "Function value obtained: 13072.5871\n",
      "Current minimum: 13002.1908\n",
      "Iteration No: 670 started. Searching for the next optimal point.\n"
     ]
    },
    {
     "name": "stderr",
     "output_type": "stream",
     "text": [
      "/var/folders/6y/gzz1g_p559n80dc3_f2fl6m80000gn/T/ipykernel_54320/3668836295.py:32: SettingWithCopyWarning: \n",
      "A value is trying to be set on a copy of a slice from a DataFrame.\n",
      "Try using .loc[row_indexer,col_indexer] = value instead\n",
      "\n",
      "See the caveats in the documentation: https://pandas.pydata.org/pandas-docs/stable/user_guide/indexing.html#returning-a-view-versus-a-copy\n",
      "  data[model + \"_Q\"] = data.apply(lambda x: Q_dict[x.gridnum][x.transformed_state], axis=1)\n"
     ]
    },
    {
     "name": "stdout",
     "output_type": "stream",
     "text": [
      "Iteration No: 670 ended. Search finished for the next optimal point.\n",
      "Time taken: 69.8161\n",
      "Function value obtained: 13079.9621\n",
      "Current minimum: 13002.1908\n",
      "Iteration No: 671 started. Searching for the next optimal point.\n"
     ]
    },
    {
     "name": "stderr",
     "output_type": "stream",
     "text": [
      "/var/folders/6y/gzz1g_p559n80dc3_f2fl6m80000gn/T/ipykernel_54320/3668836295.py:32: SettingWithCopyWarning: \n",
      "A value is trying to be set on a copy of a slice from a DataFrame.\n",
      "Try using .loc[row_indexer,col_indexer] = value instead\n",
      "\n",
      "See the caveats in the documentation: https://pandas.pydata.org/pandas-docs/stable/user_guide/indexing.html#returning-a-view-versus-a-copy\n",
      "  data[model + \"_Q\"] = data.apply(lambda x: Q_dict[x.gridnum][x.transformed_state], axis=1)\n"
     ]
    },
    {
     "name": "stdout",
     "output_type": "stream",
     "text": [
      "Iteration No: 671 ended. Search finished for the next optimal point.\n",
      "Time taken: 76.5273\n",
      "Function value obtained: 13123.0180\n",
      "Current minimum: 13002.1908\n",
      "Iteration No: 672 started. Searching for the next optimal point.\n"
     ]
    },
    {
     "name": "stderr",
     "output_type": "stream",
     "text": [
      "/var/folders/6y/gzz1g_p559n80dc3_f2fl6m80000gn/T/ipykernel_54320/3668836295.py:32: SettingWithCopyWarning: \n",
      "A value is trying to be set on a copy of a slice from a DataFrame.\n",
      "Try using .loc[row_indexer,col_indexer] = value instead\n",
      "\n",
      "See the caveats in the documentation: https://pandas.pydata.org/pandas-docs/stable/user_guide/indexing.html#returning-a-view-versus-a-copy\n",
      "  data[model + \"_Q\"] = data.apply(lambda x: Q_dict[x.gridnum][x.transformed_state], axis=1)\n"
     ]
    },
    {
     "name": "stdout",
     "output_type": "stream",
     "text": [
      "Iteration No: 672 ended. Search finished for the next optimal point.\n",
      "Time taken: 70.3908\n",
      "Function value obtained: 13084.0816\n",
      "Current minimum: 13002.1908\n",
      "Iteration No: 673 started. Searching for the next optimal point.\n"
     ]
    },
    {
     "name": "stderr",
     "output_type": "stream",
     "text": [
      "/var/folders/6y/gzz1g_p559n80dc3_f2fl6m80000gn/T/ipykernel_54320/3668836295.py:32: SettingWithCopyWarning: \n",
      "A value is trying to be set on a copy of a slice from a DataFrame.\n",
      "Try using .loc[row_indexer,col_indexer] = value instead\n",
      "\n",
      "See the caveats in the documentation: https://pandas.pydata.org/pandas-docs/stable/user_guide/indexing.html#returning-a-view-versus-a-copy\n",
      "  data[model + \"_Q\"] = data.apply(lambda x: Q_dict[x.gridnum][x.transformed_state], axis=1)\n"
     ]
    },
    {
     "name": "stdout",
     "output_type": "stream",
     "text": [
      "Iteration No: 673 ended. Search finished for the next optimal point.\n",
      "Time taken: 64.9200\n",
      "Function value obtained: 13095.6804\n",
      "Current minimum: 13002.1908\n",
      "Iteration No: 674 started. Searching for the next optimal point.\n"
     ]
    },
    {
     "name": "stderr",
     "output_type": "stream",
     "text": [
      "/var/folders/6y/gzz1g_p559n80dc3_f2fl6m80000gn/T/ipykernel_54320/3668836295.py:32: SettingWithCopyWarning: \n",
      "A value is trying to be set on a copy of a slice from a DataFrame.\n",
      "Try using .loc[row_indexer,col_indexer] = value instead\n",
      "\n",
      "See the caveats in the documentation: https://pandas.pydata.org/pandas-docs/stable/user_guide/indexing.html#returning-a-view-versus-a-copy\n",
      "  data[model + \"_Q\"] = data.apply(lambda x: Q_dict[x.gridnum][x.transformed_state], axis=1)\n"
     ]
    },
    {
     "name": "stdout",
     "output_type": "stream",
     "text": [
      "Iteration No: 674 ended. Search finished for the next optimal point.\n",
      "Time taken: 72.1194\n",
      "Function value obtained: 13118.7967\n",
      "Current minimum: 13002.1908\n",
      "Iteration No: 675 started. Searching for the next optimal point.\n"
     ]
    },
    {
     "name": "stderr",
     "output_type": "stream",
     "text": [
      "/var/folders/6y/gzz1g_p559n80dc3_f2fl6m80000gn/T/ipykernel_54320/3668836295.py:32: SettingWithCopyWarning: \n",
      "A value is trying to be set on a copy of a slice from a DataFrame.\n",
      "Try using .loc[row_indexer,col_indexer] = value instead\n",
      "\n",
      "See the caveats in the documentation: https://pandas.pydata.org/pandas-docs/stable/user_guide/indexing.html#returning-a-view-versus-a-copy\n",
      "  data[model + \"_Q\"] = data.apply(lambda x: Q_dict[x.gridnum][x.transformed_state], axis=1)\n"
     ]
    },
    {
     "name": "stdout",
     "output_type": "stream",
     "text": [
      "Iteration No: 675 ended. Search finished for the next optimal point.\n",
      "Time taken: 51.7478\n",
      "Function value obtained: 13127.5561\n",
      "Current minimum: 13002.1908\n",
      "Iteration No: 676 started. Searching for the next optimal point.\n"
     ]
    },
    {
     "name": "stderr",
     "output_type": "stream",
     "text": [
      "/var/folders/6y/gzz1g_p559n80dc3_f2fl6m80000gn/T/ipykernel_54320/3668836295.py:32: SettingWithCopyWarning: \n",
      "A value is trying to be set on a copy of a slice from a DataFrame.\n",
      "Try using .loc[row_indexer,col_indexer] = value instead\n",
      "\n",
      "See the caveats in the documentation: https://pandas.pydata.org/pandas-docs/stable/user_guide/indexing.html#returning-a-view-versus-a-copy\n",
      "  data[model + \"_Q\"] = data.apply(lambda x: Q_dict[x.gridnum][x.transformed_state], axis=1)\n"
     ]
    },
    {
     "name": "stdout",
     "output_type": "stream",
     "text": [
      "Iteration No: 676 ended. Search finished for the next optimal point.\n",
      "Time taken: 69.8751\n",
      "Function value obtained: 13117.6274\n",
      "Current minimum: 13002.1908\n",
      "Iteration No: 677 started. Searching for the next optimal point.\n"
     ]
    },
    {
     "name": "stderr",
     "output_type": "stream",
     "text": [
      "/var/folders/6y/gzz1g_p559n80dc3_f2fl6m80000gn/T/ipykernel_54320/3668836295.py:32: SettingWithCopyWarning: \n",
      "A value is trying to be set on a copy of a slice from a DataFrame.\n",
      "Try using .loc[row_indexer,col_indexer] = value instead\n",
      "\n",
      "See the caveats in the documentation: https://pandas.pydata.org/pandas-docs/stable/user_guide/indexing.html#returning-a-view-versus-a-copy\n",
      "  data[model + \"_Q\"] = data.apply(lambda x: Q_dict[x.gridnum][x.transformed_state], axis=1)\n"
     ]
    },
    {
     "name": "stdout",
     "output_type": "stream",
     "text": [
      "Iteration No: 677 ended. Search finished for the next optimal point.\n",
      "Time taken: 59.2382\n",
      "Function value obtained: 13121.7352\n",
      "Current minimum: 13002.1908\n",
      "Iteration No: 678 started. Searching for the next optimal point.\n"
     ]
    },
    {
     "name": "stderr",
     "output_type": "stream",
     "text": [
      "/var/folders/6y/gzz1g_p559n80dc3_f2fl6m80000gn/T/ipykernel_54320/3668836295.py:32: SettingWithCopyWarning: \n",
      "A value is trying to be set on a copy of a slice from a DataFrame.\n",
      "Try using .loc[row_indexer,col_indexer] = value instead\n",
      "\n",
      "See the caveats in the documentation: https://pandas.pydata.org/pandas-docs/stable/user_guide/indexing.html#returning-a-view-versus-a-copy\n",
      "  data[model + \"_Q\"] = data.apply(lambda x: Q_dict[x.gridnum][x.transformed_state], axis=1)\n"
     ]
    },
    {
     "name": "stdout",
     "output_type": "stream",
     "text": [
      "Iteration No: 678 ended. Search finished for the next optimal point.\n",
      "Time taken: 117.7319\n",
      "Function value obtained: 13134.7858\n",
      "Current minimum: 13002.1908\n",
      "Iteration No: 679 started. Searching for the next optimal point.\n"
     ]
    },
    {
     "name": "stderr",
     "output_type": "stream",
     "text": [
      "/var/folders/6y/gzz1g_p559n80dc3_f2fl6m80000gn/T/ipykernel_54320/3668836295.py:32: SettingWithCopyWarning: \n",
      "A value is trying to be set on a copy of a slice from a DataFrame.\n",
      "Try using .loc[row_indexer,col_indexer] = value instead\n",
      "\n",
      "See the caveats in the documentation: https://pandas.pydata.org/pandas-docs/stable/user_guide/indexing.html#returning-a-view-versus-a-copy\n",
      "  data[model + \"_Q\"] = data.apply(lambda x: Q_dict[x.gridnum][x.transformed_state], axis=1)\n"
     ]
    },
    {
     "name": "stdout",
     "output_type": "stream",
     "text": [
      "Iteration No: 679 ended. Search finished for the next optimal point.\n",
      "Time taken: 92.6890\n",
      "Function value obtained: 13086.5716\n",
      "Current minimum: 13002.1908\n",
      "Iteration No: 680 started. Searching for the next optimal point.\n"
     ]
    },
    {
     "name": "stderr",
     "output_type": "stream",
     "text": [
      "/var/folders/6y/gzz1g_p559n80dc3_f2fl6m80000gn/T/ipykernel_54320/3668836295.py:32: SettingWithCopyWarning: \n",
      "A value is trying to be set on a copy of a slice from a DataFrame.\n",
      "Try using .loc[row_indexer,col_indexer] = value instead\n",
      "\n",
      "See the caveats in the documentation: https://pandas.pydata.org/pandas-docs/stable/user_guide/indexing.html#returning-a-view-versus-a-copy\n",
      "  data[model + \"_Q\"] = data.apply(lambda x: Q_dict[x.gridnum][x.transformed_state], axis=1)\n"
     ]
    },
    {
     "name": "stdout",
     "output_type": "stream",
     "text": [
      "Iteration No: 680 ended. Search finished for the next optimal point.\n",
      "Time taken: 95.7486\n",
      "Function value obtained: 13113.2386\n",
      "Current minimum: 13002.1908\n",
      "Iteration No: 681 started. Searching for the next optimal point.\n"
     ]
    },
    {
     "name": "stderr",
     "output_type": "stream",
     "text": [
      "/var/folders/6y/gzz1g_p559n80dc3_f2fl6m80000gn/T/ipykernel_54320/3668836295.py:32: SettingWithCopyWarning: \n",
      "A value is trying to be set on a copy of a slice from a DataFrame.\n",
      "Try using .loc[row_indexer,col_indexer] = value instead\n",
      "\n",
      "See the caveats in the documentation: https://pandas.pydata.org/pandas-docs/stable/user_guide/indexing.html#returning-a-view-versus-a-copy\n",
      "  data[model + \"_Q\"] = data.apply(lambda x: Q_dict[x.gridnum][x.transformed_state], axis=1)\n"
     ]
    },
    {
     "name": "stdout",
     "output_type": "stream",
     "text": [
      "Iteration No: 681 ended. Search finished for the next optimal point.\n",
      "Time taken: 51.5409\n",
      "Function value obtained: 13105.6671\n",
      "Current minimum: 13002.1908\n",
      "Iteration No: 682 started. Searching for the next optimal point.\n"
     ]
    },
    {
     "name": "stderr",
     "output_type": "stream",
     "text": [
      "/var/folders/6y/gzz1g_p559n80dc3_f2fl6m80000gn/T/ipykernel_54320/3668836295.py:32: SettingWithCopyWarning: \n",
      "A value is trying to be set on a copy of a slice from a DataFrame.\n",
      "Try using .loc[row_indexer,col_indexer] = value instead\n",
      "\n",
      "See the caveats in the documentation: https://pandas.pydata.org/pandas-docs/stable/user_guide/indexing.html#returning-a-view-versus-a-copy\n",
      "  data[model + \"_Q\"] = data.apply(lambda x: Q_dict[x.gridnum][x.transformed_state], axis=1)\n"
     ]
    },
    {
     "name": "stdout",
     "output_type": "stream",
     "text": [
      "Iteration No: 682 ended. Search finished for the next optimal point.\n",
      "Time taken: 83.0385\n",
      "Function value obtained: 13092.2276\n",
      "Current minimum: 13002.1908\n",
      "Iteration No: 683 started. Searching for the next optimal point.\n"
     ]
    },
    {
     "name": "stderr",
     "output_type": "stream",
     "text": [
      "/var/folders/6y/gzz1g_p559n80dc3_f2fl6m80000gn/T/ipykernel_54320/3668836295.py:32: SettingWithCopyWarning: \n",
      "A value is trying to be set on a copy of a slice from a DataFrame.\n",
      "Try using .loc[row_indexer,col_indexer] = value instead\n",
      "\n",
      "See the caveats in the documentation: https://pandas.pydata.org/pandas-docs/stable/user_guide/indexing.html#returning-a-view-versus-a-copy\n",
      "  data[model + \"_Q\"] = data.apply(lambda x: Q_dict[x.gridnum][x.transformed_state], axis=1)\n"
     ]
    },
    {
     "name": "stdout",
     "output_type": "stream",
     "text": [
      "Iteration No: 683 ended. Search finished for the next optimal point.\n",
      "Time taken: 93.7677\n",
      "Function value obtained: 13072.0214\n",
      "Current minimum: 13002.1908\n",
      "Iteration No: 684 started. Searching for the next optimal point.\n"
     ]
    },
    {
     "name": "stderr",
     "output_type": "stream",
     "text": [
      "/var/folders/6y/gzz1g_p559n80dc3_f2fl6m80000gn/T/ipykernel_54320/3668836295.py:32: SettingWithCopyWarning: \n",
      "A value is trying to be set on a copy of a slice from a DataFrame.\n",
      "Try using .loc[row_indexer,col_indexer] = value instead\n",
      "\n",
      "See the caveats in the documentation: https://pandas.pydata.org/pandas-docs/stable/user_guide/indexing.html#returning-a-view-versus-a-copy\n",
      "  data[model + \"_Q\"] = data.apply(lambda x: Q_dict[x.gridnum][x.transformed_state], axis=1)\n"
     ]
    },
    {
     "name": "stdout",
     "output_type": "stream",
     "text": [
      "Iteration No: 684 ended. Search finished for the next optimal point.\n",
      "Time taken: 76.5819\n",
      "Function value obtained: 13100.2814\n",
      "Current minimum: 13002.1908\n",
      "Iteration No: 685 started. Searching for the next optimal point.\n"
     ]
    },
    {
     "name": "stderr",
     "output_type": "stream",
     "text": [
      "/var/folders/6y/gzz1g_p559n80dc3_f2fl6m80000gn/T/ipykernel_54320/3668836295.py:32: SettingWithCopyWarning: \n",
      "A value is trying to be set on a copy of a slice from a DataFrame.\n",
      "Try using .loc[row_indexer,col_indexer] = value instead\n",
      "\n",
      "See the caveats in the documentation: https://pandas.pydata.org/pandas-docs/stable/user_guide/indexing.html#returning-a-view-versus-a-copy\n",
      "  data[model + \"_Q\"] = data.apply(lambda x: Q_dict[x.gridnum][x.transformed_state], axis=1)\n"
     ]
    },
    {
     "name": "stdout",
     "output_type": "stream",
     "text": [
      "Iteration No: 685 ended. Search finished for the next optimal point.\n",
      "Time taken: 73.6213\n",
      "Function value obtained: 13091.9663\n",
      "Current minimum: 13002.1908\n",
      "Iteration No: 686 started. Searching for the next optimal point.\n"
     ]
    },
    {
     "name": "stderr",
     "output_type": "stream",
     "text": [
      "/var/folders/6y/gzz1g_p559n80dc3_f2fl6m80000gn/T/ipykernel_54320/3668836295.py:32: SettingWithCopyWarning: \n",
      "A value is trying to be set on a copy of a slice from a DataFrame.\n",
      "Try using .loc[row_indexer,col_indexer] = value instead\n",
      "\n",
      "See the caveats in the documentation: https://pandas.pydata.org/pandas-docs/stable/user_guide/indexing.html#returning-a-view-versus-a-copy\n",
      "  data[model + \"_Q\"] = data.apply(lambda x: Q_dict[x.gridnum][x.transformed_state], axis=1)\n"
     ]
    },
    {
     "name": "stdout",
     "output_type": "stream",
     "text": [
      "Iteration No: 686 ended. Search finished for the next optimal point.\n",
      "Time taken: 65.0325\n",
      "Function value obtained: 13067.8784\n",
      "Current minimum: 13002.1908\n",
      "Iteration No: 687 started. Searching for the next optimal point.\n"
     ]
    },
    {
     "name": "stderr",
     "output_type": "stream",
     "text": [
      "/var/folders/6y/gzz1g_p559n80dc3_f2fl6m80000gn/T/ipykernel_54320/3668836295.py:32: SettingWithCopyWarning: \n",
      "A value is trying to be set on a copy of a slice from a DataFrame.\n",
      "Try using .loc[row_indexer,col_indexer] = value instead\n",
      "\n",
      "See the caveats in the documentation: https://pandas.pydata.org/pandas-docs/stable/user_guide/indexing.html#returning-a-view-versus-a-copy\n",
      "  data[model + \"_Q\"] = data.apply(lambda x: Q_dict[x.gridnum][x.transformed_state], axis=1)\n"
     ]
    },
    {
     "name": "stdout",
     "output_type": "stream",
     "text": [
      "Iteration No: 687 ended. Search finished for the next optimal point.\n",
      "Time taken: 68.1015\n",
      "Function value obtained: 13135.5044\n",
      "Current minimum: 13002.1908\n",
      "Iteration No: 688 started. Searching for the next optimal point.\n"
     ]
    },
    {
     "name": "stderr",
     "output_type": "stream",
     "text": [
      "/var/folders/6y/gzz1g_p559n80dc3_f2fl6m80000gn/T/ipykernel_54320/3668836295.py:32: SettingWithCopyWarning: \n",
      "A value is trying to be set on a copy of a slice from a DataFrame.\n",
      "Try using .loc[row_indexer,col_indexer] = value instead\n",
      "\n",
      "See the caveats in the documentation: https://pandas.pydata.org/pandas-docs/stable/user_guide/indexing.html#returning-a-view-versus-a-copy\n",
      "  data[model + \"_Q\"] = data.apply(lambda x: Q_dict[x.gridnum][x.transformed_state], axis=1)\n"
     ]
    },
    {
     "name": "stdout",
     "output_type": "stream",
     "text": [
      "Iteration No: 688 ended. Search finished for the next optimal point.\n",
      "Time taken: 80.7397\n",
      "Function value obtained: 13108.3564\n",
      "Current minimum: 13002.1908\n",
      "Iteration No: 689 started. Searching for the next optimal point.\n"
     ]
    },
    {
     "name": "stderr",
     "output_type": "stream",
     "text": [
      "/var/folders/6y/gzz1g_p559n80dc3_f2fl6m80000gn/T/ipykernel_54320/3668836295.py:32: SettingWithCopyWarning: \n",
      "A value is trying to be set on a copy of a slice from a DataFrame.\n",
      "Try using .loc[row_indexer,col_indexer] = value instead\n",
      "\n",
      "See the caveats in the documentation: https://pandas.pydata.org/pandas-docs/stable/user_guide/indexing.html#returning-a-view-versus-a-copy\n",
      "  data[model + \"_Q\"] = data.apply(lambda x: Q_dict[x.gridnum][x.transformed_state], axis=1)\n"
     ]
    },
    {
     "name": "stdout",
     "output_type": "stream",
     "text": [
      "Iteration No: 689 ended. Search finished for the next optimal point.\n",
      "Time taken: 56.9579\n",
      "Function value obtained: 13112.7810\n",
      "Current minimum: 13002.1908\n",
      "Iteration No: 690 started. Searching for the next optimal point.\n"
     ]
    },
    {
     "name": "stderr",
     "output_type": "stream",
     "text": [
      "/var/folders/6y/gzz1g_p559n80dc3_f2fl6m80000gn/T/ipykernel_54320/3668836295.py:32: SettingWithCopyWarning: \n",
      "A value is trying to be set on a copy of a slice from a DataFrame.\n",
      "Try using .loc[row_indexer,col_indexer] = value instead\n",
      "\n",
      "See the caveats in the documentation: https://pandas.pydata.org/pandas-docs/stable/user_guide/indexing.html#returning-a-view-versus-a-copy\n",
      "  data[model + \"_Q\"] = data.apply(lambda x: Q_dict[x.gridnum][x.transformed_state], axis=1)\n"
     ]
    },
    {
     "name": "stdout",
     "output_type": "stream",
     "text": [
      "Iteration No: 690 ended. Search finished for the next optimal point.\n",
      "Time taken: 83.3073\n",
      "Function value obtained: 13084.5408\n",
      "Current minimum: 13002.1908\n",
      "Iteration No: 691 started. Searching for the next optimal point.\n"
     ]
    },
    {
     "name": "stderr",
     "output_type": "stream",
     "text": [
      "/var/folders/6y/gzz1g_p559n80dc3_f2fl6m80000gn/T/ipykernel_54320/3668836295.py:32: SettingWithCopyWarning: \n",
      "A value is trying to be set on a copy of a slice from a DataFrame.\n",
      "Try using .loc[row_indexer,col_indexer] = value instead\n",
      "\n",
      "See the caveats in the documentation: https://pandas.pydata.org/pandas-docs/stable/user_guide/indexing.html#returning-a-view-versus-a-copy\n",
      "  data[model + \"_Q\"] = data.apply(lambda x: Q_dict[x.gridnum][x.transformed_state], axis=1)\n"
     ]
    },
    {
     "name": "stdout",
     "output_type": "stream",
     "text": [
      "Iteration No: 691 ended. Search finished for the next optimal point.\n",
      "Time taken: 102.6318\n",
      "Function value obtained: 13096.6476\n",
      "Current minimum: 13002.1908\n",
      "Iteration No: 692 started. Searching for the next optimal point.\n"
     ]
    },
    {
     "name": "stderr",
     "output_type": "stream",
     "text": [
      "/var/folders/6y/gzz1g_p559n80dc3_f2fl6m80000gn/T/ipykernel_54320/3668836295.py:32: SettingWithCopyWarning: \n",
      "A value is trying to be set on a copy of a slice from a DataFrame.\n",
      "Try using .loc[row_indexer,col_indexer] = value instead\n",
      "\n",
      "See the caveats in the documentation: https://pandas.pydata.org/pandas-docs/stable/user_guide/indexing.html#returning-a-view-versus-a-copy\n",
      "  data[model + \"_Q\"] = data.apply(lambda x: Q_dict[x.gridnum][x.transformed_state], axis=1)\n"
     ]
    },
    {
     "name": "stdout",
     "output_type": "stream",
     "text": [
      "Iteration No: 692 ended. Search finished for the next optimal point.\n",
      "Time taken: 85.2815\n",
      "Function value obtained: 13067.7464\n",
      "Current minimum: 13002.1908\n",
      "Iteration No: 693 started. Searching for the next optimal point.\n"
     ]
    },
    {
     "name": "stderr",
     "output_type": "stream",
     "text": [
      "/var/folders/6y/gzz1g_p559n80dc3_f2fl6m80000gn/T/ipykernel_54320/3668836295.py:32: SettingWithCopyWarning: \n",
      "A value is trying to be set on a copy of a slice from a DataFrame.\n",
      "Try using .loc[row_indexer,col_indexer] = value instead\n",
      "\n",
      "See the caveats in the documentation: https://pandas.pydata.org/pandas-docs/stable/user_guide/indexing.html#returning-a-view-versus-a-copy\n",
      "  data[model + \"_Q\"] = data.apply(lambda x: Q_dict[x.gridnum][x.transformed_state], axis=1)\n"
     ]
    },
    {
     "name": "stdout",
     "output_type": "stream",
     "text": [
      "Iteration No: 693 ended. Search finished for the next optimal point.\n",
      "Time taken: 66.2557\n",
      "Function value obtained: 13091.2369\n",
      "Current minimum: 13002.1908\n",
      "Iteration No: 694 started. Searching for the next optimal point.\n"
     ]
    },
    {
     "name": "stderr",
     "output_type": "stream",
     "text": [
      "/var/folders/6y/gzz1g_p559n80dc3_f2fl6m80000gn/T/ipykernel_54320/3668836295.py:32: SettingWithCopyWarning: \n",
      "A value is trying to be set on a copy of a slice from a DataFrame.\n",
      "Try using .loc[row_indexer,col_indexer] = value instead\n",
      "\n",
      "See the caveats in the documentation: https://pandas.pydata.org/pandas-docs/stable/user_guide/indexing.html#returning-a-view-versus-a-copy\n",
      "  data[model + \"_Q\"] = data.apply(lambda x: Q_dict[x.gridnum][x.transformed_state], axis=1)\n"
     ]
    },
    {
     "name": "stdout",
     "output_type": "stream",
     "text": [
      "Iteration No: 694 ended. Search finished for the next optimal point.\n",
      "Time taken: 56.8168\n",
      "Function value obtained: 13067.9825\n",
      "Current minimum: 13002.1908\n",
      "Iteration No: 695 started. Searching for the next optimal point.\n"
     ]
    },
    {
     "name": "stderr",
     "output_type": "stream",
     "text": [
      "/var/folders/6y/gzz1g_p559n80dc3_f2fl6m80000gn/T/ipykernel_54320/3668836295.py:32: SettingWithCopyWarning: \n",
      "A value is trying to be set on a copy of a slice from a DataFrame.\n",
      "Try using .loc[row_indexer,col_indexer] = value instead\n",
      "\n",
      "See the caveats in the documentation: https://pandas.pydata.org/pandas-docs/stable/user_guide/indexing.html#returning-a-view-versus-a-copy\n",
      "  data[model + \"_Q\"] = data.apply(lambda x: Q_dict[x.gridnum][x.transformed_state], axis=1)\n"
     ]
    },
    {
     "name": "stdout",
     "output_type": "stream",
     "text": [
      "Iteration No: 695 ended. Search finished for the next optimal point.\n",
      "Time taken: 86.3068\n",
      "Function value obtained: 13100.4353\n",
      "Current minimum: 13002.1908\n",
      "Iteration No: 696 started. Searching for the next optimal point.\n"
     ]
    },
    {
     "name": "stderr",
     "output_type": "stream",
     "text": [
      "/var/folders/6y/gzz1g_p559n80dc3_f2fl6m80000gn/T/ipykernel_54320/3668836295.py:32: SettingWithCopyWarning: \n",
      "A value is trying to be set on a copy of a slice from a DataFrame.\n",
      "Try using .loc[row_indexer,col_indexer] = value instead\n",
      "\n",
      "See the caveats in the documentation: https://pandas.pydata.org/pandas-docs/stable/user_guide/indexing.html#returning-a-view-versus-a-copy\n",
      "  data[model + \"_Q\"] = data.apply(lambda x: Q_dict[x.gridnum][x.transformed_state], axis=1)\n"
     ]
    },
    {
     "name": "stdout",
     "output_type": "stream",
     "text": [
      "Iteration No: 696 ended. Search finished for the next optimal point.\n",
      "Time taken: 77.9575\n",
      "Function value obtained: 13099.7650\n",
      "Current minimum: 13002.1908\n",
      "Iteration No: 697 started. Searching for the next optimal point.\n"
     ]
    },
    {
     "name": "stderr",
     "output_type": "stream",
     "text": [
      "/var/folders/6y/gzz1g_p559n80dc3_f2fl6m80000gn/T/ipykernel_54320/3668836295.py:32: SettingWithCopyWarning: \n",
      "A value is trying to be set on a copy of a slice from a DataFrame.\n",
      "Try using .loc[row_indexer,col_indexer] = value instead\n",
      "\n",
      "See the caveats in the documentation: https://pandas.pydata.org/pandas-docs/stable/user_guide/indexing.html#returning-a-view-versus-a-copy\n",
      "  data[model + \"_Q\"] = data.apply(lambda x: Q_dict[x.gridnum][x.transformed_state], axis=1)\n"
     ]
    },
    {
     "name": "stdout",
     "output_type": "stream",
     "text": [
      "Iteration No: 697 ended. Search finished for the next optimal point.\n",
      "Time taken: 95.2315\n",
      "Function value obtained: 13096.5635\n",
      "Current minimum: 13002.1908\n",
      "Iteration No: 698 started. Searching for the next optimal point.\n"
     ]
    },
    {
     "name": "stderr",
     "output_type": "stream",
     "text": [
      "/var/folders/6y/gzz1g_p559n80dc3_f2fl6m80000gn/T/ipykernel_54320/3668836295.py:32: SettingWithCopyWarning: \n",
      "A value is trying to be set on a copy of a slice from a DataFrame.\n",
      "Try using .loc[row_indexer,col_indexer] = value instead\n",
      "\n",
      "See the caveats in the documentation: https://pandas.pydata.org/pandas-docs/stable/user_guide/indexing.html#returning-a-view-versus-a-copy\n",
      "  data[model + \"_Q\"] = data.apply(lambda x: Q_dict[x.gridnum][x.transformed_state], axis=1)\n"
     ]
    },
    {
     "name": "stdout",
     "output_type": "stream",
     "text": [
      "Iteration No: 698 ended. Search finished for the next optimal point.\n",
      "Time taken: 69.9968\n",
      "Function value obtained: 13062.1645\n",
      "Current minimum: 13002.1908\n",
      "Iteration No: 699 started. Searching for the next optimal point.\n"
     ]
    },
    {
     "name": "stderr",
     "output_type": "stream",
     "text": [
      "/var/folders/6y/gzz1g_p559n80dc3_f2fl6m80000gn/T/ipykernel_54320/3668836295.py:32: SettingWithCopyWarning: \n",
      "A value is trying to be set on a copy of a slice from a DataFrame.\n",
      "Try using .loc[row_indexer,col_indexer] = value instead\n",
      "\n",
      "See the caveats in the documentation: https://pandas.pydata.org/pandas-docs/stable/user_guide/indexing.html#returning-a-view-versus-a-copy\n",
      "  data[model + \"_Q\"] = data.apply(lambda x: Q_dict[x.gridnum][x.transformed_state], axis=1)\n"
     ]
    },
    {
     "name": "stdout",
     "output_type": "stream",
     "text": [
      "Iteration No: 699 ended. Search finished for the next optimal point.\n",
      "Time taken: 96.3445\n",
      "Function value obtained: 13084.1092\n",
      "Current minimum: 13002.1908\n",
      "Iteration No: 700 started. Searching for the next optimal point.\n"
     ]
    },
    {
     "name": "stderr",
     "output_type": "stream",
     "text": [
      "/var/folders/6y/gzz1g_p559n80dc3_f2fl6m80000gn/T/ipykernel_54320/3668836295.py:32: SettingWithCopyWarning: \n",
      "A value is trying to be set on a copy of a slice from a DataFrame.\n",
      "Try using .loc[row_indexer,col_indexer] = value instead\n",
      "\n",
      "See the caveats in the documentation: https://pandas.pydata.org/pandas-docs/stable/user_guide/indexing.html#returning-a-view-versus-a-copy\n",
      "  data[model + \"_Q\"] = data.apply(lambda x: Q_dict[x.gridnum][x.transformed_state], axis=1)\n"
     ]
    },
    {
     "name": "stdout",
     "output_type": "stream",
     "text": [
      "Iteration No: 700 ended. Search finished for the next optimal point.\n",
      "Time taken: 85.3342\n",
      "Function value obtained: 13077.5874\n",
      "Current minimum: 13002.1908\n"
     ]
    }
   ],
   "source": [
    "# Code used to fit models using Bayesian optimization with Gaussian processes\n",
    "\n",
    "\"\"\"\n",
    "time_delay = time_pressure_data[time_pressure_data['timed'] == 0]\n",
    "time_pressure = time_pressure_data[time_pressure_data['timed'] == 1]\n",
    "\n",
    "time_separate = gp_minimize(lambda x: calculate_NLL_stochastic([x[0],x[1]], model=\"dual\",data=time_delay) + calculate_NLL_stochastic([x[0],x[2]], model=\"dual\",data=time_pressure),                  # the function to minimize\n",
    "                  [(0.1, 5), (0,5000), (0,5000)],      # the bounds on each dimension of x\n",
    "                  acq_func=\"EI\",      # the acquisition function\n",
    "                  n_calls=500,         # the number of evaluations of f\n",
    "                  n_initial_points=50,  # the number of random initialization points\n",
    "                  random_state=1234,   # the random seed\n",
    "                  x0=[0.2, 6405, 6405], # initial guess\n",
    "                  verbose=True)   \n",
    "time_separate.specs['args']['func'] = None\n",
    "dump(time_separate, 'model_fitting/time_separate_optimize.pkl')\n",
    "\n",
    "time_combined = gp_minimize(lambda x: calculate_NLL_stochastic(x, model=\"dual\",data=time_pressure_data),                  # the function to minimize\n",
    "                  [(0.1, 5), (0,5000)],      # the bounds on each dimension of x\n",
    "                  acq_func=\"EI\",      # the acquisition function\n",
    "                  n_calls=500,         # the number of evaluations of f\n",
    "                  n_initial_points=50,  # the number of random initialization points\n",
    "                  random_state=1234,   # the random seed\n",
    "                  x0=[0.2, 6405],       # initial guess\n",
    "                  verbose=True)   \n",
    "time_combined.specs['args']['func'] = None\n",
    "dump(time_combined, 'model_fitting/time_combined_optimize.pkl')\n",
    "\"\"\""
   ]
  },
  {
   "cell_type": "code",
   "execution_count": 13,
   "metadata": {},
   "outputs": [
    {
     "name": "stdout",
     "output_type": "stream",
     "text": [
      "Time separate\n",
      "Delay Iters:  3892 | Pressure Iters:  2822 | Beta:  0.23 | NLL:  13054.59 | BIC:  26137.03\n",
      "Time combined\n",
      "Iters:  2900 | Beta:  0.2 | NLL:  13076.32 | BIC:  26171.2\n"
     ]
    },
    {
     "name": "stderr",
     "output_type": "stream",
     "text": [
      "/Users/azhang/anaconda3/lib/python3.12/site-packages/sklearn/base.py:376: InconsistentVersionWarning: Trying to unpickle estimator LabelBinarizer from version 1.6.0 when using version 1.5.1. This might lead to breaking code or invalid results. Use at your own risk. For more info please refer to:\n",
      "https://scikit-learn.org/stable/model_persistence.html#security-maintainability-limitations\n",
      "  warnings.warn(\n"
     ]
    },
    {
     "data": {
      "image/png": "[encoded data removed]",
      "text/plain": [
       "<Figure size 1200x600 with 2 Axes>"
      ]
     },
     "metadata": {},
     "output_type": "display_data"
    }
   ],
   "source": [
    "time_separate = load('model_fitting/time_separate_optimize_500_12810.pkl')\n",
    "time_combined = load('model_fitting/time_combined_optimize_500_12810.pkl')\n",
    "\n",
    "separate_bic = calculate_BIC(time_separate.fun, time_pressure_data, free_params=3)\n",
    "combined_bic = calculate_BIC(time_combined.fun, time_pressure_data, free_params=2)\n",
    "\n",
    "print(\"Time separate\")\n",
    "print(\"Delay Iters: \", time_separate.x[1], \"| Pressure Iters: \", time_separate.x[2], \"| Beta: \", np.round(time_separate.x[0],2), \"| NLL: \", np.round(time_separate.fun,2),  \"| BIC: \", np.round(separate_bic,2))\n",
    "print(\"Time combined\")\n",
    "print(\"Iters: \", time_combined.x[1], \"| Beta: \", np.round(time_combined.x[0],2), \"| NLL: \", np.round(time_combined.fun,2), \"| BIC: \", np.round(combined_bic,2))\n",
    "\n",
    "fig, ax = plt.subplots(1, 2, figsize=(12, 6))\n",
    "\n",
    "plot_convergence(time_separate, ax=ax[0])\n",
    "ax[0].set_title('Time separate convergence')\n",
    "\n",
    "plot_convergence(time_combined, ax=ax[1])\n",
    "ax[1].set_title('Time combined convergence')\n",
    "\n",
    "plt.tight_layout()\n",
    "plt.show()"
   ]
  }
 ],
 "metadata": {
  "kernelspec": {
   "display_name": "base",
   "language": "python",
   "name": "python3"
  },
  "language_info": {
   "codemirror_mode": {
    "name": "ipython",
    "version": 3
   },
   "file_extension": ".py",
   "mimetype": "text/x-python",
   "name": "python",
   "nbconvert_exporter": "python",
   "pygments_lexer": "ipython3",
   "version": "3.12.7"
  }
 },
 "nbformat": 4,
 "nbformat_minor": 2
}
