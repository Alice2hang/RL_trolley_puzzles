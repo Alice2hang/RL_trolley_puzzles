{
 "cells": [
  {
   "cell_type": "code",
   "execution_count": 33,
   "metadata": {},
   "outputs": [],
   "source": [
    "import csv\n",
    "from collections import defaultdict\n",
    "from constants import *\n",
    "import pandas as pd\n",
    "import math \n",
    "import numpy as np\n",
    "import matplotlib.pyplot as plt\n",
    "import matplotlib.patches as mpatches\n"
   ]
  },
  {
   "cell_type": "code",
   "execution_count": 10,
   "metadata": {},
   "outputs": [
    {
     "name": "stdout",
     "output_type": "stream",
     "text": [
      "Number of users before exclusions: 645\n",
      "Number of users after exclusions: 398\n"
     ]
    }
   ],
   "source": [
    "valid_users = set()\n",
    "user_train_count = defaultdict(int)     # number of training grids completed for each user\n",
    "user_test_count = defaultdict(int)      # number of test grids completed for each user\n",
    "user_test_score = defaultdict(int)     # cumulative training score for each user\n",
    "user_test_timeouts = defaultdict(set)   # number of timeouts on test grids for each user\n",
    "user_condition = defaultdict(int)       # whether user was assigned to complete training or not\n",
    "\n",
    "with open('data/training_experiment_raw.csv', encoding='utf-8-sig') as csvfile:\n",
    "    reader = csv.DictReader(csvfile)\n",
    "    for row in reader:\n",
    "        user = row['userid']\n",
    "        valid_users.add(user)\n",
    "        if row['step'] == '6':          # step 6 contains metadata for the whole trial such as total reward\n",
    "            user_condition[user] = row['training'] == '1'\n",
    "            if row['type'] == \"train\":\n",
    "                user_train_count[user] += 1\n",
    "            elif row['type'] == \"test\":\n",
    "                user_test_count[user] += 1\n",
    "                user_test_score[user] += int(row['reward_cum'])\n",
    "            if row['timeout'] == '1':\n",
    "                user_test_timeouts[user].add(int(row['gridnum']))\n",
    "\n",
    "# exclude users who did not complete all training and test grids, scored less than -35 points in test, or timed out 6 or more times\n",
    "def include_user(user):\n",
    "    include_user = True\n",
    "    user_timeouts = user_test_timeouts[user]\n",
    "    if user_test_score[user]<-35 or user_test_count[user]!=24:\n",
    "        include_user = False\n",
    "    if len([x for x in user_timeouts if 100<x<200])>=2 or len([x for x in user_timeouts if 200<x<300])>=2:\n",
    "        include_user = False\n",
    "    if user_condition[user] == True and (user_train_count[user]!=60):\n",
    "        include_user = False\n",
    "    return include_user\n",
    "\n",
    "\n",
    "print(\"Number of users before exclusions: \" + str(len(valid_users)))       \n",
    "valid_users = set(filter(include_user, valid_users))\n",
    "print(\"Number of users after exclusions: \" + str(len(valid_users)))"
   ]
  },
  {
   "cell_type": "code",
   "execution_count": 34,
   "metadata": {},
   "outputs": [
    {
     "ename": "KeyError",
     "evalue": "'gridnum'",
     "output_type": "error",
     "traceback": [
      "\u001b[0;31m---------------------------------------------------------------------------\u001b[0m",
      "\u001b[0;31mKeyError\u001b[0m                                  Traceback (most recent call last)",
      "Cell \u001b[0;32mIn[34], line 8\u001b[0m\n\u001b[1;32m      6\u001b[0m reader \u001b[39m=\u001b[39m csv\u001b[39m.\u001b[39mDictReader(csvfile)\n\u001b[1;32m      7\u001b[0m \u001b[39mfor\u001b[39;00m row \u001b[39min\u001b[39;00m reader:\n\u001b[0;32m----> 8\u001b[0m     gridnum \u001b[39m=\u001b[39m \u001b[39mint\u001b[39m(row[\u001b[39m'\u001b[39;49m\u001b[39mgridnum\u001b[39;49m\u001b[39m'\u001b[39;49m])\n\u001b[1;32m      9\u001b[0m     userid \u001b[39m=\u001b[39m row[\u001b[39m'\u001b[39m\u001b[39muserid\u001b[39m\u001b[39m'\u001b[39m]\n\u001b[1;32m     10\u001b[0m     \u001b[39m# looks only at final results for test grids of interest where user did not time out\u001b[39;00m\n",
      "\u001b[0;31mKeyError\u001b[0m: 'gridnum'"
     ]
    }
   ],
   "source": [
    "best_score_count = defaultdict(int)     # The number of grids where the user achieved the best score for each grid type and manipulation\n",
    "total_count = defaultdict(int)          # The total number of grids completed for each grid type and manipulation\n",
    "data = []\n",
    "\n",
    "with open('data/training_experiment_raw.csv', encoding='utf-8-sig') as csvfile:\n",
    "    reader = csv.DictReader(csvfile)\n",
    "    for row in reader:\n",
    "        gridnum = int(row['gridnum'])\n",
    "        userid = row['userid']\n",
    "        # looks only at final results for test grids of interest where user did not time out\n",
    "        if  (gridnum in MUST_PUSH_GRIDNUMS or gridnum in MUST_SWITCH_GRIDNUMS) and not gridnum in user_test_timeouts[userid] and row['step']=='6':\n",
    "            score_dif = int(row['reward_cum'])-int(row['reward_max'])\n",
    "            training = user_condition[userid]\n",
    "            push_val = None\n",
    "            if training == True:\n",
    "                train = 0.5 \n",
    "            else:\n",
    "                train = -0.5 \n",
    "            if gridnum in MUST_PUSH_GRIDNUMS: \n",
    "                push_val = 0.5\n",
    "            elif gridnum in MUST_SWITCH_GRIDNUMS:\n",
    "                push_val = -0.5\n",
    "           \n",
    "            bin_num = (gridnum//100-1)*2 + int(training)  # assign a bin for each unique gridtype and time constraint combination\n",
    "            if score_dif == 0:\n",
    "                best_score_count[bin_num] += 1\n",
    "            total_count[bin_num] += 1\n",
    "            data.append([score_dif, userid, gridnum, push_val, train*push_val, train])\n",
    "\n",
    "df = pd.DataFrame(data,columns=['score_dif', 'user_id', 'grid_num', 'push', 'train_x_push', 'train'])\n",
    "df.to_csv('data/training_data_coded.csv')"
   ]
  },
  {
   "cell_type": "code",
   "execution_count": 32,
   "metadata": {},
   "outputs": [
    {
     "name": "stderr",
     "output_type": "stream",
     "text": [
      "No artists with labels found to put in legend.  Note that artists whose label start with an underscore are ignored when legend() is called with no argument.\n"
     ]
    },
    {
     "name": "stdout",
     "output_type": "stream",
     "text": [
      "defaultdict(<class 'int'>, {2: 331, 0: 85, 1: 123, 3: 550})\n"
     ]
    },
    {
     "data": {
      "image/png": "[encoded data removed]",
      "text/plain": [
       "<Figure size 640x480 with 1 Axes>"
      ]
     },
     "metadata": {},
     "output_type": "display_data"
    }
   ],
   "source": [
    "# Compute proportion of grids on which the best score was achieved \n",
    "print(best_score_count)\n",
    "proportion = {}\n",
    "for bin_num, count in best_score_count.items():\n",
    "    proportion[bin_num] = count/total_count[bin_num]\n",
    "\n",
    "# Compute standard error of mean\n",
    "sem = []\n",
    "for bin_num, count in best_score_count.items():\n",
    "    x = np.concatenate((np.zeros(total_count[bin_num]-count),np.ones(count)))\n",
    "    sem.append(e)\n",
    "\n",
    "# Define labels, positions, bar heights and error bar heights\n",
    "labels = ['Push', 'Switch']\n",
    "notrain_proportions = []\n",
    "notrain_error = []\n",
    "train_proportions = []\n",
    "train_error = []\n",
    "\n",
    "for i in range(4):\n",
    "    if i%2==0:\n",
    "        notrain_proportions.append(proportion[i])\n",
    "        notrain_error.append(sem[i])\n",
    "    else:\n",
    "        train_proportions.append(proportion[i])\n",
    "        train_error.append(sem[i])\n",
    "\n",
    "x = np.arange(len(labels))  # the label locations\n",
    "width = 0.35  # the width of the bars\n",
    "color=['#FF3B4B', '#81CC18']\n",
    "plt.rcParams.update({'font.size': 14})\n",
    "\n",
    "fig, ax = plt.subplots()\n",
    "rects1 = ax.bar(x - width/2, notrain_proportions, width, yerr=notrain_error, capsize=3, color=color)\n",
    "rects2 = ax.bar(x + width/2, train_proportions, width, yerr=train_error, capsize=3, hatch=\"/\", color=color, edgecolor='white')\n",
    "\n",
    "# Add some text for labels, title and custom x-axis tick labels, etc.\n",
    "ax.set_ylabel('Standardized Score')\n",
    "ax.set_xticks(x)\n",
    "ax.set_xticklabels(labels)\n",
    "plt.yticks(fontsize=12)\n",
    "plt.xticks(fontsize=12)\n",
    "ax.set_xlabel('Grid Type')\n",
    "ax.legend()\n",
    "train = mpatches.Patch(edgecolor='white', facecolor='black', hatch=\"/\", label='Training')\n",
    "no_train = mpatches.Patch(color='black', label='No Training')\n",
    "ax.spines.right.set_visible(False)\n",
    "ax.spines.top.set_visible(False)\n",
    "plt.legend(handles=[train, no_train], fontsize=12)\n",
    "plt.show()"
   ]
  },
  {
   "cell_type": "code",
   "execution_count": 6,
   "metadata": {},
   "outputs": [
    {
     "name": "stdout",
     "output_type": "stream",
     "text": [
      "No Training Push Sacrifice: 15.7%\n",
      "No Training Switch Sacrifice: 49.6%\n",
      "Training Push Sacrifice: 17.8%\n",
      "Training Switch Sacrifice: 66.7%\n"
     ]
    }
   ],
   "source": [
    "for idx, p in enumerate(notrain_proportions):\n",
    "    print(\"No Training \" + labels[idx] + \": \" + '{:.1%}'.format(p))\n",
    "for idx, p in enumerate(train_proportions):\n",
    "    print(\"Training \" + labels[idx] + \": \" + '{:.1%}'.format(p))"
   ]
  }
 ],
 "metadata": {
  "kernelspec": {
   "display_name": "reval",
   "language": "python",
   "name": "python3"
  },
  "language_info": {
   "codemirror_mode": {
    "name": "ipython",
    "version": 3
   },
   "file_extension": ".py",
   "mimetype": "text/x-python",
   "name": "python",
   "nbconvert_exporter": "python",
   "pygments_lexer": "ipython3",
   "version": "3.10.9"
  },
  "orig_nbformat": 4,
  "vscode": {
   "interpreter": {
    "hash": "050487248c4b83914858675c399d665afa72501313530572bee936246e336b83"
   }
  }
 },
 "nbformat": 4,
 "nbformat_minor": 2
}
