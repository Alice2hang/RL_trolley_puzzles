{
 "cells": [
  {
   "cell_type": "code",
   "execution_count": 2,
   "metadata": {},
   "outputs": [],
   "source": [
    "import csv\n",
    "from collections import defaultdict\n",
    "from constants import *\n",
    "import pandas as pd\n",
    "import numpy as np\n",
    "import matplotlib.pyplot as plt\n",
    "import scipy\n"
   ]
  },
  {
   "cell_type": "code",
   "execution_count": 3,
   "metadata": {},
   "outputs": [
    {
     "name": "stdout",
     "output_type": "stream",
     "text": [
      "Number of users before exclusions: 645\n",
      "Number of users after exclusions: 398\n"
     ]
    }
   ],
   "source": [
    "valid_users = set()\n",
    "user_train_count = defaultdict(int)     # number of training grids completed for each user\n",
    "user_test_count = defaultdict(int)      # number of test grids completed for each user\n",
    "user_test_score = defaultdict(int)     # cumulative training score for each user\n",
    "user_test_timeouts = defaultdict(set)   # number of timeouts on test grids for each user\n",
    "user_condition = defaultdict(int)       # whether user was assigned to complete training or not\n",
    "\n",
    "with open('data/training_experiment_raw.csv', encoding='utf-8-sig') as csvfile:\n",
    "    reader = csv.DictReader(csvfile)\n",
    "    for row in reader:\n",
    "        user = row['userid']\n",
    "        valid_users.add(user)\n",
    "        if row['step'] == '6':          # step 6 contains metadata for the whole trial such as total reward\n",
    "            user_condition[user] = row['training'] == '1'\n",
    "            if row['type'] == \"train\":\n",
    "                user_train_count[user] += 1\n",
    "            elif row['type'] == \"test\":\n",
    "                user_test_count[user] += 1\n",
    "                user_test_score[user] += int(row['reward_cum'])\n",
    "            if row['timeout'] == '1':\n",
    "                user_test_timeouts[user].add(int(row['gridnum']))\n",
    "\n",
    "# exclude users who did not complete all training and test grids, scored less than -35 points in test, or timed out 6 or more times\n",
    "def include_user(user):\n",
    "    include_user = True\n",
    "    user_timeouts = user_test_timeouts[user]\n",
    "    if user_test_score[user]<-35 or user_test_count[user]!=24:\n",
    "        include_user = False\n",
    "    if len([x for x in user_timeouts if 100<x<200])>=2 or len([x for x in user_timeouts if 200<x<300])>=2:\n",
    "        include_user = False\n",
    "    if user_condition[user] == True and (user_train_count[user]!=60):\n",
    "        include_user = False\n",
    "    return include_user\n",
    "\n",
    "\n",
    "print(\"Number of users before exclusions: \" + str(len(valid_users)))       \n",
    "valid_users = set(filter(include_user, valid_users))\n",
    "print(\"Number of users after exclusions: \" + str(len(valid_users)))"
   ]
  },
  {
   "cell_type": "code",
   "execution_count": 4,
   "metadata": {},
   "outputs": [],
   "source": [
    "best_score_count = defaultdict(int)     # The number of grids where the user achieved the best score for each grid type and manipulation\n",
    "total_count = defaultdict(int)          # The total number of grids completed for each grid type and manipulation\n",
    "data = []\n",
    "\n",
    "with open('data/training_experiment_raw.csv', encoding='utf-8-sig') as csvfile:\n",
    "    reader = csv.DictReader(csvfile)\n",
    "    for row in reader:\n",
    "        gridnum = int(row['gridnum'])\n",
    "        userid = row['userid']\n",
    "        # looks only at final results for test grids of interest where user did not time out\n",
    "        if  (gridnum in MUST_PUSH_GRIDNUMS or gridnum in MUST_SWITCH_GRIDNUMS) and userid in valid_users and not gridnum in user_test_timeouts[userid] and row['step']=='6':\n",
    "            score_dif = int(row['reward_cum'])-int(row['reward_max'])\n",
    "            training = user_condition[userid]\n",
    "            push_val = None\n",
    "            if training == True:\n",
    "                train = 0.5 \n",
    "            else:\n",
    "                train = -0.5 \n",
    "            if gridnum in MUST_PUSH_GRIDNUMS: \n",
    "                push_val = 0.5\n",
    "            elif gridnum in MUST_SWITCH_GRIDNUMS:\n",
    "                push_val = -0.5\n",
    "           \n",
    "            bin_num = (gridnum//100-1)*2 + int(training)  # assign a bin for each unique gridtype and time constraint combination\n",
    "            if score_dif == 0:\n",
    "                best_score_count[bin_num] += 1\n",
    "            total_count[bin_num] += 1\n",
    "            data.append([score_dif, userid, gridnum, push_val, train*push_val, train])\n",
    "\n",
    "df = pd.DataFrame(data,columns=['score_dif', 'user_id', 'grid_num', 'push', 'train_x_push', 'train'])\n",
    "df.to_csv('data/training_data_coded.csv')"
   ]
  },
  {
   "cell_type": "code",
   "execution_count": 5,
   "metadata": {},
   "outputs": [
    {
     "name": "stdout",
     "output_type": "stream",
     "text": [
      "defaultdict(<class 'int'>, {2: 243, 0: 67, 1: 106, 3: 432})\n"
     ]
    },
    {
     "data": {
      "image/png": "[encoded data removed]",
      "text/plain": [
       "<Figure size 640x480 with 1 Axes>"
      ]
     },
     "metadata": {},
     "output_type": "display_data"
    }
   ],
   "source": [
    "# Compute proportion of grids on which the best score was achieved \n",
    "print(best_score_count)\n",
    "proportion = {}\n",
    "for bin_num, count in best_score_count.items():\n",
    "    proportion[bin_num] = count/total_count[bin_num]\n",
    "\n",
    "# Compute standard error of mean\n",
    "sem = []\n",
    "for bin_num, count in best_score_count.items():\n",
    "    x = np.concatenate((np.zeros(total_count[bin_num]-count),np.ones(count)))\n",
    "    sem.append(scipy.stats.sem(x))\n",
    "\n",
    "# Define labels, positions, bar heights and error bar heights\n",
    "labels = ['No \\nTraining', 'Training', 'No \\nTraining', 'Training']\n",
    "notrain_proportions = []\n",
    "notrain_error = []\n",
    "train_proportions = []\n",
    "train_error = []\n",
    "\n",
    "for i in range(4):\n",
    "    if i%2==0:\n",
    "        notrain_proportions.append(proportion[i])\n",
    "        notrain_error.append(sem[i])\n",
    "    else:\n",
    "        train_proportions.append(proportion[i])\n",
    "        train_error.append(sem[i])\n",
    "\n",
    "x = np.arange(2)  # the label locations\n",
    "width = 0.35  # the width of the bars\n",
    "color=['#E7545F', '#7CB62F']\n",
    "plt.rcParams.update({'font.size': 21})\n",
    "\n",
    "fig, ax = plt.subplots()\n",
    "rects1 = ax.bar(x - width/2, notrain_proportions, width, yerr=notrain_error, capsize=3, color=color, edgecolor='white')\n",
    "rects2 = ax.bar(x + width/2, train_proportions, width, yerr=train_error, capsize=3, color=color,  edgecolor='white')\n",
    "\n",
    "# Add some text for labels, title and custom x-axis tick labels, etc.\n",
    "ax.set_ylabel('Standardized Score')\n",
    "ax.set_xticks(np.array([-.175,0.175,.825,1.175]))\n",
    "ax.set_xticklabels(labels)\n",
    "plt.yticks(fontsize=17)\n",
    "plt.xticks(fontsize=17)\n",
    "ax.set_xlabel('Condition')\n",
    "ax.spines.right.set_visible(False)\n",
    "ax.spines.top.set_visible(False)\n",
    "plt.tick_params(\n",
    "    axis='both',         \n",
    "    which='both',     \n",
    "    bottom=False)\n",
    "plt.show()"
   ]
  },
  {
   "cell_type": "code",
   "execution_count": 7,
   "metadata": {},
   "outputs": [
    {
     "name": "stdout",
     "output_type": "stream",
     "text": [
      "No Training Push: 15.6%\n",
      "No Training Switch: 53.1%\n",
      "Training Push: 17.4%\n",
      "Training Switch: 66.0%\n"
     ]
    }
   ],
   "source": [
    "labels = ['Push','Switch']\n",
    "for idx, p in enumerate(notrain_proportions):\n",
    "    print(\"No Training \" + labels[idx] + \": \" + '{:.1%}'.format(p))\n",
    "for idx, p in enumerate(train_proportions):\n",
    "    print(\"Training \" + labels[idx] + \": \" + '{:.1%}'.format(p))"
   ]
  },
  {
   "cell_type": "code",
   "execution_count": null,
   "metadata": {},
   "outputs": [],
   "source": []
  }
 ],
 "metadata": {
  "kernelspec": {
   "display_name": "reval",
   "language": "python",
   "name": "python3"
  },
  "language_info": {
   "codemirror_mode": {
    "name": "ipython",
    "version": 3
   },
   "file_extension": ".py",
   "mimetype": "text/x-python",
   "name": "python",
   "nbconvert_exporter": "python",
   "pygments_lexer": "ipython3",
   "version": "3.10.9"
  },
  "orig_nbformat": 4,
  "vscode": {
   "interpreter": {
    "hash": "050487248c4b83914858675c399d665afa72501313530572bee936246e336b83"
   }
  }
 },
 "nbformat": 4,
 "nbformat_minor": 2
}
