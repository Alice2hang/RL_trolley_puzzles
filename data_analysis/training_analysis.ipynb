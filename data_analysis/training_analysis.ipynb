{
 "cells": [
  {
   "cell_type": "code",
   "execution_count": 1,
   "metadata": {},
   "outputs": [],
   "source": [
    "import csv\n",
    "from collections import defaultdict\n",
    "from constants import *\n",
    "import pandas as pd\n",
    "import math \n",
    "import numpy as np\n",
    "import matplotlib.pyplot as plt\n",
    "import matplotlib.patches as mpatches\n",
    "import scipy\n"
   ]
  },
  {
   "cell_type": "code",
   "execution_count": 2,
   "metadata": {},
   "outputs": [
    {
     "name": "stdout",
     "output_type": "stream",
     "text": [
      "Number of users before exclusions: 645\n",
      "Number of users after exclusions: 398\n"
     ]
    }
   ],
   "source": [
    "valid_users = set()\n",
    "user_train_count = defaultdict(int)     # number of training grids completed for each user\n",
    "user_test_count = defaultdict(int)      # number of test grids completed for each user\n",
    "user_test_score = defaultdict(int)     # cumulative training score for each user\n",
    "user_test_timeouts = defaultdict(set)   # number of timeouts on test grids for each user\n",
    "user_condition = defaultdict(int)       # whether user was assigned to complete training or not\n",
    "\n",
    "with open('data/training_experiment_raw.csv', encoding='utf-8-sig') as csvfile:\n",
    "    reader = csv.DictReader(csvfile)\n",
    "    for row in reader:\n",
    "        user = row['userid']\n",
    "        valid_users.add(user)\n",
    "        if row['step'] == '6':          # step 6 contains metadata for the whole trial such as total reward\n",
    "            user_condition[user] = row['training'] == '1'\n",
    "            if row['type'] == \"train\":\n",
    "                user_train_count[user] += 1\n",
    "            elif row['type'] == \"test\":\n",
    "                user_test_count[user] += 1\n",
    "                user_test_score[user] += int(row['reward_cum'])\n",
    "            if row['timeout'] == '1':\n",
    "                user_test_timeouts[user].add(int(row['gridnum']))\n",
    "\n",
    "# exclude users who did not complete all training and test grids, scored less than -35 points in test, or timed out 6 or more times\n",
    "def include_user(user):\n",
    "    include_user = True\n",
    "    user_timeouts = user_test_timeouts[user]\n",
    "    if user_test_score[user]<-35 or user_test_count[user]!=24:\n",
    "        include_user = False\n",
    "    if len([x for x in user_timeouts if 100<x<200])>=2 or len([x for x in user_timeouts if 200<x<300])>=2:\n",
    "        include_user = False\n",
    "    if user_condition[user] == True and (user_train_count[user]!=60):\n",
    "        include_user = False\n",
    "    return include_user\n",
    "\n",
    "\n",
    "print(\"Number of users before exclusions: \" + str(len(valid_users)))       \n",
    "valid_users = set(filter(include_user, valid_users))\n",
    "print(\"Number of users after exclusions: \" + str(len(valid_users)))"
   ]
  },
  {
   "cell_type": "code",
   "execution_count": 3,
   "metadata": {},
   "outputs": [],
   "source": [
    "best_score_count = defaultdict(int)     # The number of grids where the user achieved the best score for each grid type and manipulation\n",
    "total_count = defaultdict(int)          # The total number of grids completed for each grid type and manipulation\n",
    "data = []\n",
    "\n",
    "with open('data/training_experiment_raw.csv', encoding='utf-8-sig') as csvfile:\n",
    "    reader = csv.DictReader(csvfile)\n",
    "    for row in reader:\n",
    "        gridnum = int(row['gridnum'])\n",
    "        userid = row['userid']\n",
    "        # looks only at final results for test grids of interest where user did not time out\n",
    "        if  (gridnum in MUST_PUSH_GRIDNUMS or gridnum in MUST_SWITCH_GRIDNUMS) and userid in valid_users and not gridnum in user_test_timeouts[userid] and row['step']=='6' and gridnum not in [204,208]:\n",
    "            score_dif = int(row['reward_cum'])-int(row['reward_max'])\n",
    "            training = user_condition[userid]\n",
    "            push_val = 0.5\n",
    "            if training == True:\n",
    "                train = 0.5 \n",
    "            else:\n",
    "                train = -0.5 \n",
    "            if gridnum in MUST_PUSH_GRIDNUMS: \n",
    "                push_val = 0.5\n",
    "            elif gridnum in MUST_SWITCH_GRIDNUMS:\n",
    "                push_val = -0.5\n",
    "           \n",
    "            bin_num = (gridnum//100-1)*2 + int(training)  # assign a bin for each unique gridtype and time constraint combination\n",
    "            if score_dif == 0:\n",
    "                best_score_count[bin_num] += 1\n",
    "            total_count[bin_num] += 1\n",
    "            data.append([score_dif, userid, gridnum, push_val, train*push_val, train])\n",
    "\n",
    "df = pd.DataFrame(data,columns=['score_dif', 'user_id', 'grid_num', 'push', 'train_x_push', 'train'])\n",
    "df.to_csv('data/training_data_coded.csv')"
   ]
  },
  {
   "cell_type": "code",
   "execution_count": 4,
   "metadata": {},
   "outputs": [
    {
     "data": {
      "text/html": [
       "<div>\n",
       "<style scoped>\n",
       "    .dataframe tbody tr th:only-of-type {\n",
       "        vertical-align: middle;\n",
       "    }\n",
       "\n",
       "    .dataframe tbody tr th {\n",
       "        vertical-align: top;\n",
       "    }\n",
       "\n",
       "    .dataframe thead th {\n",
       "        text-align: right;\n",
       "    }\n",
       "</style>\n",
       "<table border=\"1\" class=\"dataframe\">\n",
       "  <thead>\n",
       "    <tr style=\"text-align: right;\">\n",
       "      <th></th>\n",
       "      <th>score_dif</th>\n",
       "      <th>user_id</th>\n",
       "      <th>grid_num</th>\n",
       "      <th>push</th>\n",
       "      <th>train_x_push</th>\n",
       "      <th>train</th>\n",
       "    </tr>\n",
       "  </thead>\n",
       "  <tbody>\n",
       "    <tr>\n",
       "      <th>1245</th>\n",
       "      <td>-1</td>\n",
       "      <td>390</td>\n",
       "      <td>102</td>\n",
       "      <td>0.5</td>\n",
       "      <td>0.25</td>\n",
       "      <td>0.5</td>\n",
       "    </tr>\n",
       "    <tr>\n",
       "      <th>1276</th>\n",
       "      <td>-1</td>\n",
       "      <td>390</td>\n",
       "      <td>104</td>\n",
       "      <td>0.5</td>\n",
       "      <td>0.25</td>\n",
       "      <td>0.5</td>\n",
       "    </tr>\n",
       "  </tbody>\n",
       "</table>\n",
       "</div>"
      ],
      "text/plain": [
       "      score_dif user_id  grid_num  push  train_x_push  train\n",
       "1245         -1     390       102   0.5          0.25    0.5\n",
       "1276         -1     390       104   0.5          0.25    0.5"
      ]
     },
     "execution_count": 4,
     "metadata": {},
     "output_type": "execute_result"
    }
   ],
   "source": [
    "df.loc[(df['user_id']=='390') & (df['grid_num'] > 100) & (df['grid_num']<200)]"
   ]
  },
  {
   "cell_type": "code",
   "execution_count": 5,
   "metadata": {},
   "outputs": [
    {
     "name": "stdout",
     "output_type": "stream",
     "text": [
      "(398, 2) (130, 2)\n"
     ]
    },
    {
     "data": {
      "image/png": "[encoded data removed]",
      "text/plain": [
       "<Figure size 640x480 with 1 Axes>"
      ]
     },
     "metadata": {},
     "output_type": "display_data"
    }
   ],
   "source": [
    "x = df.loc[(df['grid_num'] > 100) & (df['grid_num']<200)].groupby('user_id',as_index=False)['score_dif'].mean()\n",
    "plt.hist(x['score_dif'], bins=20)\n",
    "print(x.shape, x.loc[x['score_dif']!=-1].shape)\n",
    "x.to_csv('exp2_push_performance_per_user.csv')"
   ]
  },
  {
   "cell_type": "code",
   "execution_count": 17,
   "metadata": {},
   "outputs": [
    {
     "name": "stderr",
     "output_type": "stream",
     "text": [
      "No artists with labels found to put in legend.  Note that artists whose label start with an underscore are ignored when legend() is called with no argument.\n"
     ]
    },
    {
     "name": "stdout",
     "output_type": "stream",
     "text": [
      "defaultdict(<class 'int'>, {2: 173, 0: 67, 1: 106, 3: 321})\n"
     ]
    },
    {
     "data": {
      "image/png": "[encoded data removed]",
      "text/plain": [
       "<Figure size 640x480 with 1 Axes>"
      ]
     },
     "metadata": {},
     "output_type": "display_data"
    }
   ],
   "source": [
    "# Compute proportion of grids on which the best score was achieved \n",
    "print(best_score_count)\n",
    "proportion = {}\n",
    "for bin_num, count in best_score_count.items():\n",
    "    proportion[bin_num] = count/total_count[bin_num]\n",
    "\n",
    "# Compute standard error of mean\n",
    "sem = []\n",
    "for bin_num, count in best_score_count.items():\n",
    "    x = np.concatenate((np.zeros(total_count[bin_num]-count),np.ones(count)))\n",
    "    sem.append(scipy.stats.sem(x))\n",
    "\n",
    "# Define labels, positions, bar heights and error bar heights\n",
    "labels = ['Push', 'Switch']\n",
    "notrain_proportions = []\n",
    "notrain_error = []\n",
    "train_proportions = []\n",
    "train_error = []\n",
    "\n",
    "for i in range(4):\n",
    "    if i%2==0:\n",
    "        notrain_proportions.append(proportion[i])\n",
    "        notrain_error.append(sem[i])\n",
    "    else:\n",
    "        train_proportions.append(proportion[i])\n",
    "        train_error.append(sem[i])\n",
    "\n",
    "x = np.arange(len(labels))  # the label locations\n",
    "width = 0.35  # the width of the bars\n",
    "color=['#FF3B4B', '#81CC18']\n",
    "plt.rcParams.update({'font.size': 14})\n",
    "\n",
    "fig, ax = plt.subplots()\n",
    "rects1 = ax.bar(x - width/2, notrain_proportions, width, yerr=notrain_error, capsize=3, color=color,  hatch=\"/\", edgecolor='white')\n",
    "rects2 = ax.bar(x + width/2, train_proportions, width, yerr=train_error, capsize=3, color=color,  edgecolor='white')\n",
    "\n",
    "# Add some text for labels, title and custom x-axis tick labels, etc.\n",
    "ax.set_ylabel('Standardized Score')\n",
    "ax.set_xticks(x)\n",
    "ax.set_xticklabels(labels)\n",
    "plt.yticks(fontsize=12)\n",
    "plt.xticks(fontsize=12)\n",
    "ax.set_xlabel('Grid Type')\n",
    "ax.legend()\n",
    "train = mpatches.Patch(color='black',  label='Training')\n",
    "no_train = mpatches.Patch(edgecolor='white', facecolor='black', hatch=\"/\", label='No Training')\n",
    "ax.spines.right.set_visible(False)\n",
    "ax.spines.top.set_visible(False)\n",
    "plt.legend(handles=[no_train,train], fontsize=12)\n",
    "plt.show()"
   ]
  },
  {
   "cell_type": "code",
   "execution_count": 21,
   "metadata": {},
   "outputs": [
    {
     "name": "stdout",
     "output_type": "stream",
     "text": [
      "No Training Push: 15.7%\n",
      "No Training Switch: 48.9%\n",
      "Training Push: 17.8%\n",
      "Training Switch: 64.3%\n"
     ]
    }
   ],
   "source": [
    "for idx, p in enumerate(notrain_proportions):\n",
    "    print(\"No Training \" + labels[idx] + \": \" + '{:.1%}'.format(p))\n",
    "for idx, p in enumerate(train_proportions):\n",
    "    print(\"Training \" + labels[idx] + \": \" + '{:.1%}'.format(p))"
   ]
  },
  {
   "cell_type": "code",
   "execution_count": null,
   "metadata": {},
   "outputs": [],
   "source": []
  }
 ],
 "metadata": {
  "kernelspec": {
   "display_name": "reval",
   "language": "python",
   "name": "python3"
  },
  "language_info": {
   "codemirror_mode": {
    "name": "ipython",
    "version": 3
   },
   "file_extension": ".py",
   "mimetype": "text/x-python",
   "name": "python",
   "nbconvert_exporter": "python",
   "pygments_lexer": "ipython3",
   "version": "3.10.9"
  },
  "orig_nbformat": 4,
  "vscode": {
   "interpreter": {
    "hash": "050487248c4b83914858675c399d665afa72501313530572bee936246e336b83"
   }
  }
 },
 "nbformat": 4,
 "nbformat_minor": 2
}
