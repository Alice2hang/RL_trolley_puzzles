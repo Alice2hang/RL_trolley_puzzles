{
 "cells": [
  {
   "cell_type": "code",
   "execution_count": 145,
   "metadata": {},
   "outputs": [],
   "source": [
    "import csv\n",
    "from collections import defaultdict\n",
    "from constants import *\n",
    "import pandas as pd\n",
    "import math \n",
    "import numpy as np\n",
    "import matplotlib.pyplot as plt\n",
    "import seaborn as sns\n",
    "import matplotlib.patches as mpatches\n",
    "from scipy.stats import sem\n",
    "\n"
   ]
  },
  {
   "cell_type": "code",
   "execution_count": 93,
   "metadata": {},
   "outputs": [
    {
     "name": "stdout",
     "output_type": "stream",
     "text": [
      "Number of users before exclusions: 232\n",
      "Number of users after exclusions: 136\n"
     ]
    }
   ],
   "source": [
    "valid_users = set()\n",
    "user_train_count = defaultdict(int)     # number of training grids completed for each user\n",
    "user_test_count = defaultdict(int)      # number of test grids completed for each user\n",
    "user_train_score = defaultdict(int)     # cumulative training score for each user\n",
    "user_test_timeouts = defaultdict(set)   # test grids the user timed out on for each user\n",
    "\n",
    "with open('data/time_pressure_experiment_raw.csv', encoding='utf-8-sig') as csvfile:\n",
    "    reader = csv.DictReader(csvfile)\n",
    "    for row in reader:\n",
    "        if row['step'] == '6':          # step 6 contains metadata for the trial as a whole including total reward\n",
    "            user = row['userid']\n",
    "            valid_users.add(user)\n",
    "            if row['type'] == \"train\":\n",
    "                user_train_count[user] += 1\n",
    "                user_train_score[user] += int(row['reward_cum'])\n",
    "            elif row['type'] == \"test\":\n",
    "                user_test_count[user] += 1\n",
    "                if int(row['gridnum']) > 100 and int(row['reward_cum']) <= -4:    # If score <=-4 on test grids of interest, we know the user timed out\n",
    "                    user_test_timeouts[user].add(int(row['gridnum']))\n",
    "\n",
    "# exclude users who did not complete all training and test grids, scored less than 0 points in training, or timed out 6 or more times\n",
    "def include_user(user):\n",
    "    return not (user_train_count[user]!=60 or user_test_count[user]!=50 or len(user_test_timeouts[user])>=6 or user_train_score[user]<0)\n",
    "\n",
    "print(\"Number of users before exclusions: \" + str(len(valid_users)))       \n",
    "valid_users = set(filter(include_user, valid_users))\n",
    "print(\"Number of users after exclusions: \" + str(len(valid_users)))"
   ]
  },
  {
   "cell_type": "code",
   "execution_count": 129,
   "metadata": {},
   "outputs": [
    {
     "name": "stderr",
     "output_type": "stream",
     "text": [
      "/var/folders/x_/2rt9php14l77064t1fz9yq800000gp/T/ipykernel_98265/3419669840.py:4: SettingWithCopyWarning: \n",
      "A value is trying to be set on a copy of a slice from a DataFrame.\n",
      "Try using .loc[row_indexer,col_indexer] = value instead\n",
      "\n",
      "See the caveats in the documentation: https://pandas.pydata.org/pandas-docs/stable/user_guide/indexing.html#returning-a-view-versus-a-copy\n",
      "  filtered['correct'] = filtered['reward_cum'] == filtered['reward_max']\n"
     ]
    }
   ],
   "source": [
    "df = pd.read_csv('data/time_pressure_experiment_raw.csv', encoding='utf-8-sig') \n",
    "df['userid'] = df['userid'].apply(str)\n",
    "filtered = df[(df['userid'].isin(valid_users)) & (df['step']==6) & (df['type']=='train')]\n",
    "filtered['correct'] = filtered['reward_cum'] == filtered['reward_max']\n",
    "training_accuracy = filtered['correct'].mean()\n",
    "print(\"training accuracy\", training_accuracy)"
   ]
  },
  {
   "cell_type": "markdown",
   "metadata": {},
   "source": [
    "The following codeblock writes preprocessed data (with exclusions removed and with variables coded as described in the pre-registration) to a csv to be used in downstream R processing."
   ]
  },
  {
   "cell_type": "code",
   "execution_count": 149,
   "metadata": {},
   "outputs": [],
   "source": [
    "best_score_count = defaultdict(int)     # The number of grids where the user achieved the best score for each grid type and manipulation\n",
    "total_count = defaultdict(int)          # The total number of grids completed for each grid type and manipulation\n",
    "data = []\n",
    "\n",
    "with open('data/time_pressure_experiment_raw.csv', encoding='utf-8-sig') as csvfile:\n",
    "    reader = csv.DictReader(csvfile)\n",
    "    for row in reader:\n",
    "        gridnum = int(row['gridnum'])\n",
    "        userid = row['userid']\n",
    "        # looks only at final results for test grids of interest where user did not time out\n",
    "        #user_grids = set(first_three[first_three['userid']==str(userid)]['gridnum'])\n",
    "        if userid in valid_users and gridnum > 100 and not gridnum in user_test_timeouts[userid] and row['step']=='6':\n",
    "            score_dif = int(row['reward_cum'])-int(row['reward_max'])\n",
    "            timed = int(row['timed'])\n",
    "            if timed == 0:\n",
    "                time = 0.5 #delay\n",
    "            else:\n",
    "                time = -0.5 #pressure\n",
    "            if gridnum in MUST_PUSH_GRIDNUMS: \n",
    "                distrib = -0.5 #out of distrib\n",
    "                push_val = 0.5\n",
    "            elif gridnum in MUST_SWITCH_GRIDNUMS:\n",
    "                distrib = -0.5 #out of distrib        \n",
    "                push_val = -0.5\n",
    "            elif gridnum in PUSH_GET_GRIDNUMS:\n",
    "                distrib = 0.5 #in distrib\n",
    "                push_val = 0\n",
    "            elif gridnum in SWITCH_SAVE_GRIDNUMS:\n",
    "                distrib = 0.5 #in distrib\n",
    "                push_val = 0\n",
    "\n",
    "            bin_num = (gridnum//100-1)*2 + timed    # assign a bin for each unique gridtype and time constraint combination\n",
    "            if score_dif == 0:\n",
    "                best_score_count[bin_num] += 1\n",
    "            total_count[bin_num] += 1\n",
    "\n",
    "            if gridnum in MUST_PUSH_GRIDNUMS or gridnum in MUST_SWITCH_GRIDNUMS:\n",
    "                data.append([userid, gridnum, score_dif, time, distrib, time*distrib, push_val, time*push_val])\n",
    "\n",
    "df = pd.DataFrame(data,columns=['user_id', 'grid_num', 'score_dif', 'time_constraint', 'in_distrib', 'time_x_distrib', 'push', 'time_x_push'])\n",
    "df.to_csv('data/time_pressure_data_coded.csv')"
   ]
  },
  {
   "cell_type": "code",
   "execution_count": 148,
   "metadata": {},
   "outputs": [
    {
     "data": {
      "image/png": "[encoded data removed]",
      "text/plain": [
       "<Figure size 640x480 with 1 Axes>"
      ]
     },
     "metadata": {},
     "output_type": "display_data"
    }
   ],
   "source": [
    "# Compute proportion of grids on which the best score was achieved \n",
    "proportion = {}\n",
    "for bin_num, count in best_score_count.items():\n",
    "    proportion[bin_num] = count/total_count[bin_num]\n",
    "\n",
    "# Compute standard error of mean\n",
    "sem = []\n",
    "for bin_num, count in best_score_count.items():\n",
    "    x = np.concatenate((np.zeros(total_count[bin_num]-count),np.ones(count)))\n",
    "    sem.append(e)\n",
    "    \n",
    "# Define labels, positions, bar heights and error bar heights\n",
    "labels = ['Push', 'Switch','Switch Control','Push Control']\n",
    "delay_proportions = []\n",
    "delay_error = []\n",
    "pressure_proportions = []\n",
    "pressure_error = []\n",
    "for i in range(8):\n",
    "    if i%2==0:\n",
    "        delay_proportions.append(proportion[i])\n",
    "        delay_error.append(sem[i])\n",
    "    else:\n",
    "        pressure_proportions.append(proportion[i])\n",
    "        pressure_error.append(sem[i])\n",
    "\n",
    "x = np.arange(len(labels))  # the label locations\n",
    "width = 0.35  # the width of the bars\n",
    "color=['#FF3B4B', '#81CC18', '#464D77', '#36827F']\n",
    "color1=['#FF3B4B', '#81CC18', '#EECFD4', '#E6ADEC']\n",
    "plt.rcParams.update({'font.size': 14})\n",
    "\n",
    "fig, ax = plt.subplots()\n",
    "rects1 = ax.bar(x - width/2, delay_proportions, width, yerr=delay_error, capsize=3, label='Delay', color=color)\n",
    "rects2 = ax.bar(x + width/2, pressure_proportions, width, yerr=pressure_error, capsize=3, label='Pressure', color=color,  hatch='/')\n",
    "\n",
    "ax.set_ylabel('Standardized Score')\n",
    "ax.set_xticks(x)\n",
    "ax.set_xticklabels(labels)\n",
    "plt.yticks(fontsize=12)\n",
    "plt.xticks(fontsize=12)\n",
    "ax.set_xlabel('Grid Type')\n",
    "ax.spines.right.set_visible(False)\n",
    "ax.spines.top.set_visible(False)\n",
    "pressure = mpatches.Patch(edgecolor='white', facecolor='black', hatch=\"/\", label='Pressure')\n",
    "delay = mpatches.Patch(color='black', label='Delay')\n",
    "plt.legend(handles=[pressure, delay], fontsize=12)\n",
    "plt.show()\n"
   ]
  },
  {
   "cell_type": "code",
   "execution_count": 5,
   "metadata": {},
   "outputs": [
    {
     "name": "stdout",
     "output_type": "stream",
     "text": [
      "Proportion of best score achieved out of total completed:\n",
      "Delay Push Sacrifice: 59.7%\n",
      "Delay Switch Sacrifice: 96.3%\n",
      "Delay Switch Save: 95.5%\n",
      "Delay Get Targets: 93.8%\n",
      "Pressure Push Sacrifice: 36.9%\n",
      "Pressure Switch Sacrifice: 84.3%\n",
      "Pressure Switch Save: 87.6%\n",
      "Pressure Get Targets: 90.2%\n"
     ]
    }
   ],
   "source": [
    "print(\"Proportion of best score achieved out of total completed:\")\n",
    "for idx, p in enumerate(delay_proportions):\n",
    "    print(\"Delay \" + labels[idx] + \": \" + '{:.1%}'.format(p))\n",
    "for idx, p in enumerate(pressure_proportions):\n",
    "    print(\"Pressure \" + labels[idx] + \": \" + '{:.1%}'.format(p))"
   ]
  },
  {
   "cell_type": "code",
   "execution_count": null,
   "metadata": {},
   "outputs": [],
   "source": []
  }
 ],
 "metadata": {
  "kernelspec": {
   "display_name": "reval",
   "language": "python",
   "name": "python3"
  },
  "language_info": {
   "codemirror_mode": {
    "name": "ipython",
    "version": 3
   },
   "file_extension": ".py",
   "mimetype": "text/x-python",
   "name": "python",
   "nbconvert_exporter": "python",
   "pygments_lexer": "ipython3",
   "version": "3.10.9"
  },
  "orig_nbformat": 2,
  "vscode": {
   "interpreter": {
    "hash": "050487248c4b83914858675c399d665afa72501313530572bee936246e336b83"
   }
  }
 },
 "nbformat": 4,
 "nbformat_minor": 2
}
